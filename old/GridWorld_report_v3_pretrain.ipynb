{
 "cells": [
  {
   "cell_type": "code",
   "execution_count": 1,
   "metadata": {},
   "outputs": [],
   "source": [
    "import os, sys, time, datetime, json, random\n",
    "import numpy as np\n",
    "import copy\n",
    "import matplotlib.pyplot as plt\n",
    "%matplotlib inline"
   ]
  },
  {
   "cell_type": "markdown",
   "metadata": {},
   "source": [
    "- 0 - 左\n",
    "- 1 - 向上\n",
    "- 2 - 右\n",
    "- 3 - 向下\n",
    "- 每次移动都会花费老鼠 -0.04 分\n",
    "- 奶酪，给予 1.0 分\n",
    "- 封锁的单元格-0.75 分，动作不会被执行\n",
    "- 迷宫边界之外的行为：-0.8 分，动作不会被执行\n",
    "- 已经访问过的单元格，-0.25 分\n",
    "- 总奖励低于负阈值：(-0.5 * maze.size)，lose"
   ]
  },
  {
   "cell_type": "code",
   "execution_count": 69,
   "metadata": {},
   "outputs": [],
   "source": [
    "def generate_gridworld(n, prob):\n",
    "    \"\"\"\n",
    "    生成大小为n x n的随机Gridworld，其中prob控制1出现的频率。\n",
    "    返回值是一个包含n个列表的列表，每个列表包含n个随机数（0或1）。\n",
    "    \"\"\"\n",
    "    gridworld = [[int(random.random() < prob) for j in range(n)] for i in range(n)]\n",
    "    return gridworld\n",
    "\n",
    "\n",
    "def find_path(maze, start, end):\n",
    "    \"\"\"\n",
    "    使用 A* 算法搜索迷宫最优路径\n",
    "    :param maze: 二维迷宫数组，0 表示障碍，1 表示可通行\n",
    "    :param start: 起点坐标 (row, col)\n",
    "    :param end: 终点坐标 (row, col)\n",
    "    :return: 返回最优路径\n",
    "    \"\"\"\n",
    "    ROW, COL = len(maze), len(maze[0])\n",
    "    pq = []  # 使用优先队列存储搜索节点\n",
    "    heapq.heappush(pq, (0, start, [start]))\n",
    "    visited = set()  # 使用 set 存储已访问的节点\n",
    "    while pq:\n",
    "        f, (row, col), path = heapq.heappop(pq)\n",
    "        if (row, col) in visited:\n",
    "            continue\n",
    "        visited.add((row, col))\n",
    "        if (row, col) == end:\n",
    "            return path\n",
    "        for (r, c) in [(row-1, col), (row+1, col), (row, col-1), (row, col+1)]:\n",
    "            if 0 <= r < ROW and 0 <= c < COL and maze[r][c] == 1 and (r, c) not in visited:\n",
    "                g = len(path)  # 当前节点到起点的距离\n",
    "                h = abs(r-end[0]) + abs(c-end[1])  # 当前节点到终点的曼哈顿距离\n",
    "                f = g + h\n",
    "                heapq.heappush(pq, (f, (r, c), path + [(r, c)]))\n",
    "    return False\n",
    "\n",
    "\n",
    "def generate_solvable_gridworld(n, prob=0.6):\n",
    "    \"\"\"\n",
    "    生成一个可解的大小为n x n的Gridworld。\n",
    "    返回值是一个元组，包含生成的Gridworld、起点和终点。\n",
    "    \"\"\"\n",
    "    while True:\n",
    "        gridworld = generate_gridworld(n, prob=prob)\n",
    "        # start = (random.randint(0, n-1), random.randint(0, n-1))\n",
    "        # end = (random.randint(0, n-1), random.randint(0, n-1))\n",
    "        start = (0, 0)\n",
    "        end = (n - 1, n - 1)\n",
    "\n",
    "        optimal_path = find_path(gridworld, start, end)\n",
    "        if gridworld[start[0]][start[1]] == 1 and gridworld[end[0]][\n",
    "            end[1]] == 1 and start != end and optimal_path is not False:\n",
    "            return gridworld, start, end, optimal_path"
   ]
  },
  {
   "cell_type": "code",
   "execution_count": 253,
   "metadata": {},
   "outputs": [
    {
     "name": "stdout",
     "output_type": "stream",
     "text": [
      "[[1. 1. 1. 1. 0. 1. 1. 1. 1. 1. 0. 1. 1. 1. 1. 1.]\n",
      " [0. 0. 1. 1. 1. 1. 0. 1. 1. 1. 1. 1. 1. 1. 1. 0.]\n",
      " [1. 1. 0. 1. 1. 1. 1. 1. 1. 1. 0. 1. 1. 1. 1. 1.]\n",
      " [1. 0. 1. 0. 0. 0. 1. 1. 1. 1. 1. 1. 1. 1. 1. 1.]\n",
      " [1. 1. 1. 1. 0. 1. 1. 1. 1. 1. 0. 1. 1. 1. 1. 0.]\n",
      " [0. 1. 1. 1. 1. 0. 1. 1. 0. 1. 1. 1. 0. 1. 1. 1.]\n",
      " [1. 1. 1. 0. 1. 0. 1. 1. 1. 1. 1. 0. 1. 1. 1. 1.]\n",
      " [1. 1. 1. 1. 1. 1. 1. 1. 1. 0. 1. 1. 1. 1. 1. 1.]\n",
      " [1. 0. 0. 0. 0. 0. 0. 1. 1. 1. 1. 1. 1. 1. 1. 1.]\n",
      " [1. 1. 0. 1. 1. 0. 0. 1. 1. 0. 1. 1. 1. 1. 1. 1.]\n",
      " [1. 0. 0. 1. 1. 1. 1. 1. 0. 1. 1. 1. 1. 0. 1. 0.]\n",
      " [1. 1. 1. 1. 1. 1. 1. 1. 1. 1. 1. 1. 1. 1. 1. 0.]\n",
      " [1. 1. 0. 1. 1. 1. 1. 1. 1. 1. 1. 0. 1. 0. 1. 0.]\n",
      " [0. 1. 0. 1. 1. 1. 1. 1. 1. 1. 1. 0. 0. 1. 1. 1.]\n",
      " [0. 1. 1. 1. 1. 1. 1. 1. 0. 1. 1. 1. 1. 0. 1. 0.]\n",
      " [1. 1. 1. 1. 0. 1. 1. 1. 0. 1. 1. 1. 0. 1. 1. 1.]]\n",
      "start: (0, 0)\n",
      "end: (15, 15)\n"
     ]
    },
    {
     "data": {
      "image/png": "[encoded data removed]",
      "text/plain": [
       "<Figure size 432x288 with 1 Axes>"
      ]
     },
     "metadata": {
      "needs_background": "light"
     },
     "output_type": "display_data"
    }
   ],
   "source": [
    "gridworld, start, end, optimal_path = generate_solvable_gridworld(16, prob=0.8)\n",
    "gridworld = np.array(gridworld) * 1.0\n",
    "print(gridworld)\n",
    "print(\"start:\", start)\n",
    "print(\"end:\", end)\n",
    "\n",
    "plt.imshow(gridworld, cmap='gray')\n",
    "plt.show()"
   ]
  },
  {
   "cell_type": "code",
   "execution_count": 205,
   "metadata": {},
   "outputs": [],
   "source": [
    "visited_mark = 0.8  # Cells visited by the rat will be painted by gray 0.8\n",
    "end_mark = 1.5\n",
    "rat_mark = 0.5      # The current rat cell will be painteg by gray 0.5\n",
    "LEFT = 0\n",
    "UP = 1\n",
    "RIGHT = 2\n",
    "DOWN = 3\n",
    "\n",
    "# Actions dictionary\n",
    "actions_dict = {\n",
    "    LEFT: 'left',\n",
    "    UP: 'up',\n",
    "    RIGHT: 'right',\n",
    "    DOWN: 'down',\n",
    "}\n",
    "\n",
    "num_actions = len(actions_dict)\n",
    "\n",
    "maze_path = 'maze8n_4.txt'# 'maze8n_4.txt'  # 'games/GridWorld/maze16_0.05_1.txt'  # maze16_0.05_1.txt\n",
    "ob_size = 3  # -1:全局, N*N\n",
    "ENV_NAME = 'grid_'+maze_path.split('.txt')[0]\n",
    "\n",
    "# BATCH_SIZE是指从重放缓冲区采样的转换数\n",
    "# GAMMA是上一节中提到的折扣系数\n",
    "# EPS_START是EPSILON的起始值\n",
    "# EPS_END是epsilon的最终值\n",
    "# EPS_DECAY 控制epsilon的指数衰减率，越高意味着衰减越慢\n",
    "# TAU是目标网络的更新率\n",
    "# LR是AdamW优化器的学习率\n",
    "BATCH_SIZE = 128\n",
    "GAMMA = 0.99\n",
    "EPS_START = 0.95\n",
    "EPS_END = 0.05\n",
    "EPS_DECAY = 20000\n",
    "TAU = 0.005\n",
    "LR = 1e-3\n",
    "num_episodes = 500\n",
    "max_Tstep = 3200  # 8000 320000\n",
    "sync_target_net_freq = 1e4 # -1 1e4\n",
    "\n",
    "R_GOAL = 50\n",
    "R_WALL = -10\n",
    "R_MOVE = 0\n",
    "R_Heuristic = True"
   ]
  },
  {
   "cell_type": "code",
   "execution_count": 206,
   "metadata": {},
   "outputs": [],
   "source": [
    "# now = time.strftime(\"%m-%d_%H-%M-%S\", time.localtime())\n",
    "# folder_name = f\"runs/{ENV_NAME}/\" + now\n",
    "# os.makedirs('runs/', exist_ok=True)\n",
    "# os.makedirs(f'runs/{ENV_NAME}/', exist_ok=True)\n",
    "# os.makedirs(folder_name, exist_ok=True)"
   ]
  },
  {
   "cell_type": "code",
   "execution_count": 207,
   "metadata": {},
   "outputs": [],
   "source": [
    "import random\n",
    "import heapq\n",
    "\n",
    "def find_path(maze, start, end):\n",
    "    \"\"\"\n",
    "    使用 A* 算法搜索迷宫最优路径\n",
    "    :param maze: 二维迷宫数组，0 表示障碍，1 表示可通行\n",
    "    :param start: 起点坐标 (row, col)\n",
    "    :param end: 终点坐标 (row, col)\n",
    "    :return: 返回最优路径\n",
    "    \"\"\"\n",
    "    ROW, COL = len(maze), len(maze[0])\n",
    "    pq = []  # 使用优先队列存储搜索节点\n",
    "    heapq.heappush(pq, (0, start, [start]))\n",
    "    visited = set()  # 使用 set 存储已访问的节点\n",
    "    while pq:\n",
    "        f, (row, col), path = heapq.heappop(pq)\n",
    "        if (row, col) in visited:\n",
    "            continue\n",
    "        visited.add((row, col))\n",
    "        if (row, col) == end:\n",
    "            return path\n",
    "        for (r, c) in [(row-1, col), (row+1, col), (row, col-1), (row, col+1)]:\n",
    "            if 0 <= r < ROW and 0 <= c < COL and maze[r][c] == 1 and (r, c) not in visited:\n",
    "                g = len(path)  # 当前节点到起点的距离\n",
    "                h = abs(r-end[0]) + abs(c-end[1])  # 当前节点到终点的曼哈顿距离\n",
    "                f = g + h\n",
    "                heapq.heappush(pq, (f, (r, c), path + [(r, c)]))\n",
    "    return False"
   ]
  },
  {
   "cell_type": "markdown",
   "metadata": {},
   "source": [
    "## Q-maze"
   ]
  },
  {
   "cell_type": "code",
   "execution_count": 208,
   "metadata": {},
   "outputs": [],
   "source": [
    "# maze is a 2d Numpy array of floats between 0.0 to 1.0\n",
    "# 1.0 corresponds to a free cell, and 0.0 an occupied cell\n",
    "# rat = (row, col) initial rat position (defaults to (0,0))\n",
    "\n",
    "class Qmaze(object):\n",
    "    def __init__(self, maze, ob_size, rat=(0,0), max_Tstep=800):\n",
    "        # 允许的最大步数\n",
    "        self.max_Tstep = max_Tstep\n",
    "        self.action_space = [0, 1, 2, 3]\n",
    "        # 初始化迷宫，老鼠可以从任意位置开始，默认为左上角\n",
    "        self._maze = np.array(maze)\n",
    "        nrows, ncols = self._maze.shape\n",
    "        # 终点始终在右下角\n",
    "        self.target = (nrows-1, ncols-1)   # target cell where the \"cheese\" is\n",
    "        # 初始化空格list，maze为1表示空格，为0表示墙体\n",
    "        self.free_cells = [(r,c) for r in range(nrows) for c in range(ncols) if self._maze[r,c] == 1.0]\n",
    "        # 将目标格移出空格list\n",
    "        self.free_cells.remove(self.target)\n",
    "        # 检查左上和右下是否为空\n",
    "        if self._maze[self.target] == 0.0:\n",
    "            raise Exception(\"Invalid maze: target cell cannot be blocked!\")\n",
    "        if not rat in self.free_cells:\n",
    "            raise Exception(\"Invalid Rat Location: must sit on a free cell\")\n",
    "        # 决定观测范围，-1为全局观测\n",
    "        self.ob_size = ob_size\n",
    "        # 放置老鼠并初始化参数\n",
    "        state, info = self.reset(rat)\n",
    "    \n",
    "        # return state, info\n",
    "\n",
    "    def reset(self, rat=(0, 0)):\n",
    "        self.rat = rat\n",
    "        self.maze = np.copy(self._maze)\n",
    "        nrows, ncols = self.maze.shape\n",
    "        row, col = rat\n",
    "        self.maze[row, col] = rat_mark\n",
    "        self.maze[self.target[0], self.target[1]] = end_mark\n",
    "        # 初始状态\n",
    "        self.state = (row, col, 'start')\n",
    "        # 设置最低奖励阈值\n",
    "        self.min_reward = -800 # -0.5 * self.maze.size\n",
    "        # 初始化总奖励\n",
    "        self.total_reward = 0\n",
    "        self.visited = list()\n",
    "        self.total_Tstep = 0\n",
    "        \n",
    "        return self.observe(), self.game_status()\n",
    "\n",
    "    def update_state(self, action):\n",
    "        '''\n",
    "            input: action [0, 1, 2, 3] [L, U, R, D]\n",
    "        '''\n",
    "        nrows, ncols = self.maze.shape\n",
    "        nrow, ncol, nmode = rat_row, rat_col, mode = self.state\n",
    "        \n",
    "        # 如果老鼠访问的是空格，则记录\n",
    "        if self.maze[rat_row, rat_col] > 0.0:\n",
    "            self.visited.append((rat_row, rat_col))  # mark visited cell\n",
    "\n",
    "        # 获取所有可能执行的动作\n",
    "        valid_actions = self.valid_actions()\n",
    "        # print('valid_actions', valid_actions)\n",
    "        \n",
    "        # 如果没有可以执行的动作（被围住了），则状态为 blocked，位置不变\n",
    "        if not valid_actions:\n",
    "            nmode = 'blocked'\n",
    "            print('blocked')\n",
    "        # 如果需要执行的动作在可执行动作列表中，那么状态为有效，并相应执行动作\n",
    "        elif action in valid_actions:\n",
    "            nmode = 'valid'\n",
    "            if action == LEFT:\n",
    "                ncol -= 1\n",
    "            elif action == UP:\n",
    "                nrow -= 1\n",
    "            if action == RIGHT:\n",
    "                ncol += 1\n",
    "            elif action == DOWN:\n",
    "                nrow += 1\n",
    "        # 如果需要执行的动作不在可执行动作列表中（撞墙），位置不变\n",
    "        else:                  # invalid action, no change in rat position\n",
    "            nmode = 'invalid'\n",
    "            \n",
    "        self.total_Tstep += 1  # 每次执行动作+1\n",
    "        # new state\n",
    "        self.state = (nrow, ncol, nmode)\n",
    "\n",
    "    def get_reward(self):\n",
    "        rat_row, rat_col, mode = self.state\n",
    "        nrows, ncols = self.maze.shape\n",
    "        \n",
    "        reward = 0\n",
    "        rl = 0\n",
    "        rg = 0\n",
    "        \n",
    "        if rat_row == nrows-1 and rat_col == ncols-1:\n",
    "            rl = R_GOAL  # 奶酪，给予 1.0 分\n",
    "        # elif mode == 'blocked':\n",
    "        #     rl = self.min_reward - 1\n",
    "        # elif (rat_row, rat_col) in self.visited:\n",
    "        #     rl = -0.25  # 访问已经访问过的单元格，-0.25 分\n",
    "        elif mode == 'invalid':\n",
    "            rl = R_WALL  # 撞墙-0.75 分，动作不会被执行\n",
    "        elif mode == 'valid':\n",
    "            rl = R_MOVE  # 每次移动都会花费老鼠 -0.04 分\n",
    "            \n",
    "        if R_Heuristic:\n",
    "            rg = - (abs(self.state[0]-self.target[0]) + abs(self.state[1]-self.target[1]))\n",
    "#             print(rl, rg)\n",
    "        \n",
    "        reward = rl + rg\n",
    "        \n",
    "        return reward\n",
    "\n",
    "    def act(self, action):\n",
    "        self.update_state(action)\n",
    "        reward = self.get_reward()\n",
    "        self.total_reward += reward\n",
    "        status = self.game_status()\n",
    "        envstate = self.observe()\n",
    "        return envstate, reward, status\n",
    "    \n",
    "    def step(self, action):\n",
    "        envstate, reward, status = self.act(action)\n",
    "        observation = envstate\n",
    "        done = self.is_game_done()\n",
    "        info = status\n",
    "        return observation, reward, done, info\n",
    "\n",
    "    def observe(self):\n",
    "        if self.ob_size == -1:\n",
    "            canvas = self.draw_env()\n",
    "        else:\n",
    "            canvas = self.get_observation()\n",
    "        envstate = canvas.reshape((1, -1))\n",
    "        return envstate\n",
    "\n",
    "    def draw_env(self):\n",
    "        canvas = np.copy(self.maze)\n",
    "        nrows, ncols = self.maze.shape\n",
    "        # clear all visual marks\n",
    "        for r in range(nrows):\n",
    "            for c in range(ncols):\n",
    "                if canvas[r,c] > 0.0:\n",
    "                    canvas[r,c] = 1.0\n",
    "        # draw the rat\n",
    "        row, col, valid = self.state\n",
    "        canvas[row, col] = rat_mark\n",
    "        canvas[self.target[0], self.target[1]] = end_mark\n",
    "        return canvas\n",
    "\n",
    "    def game_status(self):\n",
    "#         if self.total_Tstep > self.max_Tstep or self.total_reward < self.min_reward:\n",
    "        # if self.total_reward < self.min_reward:\n",
    "        if self.total_Tstep > self.max_Tstep:\n",
    "            return 'lose'\n",
    "        rat_row, rat_col, mode = self.state\n",
    "        nrows, ncols = self.maze.shape\n",
    "        if rat_row == nrows-1 and rat_col == ncols-1:\n",
    "            self.visited.append((rat_row, rat_col))  # mark visited cell\n",
    "            return 'win'\n",
    "\n",
    "        return 'not_over'\n",
    "    \n",
    "    def is_game_done(self):\n",
    "        game_status = self.game_status()\n",
    "        \n",
    "        if game_status == 'not_over':\n",
    "            return False\n",
    "        elif game_status == 'win' or game_status == 'lose':\n",
    "            return True\n",
    "        \n",
    "        return -1\n",
    "\n",
    "    def valid_actions(self, cell=None):\n",
    "        # 默认验证当前位置\n",
    "        if cell is None:\n",
    "            row, col, mode = self.state\n",
    "        else:\n",
    "            row, col = cell\n",
    "        actions = copy.deepcopy(self.action_space)\n",
    "        nrows, ncols = self.maze.shape\n",
    "        # 如果在第0行，则不能向上走；如果在最后一行，则不能向下走\n",
    "        if row == 0:\n",
    "            actions.remove(1)\n",
    "        elif row == nrows-1:\n",
    "            actions.remove(3)\n",
    "        # 列-左右\n",
    "        if col == 0:\n",
    "            actions.remove(0)\n",
    "        elif col == ncols-1:\n",
    "            actions.remove(2)\n",
    "\n",
    "        # 如果不在最左列，而左边是墙，则不能向左；右边同理\n",
    "        if row>0 and self.maze[row-1,col] == 0.0:\n",
    "            actions.remove(1)\n",
    "        if row<nrows-1 and self.maze[row+1,col] == 0.0:\n",
    "            actions.remove(3)\n",
    "\n",
    "        # 上下同理\n",
    "        if col>0 and self.maze[row,col-1] == 0.0:\n",
    "            actions.remove(0)\n",
    "        if col<ncols-1 and self.maze[row,col+1] == 0.0:\n",
    "            actions.remove(2)\n",
    "\n",
    "        # 返回所有可能执行的动作\n",
    "        return actions\n",
    "    \n",
    "    def get_observation(self):\n",
    "        size = self.ob_size\n",
    "        maze = self.draw_env()\n",
    "        row, col, _ = self.state\n",
    "        # 获取maze的行列数\n",
    "        ROWS = len(maze)\n",
    "        COLS = len(maze[0])\n",
    "\n",
    "        # 初始化结果二维数组\n",
    "        result = [[0 for _ in range(size)] for _ in range(size)]\n",
    "\n",
    "        # 将以指定点为中心指定尺寸范围的观测值存入结果二维数组\n",
    "        for i in range(row-size//2, row+size//2+1):\n",
    "            for j in range(col-size//2, col+size//2+1):\n",
    "                if i < 0 or i >= ROWS or j < 0 or j >= COLS:\n",
    "                    # 如果超出边界，则填充为1\n",
    "                    result[i-row+size//2][j-col+size//2] = 0.0\n",
    "                else:\n",
    "                    result[i-row+size//2][j-col+size//2] = maze[i][j]\n",
    "\n",
    "        # 返回结果二维数组\n",
    "        result = np.array(result)\n",
    "        result[size//2][size//2] = 0.5\n",
    "        return result"
   ]
  },
  {
   "cell_type": "code",
   "execution_count": 209,
   "metadata": {},
   "outputs": [],
   "source": [
    "def show(qmaze):\n",
    "    plt.grid('on')\n",
    "    nrows, ncols = qmaze.maze.shape\n",
    "    ax = plt.gca()\n",
    "    ax.set_xticks(np.arange(0.5, nrows, 1))\n",
    "    ax.set_yticks(np.arange(0.5, ncols, 1))\n",
    "    ax.set_xticklabels([])\n",
    "    ax.set_yticklabels([])\n",
    "    canvas = np.copy(qmaze.maze)\n",
    "    for row,col in qmaze.visited:\n",
    "        canvas[row,col] = 0.6\n",
    "    rat_row, rat_col, _ = qmaze.state\n",
    "    canvas[rat_row, rat_col] = 0.3   # rat cell\n",
    "    canvas[nrows-1, ncols-1] = 0.9 # cheese cell\n",
    "    img = plt.imshow(canvas, interpolation='none', cmap='gray')\n",
    "    return img"
   ]
  },
  {
   "cell_type": "code",
   "execution_count": 268,
   "metadata": {},
   "outputs": [],
   "source": [
    "# np.savetxt('maze32_1.txt', maze)\n",
    "# 读取迷宫\n",
    "# maze = np.loadtxt(maze_path)\n",
    "# maze = maze*0+1.0\n",
    "maze = gridworld*1.0"
   ]
  },
  {
   "cell_type": "code",
   "execution_count": 269,
   "metadata": {},
   "outputs": [
    {
     "name": "stdout",
     "output_type": "stream",
     "text": [
      "optimal path length is: 31\n",
      "[[0.  0.  0.  0.  0.5 1.  0.  0.  0. ]]\n"
     ]
    },
    {
     "data": {
      "image/png": "[encoded data removed]",
      "text/plain": [
       "<Figure size 432x288 with 1 Axes>"
      ]
     },
     "metadata": {
      "needs_background": "light"
     },
     "output_type": "display_data"
    }
   ],
   "source": [
    "# 测试读取的迷宫，并获得最优长度optimal_length\n",
    "qmaze = Qmaze(maze, ob_size=ob_size)\n",
    "maze_size = maze.shape[0]\n",
    "optimal_path = find_path(maze, (0, 0), (maze_size-1, maze_size-1))\n",
    "qmaze.visited = optimal_path\n",
    "optimal_length = len(optimal_path)\n",
    "\n",
    "show(qmaze)\n",
    "print('optimal path length is:', optimal_length)\n",
    "# 测试观测\n",
    "print(qmaze.observe())"
   ]
  },
  {
   "cell_type": "markdown",
   "metadata": {},
   "source": [
    "## DQN"
   ]
  },
  {
   "cell_type": "code",
   "execution_count": 270,
   "metadata": {},
   "outputs": [],
   "source": [
    "import math\n",
    "import torch\n",
    "import torch.nn as nn\n",
    "import torch.optim as optim\n",
    "\n",
    "class DQN(nn.Module):\n",
    "    def __init__(self, observation_size, num_actions):\n",
    "        super(DQN, self).__init__()\n",
    "        self.layer1 = nn.Linear(observation_size, 32)\n",
    "        self.relu1 = nn.ReLU()\n",
    "        self.layer2 = nn.Linear(32, 32)\n",
    "        self.relu2 = nn.ReLU()\n",
    "        self.output_layer = nn.Linear(32, num_actions)\n",
    "        \n",
    "    def forward(self, x):\n",
    "        x = self.layer1(x)\n",
    "        x = self.relu1(x)\n",
    "        x = self.layer2(x)\n",
    "        x = self.relu2(x)\n",
    "        x = self.output_layer(x)\n",
    "        return x\n"
   ]
  },
  {
   "cell_type": "code",
   "execution_count": 271,
   "metadata": {},
   "outputs": [],
   "source": [
    "from collections import namedtuple, deque\n",
    "import matplotlib\n",
    "import matplotlib.pyplot as plt\n",
    "# set up matplotliba\n",
    "is_ipython = 'inline' in matplotlib.get_backend()\n",
    "if is_ipython:\n",
    "    from IPython import display\n",
    "    \n",
    "Transition = namedtuple('Transition',\n",
    "                        ('state', 'action', 'next_state', 'reward'))\n",
    "\n",
    "\n",
    "class ReplayMemory(object):\n",
    "\n",
    "    def __init__(self, capacity):\n",
    "        self.memory = deque([], maxlen=capacity)\n",
    "\n",
    "    def push(self, *args):\n",
    "        \"\"\"Save a transition\"\"\"\n",
    "        self.memory.append(Transition(*args))\n",
    "\n",
    "    def sample(self, batch_size):\n",
    "        return random.sample(self.memory, batch_size)\n",
    "\n",
    "    def __len__(self):\n",
    "        return len(self.memory)\n",
    "    \n",
    "# def plot_rewards(episode_rewards, show_result=False, zero_point=None, ylabel='Rewards'):\n",
    "#     plt.figure(1)\n",
    "#     rewards_t = torch.tensor(episode_rewards, dtype=torch.float)\n",
    "#     if show_result:\n",
    "#         plt.title('Result')\n",
    "#     else:\n",
    "#         plt.clf()\n",
    "#         plt.title('Training...')\n",
    "#     plt.xlabel('Episode')\n",
    "#     plt.ylabel(ylabel)\n",
    "#     plt.plot(rewards_t.numpy())\n",
    "    \n",
    "#     if zero_point is None:\n",
    "#         zero_point = (maze_size*maze_size*0.5)\n",
    "    \n",
    "#     # Take 100 episode averages and plot them too\n",
    "#     if len(rewards_t) >= 100:\n",
    "#         means = rewards_t.unfold(0, 100, 1).mean(1).view(-1)\n",
    "#         means = torch.cat((torch.zeros(99)-zero_point, means))\n",
    "#         plt.plot(means.numpy())\n",
    "\n",
    "#     plt.pause(0.001)  # pause a bit so that plots are updated\n",
    "#     if is_ipython:\n",
    "#         if not show_result:\n",
    "#             display.display(plt.gcf())\n",
    "#             display.clear_output(wait=True)\n",
    "#         else:\n",
    "#             display.display(plt.gcf())\n",
    "\n",
    "def moving_average(data_list, window_size=100):\n",
    "    moving_averages = []\n",
    "    for i in range(len(data_list)):\n",
    "        if i < window_size:\n",
    "            window_data = data_list[:i + 1]\n",
    "        else:\n",
    "            window_data = data_list[i - window_size + 1:i + 1]\n",
    "        average = sum(window_data) / len(window_data)\n",
    "        moving_averages.append(average)\n",
    "    \n",
    "    return moving_averages\n",
    "\n",
    "\n",
    "def plot_rewards(episode_rewards, show_result=False, ylabel='Rewards', window_size=100, maze_size=8):\n",
    "    plt.figure(1)\n",
    "    rewards_t = np.array(episode_rewards)\n",
    "    if show_result:\n",
    "        plt.title('Result')\n",
    "    else:\n",
    "        plt.clf()\n",
    "        plt.title('Training...')\n",
    "    plt.xlabel('Episode')\n",
    "    plt.ylabel(ylabel)\n",
    "    plt.plot(rewards_t)\n",
    "    \n",
    "    # Compute the moving average with the specified window size and plot it\n",
    "    moving_averages = moving_average(episode_rewards, window_size)\n",
    "    plt.plot(moving_averages)\n",
    "    \n",
    "    if ylabel == 'Rewards':\n",
    "        if maze_size == 16:\n",
    "            plt.axhline(y=-385, color='Red', linestyle='--')  # \n",
    "            plt.ylim([-385*10, -385*0.8])\n",
    "#             plt.ylim([-500, 55])\n",
    "        elif maze_size == 8:\n",
    "            plt.axhline(y=50, color='Red', linestyle='--')\n",
    "            plt.ylim([-200, 55])\n",
    "    if ylabel == 'win_eval':\n",
    "        plt.ylim([0, 1.1])\n",
    "\n",
    "    plt.pause(0.001)  # pause a bit so that plots are updated\n",
    "    if is_ipython:\n",
    "        if not show_result:\n",
    "            display.display(plt.gcf())  # \"get current figure\"（获取当前图形）\n",
    "            display.clear_output(wait=True)\n",
    "        else:\n",
    "            display.display(plt.gcf())\n",
    "\n"
   ]
  },
  {
   "cell_type": "code",
   "execution_count": 272,
   "metadata": {},
   "outputs": [],
   "source": [
    "# 动作选取\n",
    "def select_action(state):\n",
    "    global steps_done\n",
    "    sample = random.random()\n",
    "    \n",
    "    # 随着进行，eps_threshold逐渐降低\n",
    "    eps_threshold = EPS_END + (EPS_START - EPS_END) * \\\n",
    "        math.exp(-1. * steps_done / EPS_DECAY)\n",
    "#     eps_threshold = 0.1\n",
    "    steps_done += 1\n",
    "    \n",
    "    # 常规情况选择价值最高的动作\n",
    "    if sample > eps_threshold:\n",
    "        with torch.no_grad():\n",
    "            # t.max(1) will return the largest column value of each row.\n",
    "            # second column on max result is index of where max element was\n",
    "            # found, so we pick action with the larger expected reward.\n",
    "            return policy_net(state).max(1)[1].view(1, 1)\n",
    "    \n",
    "    # 当随机值超过阈值时，随机选取 - exploration\n",
    "    else:\n",
    "        # 探索时只探索可能的动作，增加探索效率？\n",
    "        return torch.tensor([[random.choice(env.valid_actions())]], device=device, dtype=torch.long)"
   ]
  },
  {
   "cell_type": "code",
   "execution_count": 273,
   "metadata": {},
   "outputs": [],
   "source": [
    "def optimize_model():\n",
    "    if len(memory) < BATCH_SIZE:\n",
    "        return\n",
    "    \n",
    "    # 离线学习，从记忆池中抽取回忆\n",
    "    transitions = memory.sample(BATCH_SIZE)\n",
    "\n",
    "    # 将([a, 1], [b, 2], [c, 3])转化为([a, b, c], [1, 2, 3])，一个zip的trick\n",
    "    # 然后将他们分别放到tuples with names里（'state', 'action', 'next_state', and 'reward'）\n",
    "    batch = Transition(*zip(*transitions))\n",
    "\n",
    "    # 计算非最终状态的掩码，并将批处理元素连接起来\n",
    "    # (最终状态是指模拟结束后的状态)\n",
    "    non_final_mask = torch.tensor(tuple(map(lambda s: s is not None,\n",
    "                                          batch.next_state)), device=device, dtype=torch.bool)\n",
    "    non_final_next_states = torch.cat([s for s in batch.next_state\n",
    "                                                if s is not None])\n",
    "    \n",
    "    state_batch = torch.cat(batch.state)\n",
    "    action_batch = torch.cat(batch.action)\n",
    "    reward_batch = torch.cat(batch.reward)\n",
    "\n",
    "    # 模型计算Q价值，我们根据价值选择动作\n",
    "    state_action_values = policy_net(state_batch).gather(1, action_batch)\n",
    "\n",
    "    next_state_values = torch.zeros(BATCH_SIZE, device=device)\n",
    "    with torch.no_grad():\n",
    "        next_state_values[non_final_mask] = target_net(non_final_next_states).max(1)[0]\n",
    "\n",
    "    # 当前奖励+下一个状态的奖励，更新Q. 如果下一个状态为最终状态，则仅有当前奖励\n",
    "    expected_state_action_values = (next_state_values * GAMMA) + reward_batch  \n",
    "\n",
    "    # Compute Huber loss\n",
    "#     criterion = nn.SmoothL1Loss()\n",
    "    criterion = nn.MSELoss()\n",
    "    loss = criterion(state_action_values, expected_state_action_values.unsqueeze(1))\n",
    "\n",
    "    # Optimize the model\n",
    "    optimizer.zero_grad()\n",
    "    loss.backward()\n",
    "    # In-place gradient clipping\n",
    "#     torch.nn.utils.clip_grad_value_(policy_net.parameters(), 100)\n",
    "    optimizer.step()\n",
    "    \n",
    "    return loss.item()\n",
    "\n",
    "# optimize_model()"
   ]
  },
  {
   "cell_type": "code",
   "execution_count": 274,
   "metadata": {},
   "outputs": [],
   "source": [
    "# if gpu is to be used\n",
    "device = torch.device(\"cuda\" if torch.cuda.is_available() else \"cpu\")\n",
    "# device = 'cpu'"
   ]
  },
  {
   "cell_type": "code",
   "execution_count": 275,
   "metadata": {},
   "outputs": [],
   "source": [
    "# ss = []\n",
    "# es = []\n",
    "# EPS_DECAY = 10\n",
    "# for i in range(1000):\n",
    "#     sample = random.random()\n",
    "#     eps_threshold = EPS_END + (EPS_START - EPS_END) * \\\n",
    "#             math.exp(-1. * i / EPS_DECAY)\n",
    "#     # eps_threshold = 1.0 / (i + 1)\n",
    "#     ss.append(sample)\n",
    "#     es.append(eps_threshold)\n",
    "\n",
    "# exploit = 0\n",
    "# for i in range(1000):\n",
    "#     if ss[i] > es[i]:\n",
    "#         exploit += 1\n",
    "# plt.plot(ss)\n",
    "# plt.plot(es)\n",
    "# print(exploit, exploit/1000)"
   ]
  },
  {
   "cell_type": "code",
   "execution_count": 276,
   "metadata": {},
   "outputs": [
    {
     "data": {
      "text/plain": [
       "31"
      ]
     },
     "execution_count": 276,
     "metadata": {},
     "output_type": "execute_result"
    }
   ],
   "source": [
    "optimal_length"
   ]
  },
  {
   "cell_type": "code",
   "execution_count": 277,
   "metadata": {},
   "outputs": [],
   "source": [
    "from tqdm import trange\n",
    "\n",
    "def evaluation(show_maze=False):\n",
    "    global optimal_length\n",
    "    win = 0\n",
    "    episode_rewards_eval = []\n",
    "   \n",
    "    env = Qmaze(maze, ob_size, max_Tstep=optimal_length*2)\n",
    "\n",
    "    for j in range(1):\n",
    "    \n",
    "        # Initialize the environment and get it's state\n",
    "        state, info = env.reset()\n",
    "        # Cart Position, Cart Velocity, Pole Angle, Pole Angular Velocity\n",
    "        state = torch.tensor(state, dtype=torch.float32, device=device)\n",
    "\n",
    "        done = False\n",
    "        while not done:\n",
    "            action = policy_net(state).max(1)[1].view(1, 1)  # 选择一个动作\n",
    "            # random.choice(env.valid_actions())\n",
    "            observation, reward, done, info = env.step(action.item())  # 执行动作，返回{下一个观察值、奖励、是否结束、是否提前终止}\n",
    "            # reward = torch.tensor([reward], device=device)\n",
    "            # print(int(action[0][0]))\n",
    "            # print(observation, reward, done, info)\n",
    "            # print()\n",
    "            if done:\n",
    "                next_state = None\n",
    "            else:\n",
    "                next_state = torch.tensor(observation, dtype=torch.float32, device=device)  # 如果没有终止则继续记录下一个状态\n",
    "\n",
    "            # Store the transition in memory\n",
    "            # memory.push(state, action, next_state, reward)\n",
    "\n",
    "            # Move to the next state\n",
    "            state = next_state\n",
    "            \n",
    "        episode_rewards_eval.append(env.total_reward)\n",
    "        if info == 'win' and env.total_Tstep<=optimal_length:\n",
    "            win = 1\n",
    "        elif info == 'win':\n",
    "            win = 0.5\n",
    "        else:\n",
    "            win = 0\n",
    "    \n",
    "    \n",
    "    win_rate = win / 1\n",
    "    \n",
    "    if show_maze:\n",
    "        show(env)\n",
    "        \n",
    "    # print(env.visited)\n",
    "    # print(env.state)\n",
    "    # print(env.total_reward)\n",
    "    \n",
    "    return episode_rewards_eval, win_rate, env.visited\n",
    "\n",
    "# win_rate = evaluation(10)\n",
    "# print(win_rate)"
   ]
  },
  {
   "cell_type": "code",
   "execution_count": 278,
   "metadata": {},
   "outputs": [],
   "source": [
    "history = {}"
   ]
  },
  {
   "cell_type": "code",
   "execution_count": 197,
   "metadata": {},
   "outputs": [
    {
     "data": {
      "text/plain": [
       "<All keys matched successfully>"
      ]
     },
     "execution_count": 197,
     "metadata": {},
     "output_type": "execute_result"
    }
   ],
   "source": [
    "policy_net.load_state_dict(saved_weight)"
   ]
  },
  {
   "cell_type": "code",
   "execution_count": 299,
   "metadata": {},
   "outputs": [],
   "source": [
    "num_episodes = 250"
   ]
  },
  {
   "cell_type": "code",
   "execution_count": 324,
   "metadata": {},
   "outputs": [
    {
     "name": "stderr",
     "output_type": "stream",
     "text": [
      "100%|██████████| 250/250 [08:36<00:00,  2.06s/it]\n"
     ]
    }
   ],
   "source": [
    "from itertools import count\n",
    "\n",
    "steps_done = 0\n",
    "\n",
    "# 初始化环境\n",
    "env = Qmaze(maze, ob_size, max_Tstep=max_Tstep)\n",
    "# 重置环境获取信息\n",
    "state, info = env.reset()\n",
    "\n",
    "n_observations = state.size\n",
    "state = torch.Tensor(state).to(device)\n",
    "\n",
    "policy_net = DQN(n_observations, num_actions).to(device)\n",
    "# policy_net.load_state_dict(saved_weight)\n",
    "target_net = DQN(n_observations, num_actions).to(device)\n",
    "target_net.load_state_dict(policy_net.state_dict())\n",
    "\n",
    "optimizer = optim.AdamW(policy_net.parameters(), lr=LR, amsgrad=True)\n",
    "memory = ReplayMemory(int(maze.size*0.5/0.04)*2)\n",
    "\n",
    "episode_rewards = []\n",
    "episode_step = []\n",
    "win_eval = []\n",
    "loss_train = []\n",
    "val_visited_list = []\n",
    "episode_rewards_eval_list = []\n",
    "\n",
    "for i_episode in trange(num_episodes):\n",
    "    # Initialize the environment and get it's state\n",
    "    state, info = env.reset()\n",
    "    # Cart Position, Cart Velocity, Pole Angle, Pole Angular Velocity\n",
    "    state = torch.tensor(state, dtype=torch.float32, device=device)\n",
    "\n",
    "    done = False\n",
    "    for t in count():\n",
    "        action = select_action(state)  # 选择一个动作\n",
    "        # random.choice(env.valid_actions())\n",
    "        observation, reward, done, _ = env.step(action.item())  # 执行动作，返回{下一个观察值、奖励、是否结束、是否提前终止}\n",
    "        reward = torch.tensor([reward], device=device)\n",
    "\n",
    "        if done:\n",
    "            next_state = None\n",
    "        else:\n",
    "            next_state = torch.tensor(observation, dtype=torch.float32, device=device)  # 如果没有终止则继续记录下一个状态\n",
    "\n",
    "        # Store the transition in memory\n",
    "        memory.push(state, action, next_state, reward)\n",
    "\n",
    "        # Move to the next state\n",
    "        state = next_state\n",
    "\n",
    "        # Perform one step of the optimization (on the policy network)\n",
    "        loss = optimize_model()\n",
    "        if loss is not None:\n",
    "            loss_train.append(loss)\n",
    "\n",
    "        # Soft update of the target network's weights\n",
    "        # θ′ ← τ θ + (1 −τ )θ′\n",
    "        target_net_state_dict = target_net.state_dict()\n",
    "        policy_net_state_dict = policy_net.state_dict()\n",
    "        \n",
    "        if sync_target_net_freq > 0:\n",
    "            if (steps_done % sync_target_net_freq) == 0:\n",
    "                target_net.load_state_dict(policy_net_state_dict)\n",
    "        else:\n",
    "            for key in policy_net_state_dict:\n",
    "                target_net_state_dict[key] = policy_net_state_dict[key]*TAU + target_net_state_dict[key]*(1-TAU)\n",
    "            target_net.load_state_dict(target_net_state_dict)\n",
    "        \n",
    "        if done:\n",
    "            break\n",
    "        \n",
    "#     plot_rewards(episode_rewards, False, ylabel='')\n",
    "    \n",
    "    episode_rewards_eval, win_rate, val_visited = evaluation()\n",
    "#     if win_rate == 1:\n",
    "#         break\n",
    "    \n",
    "    episode_rewards.append(env.total_reward)\n",
    "    episode_step.append(t)\n",
    "    win_eval.append(win_rate)\n",
    "    episode_rewards_eval_list.append(episode_rewards_eval)\n",
    "#     loss_train.append(acc_loss)\n",
    "    val_visited_list.append(val_visited)\n",
    "    history['episode_rewards'] = episode_rewards\n",
    "    history['episode_step'] = episode_step\n",
    "    history['win_eval'] = win_eval\n",
    "    history['loss_train'] = loss_train\n",
    "    history['val_visited_list'] = val_visited_list\n",
    "    history['episode_rewards_eval_list'] = val_visited_list\n",
    "    # 将字典保存成 txt 文件\n",
    "#     with open(folder_name+'/history.txt', 'w') as f:\n",
    "#         for key, value in history.items():\n",
    "#             f.write(f'{key}: {value}\\n')"
   ]
  },
  {
   "cell_type": "code",
   "execution_count": 325,
   "metadata": {},
   "outputs": [
    {
     "data": {
      "text/plain": [
       "-385"
      ]
     },
     "execution_count": 325,
     "metadata": {},
     "output_type": "execute_result"
    }
   ],
   "source": [
    "np.max(episode_rewards)"
   ]
  },
  {
   "cell_type": "code",
   "execution_count": 326,
   "metadata": {
    "scrolled": true
   },
   "outputs": [
    {
     "data": {
      "image/png": "[encoded data removed]",
      "text/plain": [
       "<Figure size 432x288 with 1 Axes>"
      ]
     },
     "metadata": {
      "needs_background": "light"
     },
     "output_type": "display_data"
    },
    {
     "data": {
      "text/plain": [
       "<Figure size 432x288 with 0 Axes>"
      ]
     },
     "metadata": {},
     "output_type": "display_data"
    },
    {
     "data": {
      "text/plain": [
       "<Figure size 432x288 with 0 Axes>"
      ]
     },
     "metadata": {},
     "output_type": "display_data"
    }
   ],
   "source": [
    "plot_rewards(episode_rewards, True, 'Rewards', maze_size=16)"
   ]
  },
  {
   "cell_type": "code",
   "execution_count": 327,
   "metadata": {},
   "outputs": [
    {
     "data": {
      "image/png": "[encoded data removed]",
      "text/plain": [
       "<Figure size 432x288 with 1 Axes>"
      ]
     },
     "metadata": {
      "needs_background": "light"
     },
     "output_type": "display_data"
    },
    {
     "data": {
      "text/plain": [
       "<Figure size 432x288 with 0 Axes>"
      ]
     },
     "metadata": {},
     "output_type": "display_data"
    },
    {
     "data": {
      "text/plain": [
       "<Figure size 432x288 with 0 Axes>"
      ]
     },
     "metadata": {},
     "output_type": "display_data"
    }
   ],
   "source": [
    "plot_rewards(episode_step, True, 'Steps')"
   ]
  },
  {
   "cell_type": "code",
   "execution_count": 328,
   "metadata": {
    "scrolled": true
   },
   "outputs": [
    {
     "data": {
      "image/png": "[encoded data removed]",
      "text/plain": [
       "<Figure size 432x288 with 1 Axes>"
      ]
     },
     "metadata": {
      "needs_background": "light"
     },
     "output_type": "display_data"
    },
    {
     "data": {
      "text/plain": [
       "<Figure size 432x288 with 0 Axes>"
      ]
     },
     "metadata": {},
     "output_type": "display_data"
    },
    {
     "data": {
      "text/plain": [
       "<Figure size 432x288 with 0 Axes>"
      ]
     },
     "metadata": {},
     "output_type": "display_data"
    }
   ],
   "source": [
    "plot_rewards(win_eval, True, 'win_eval')"
   ]
  },
  {
   "cell_type": "code",
   "execution_count": 329,
   "metadata": {
    "scrolled": true
   },
   "outputs": [
    {
     "data": {
      "image/png": "[encoded data removed]",
      "text/plain": [
       "<Figure size 432x288 with 1 Axes>"
      ]
     },
     "metadata": {
      "needs_background": "light"
     },
     "output_type": "display_data"
    },
    {
     "data": {
      "text/plain": [
       "<Figure size 432x288 with 0 Axes>"
      ]
     },
     "metadata": {},
     "output_type": "display_data"
    },
    {
     "data": {
      "text/plain": [
       "<Figure size 432x288 with 0 Axes>"
      ]
     },
     "metadata": {},
     "output_type": "display_data"
    }
   ],
   "source": [
    "plot_rewards(loss_train, True, 'loss_train')"
   ]
  },
  {
   "cell_type": "code",
   "execution_count": 112,
   "metadata": {},
   "outputs": [],
   "source": [
    "# EPS_DECAY"
   ]
  },
  {
   "cell_type": "code",
   "execution_count": 113,
   "metadata": {},
   "outputs": [],
   "source": [
    "# ss = []\n",
    "# es = []\n",
    "# # EPS_DECAY = 50000\n",
    "# for i in range(len(loss_train)):\n",
    "#     sample = random.random()\n",
    "#     eps_threshold = EPS_END + (EPS_START - EPS_END) * \\\n",
    "#             math.exp(-1. * i / EPS_DECAY)\n",
    "#     # eps_threshold = 1.0 / (i + 1)\n",
    "#     ss.append(sample)\n",
    "#     es.append(eps_threshold)\n",
    "\n",
    "# exploit = 0\n",
    "# for i in range(1000):\n",
    "#     if ss[i] > es[i]:\n",
    "#         exploit += 1\n",
    "        \n",
    "# plt.scatter(list(range(len(ss))), ss, s=0.1)\n",
    "# plt.plot(es, c='r',linewidth=2)\n",
    "\n",
    "# print(exploit, exploit/1000)"
   ]
  },
  {
   "cell_type": "code",
   "execution_count": 114,
   "metadata": {},
   "outputs": [],
   "source": [
    "now = time.strftime(\"%m-%d_%H-%M-%S\", time.localtime())\n",
    "save_path = f\"runs/grid_8/{ENV_NAME}/\" + now"
   ]
  },
  {
   "cell_type": "code",
   "execution_count": 115,
   "metadata": {},
   "outputs": [],
   "source": [
    "os.makedirs(save_path, exist_ok=True)"
   ]
  },
  {
   "cell_type": "code",
   "execution_count": 116,
   "metadata": {},
   "outputs": [],
   "source": [
    "cfg = {\n",
    "    'visited_mark': visited_mark,\n",
    "    'end_mark': end_mark,\n",
    "    'rat_mark': rat_mark,\n",
    "    'LEFT': LEFT,\n",
    "    'UP': UP,\n",
    "    'RIGHT': RIGHT,\n",
    "    'DOWN': DOWN,\n",
    "    'actions_dict': actions_dict,\n",
    "    'num_actions': num_actions,\n",
    "    'maze_path': maze_path,\n",
    "    'ob_size': ob_size,\n",
    "    'ENV_NAME': ENV_NAME,\n",
    "    'BATCH_SIZE': BATCH_SIZE,\n",
    "    'GAMMA': GAMMA,\n",
    "    'EPS_START': EPS_START,\n",
    "    'EPS_END': EPS_END,\n",
    "    'EPS_DECAY': EPS_DECAY,\n",
    "    'TAU': TAU,\n",
    "    'LR': LR,\n",
    "    'num_episodes': num_episodes,\n",
    "    'max_Tstep': max_Tstep,\n",
    "    'sync_target_net_freq': sync_target_net_freq,\n",
    "    'R_GOAL': R_GOAL,\n",
    "    'R_WALL': R_WALL,\n",
    "    'R_MOVE': R_MOVE,\n",
    "    'R_Heuristic': R_Heuristic,\n",
    "}"
   ]
  },
  {
   "cell_type": "code",
   "execution_count": 117,
   "metadata": {},
   "outputs": [],
   "source": [
    "# 将字典保存成 txt 文件\n",
    "with open(save_path+'/config.txt', 'w') as f:\n",
    "    for key, value in cfg.items():\n",
    "        f.write(f'{key}: {value}\\n')"
   ]
  },
  {
   "cell_type": "code",
   "execution_count": 118,
   "metadata": {},
   "outputs": [],
   "source": [
    "# 将字典保存成 txt 文件\n",
    "with open(save_path+'/history.txt', 'w') as f:\n",
    "    for key, value in history.items():\n",
    "        f.write(f'{key}: {value}\\n')"
   ]
  },
  {
   "cell_type": "code",
   "execution_count": 119,
   "metadata": {},
   "outputs": [
    {
     "name": "stdout",
     "output_type": "stream",
     "text": [
      "{'visited_mark': 0.8, 'end_mark': 1.5, 'rat_mark': 0.5, 'LEFT': 0, 'UP': 1, 'RIGHT': 2, 'DOWN': 3, 'actions_dict': {0: 'left', 1: 'up', 2: 'right', 3: 'down'}, 'num_actions': 4, 'maze_path': 'maze8n_4.txt', 'ob_size': 3, 'ENV_NAME': 'grid_maze8n_4', 'BATCH_SIZE': 128, 'GAMMA': 0.99, 'EPS_START': 0.95, 'EPS_END': 0.05, 'EPS_DECAY': 20000, 'TAU': 0.005, 'LR': 0.001, 'num_episodes': 500, 'max_Tstep': 320000, 'sync_target_net_freq': 10000.0, 'R_GOAL': 50, 'R_WALL': -10, 'R_MOVE': 0, 'R_Heuristic': True}\n"
     ]
    }
   ],
   "source": [
    "print(cfg)"
   ]
  },
  {
   "cell_type": "code",
   "execution_count": 120,
   "metadata": {},
   "outputs": [],
   "source": [
    "save_weight = torch.save(policy_net, save_path + '/agent_policy.pth')"
   ]
  },
  {
   "cell_type": "code",
   "execution_count": 121,
   "metadata": {},
   "outputs": [],
   "source": [
    "saved_weight = copy.deepcopy(policy_net.state_dict())"
   ]
  },
  {
   "cell_type": "code",
   "execution_count": 830,
   "metadata": {},
   "outputs": [],
   "source": [
    "# def display_maze_and_path(maze, path):\n",
    "#     # Create a grid with obstacles, visited cells, rat and end positions\n",
    "#     grid_with_path = maze.copy()\n",
    "\n",
    "#     # Mark the visited cells and path positions\n",
    "#     for position in path:\n",
    "#         if grid_with_path[position] == 1:  # Check if it's a free cell\n",
    "#             grid_with_path[position] = visited_mark-0.3\n",
    "\n",
    "#     # Mark the start (rat) and end positions\n",
    "#     start, end = path[0], (7, 7)\n",
    "#     grid_with_path[start] = rat_mark\n",
    "#     grid_with_path[end] = end_mark\n",
    "#     print(grid_with_path)\n",
    "\n",
    "#     # Display the grid\n",
    "#     plt.imshow(grid_with_path, cmap=\"coolwarm\")\n",
    "#     plt.colorbar()\n",
    "#     plt.show()"
   ]
  },
  {
   "cell_type": "code",
   "execution_count": 831,
   "metadata": {},
   "outputs": [],
   "source": [
    "# def display_maze_and_path(maze, path):\n",
    "#     # Switch 0 and 1 in the maze\n",
    "# #     maze = 1 - maze\n",
    "    \n",
    "#     visited_mark = 0.6  # Cells visited by the rat will be painted by gray 0.6\n",
    "#     end_mark = 0.8\n",
    "#     rat_mark = 0.4      # The current rat cell will be painted by gray 0.4\n",
    "\n",
    "#     # Create a grid with obstacles, visited cells, rat and end positions\n",
    "#     grid_with_path = maze.copy()\n",
    "\n",
    "#     # Initialize a visits grid\n",
    "#     visits_grid = np.zeros(maze.shape, dtype=int)\n",
    "\n",
    "#     # Mark the visited cells and path positions\n",
    "#     for position in path:\n",
    "#         if grid_with_path[position] == 1:  # Check if it's a free cell\n",
    "#             visits_grid[position] += 1\n",
    "\n",
    "#     # Normalize the visits grid to a range between visited_mark and rat_mark\n",
    "#     print(visits_grid)\n",
    "#     visits_grid = (visits_grid / (visits_grid.max()/0.9))\n",
    "# #     print(visits_grid)\n",
    "\n",
    "#     # Overlay the visits grid on the maze\n",
    "# #     grid_with_path[np.where(visits_grid > visited_mark)] = visits_grid[np.where(visits_grid > visited_mark)]\n",
    "#     grid_with_path += visits_grid\n",
    "# #     print(grid_with_path)\n",
    "\n",
    "#     # Mark the start (rat) and end positions\n",
    "#     start, end = path[0], (15, 15)\n",
    "# #     grid_with_path[start] = 0.1\n",
    "#     grid_with_path[end] = 0.9\n",
    "# #     print(grid_with_path)\n",
    "\n",
    "#     # Display the grid\n",
    "#     plt.imshow(grid_with_path, cmap=\"gray\")  # coolwarm\n",
    "#     plt.colorbar()\n",
    "#     plt.show()"
   ]
  },
  {
   "cell_type": "code",
   "execution_count": 309,
   "metadata": {},
   "outputs": [],
   "source": [
    "def visualize_path(maze_size, path):\n",
    "    grid = np.zeros((maze_size, maze_size))\n",
    "    plt.figure(figsize=(maze_size/2, maze_size/2))\n",
    "\n",
    "    for index, position in enumerate(path[:-1]):\n",
    "        plt.plot([position[1], path[index + 1][1]], [position[0], path[index + 1][0]], color='blue', linewidth=2)\n",
    "\n",
    "    plt.plot(0, 0, 'go', markersize=10, label='Start')  # start point\n",
    "    plt.plot(maze_size - 1, maze_size - 1, 'ro', markersize=10, label='Goal')  # goal point\n",
    "    plt.legend()\n",
    "    plt.xticks(range(maze_size))\n",
    "    plt.yticks(range(maze_size))\n",
    "    plt.grid(True)\n",
    "    plt.gca().invert_yaxis()\n",
    "    plt.show()"
   ]
  },
  {
   "cell_type": "code",
   "execution_count": 310,
   "metadata": {},
   "outputs": [
    {
     "name": "stdout",
     "output_type": "stream",
     "text": [
      "[]\n"
     ]
    }
   ],
   "source": [
    "# Find the indices of all 1's in the data_list\n",
    "indices_of_ones = [i for i, value in enumerate(win_eval) if value == 1]\n",
    "\n",
    "print(indices_of_ones)"
   ]
  },
  {
   "cell_type": "code",
   "execution_count": 311,
   "metadata": {},
   "outputs": [
    {
     "name": "stdout",
     "output_type": "stream",
     "text": [
      "[142, 186, 187]\n"
     ]
    }
   ],
   "source": [
    "# Find the indices of all 1's in the data_list\n",
    "indices_of_ones = [i for i, value in enumerate(win_eval) if value > 0 and value < 1]\n",
    "\n",
    "print(indices_of_ones)"
   ]
  },
  {
   "cell_type": "code",
   "execution_count": 312,
   "metadata": {},
   "outputs": [
    {
     "name": "stdout",
     "output_type": "stream",
     "text": [
      "[]\n"
     ]
    }
   ],
   "source": [
    "# Find the indices of all 1's in the data_list\n",
    "indices_of_ones = [i for i, value in enumerate(win_eval) if value == 1]\n",
    "\n",
    "print(indices_of_ones)"
   ]
  },
  {
   "cell_type": "code",
   "execution_count": 315,
   "metadata": {},
   "outputs": [
    {
     "name": "stdout",
     "output_type": "stream",
     "text": [
      "[(0, 0), (0, 1), (0, 2), (1, 2), (1, 3), (1, 4), (2, 4), (2, 5), (2, 6), (3, 6), (4, 6), (4, 7), (4, 8), (4, 9), (3, 9), (3, 10), (3, 11), (3, 12), (4, 12), (4, 13), (5, 13), (6, 13), (6, 14), (7, 14), (8, 14), (9, 14), (10, 14), (11, 14), (12, 14), (13, 14), (14, 14), (15, 14), (15, 15), (15, 15)]\n"
     ]
    }
   ],
   "source": [
    "path = history['val_visited_list'][142]\n",
    "print(path)"
   ]
  },
  {
   "cell_type": "code",
   "execution_count": 316,
   "metadata": {},
   "outputs": [],
   "source": [
    "def visualize_path(maze, path):\n",
    "    maze_size = len(maze)\n",
    "    plt.figure(figsize=(maze_size/2, maze_size/2))\n",
    "\n",
    "    # Draw obstacles\n",
    "    for i in range(maze_size):\n",
    "        for j in range(maze_size):\n",
    "            if maze[i][j] == 0:\n",
    "                plt.fill_between([j-.5, j+1-.5], i-.5, i+1-.5, color='black')\n",
    "\n",
    "    # Draw the path\n",
    "    for index, position in enumerate(path[:-1]):\n",
    "        plt.plot([position[1], path[index + 1][1]], [position[0], path[index + 1][0]], color='blue', linewidth=2)\n",
    "\n",
    "    plt.plot(0, 0, 'go', markersize=10, label='Start')  # start point\n",
    "    plt.plot(maze_size - 1, maze_size - 1, 'ro', markersize=10, label='Goal')  # goal point\n",
    "    plt.legend()\n",
    "    plt.xticks(range(maze_size))\n",
    "    plt.yticks(range(maze_size))\n",
    "    plt.grid(True)\n",
    "    plt.gca().invert_yaxis()\n",
    "    plt.show()\n"
   ]
  },
  {
   "cell_type": "code",
   "execution_count": 317,
   "metadata": {},
   "outputs": [
    {
     "name": "stdout",
     "output_type": "stream",
     "text": [
      "Steps: 34\n"
     ]
    },
    {
     "data": {
      "image/png": "[encoded data removed]",
      "text/plain": [
       "<Figure size 576x576 with 1 Axes>"
      ]
     },
     "metadata": {
      "needs_background": "light"
     },
     "output_type": "display_data"
    }
   ],
   "source": [
    "# maze_size = 8\n",
    "print(\"Steps:\", len(path))\n",
    "visualize_path(maze, path)"
   ]
  },
  {
   "cell_type": "code",
   "execution_count": 855,
   "metadata": {},
   "outputs": [
    {
     "data": {
      "text/plain": [
       "500"
      ]
     },
     "execution_count": 855,
     "metadata": {},
     "output_type": "execute_result"
    }
   ],
   "source": [
    "len(episode_rewards)"
   ]
  },
  {
   "cell_type": "code",
   "execution_count": 754,
   "metadata": {},
   "outputs": [
    {
     "name": "stdout",
     "output_type": "stream",
     "text": [
      "tensor([[0.0000, 0.0000, 0.0000, 0.0000, 0.5000, 1.0000, 0.0000, 1.0000, 1.0000]],\n",
      "       device='cuda:0')\n",
      "tensor([[0.0000, 1.0000, 1.0000, 0.0000, 0.5000, 1.0000, 0.0000, 1.0000, 1.0000]],\n",
      "       device='cuda:0')\n",
      "tensor([[1.0000, 1.0000, 1.0000, 1.0000, 0.5000, 1.0000, 1.0000, 1.0000, 1.0000]],\n",
      "       device='cuda:0')\n",
      "tensor([[1.0000, 1.0000, 1.0000, 1.0000, 0.5000, 1.0000, 1.0000, 1.0000, 1.0000]],\n",
      "       device='cuda:0')\n",
      "tensor([[1.0000, 1.0000, 1.0000, 1.0000, 0.5000, 1.0000, 1.0000, 1.0000, 1.0000]],\n",
      "       device='cuda:0')\n",
      "tensor([[1.0000, 1.0000, 1.0000, 1.0000, 0.5000, 1.0000, 1.0000, 1.0000, 1.0000]],\n",
      "       device='cuda:0')\n",
      "tensor([[1.0000, 1.0000, 1.0000, 1.0000, 0.5000, 1.0000, 1.0000, 1.0000, 1.0000]],\n",
      "       device='cuda:0')\n",
      "tensor([[1.0000, 1.0000, 1.0000, 1.0000, 0.5000, 1.0000, 1.0000, 1.0000, 1.0000]],\n",
      "       device='cuda:0')\n",
      "tensor([[1.0000, 1.0000, 1.0000, 1.0000, 0.5000, 1.0000, 1.0000, 1.0000, 1.0000]],\n",
      "       device='cuda:0')\n",
      "tensor([[1.0000, 1.0000, 1.0000, 1.0000, 0.5000, 1.0000, 1.0000, 1.0000, 1.0000]],\n",
      "       device='cuda:0')\n",
      "tensor([[1.0000, 1.0000, 1.0000, 1.0000, 0.5000, 1.0000, 1.0000, 1.0000, 1.0000]],\n",
      "       device='cuda:0')\n",
      "tensor([[1.0000, 1.0000, 1.0000, 1.0000, 0.5000, 1.0000, 1.0000, 1.0000, 1.0000]],\n",
      "       device='cuda:0')\n",
      "tensor([[1.0000, 1.0000, 1.0000, 1.0000, 0.5000, 1.0000, 1.0000, 1.0000, 1.0000]],\n",
      "       device='cuda:0')\n",
      "tensor([[1.0000, 1.0000, 1.0000, 1.0000, 0.5000, 1.0000, 1.0000, 1.0000, 1.0000]],\n",
      "       device='cuda:0')\n",
      "tensor([[1.0000, 1.0000, 1.0000, 1.0000, 0.5000, 1.0000, 1.0000, 1.0000, 1.0000]],\n",
      "       device='cuda:0')\n",
      "tensor([[1.0000, 1.0000, 1.0000, 1.0000, 0.5000, 1.0000, 1.0000, 1.0000, 1.0000]],\n",
      "       device='cuda:0')\n",
      "tensor([[1.0000, 1.0000, 0.0000, 1.0000, 0.5000, 0.0000, 1.0000, 1.0000, 0.0000]],\n",
      "       device='cuda:0')\n",
      "tensor([[1.0000, 1.0000, 0.0000, 1.0000, 0.5000, 0.0000, 1.0000, 1.0000, 0.0000]],\n",
      "       device='cuda:0')\n",
      "tensor([[1.0000, 1.0000, 0.0000, 1.0000, 0.5000, 0.0000, 1.0000, 1.0000, 0.0000]],\n",
      "       device='cuda:0')\n",
      "tensor([[1.0000, 1.0000, 0.0000, 1.0000, 0.5000, 0.0000, 1.0000, 1.0000, 0.0000]],\n",
      "       device='cuda:0')\n",
      "tensor([[1.0000, 1.0000, 0.0000, 1.0000, 0.5000, 0.0000, 1.0000, 1.0000, 0.0000]],\n",
      "       device='cuda:0')\n",
      "tensor([[1.0000, 1.0000, 0.0000, 1.0000, 0.5000, 0.0000, 1.0000, 1.0000, 0.0000]],\n",
      "       device='cuda:0')\n",
      "tensor([[1.0000, 1.0000, 0.0000, 1.0000, 0.5000, 0.0000, 1.0000, 1.0000, 0.0000]],\n",
      "       device='cuda:0')\n",
      "tensor([[1.0000, 1.0000, 0.0000, 1.0000, 0.5000, 0.0000, 1.0000, 1.0000, 0.0000]],\n",
      "       device='cuda:0')\n",
      "tensor([[1.0000, 1.0000, 0.0000, 1.0000, 0.5000, 0.0000, 1.0000, 1.0000, 0.0000]],\n",
      "       device='cuda:0')\n",
      "tensor([[1.0000, 1.0000, 0.0000, 1.0000, 0.5000, 0.0000, 1.0000, 1.0000, 0.0000]],\n",
      "       device='cuda:0')\n",
      "tensor([[1.0000, 1.0000, 0.0000, 1.0000, 0.5000, 0.0000, 1.0000, 1.0000, 0.0000]],\n",
      "       device='cuda:0')\n",
      "tensor([[1.0000, 1.0000, 0.0000, 1.0000, 0.5000, 0.0000, 1.0000, 1.0000, 0.0000]],\n",
      "       device='cuda:0')\n",
      "tensor([[1.0000, 1.0000, 0.0000, 1.0000, 0.5000, 0.0000, 1.0000, 1.0000, 0.0000]],\n",
      "       device='cuda:0')\n",
      "tensor([[1.0000, 1.0000, 0.0000, 1.0000, 0.5000, 0.0000, 1.0000, 1.5000, 0.0000]],\n",
      "       device='cuda:0')\n"
     ]
    }
   ],
   "source": [
    "# Initialize the environment and get it's state\n",
    "state, info = env.reset()\n",
    "# Cart Position, Cart Velocity, Pole Angle, Pole Angular Velocity\n",
    "state = torch.tensor(state, dtype=torch.float32, device=device)\n",
    "\n",
    "done = False\n",
    "while not done:\n",
    "    print(state)\n",
    "    action = policy_net(state).max(1)[1].view(1, 1)  # 选择一个动作\n",
    "    # random.choice(env.valid_actions())\n",
    "    observation, reward, done, _ = env.step(action.item())  # 执行动作，返回{下一个观察值、奖励、是否结束、是否提前终止}\n",
    "    # reward = torch.tensor([reward], device=device)\n",
    "\n",
    "    if done:\n",
    "        next_state = None\n",
    "    else:\n",
    "        next_state = torch.tensor(observation, dtype=torch.float32, device=device)  # 如果没有终止则继续记录下一个状态\n",
    "\n",
    "    # Store the transition in memory\n",
    "    # memory.push(state, action, next_state, reward)\n",
    "\n",
    "    # Move to the next state\n",
    "    state = next_state\n",
    "    "
   ]
  },
  {
   "cell_type": "code",
   "execution_count": 753,
   "metadata": {},
   "outputs": [
    {
     "name": "stdout",
     "output_type": "stream",
     "text": [
      "[(0, 0), (1, 0), (1, 1), (1, 2), (1, 3), (1, 4), (1, 5), (1, 6), (1, 7), (1, 8), (1, 9), (1, 10), (1, 11), (1, 12), (1, 13), (1, 14), (1, 15), (2, 15), (3, 15), (4, 15), (5, 15), (6, 15), (7, 15), (8, 15), (9, 15), (10, 15), (11, 15), (12, 15), (13, 15), (14, 15), (15, 15), (15, 15)]\n",
      "50\n"
     ]
    },
    {
     "data": {
      "image/png": "[encoded data removed]",
      "text/plain": [
       "<Figure size 432x288 with 1 Axes>"
      ]
     },
     "metadata": {
      "needs_background": "light"
     },
     "output_type": "display_data"
    }
   ],
   "source": [
    "show(env)\n",
    "print(env.visited)\n",
    "print(env.total_reward)"
   ]
  },
  {
   "cell_type": "code",
   "execution_count": 757,
   "metadata": {},
   "outputs": [
    {
     "data": {
      "text/plain": [
       "DQN(\n",
       "  (layer1): Linear(in_features=9, out_features=128, bias=True)\n",
       "  (relu1): ReLU()\n",
       "  (layer2): Linear(in_features=128, out_features=128, bias=True)\n",
       "  (relu2): ReLU()\n",
       "  (output_layer): Linear(in_features=128, out_features=4, bias=True)\n",
       ")"
      ]
     },
     "execution_count": 757,
     "metadata": {},
     "output_type": "execute_result"
    }
   ],
   "source": [
    "policy_net.cpu()"
   ]
  },
  {
   "cell_type": "code",
   "execution_count": null,
   "metadata": {},
   "outputs": [],
   "source": [
    "# Actions dictionary\n",
    "actions_dict = {\n",
    "    LEFT: 'left',  # 0\n",
    "    UP: 'up',      # 1\n",
    "    RIGHT: 'right',# 2\n",
    "    DOWN: 'down',  # 3\n",
    "}"
   ]
  },
  {
   "cell_type": "code",
   "execution_count": 778,
   "metadata": {},
   "outputs": [
    {
     "data": {
      "text/plain": [
       "tensor([[3]])"
      ]
     },
     "execution_count": 778,
     "metadata": {},
     "output_type": "execute_result"
    }
   ],
   "source": [
    "# step 0\n",
    "step_0_state = torch.Tensor([[0, 0, 0, 0, 0.5, 1, 0, 1, 1]])\n",
    "policy_net(step_0_state).max(1)[1].view(1, 1)"
   ]
  },
  {
   "cell_type": "code",
   "execution_count": 779,
   "metadata": {},
   "outputs": [
    {
     "data": {
      "text/plain": [
       "tensor([[2]])"
      ]
     },
     "execution_count": 779,
     "metadata": {},
     "output_type": "execute_result"
    }
   ],
   "source": [
    "# step 1\n",
    "step_1_state = torch.Tensor([[0, 1, 1, 0, 0.5, 1, 0, 1, 1]])\n",
    "policy_net(step_1_state).max(1)[1].view(1, 1)"
   ]
  },
  {
   "cell_type": "code",
   "execution_count": 788,
   "metadata": {},
   "outputs": [
    {
     "data": {
      "text/plain": [
       "tensor([[3]])"
      ]
     },
     "execution_count": 788,
     "metadata": {},
     "output_type": "execute_result"
    }
   ],
   "source": [
    "# step 2\n",
    "step_2_state = torch.Tensor([[1, 1, 1, 1, 0.5, 1, 1, 1, 1]])\n",
    "policy_net(step_1_state).max(1)[1].view(1, 1)"
   ]
  },
  {
   "cell_type": "code",
   "execution_count": 780,
   "metadata": {},
   "outputs": [
    {
     "data": {
      "text/plain": [
       "tensor([[3]])"
      ]
     },
     "execution_count": 780,
     "metadata": {},
     "output_type": "execute_result"
    }
   ],
   "source": [
    "# step 16\n",
    "step_16_state = torch.Tensor([[1, 1, 0, 1, 0.5, 0, 1, 1, 0]])\n",
    "policy_net(step_16_state).max(1)[1].view(1, 1)"
   ]
  },
  {
   "cell_type": "code",
   "execution_count": 781,
   "metadata": {},
   "outputs": [
    {
     "data": {
      "text/plain": [
       "tensor([[3]])"
      ]
     },
     "execution_count": 781,
     "metadata": {},
     "output_type": "execute_result"
    }
   ],
   "source": [
    "# step 29\n",
    "step_29_state = torch.Tensor([[1, 1, 0, 1, 0.5, 0, 1, 1.5, 0]])\n",
    "policy_net(step_29_state).max(1)[1].view(1, 1)"
   ]
  },
  {
   "cell_type": "code",
   "execution_count": 797,
   "metadata": {},
   "outputs": [
    {
     "data": {
      "text/plain": [
       "<matplotlib.image.AxesImage at 0x7f092b8f6590>"
      ]
     },
     "execution_count": 797,
     "metadata": {},
     "output_type": "execute_result"
    },
    {
     "data": {
      "image/png": "[encoded data removed]",
      "text/plain": [
       "<Figure size 432x288 with 1 Axes>"
      ]
     },
     "metadata": {
      "needs_background": "light"
     },
     "output_type": "display_data"
    }
   ],
   "source": [
    "step_29_state = torch.Tensor([[1, 1, 0, 1, 0.5, 0, 1, 0.8, 0]])\n",
    "state = step_29_state.reshape((3, 3))\n",
    "plt.imshow(state, cmap='gray')"
   ]
  },
  {
   "cell_type": "code",
   "execution_count": null,
   "metadata": {},
   "outputs": [],
   "source": [
    "# history['test_route'] = env.visited\n",
    "# history['test_total_reward'] = env.total_reward\n",
    "\n",
    "# # 将字典保存成 txt 文件\n",
    "# with open(folder_name+'/history.txt', 'w') as f:\n",
    "#     for key, value in history.items():\n",
    "#         f.write(f'{key}: {value}\\n')\n",
    "\n",
    "# torch.save(policy_net.state_dict(), folder_name+'/my_model_weights.pth')"
   ]
  },
  {
   "cell_type": "code",
   "execution_count": null,
   "metadata": {},
   "outputs": [],
   "source": [
    "# env.total_Tstep"
   ]
  },
  {
   "cell_type": "code",
   "execution_count": null,
   "metadata": {},
   "outputs": [],
   "source": [
    "# ! jupyter nbconvert --to python GridWorld_report.ipynb"
   ]
  },
  {
   "cell_type": "code",
   "execution_count": 37,
   "metadata": {},
   "outputs": [
    {
     "name": "stdout",
     "output_type": "stream",
     "text": [
      "Path: [(0, 0), (0, 0), (0, 1), (0, 1), (0, 0), (0, 0), (0, 1), (0, 0), (0, 1), (1, 1), (1, 2), (1, 1), (1, 2), (1, 1), (1, 2), (2, 2), (1, 2), (2, 2), (3, 2), (3, 3), (2, 3), (3, 3), (4, 3), (5, 3), (5, 2), (5, 1), (5, 2), (6, 2), (6, 1), (7, 1), (7, 0), (7, 0), (7, 1), (6, 1), (6, 0), (6, 0), (5, 0), (5, 0), (5, 0), (4, 0), (4, 1), (5, 1), (4, 1), (4, 0), (3, 0), (4, 0), (4, 1), (4, 0), (3, 0), (3, 1), (3, 2), (2, 2), (3, 2), (3, 3), (3, 4), (3, 3), (4, 3), (5, 3), (5, 2), (6, 2), (5, 2), (4, 2), (5, 2), (5, 1), (4, 1), (3, 1), (4, 1), (4, 0), (4, 1), (3, 1), (3, 2), (4, 2), (5, 2), (5, 3), (5, 4), (5, 3), (6, 3), (6, 2), (6, 1), (7, 1), (7, 0), (6, 0), (5, 0), (6, 0), (5, 0), (4, 0), (5, 0), (6, 0), (7, 0), (7, 0), (8, 0), (9, 0), (9, 1), (9, 2), (9, 1), (9, 0), (10, 0), (10, 1), (10, 2), (9, 2), (9, 3), (9, 4), (9, 3), (8, 3), (8, 4), (9, 4), (10, 4), (10, 3), (10, 4), (11, 4), (12, 4), (11, 4), (11, 3), (11, 4), (12, 4), (12, 3), (13, 3), (14, 3), (14, 4), (15, 4), (14, 4), (14, 3), (14, 2), (14, 1), (14, 2), (13, 2), (13, 1), (14, 1), (14, 2), (14, 1), (13, 1), (13, 2), (14, 2), (14, 3), (15, 3), (14, 3), (13, 3), (13, 2), (12, 2), (12, 1), (13, 1), (14, 1), (14, 0), (14, 1), (14, 2), (13, 2), (13, 3), (13, 2), (12, 2), (12, 3), (11, 3), (12, 3), (13, 3), (14, 3), (13, 3), (12, 3), (11, 3), (10, 3), (10, 4), (10, 3), (9, 3), (8, 3), (8, 4), (8, 5), (8, 4), (8, 5), (9, 5), (9, 4), (10, 4), (10, 3), (10, 2), (10, 3), (10, 2), (10, 1), (10, 0), (10, 0), (11, 0), (11, 1), (10, 1), (10, 0), (10, 1), (10, 0), (10, 0), (10, 0), (11, 0), (11, 0), (12, 0), (13, 0), (14, 0), (15, 0), (15, 0), (15, 1), (14, 1), (14, 2), (15, 2), (15, 2), (15, 3), (15, 3), (14, 3), (13, 3), (12, 3), (13, 3), (14, 3), (15, 3), (15, 4), (14, 4), (14, 3), (14, 4), (14, 5), (14, 6), (14, 7), (14, 8), (14, 7), (13, 7), (13, 8), (12, 8), (12, 9), (12, 10), (11, 10), (10, 10), (9, 10), (9, 9), (9, 8), (10, 8), (10, 7), (11, 7), (12, 7), (13, 7), (13, 6), (13, 7), (12, 7), (13, 7), (12, 7), (13, 7), (13, 8), (13, 7), (12, 7), (11, 7), (11, 6), (11, 5), (11, 4), (12, 4), (11, 4), (11, 5), (10, 5), (10, 6), (11, 6), (11, 5), (11, 4), (11, 3), (12, 3), (12, 4), (11, 4), (11, 5), (11, 4), (12, 4), (13, 4), (13, 5), (13, 4), (13, 3), (13, 4), (12, 4), (11, 4), (10, 4), (10, 3), (10, 2), (9, 2), (8, 2), (9, 2), (9, 1), (10, 1), (10, 0), (10, 0), (10, 1), (10, 2), (10, 1), (10, 2), (11, 2), (12, 2), (12, 1), (12, 0), (12, 1), (13, 1), (12, 1), (11, 1), (10, 1), (9, 1), (9, 0), (9, 1), (8, 1), (8, 0), (8, 0), (9, 0), (9, 1), (10, 1), (10, 0), (11, 0), (12, 0), (12, 1), (11, 1), (12, 1), (13, 1), (13, 2), (14, 2), (15, 2), (14, 2), (13, 2), (13, 1), (13, 0), (13, 0), (12, 0), (12, 1), (11, 1), (10, 1), (10, 0), (10, 0), (10, 1), (10, 2), (11, 2), (12, 2), (11, 2), (11, 3), (11, 4), (10, 4), (10, 5), (9, 5), (9, 6), (9, 7), (9, 8), (9, 7), (9, 6), (9, 7), (8, 7), (7, 7), (7, 6), (8, 6), (9, 6), (10, 6), (10, 5), (10, 4), (10, 3), (9, 3), (9, 2), (8, 2), (8, 1), (8, 0), (9, 0), (9, 1), (9, 2), (8, 2), (8, 1), (7, 1), (8, 1), (8, 2), (9, 2), (9, 1), (9, 2), (9, 1), (8, 1), (9, 1), (10, 1), (10, 0), (10, 0), (10, 1), (11, 1), (11, 0), (12, 0), (12, 1), (13, 1), (13, 2), (12, 2), (12, 3), (11, 3), (11, 4), (12, 4), (12, 5), (12, 4), (11, 4), (10, 4), (11, 4), (11, 3), (11, 4), (11, 3), (11, 4), (12, 4), (13, 4), (12, 4), (12, 3), (13, 3), (14, 3), (13, 3), (13, 4), (13, 3), (13, 2), (12, 2), (11, 2), (10, 2), (9, 2), (8, 2), (7, 2), (8, 2), (8, 3), (7, 3), (7, 2), (7, 3), (6, 3), (6, 2), (5, 2), (4, 2), (4, 1), (3, 1), (4, 1), (4, 2), (4, 3), (4, 2), (4, 1), (4, 0), (5, 0), (5, 1), (5, 0), (5, 0), (5, 1), (6, 1), (6, 0), (5, 0), (6, 0), (7, 0), (8, 0), (8, 0), (8, 0), (7, 0), (8, 0), (8, 0), (8, 0), (7, 0), (6, 0), (6, 0), (5, 0), (5, 1), (5, 2), (5, 1), (4, 1), (4, 2), (5, 2), (6, 2), (7, 2), (7, 3), (6, 3), (6, 4), (6, 3), (5, 3), (5, 4), (4, 4), (3, 4), (3, 3), (4, 3), (4, 2), (4, 1), (5, 1), (5, 0), (4, 0), (4, 1), (3, 1), (3, 2), (4, 2), (4, 3), (4, 2), (3, 2), (2, 2), (3, 2), (2, 2), (2, 1), (2, 2), (1, 2), (1, 3), (1, 4), (1, 3), (1, 2), (2, 2), (2, 3), (2, 2), (2, 3), (2, 4), (1, 4), (0, 4), (0, 4), (1, 4), (2, 4), (3, 4), (2, 4), (1, 4), (2, 4), (2, 5), (3, 5), (3, 4), (3, 3), (3, 4), (3, 3), (3, 4), (2, 4), (3, 4), (3, 3), (3, 4), (3, 5), (3, 4), (2, 4), (2, 3), (1, 3), (2, 3), (1, 3), (0, 3), (0, 3), (0, 4), (0, 4), (0, 3), (1, 3), (1, 2), (1, 3), (1, 4), (1, 3), (1, 2), (1, 1), (1, 0), (0, 0), (0, 1), (0, 2), (0, 2), (0, 3), (1, 3), (2, 3), (1, 3), (1, 4), (1, 5), (2, 5), (1, 5), (2, 5), (2, 6), (3, 6), (2, 6), (1, 6), (1, 5), (2, 5), (2, 6), (1, 6), (0, 6), (1, 6), (1, 7), (0, 7), (0, 7), (0, 7), (0, 7), (1, 7), (2, 7), (3, 7), (2, 7), (2, 6), (3, 6), (3, 5), (3, 4), (3, 3), (3, 2), (2, 2), (3, 2), (3, 3), (4, 3), (4, 2), (5, 2), (5, 3), (6, 3), (6, 2), (6, 3), (5, 3), (6, 3), (6, 4), (7, 4), (7, 5), (7, 6), (7, 5), (7, 6), (8, 6), (8, 7), (8, 8), (9, 8), (9, 7), (9, 6), (10, 6), (10, 7), (11, 7), (12, 7), (11, 7), (11, 6), (12, 6), (11, 6), (11, 5), (11, 4), (10, 4), (10, 3), (10, 2), (10, 3), (11, 3), (10, 3), (11, 3), (11, 2), (10, 2), (10, 1), (9, 1), (9, 2), (9, 1), (9, 2), (10, 2), (10, 3), (10, 2), (11, 2), (11, 1), (10, 1), (10, 2), (9, 2), (10, 2), (10, 3), (9, 3), (8, 3), (7, 3), (6, 3), (7, 3), (7, 4), (6, 4), (6, 3), (6, 4), (5, 4), (5, 5), (5, 6), (4, 6), (4, 5), (4, 6), (4, 5), (3, 5), (3, 4), (3, 3), (3, 4), (4, 4), (4, 5), (4, 4), (5, 4), (4, 4), (3, 4), (3, 3), (3, 4), (2, 4), (2, 5), (2, 6), (2, 7), (2, 6), (1, 6), (1, 5), (1, 4), (0, 4), (0, 3), (0, 2), (0, 2), (1, 2), (1, 3), (2, 3), (2, 2), (2, 1), (3, 1), (4, 1), (4, 2), (4, 1), (4, 2), (4, 1), (4, 0), (4, 1), (4, 0), (5, 0), (4, 0), (4, 0), (4, 1), (4, 0), (4, 0), (4, 0), (4, 1), (5, 1), (5, 2), (5, 1), (6, 1), (7, 1), (7, 0), (7, 1), (7, 0), (6, 0), (7, 0), (7, 0), (7, 0), (8, 0), (8, 0), (8, 0), (8, 0), (9, 0), (9, 1), (10, 1), (11, 1), (11, 0), (12, 0), (12, 1), (12, 0), (12, 0), (12, 0), (12, 1), (12, 2), (13, 2), (12, 2), (12, 1), (12, 0), (13, 0), (13, 0), (13, 0), (14, 0), (13, 0), (13, 0), (14, 0), (15, 0), (15, 0), (15, 0), (15, 0), (15, 0), (15, 0), (14, 0), (14, 0), (14, 1), (14, 0), (14, 0), (13, 0), (13, 1), (12, 1), (13, 1), (12, 1), (12, 0), (12, 0), (13, 0), (13, 1), (13, 0), (13, 0), (13, 1), (14, 1), (15, 1), (15, 2), (15, 3), (15, 4), (15, 5), (15, 5), (15, 4), (15, 5), (15, 5), (15, 4), (15, 5), (15, 4), (14, 4), (14, 3), (14, 4), (15, 4), (15, 5), (15, 5), (15, 6), (15, 6), (15, 7), (15, 7), (14, 7), (14, 6), (14, 7), (13, 7), (13, 8), (13, 9), (14, 9), (14, 10), (14, 9), (14, 10), (13, 10), (13, 11), (12, 11), (12, 10), (11, 10), (11, 9), (11, 10), (10, 10), (10, 11), (11, 11), (10, 11), (9, 11), (9, 10), (10, 10), (9, 10), (9, 9), (9, 10), (9, 11), (8, 11), (7, 11), (6, 11), (6, 12), (7, 12), (6, 12), (7, 12), (7, 13), (6, 13), (7, 13), (7, 14), (7, 13), (8, 13), (7, 13), (6, 13), (5, 13), (6, 13), (7, 13), (7, 12), (7, 13), (7, 14), (7, 13), (8, 13), (8, 12), (8, 13), (7, 13), (8, 13), (7, 13), (7, 12), (8, 12), (7, 12), (8, 12), (9, 12), (10, 12), (9, 12), (9, 13), (9, 14), (9, 13), (10, 13), (9, 13), (10, 13), (10, 14), (10, 15), (10, 14), (9, 14), (8, 14), (8, 15), (7, 15), (7, 15), (8, 15), (9, 15), (8, 15), (8, 15), (9, 15), (8, 15), (7, 15), (6, 15), (5, 15), (5, 14), (5, 15), (6, 15), (5, 15), (6, 15), (6, 14), (7, 14), (6, 14), (5, 14), (5, 15), (5, 15), (4, 15), (4, 15), (4, 14), (4, 15), (4, 15), (5, 15), (4, 15), (4, 15), (5, 15), (5, 15), (6, 15), (5, 15), (6, 15), (5, 15), (6, 15), (6, 14), (6, 13), (5, 13), (6, 13), (6, 12), (5, 12), (5, 13), (6, 13), (6, 14), (6, 15), (7, 15), (8, 15), (8, 14), (8, 13), (8, 14), (8, 15), (7, 15), (6, 15), (7, 15), (7, 14), (7, 13), (7, 14), (7, 13), (7, 12), (6, 12), (5, 12), (5, 11), (5, 10), (4, 10), (4, 11), (3, 11), (3, 10), (3, 9), (2, 9), (2, 10), (1, 10), (0, 10), (0, 9), (1, 9), (0, 9), (0, 8), (0, 7), (0, 6), (0, 5), (0, 4), (0, 3), (0, 4), (0, 3), (0, 3), (0, 2), (0, 1), (1, 1), (1, 0), (1, 0), (1, 1), (1, 2), (0, 2), (0, 1), (0, 0), (0, 0), (0, 1), (0, 0), (0, 0), (0, 1), (0, 2), (0, 1), (1, 1), (1, 0), (1, 0), (0, 0), (0, 0), (1, 0), (1, 1), (1, 0), (1, 1), (0, 1), (0, 1), (1, 1), (0, 1), (1, 1), (1, 0), (0, 0), (0, 1), (1, 1), (2, 1), (3, 1), (4, 1), (4, 0), (4, 0), (4, 1), (3, 1), (4, 1), (4, 2), (4, 3), (5, 3), (5, 2), (5, 1), (6, 1), (7, 1), (7, 0), (6, 0), (5, 0), (4, 0), (4, 0), (5, 0), (5, 1), (4, 1), (4, 2), (4, 3), (4, 2), (4, 1), (4, 2), (4, 1), (4, 0), (5, 0), (6, 0), (5, 0), (5, 0), (4, 0), (3, 0), (4, 0), (5, 0), (5, 1), (5, 2), (4, 2), (5, 2), (4, 2), (5, 2), (4, 2), (4, 3), (5, 3), (6, 3), (7, 3), (7, 2), (7, 1), (8, 1), (7, 1), (8, 1), (8, 2), (8, 1), (8, 0), (9, 0), (9, 0), (9, 1), (10, 1), (11, 1), (10, 1), (11, 1), (11, 2), (11, 1), (10, 1), (11, 1), (11, 0), (11, 0), (11, 0), (11, 0), (10, 0), (10, 1), (10, 2), (10, 1), (10, 2), (9, 2), (8, 2), (8, 1), (9, 1), (8, 1), (9, 1), (10, 1), (10, 2), (9, 2), (8, 2), (7, 2), (7, 1), (6, 1), (7, 1), (8, 1), (7, 1), (7, 0), (7, 1), (7, 0), (7, 0), (7, 1), (7, 2), (7, 1), (6, 1), (6, 2), (7, 2), (7, 1), (7, 2), (7, 1), (7, 2), (6, 2), (7, 2), (7, 3), (6, 3), (6, 2), (6, 3), (6, 4), (6, 5), (7, 5), (7, 4), (8, 4), (9, 4), (9, 5), (10, 5), (9, 5), (10, 5), (10, 6), (11, 6), (12, 6), (13, 6), (14, 6), (15, 6), (15, 6), (15, 6), (15, 5), (15, 6), (15, 6), (15, 6), (15, 6), (15, 5), (14, 5), (13, 5), (13, 6), (13, 5), (12, 5), (11, 5), (11, 6), (10, 6), (10, 7), (10, 8), (11, 8), (10, 8), (9, 8), (9, 7), (9, 6), (10, 6), (10, 7), (9, 7), (8, 7), (9, 7), (9, 6), (10, 6), (10, 7), (10, 6), (11, 6), (11, 7), (12, 7), (12, 6), (11, 6), (12, 6), (12, 7), (13, 7), (14, 7), (13, 7), (13, 6), (14, 6), (13, 6), (13, 7), (14, 7), (14, 6), (13, 6), (13, 5), (13, 4), (13, 5), (13, 6), (13, 7), (13, 8), (13, 7), (13, 8), (12, 8), (12, 7), (11, 7), (11, 6), (10, 6), (10, 7), (10, 6), (10, 5), (10, 4), (10, 3), (10, 4), (10, 5), (10, 4), (9, 4), (10, 4), (10, 3), (11, 3), (10, 3), (9, 3), (9, 4), (10, 4), (10, 3), (11, 3), (12, 3), (13, 3), (12, 3), (12, 2), (11, 2), (10, 2), (10, 3), (9, 3), (9, 4), (10, 4), (10, 5), (10, 6), (11, 6), (11, 7), (11, 8), (11, 9), (12, 9), (12, 10), (11, 10), (11, 9), (12, 9), (12, 10), (11, 10), (12, 10), (13, 10), (14, 10), (14, 9), (15, 9), (15, 9), (14, 9), (14, 8), (13, 8), (13, 9), (14, 9), (13, 9), (12, 9), (12, 10), (12, 11), (13, 11), (13, 10), (13, 9), (13, 8), (13, 9), (13, 10), (12, 10), (12, 9), (12, 10), (13, 10), (13, 11), (13, 10), (13, 11), (13, 12), (14, 12), (14, 13), (15, 13), (15, 13), (15, 12), (14, 12), (15, 12), (15, 12), (15, 13), (15, 14), (15, 15)]\n",
      "Steps: 1233\n"
     ]
    }
   ],
   "source": [
    "import numpy as np\n",
    "import random\n",
    "\n",
    "def random_move(position, maze_size):\n",
    "    move = random.choice(['up', 'down', 'left', 'right'])\n",
    "    new_position = position\n",
    "\n",
    "    if move == 'up' and position[0] > 0:\n",
    "        new_position = (position[0] - 1, position[1])\n",
    "    elif move == 'down' and position[0] < maze_size - 1:\n",
    "        new_position = (position[0] + 1, position[1])\n",
    "    elif move == 'left' and position[1] > 0:\n",
    "        new_position = (position[0], position[1] - 1)\n",
    "    elif move == 'right' and position[1] < maze_size - 1:\n",
    "        new_position = (position[0], position[1] + 1)\n",
    "\n",
    "    return new_position\n",
    "\n",
    "def random_explore(maze_size):\n",
    "    start = (0, 0)\n",
    "    goal = (maze_size - 1, maze_size - 1)\n",
    "    position = start\n",
    "    path = [start]\n",
    "    steps = 0\n",
    "\n",
    "    while position != goal:\n",
    "        position = random_move(position, maze_size)\n",
    "        path.append(position)\n",
    "        steps += 1\n",
    "\n",
    "    return path, steps\n",
    "\n",
    "maze_size = 16\n",
    "path, steps = random_explore(maze_size)\n",
    "print(\"Path:\", path)\n",
    "print(\"Steps:\", steps)\n"
   ]
  },
  {
   "cell_type": "code",
   "execution_count": 664,
   "metadata": {
    "scrolled": true
   },
   "outputs": [
    {
     "name": "stdout",
     "output_type": "stream",
     "text": [
      "Steps: 546\n"
     ]
    },
    {
     "data": {
      "image/png": "[encoded data removed]",
      "text/plain": [
       "<Figure size 576x576 with 1 Axes>"
      ]
     },
     "metadata": {
      "needs_background": "light"
     },
     "output_type": "display_data"
    }
   ],
   "source": [
    "import numpy as np\n",
    "import random\n",
    "import matplotlib.pyplot as plt\n",
    "\n",
    "def random_move(position, maze_size):\n",
    "    move = random.choice(['up', 'down', 'left', 'right'])\n",
    "    new_position = position\n",
    "\n",
    "    if move == 'up' and position[0] > 0:\n",
    "        new_position = (position[0] - 1, position[1])\n",
    "    elif move == 'down' and position[0] < maze_size - 1:\n",
    "        new_position = (position[0] + 1, position[1])\n",
    "    elif move == 'left' and position[1] > 0:\n",
    "        new_position = (position[0], position[1] - 1)\n",
    "    elif move == 'right' and position[1] < maze_size - 1:\n",
    "        new_position = (position[0], position[1] + 1)\n",
    "\n",
    "    return new_position\n",
    "\n",
    "def random_explore(maze_size):\n",
    "    start = (0, 0)\n",
    "    goal = (maze_size - 1, maze_size - 1)\n",
    "    position = start\n",
    "    path = [start]\n",
    "    steps = 0\n",
    "\n",
    "    while position != goal:\n",
    "        position = random_move(position, maze_size)\n",
    "        path.append(position)\n",
    "        steps += 1\n",
    "\n",
    "    return path, steps\n",
    "\n",
    "def visualize_path(maze_size, path):\n",
    "    grid = np.zeros((maze_size, maze_size))\n",
    "    plt.figure(figsize=(maze_size/2, maze_size/2))\n",
    "\n",
    "    for index, position in enumerate(path[:-1]):\n",
    "        plt.plot([position[1], path[index + 1][1]], [position[0], path[index + 1][0]], color='blue', linewidth=2)\n",
    "\n",
    "    plt.plot(0, 0, 'go', markersize=10, label='Start')  # start point\n",
    "    plt.plot(maze_size - 1, maze_size - 1, 'ro', markersize=10, label='Goal')  # goal point\n",
    "    plt.legend()\n",
    "    plt.xticks(range(maze_size))\n",
    "    plt.yticks(range(maze_size))\n",
    "    plt.grid(True)\n",
    "    plt.gca().invert_yaxis()\n",
    "    plt.show()\n",
    "\n",
    "maze_size = 16\n",
    "path, steps = random_explore(maze_size)\n",
    "print(\"Steps:\", steps)\n",
    "visualize_path(maze_size, path)\n"
   ]
  },
  {
   "cell_type": "code",
   "execution_count": 77,
   "metadata": {},
   "outputs": [
    {
     "data": {
      "image/png": "[encoded data removed]",
      "text/plain": [
       "<Figure size 576x576 with 1 Axes>"
      ]
     },
     "metadata": {
      "needs_background": "light"
     },
     "output_type": "display_data"
    }
   ],
   "source": [
    "visualize_path(maze_size, path)"
   ]
  },
  {
   "cell_type": "code",
   "execution_count": 96,
   "metadata": {},
   "outputs": [
    {
     "data": {
      "text/plain": [
       "array([15, 15])"
      ]
     },
     "execution_count": 96,
     "metadata": {},
     "output_type": "execute_result"
    }
   ],
   "source": [
    "np.array([15, 15])-np.array([0, 0])"
   ]
  },
  {
   "cell_type": "code",
   "execution_count": 104,
   "metadata": {},
   "outputs": [
    {
     "data": {
      "text/plain": [
       "-385.0"
      ]
     },
     "execution_count": 104,
     "metadata": {},
     "output_type": "execute_result"
    }
   ],
   "source": [
    "50-29*30/2"
   ]
  },
  {
   "cell_type": "code",
   "execution_count": 143,
   "metadata": {},
   "outputs": [],
   "source": [
    "win = 0\n",
    "episode_rewards_eval = []\n",
    "\n",
    "env = Qmaze(maze, ob_size, max_Tstep=optimal_length)\n",
    "\n",
    "# for j in range(1):\n",
    "\n",
    "# Initialize the environment and get it's state\n",
    "state, info = env.reset()\n",
    "#     # Cart Position, Cart Velocity, Pole Angle, Pole Angular Velocity\n",
    "#     state = torch.tensor(state, dtype=torch.float32, device=device)\n",
    "\n",
    "#     done = False\n",
    "#     while not done:\n",
    "        action = policy_net(state).max(1)[1].view(1, 1)  # 选择一个动作\n",
    "#         # random.choice(env.valid_actions())\n",
    "#         observation, reward, done, info = env.step(action.item())  # 执行动作，返回{下一个观察值、奖励、是否结束、是否提前终止}\n",
    "#         # reward = torch.tensor([reward], device=device)\n",
    "#         # print(int(action[0][0]))\n",
    "#         # print(observation, reward, done, info)\n",
    "#         # print()\n",
    "#         if done:\n",
    "#             next_state = None\n",
    "#         else:\n",
    "#             next_state = torch.tensor(observation, dtype=torch.float32, device=device)  # 如果没有终止则继续记录下一个状态\n",
    "\n",
    "#         # Store the transition in memory\n",
    "#         # memory.push(state, action, next_state, reward)\n",
    "\n",
    "#         # Move to the next state\n",
    "#         state = next_state\n",
    "\n",
    "#     episode_rewards_eval.append(env.total_reward)\n",
    "#     if info == 'win':\n",
    "#         win += 1\n",
    "\n",
    "\n",
    "# win_rate = win / 1\n",
    "\n",
    "# if show_maze:\n",
    "#     show(env)\n",
    "\n",
    "# # print(env.visited)\n",
    "# # print(env.state)\n",
    "# # print(env.total_reward)\n",
    "\n",
    "# return episode_rewards_eval, win_rate, env.visited"
   ]
  }
 ],
 "metadata": {
  "kernelspec": {
   "display_name": "Python 3",
   "language": "python",
   "name": "python3"
  },
  "language_info": {
   "codemirror_mode": {
    "name": "ipython",
    "version": 3
   },
   "file_extension": ".py",
   "mimetype": "text/x-python",
   "name": "python",
   "nbconvert_exporter": "python",
   "pygments_lexer": "ipython3",
   "version": "3.7.7"
  }
 },
 "nbformat": 4,
 "nbformat_minor": 5
}
