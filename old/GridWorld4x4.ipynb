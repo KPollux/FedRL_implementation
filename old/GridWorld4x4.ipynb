{
 "cells": [
  {
   "cell_type": "code",
   "execution_count": 116,
   "metadata": {},
   "outputs": [
    {
     "ename": "NameError",
     "evalue": "name 'col' is not defined",
     "output_type": "error",
     "traceback": [
      "\u001b[0;31m---------------------------------------------------------------------------\u001b[0m",
      "\u001b[0;31mNameError\u001b[0m                                 Traceback (most recent call last)",
      "\u001b[0;32m<ipython-input-116-513a9c10cf08>\u001b[0m in \u001b[0;36m<module>\u001b[0;34m\u001b[0m\n\u001b[1;32m      7\u001b[0m \u001b[0max\u001b[0m\u001b[0;34m.\u001b[0m\u001b[0mgrid\u001b[0m\u001b[0;34m(\u001b[0m\u001b[0;34m'on'\u001b[0m\u001b[0;34m)\u001b[0m\u001b[0;34m\u001b[0m\u001b[0;34m\u001b[0m\u001b[0m\n\u001b[1;32m      8\u001b[0m \u001b[0mplt\u001b[0m\u001b[0;34m.\u001b[0m\u001b[0mimshow\u001b[0m\u001b[0;34m(\u001b[0m\u001b[0mmaze\u001b[0m\u001b[0;34m,\u001b[0m \u001b[0mcmap\u001b[0m\u001b[0;34m=\u001b[0m\u001b[0;34m'gray'\u001b[0m\u001b[0;34m)\u001b[0m\u001b[0;34m\u001b[0m\u001b[0;34m\u001b[0m\u001b[0m\n\u001b[0;32m----> 9\u001b[0;31m \u001b[0;32mif\u001b[0m \u001b[0;34m(\u001b[0m\u001b[0mrow\u001b[0m\u001b[0;34m,\u001b[0m \u001b[0mcol\u001b[0m\u001b[0;34m)\u001b[0m \u001b[0;34m==\u001b[0m \u001b[0mstart\u001b[0m\u001b[0;34m:\u001b[0m\u001b[0;34m\u001b[0m\u001b[0;34m\u001b[0m\u001b[0m\n\u001b[0m\u001b[1;32m     10\u001b[0m     \u001b[0mcolor\u001b[0m \u001b[0;34m=\u001b[0m \u001b[0;34m'green'\u001b[0m\u001b[0;34m\u001b[0m\u001b[0;34m\u001b[0m\u001b[0m\n\u001b[1;32m     11\u001b[0m     \u001b[0mlabel\u001b[0m \u001b[0;34m=\u001b[0m \u001b[0;34m'S'\u001b[0m\u001b[0;34m\u001b[0m\u001b[0;34m\u001b[0m\u001b[0m\n",
      "\u001b[0;31mNameError\u001b[0m: name 'col' is not defined"
     ]
    },
    {
     "data": {
      "image/png": "[encoded data removed]",
      "text/plain": [
       "<Figure size 432x288 with 1 Axes>"
      ]
     },
     "metadata": {
      "needs_background": "light"
     },
     "output_type": "display_data"
    }
   ],
   "source": [
    "nrows=ncols=4\n",
    "ax = plt.gca()\n",
    "ax.set_xticks(np.arange(0.5, nrows, 1))\n",
    "ax.set_yticks(np.arange(0.5, ncols, 1))\n",
    "ax.set_xticklabels([])\n",
    "ax.set_yticklabels([])\n",
    "ax.grid('on')\n",
    "plt.imshow(maze, cmap='gray')"
   ]
  },
  {
   "cell_type": "code",
   "execution_count": 184,
   "metadata": {},
   "outputs": [],
   "source": [
    "import numpy as np\n",
    "import random\n",
    "import copy\n",
    "\n",
    "maze = [\n",
    "    [1, 1, 1, 1],\n",
    "    [1, 1, 0, 1],\n",
    "    [1, 1, 1, 1],\n",
    "    [1, 1, 1, 1]\n",
    "]\n",
    "\n",
    "start = (0, 0)\n",
    "goal = (len(maze) - 1, len(maze[0]) - 1)\n",
    "actions = [(0, 1), (1, 0), (0, -1), (-1, 0)]  # 右，下，左，上\n",
    "n_states = len(maze) * len(maze[0])\n",
    "\n",
    "def is_valid_move(state, action):\n",
    "    row, col = state\n",
    "    row += action[0]\n",
    "    col += action[1]\n",
    "\n",
    "    if row < 0 or row >= len(maze) or col < 0 or col >= len(maze[0]):\n",
    "        return False\n",
    "    return maze[row][col] == 1\n",
    "\n",
    "def step(state, action):\n",
    "    if not is_valid_move(state, action):\n",
    "        return state, -0.75\n",
    "    \n",
    "    row, col = state\n",
    "    row += action[0]\n",
    "    col += action[1]\n",
    "\n",
    "    if (row, col) == goal:\n",
    "        return (row, col), 1\n",
    "    return (row, col), -0.04\n",
    "\n",
    "trajectory_set = []\n",
    "N_set = []\n",
    "Q_set = []\n",
    "G_set = []\n",
    "\n",
    "def monte_carlo(episodes, alpha, gamma):\n",
    "    Q = np.zeros((len(maze), len(maze[0]), len(actions)))\n",
    "    N = np.zeros((len(maze), len(maze[0]), len(actions)))\n",
    "\n",
    "    for _ in range(episodes):\n",
    "        state = start\n",
    "        trajectory = []\n",
    "\n",
    "        while state != goal:\n",
    "            action_idx = random.randint(0, len(actions) - 1)\n",
    "            action = actions[action_idx]\n",
    "            next_state, reward = step(state, action)\n",
    "\n",
    "            trajectory.append((state, action_idx, reward))\n",
    "            state = next_state\n",
    "                    \n",
    "        G = 0\n",
    "        for t in range(len(trajectory) - 1, -1, -1):\n",
    "            state, action_idx, reward = trajectory[t]\n",
    "            G = gamma * G + reward\n",
    "            N[state[0], state[1], action_idx] += 1\n",
    "            Q[state[0], state[1], action_idx] += (G - Q[state[0], state[1], action_idx]) / N[state[0], state[1], action_idx]\n",
    "            \n",
    "        trajectory_set.append(trajectory)\n",
    "        N_set.append(copy.deepcopy(N))\n",
    "        Q_set.append(copy.deepcopy(Q))\n",
    "        G_set.append(copy.deepcopy(G))\n",
    "\n",
    "    return Q\n",
    "\n",
    "def find_optimal_path(Q):\n",
    "    state = start\n",
    "    optimal_path = [state]\n",
    "\n",
    "    while state != goal:\n",
    "        action_idx = np.argmax(Q[state[0], state[1]])\n",
    "        action = actions[action_idx]\n",
    "        state = (state[0] + action[0], state[1] + action[1])\n",
    "        optimal_path.append(state)\n",
    "\n",
    "    return optimal_path"
   ]
  },
  {
   "cell_type": "code",
   "execution_count": 185,
   "metadata": {},
   "outputs": [],
   "source": [
    "def test_monte_carlo(episodes=500, alpha=0.1, gamma=0.99, max_steps=1000):\n",
    "    Q = monte_carlo(episodes, alpha, gamma)\n",
    "    optimal_path = find_optimal_path(Q)\n",
    "\n",
    "    print(\"Optimal path:\")\n",
    "    for state in optimal_path:\n",
    "        print(state)\n",
    "\n",
    "    print(\"\\nMaze with optimal path:\")\n",
    "    display_maze_with_path(maze, optimal_path)"
   ]
  },
  {
   "cell_type": "code",
   "execution_count": 186,
   "metadata": {},
   "outputs": [
    {
     "name": "stdout",
     "output_type": "stream",
     "text": [
      "Optimal path:\n",
      "(0, 0)\n",
      "(1, 0)\n",
      "(2, 0)\n",
      "(2, 1)\n",
      "(2, 2)\n",
      "(3, 2)\n",
      "(3, 3)\n",
      "\n",
      "Maze with optimal path:\n"
     ]
    },
    {
     "data": {
      "image/png": "[encoded data removed]",
      "text/plain": [
       "<Figure size 432x288 with 1 Axes>"
      ]
     },
     "metadata": {
      "needs_background": "light"
     },
     "output_type": "display_data"
    }
   ],
   "source": [
    "def display_maze_with_path(maze, path):\n",
    "    fig, ax = plt.subplots()\n",
    "\n",
    "    for row in range(len(maze)):\n",
    "        for col in range(len(maze[0])):\n",
    "            if maze[row][col] == 0:\n",
    "                ax.add_patch(patches.Rectangle((col, row), 1, 1, color='black'))\n",
    "\n",
    "    for row, col in path:\n",
    "        if (row, col) == start:\n",
    "            color = 'green'\n",
    "            label = 'S'\n",
    "        elif (row, col) == goal:\n",
    "            color = 'red'\n",
    "            label = 'G'\n",
    "        else:\n",
    "            color = 'blue'\n",
    "            label = 'P'\n",
    "\n",
    "        ax.add_patch(patches.Rectangle((col, row), 1, 1, color=color))\n",
    "        ax.text(col + 0.5, row + 0.5, label, ha='center', va='center', color='white')\n",
    "\n",
    "    ax.set_xlim(0, len(maze[0]))\n",
    "    ax.set_ylim(0, len(maze))\n",
    "    ax.set_xticks(np.arange(0, len(maze[0]), 1))\n",
    "    ax.set_yticks(np.arange(0, len(maze), 1))\n",
    "    ax.set_xticklabels([])\n",
    "    ax.set_yticklabels([])\n",
    "    ax.grid(True, linestyle='--', linewidth=0.5)\n",
    "\n",
    "    plt.gca().invert_yaxis()\n",
    "    plt.show()\n",
    "\n",
    "if __name__ == \"__main__\":\n",
    "    test_monte_carlo()\n"
   ]
  },
  {
   "cell_type": "code",
   "execution_count": 187,
   "metadata": {},
   "outputs": [],
   "source": [
    "def moving_average(data_list, window_size=100):\n",
    "    moving_averages = []\n",
    "    for i in range(len(data_list)):\n",
    "        if i < window_size:\n",
    "            window_data = data_list[:i + 1]\n",
    "        else:\n",
    "            window_data = data_list[i - window_size + 1:i + 1]\n",
    "        average = sum(window_data) / len(window_data)\n",
    "        moving_averages.append(average)\n",
    "    \n",
    "    return moving_averages\n",
    "\n",
    "def plot_history(episode_history, title='Result', ylabel='Rewards', hline=None, y_upper=None, y_lower=None, window_size=100):\n",
    "    plt.figure()\n",
    "    plt.title(title)\n",
    "    plt.xlabel('episode')\n",
    "    plt.ylabel(ylabel)\n",
    "    \n",
    "    if hline is not None:\n",
    "        plt.axhline(y=hline, color='Red', linestyle='--')\n",
    "    if y_upper is not None and y_lower is not None:\n",
    "        plt.ylim([y_lower, y_upper])\n",
    "    \n",
    "    plt.plot(episode_history)\n",
    "    \n",
    "    moving_averages = moving_average(episode_history, window_size)\n",
    "    plt.plot(moving_averages)\n",
    "    \n",
    "    plt.show()"
   ]
  },
  {
   "cell_type": "code",
   "execution_count": 188,
   "metadata": {},
   "outputs": [
    {
     "data": {
      "text/plain": [
       "500"
      ]
     },
     "execution_count": 188,
     "metadata": {},
     "output_type": "execute_result"
    }
   ],
   "source": [
    "len(G_set)"
   ]
  },
  {
   "cell_type": "code",
   "execution_count": 189,
   "metadata": {},
   "outputs": [
    {
     "data": {
      "text/plain": [
       "0.7549502494999998"
      ]
     },
     "execution_count": 189,
     "metadata": {},
     "output_type": "execute_result"
    }
   ],
   "source": [
    "max(G_set)"
   ]
  },
  {
   "cell_type": "code",
   "execution_count": 191,
   "metadata": {},
   "outputs": [
    {
     "data": {
      "image/png": "[encoded data removed]",
      "text/plain": [
       "<Figure size 432x288 with 1 Axes>"
      ]
     },
     "metadata": {
      "needs_background": "light"
     },
     "output_type": "display_data"
    }
   ],
   "source": [
    "plot_history(G_set, hline=0.8)"
   ]
  },
  {
   "cell_type": "code",
   "execution_count": 246,
   "metadata": {},
   "outputs": [],
   "source": [
    "episode = 100"
   ]
  },
  {
   "cell_type": "code",
   "execution_count": 247,
   "metadata": {},
   "outputs": [
    {
     "data": {
      "text/html": [
       "<div>\n",
       "<style scoped>\n",
       "    .dataframe tbody tr th:only-of-type {\n",
       "        vertical-align: middle;\n",
       "    }\n",
       "\n",
       "    .dataframe tbody tr th {\n",
       "        vertical-align: top;\n",
       "    }\n",
       "\n",
       "    .dataframe thead th {\n",
       "        text-align: right;\n",
       "    }\n",
       "</style>\n",
       "<table border=\"1\" class=\"dataframe\">\n",
       "  <thead>\n",
       "    <tr style=\"text-align: right;\">\n",
       "      <th></th>\n",
       "      <th>→</th>\n",
       "      <th>↓</th>\n",
       "      <th>←</th>\n",
       "      <th>↑</th>\n",
       "    </tr>\n",
       "  </thead>\n",
       "  <tbody>\n",
       "    <tr>\n",
       "      <th>(0, 0)</th>\n",
       "      <td>-12.2</td>\n",
       "      <td>-10.3</td>\n",
       "      <td>-12.3</td>\n",
       "      <td>-12.0</td>\n",
       "    </tr>\n",
       "    <tr>\n",
       "      <th>(0, 1)</th>\n",
       "      <td>-12.0</td>\n",
       "      <td>-11.1</td>\n",
       "      <td>-12.5</td>\n",
       "      <td>-11.6</td>\n",
       "    </tr>\n",
       "    <tr>\n",
       "      <th>(0, 2)</th>\n",
       "      <td>-10.8</td>\n",
       "      <td>-13.3</td>\n",
       "      <td>-12.3</td>\n",
       "      <td>-12.7</td>\n",
       "    </tr>\n",
       "    <tr>\n",
       "      <th>(0, 3)</th>\n",
       "      <td>-11.6</td>\n",
       "      <td>-7.7</td>\n",
       "      <td>-12.1</td>\n",
       "      <td>-9.7</td>\n",
       "    </tr>\n",
       "    <tr>\n",
       "      <th>(1, 0)</th>\n",
       "      <td>-10.6</td>\n",
       "      <td>-9.7</td>\n",
       "      <td>-10.4</td>\n",
       "      <td>-10.8</td>\n",
       "    </tr>\n",
       "    <tr>\n",
       "      <th>(1, 1)</th>\n",
       "      <td>-10.5</td>\n",
       "      <td>-7.7</td>\n",
       "      <td>-10.8</td>\n",
       "      <td>-11.8</td>\n",
       "    </tr>\n",
       "    <tr>\n",
       "      <th>(1, 2)</th>\n",
       "      <td>0.0</td>\n",
       "      <td>0.0</td>\n",
       "      <td>0.0</td>\n",
       "      <td>0.0</td>\n",
       "    </tr>\n",
       "    <tr>\n",
       "      <th>(1, 3)</th>\n",
       "      <td>-10.1</td>\n",
       "      <td>-4.0</td>\n",
       "      <td>-8.3</td>\n",
       "      <td>-10.4</td>\n",
       "    </tr>\n",
       "    <tr>\n",
       "      <th>(2, 0)</th>\n",
       "      <td>-6.5</td>\n",
       "      <td>-10.0</td>\n",
       "      <td>-9.4</td>\n",
       "      <td>-10.5</td>\n",
       "    </tr>\n",
       "    <tr>\n",
       "      <th>(2, 1)</th>\n",
       "      <td>-6.5</td>\n",
       "      <td>-7.0</td>\n",
       "      <td>-8.0</td>\n",
       "      <td>-8.5</td>\n",
       "    </tr>\n",
       "    <tr>\n",
       "      <th>(2, 2)</th>\n",
       "      <td>-4.9</td>\n",
       "      <td>-4.0</td>\n",
       "      <td>-8.4</td>\n",
       "      <td>-5.4</td>\n",
       "    </tr>\n",
       "    <tr>\n",
       "      <th>(2, 3)</th>\n",
       "      <td>-5.9</td>\n",
       "      <td>1.0</td>\n",
       "      <td>-4.7</td>\n",
       "      <td>-7.6</td>\n",
       "    </tr>\n",
       "    <tr>\n",
       "      <th>(3, 0)</th>\n",
       "      <td>-8.0</td>\n",
       "      <td>-10.5</td>\n",
       "      <td>-9.4</td>\n",
       "      <td>-10.2</td>\n",
       "    </tr>\n",
       "    <tr>\n",
       "      <th>(3, 1)</th>\n",
       "      <td>-4.0</td>\n",
       "      <td>-9.1</td>\n",
       "      <td>-9.1</td>\n",
       "      <td>-7.6</td>\n",
       "    </tr>\n",
       "    <tr>\n",
       "      <th>(3, 2)</th>\n",
       "      <td>1.0</td>\n",
       "      <td>-3.6</td>\n",
       "      <td>-7.2</td>\n",
       "      <td>-5.7</td>\n",
       "    </tr>\n",
       "    <tr>\n",
       "      <th>(3, 3)</th>\n",
       "      <td>0.0</td>\n",
       "      <td>0.0</td>\n",
       "      <td>0.0</td>\n",
       "      <td>0.0</td>\n",
       "    </tr>\n",
       "  </tbody>\n",
       "</table>\n",
       "</div>"
      ],
      "text/plain": [
       "           →     ↓     ←     ↑\n",
       "(0, 0) -12.2 -10.3 -12.3 -12.0\n",
       "(0, 1) -12.0 -11.1 -12.5 -11.6\n",
       "(0, 2) -10.8 -13.3 -12.3 -12.7\n",
       "(0, 3) -11.6  -7.7 -12.1  -9.7\n",
       "(1, 0) -10.6  -9.7 -10.4 -10.8\n",
       "(1, 1) -10.5  -7.7 -10.8 -11.8\n",
       "(1, 2)   0.0   0.0   0.0   0.0\n",
       "(1, 3) -10.1  -4.0  -8.3 -10.4\n",
       "(2, 0)  -6.5 -10.0  -9.4 -10.5\n",
       "(2, 1)  -6.5  -7.0  -8.0  -8.5\n",
       "(2, 2)  -4.9  -4.0  -8.4  -5.4\n",
       "(2, 3)  -5.9   1.0  -4.7  -7.6\n",
       "(3, 0)  -8.0 -10.5  -9.4 -10.2\n",
       "(3, 1)  -4.0  -9.1  -9.1  -7.6\n",
       "(3, 2)   1.0  -3.6  -7.2  -5.7\n",
       "(3, 3)   0.0   0.0   0.0   0.0"
      ]
     },
     "execution_count": 247,
     "metadata": {},
     "output_type": "execute_result"
    }
   ],
   "source": [
    "import numpy as np\n",
    "import pandas as pd\n",
    "\n",
    "index = []\n",
    "# 定义行名和列名\n",
    "for i in range(4):\n",
    "    for j in range(4):\n",
    "        index.append((i, j))\n",
    "# index = [(j, i) for i in range(1, 4, 1) for j in range(3, 0, -1)]\n",
    "columns = ['→', '↓', '←', '↑']\n",
    "episodes = ['1', '5', '10', 'Final']\n",
    "\n",
    "# 定义一个数组\n",
    "# for i, my_array in enumerate(Q_set):\n",
    "my_array = Q_set[episode]\n",
    "\n",
    "# # 将数组转换为DataFrame格式\n",
    "df = pd.DataFrame(my_array.reshape(-1, 4), index=index, columns=columns)\n",
    "df = df.round(1)\n",
    "\n",
    "# # 打印结果\n",
    "# print(f'=========Episode 0 Q-Table=========')\n",
    "df"
   ]
  },
  {
   "cell_type": "code",
   "execution_count": 248,
   "metadata": {},
   "outputs": [
    {
     "name": "stdout",
     "output_type": "stream",
     "text": [
      "=========Episode 0 N-Table=========\n"
     ]
    },
    {
     "data": {
      "text/html": [
       "<div>\n",
       "<style scoped>\n",
       "    .dataframe tbody tr th:only-of-type {\n",
       "        vertical-align: middle;\n",
       "    }\n",
       "\n",
       "    .dataframe tbody tr th {\n",
       "        vertical-align: top;\n",
       "    }\n",
       "\n",
       "    .dataframe thead th {\n",
       "        text-align: right;\n",
       "    }\n",
       "</style>\n",
       "<table border=\"1\" class=\"dataframe\">\n",
       "  <thead>\n",
       "    <tr style=\"text-align: right;\">\n",
       "      <th></th>\n",
       "      <th>→</th>\n",
       "      <th>↓</th>\n",
       "      <th>←</th>\n",
       "      <th>↑</th>\n",
       "    </tr>\n",
       "  </thead>\n",
       "  <tbody>\n",
       "    <tr>\n",
       "      <th>(0, 0)</th>\n",
       "      <td>240.0</td>\n",
       "      <td>256.0</td>\n",
       "      <td>235.0</td>\n",
       "      <td>238.0</td>\n",
       "    </tr>\n",
       "    <tr>\n",
       "      <th>(0, 1)</th>\n",
       "      <td>173.0</td>\n",
       "      <td>165.0</td>\n",
       "      <td>196.0</td>\n",
       "      <td>205.0</td>\n",
       "    </tr>\n",
       "    <tr>\n",
       "      <th>(0, 2)</th>\n",
       "      <td>175.0</td>\n",
       "      <td>166.0</td>\n",
       "      <td>141.0</td>\n",
       "      <td>162.0</td>\n",
       "    </tr>\n",
       "    <tr>\n",
       "      <th>(0, 3)</th>\n",
       "      <td>148.0</td>\n",
       "      <td>119.0</td>\n",
       "      <td>143.0</td>\n",
       "      <td>123.0</td>\n",
       "    </tr>\n",
       "    <tr>\n",
       "      <th>(1, 0)</th>\n",
       "      <td>189.0</td>\n",
       "      <td>200.0</td>\n",
       "      <td>195.0</td>\n",
       "      <td>199.0</td>\n",
       "    </tr>\n",
       "    <tr>\n",
       "      <th>(1, 1)</th>\n",
       "      <td>163.0</td>\n",
       "      <td>150.0</td>\n",
       "      <td>157.0</td>\n",
       "      <td>153.0</td>\n",
       "    </tr>\n",
       "    <tr>\n",
       "      <th>(1, 2)</th>\n",
       "      <td>0.0</td>\n",
       "      <td>0.0</td>\n",
       "      <td>0.0</td>\n",
       "      <td>0.0</td>\n",
       "    </tr>\n",
       "    <tr>\n",
       "      <th>(1, 3)</th>\n",
       "      <td>96.0</td>\n",
       "      <td>95.0</td>\n",
       "      <td>84.0</td>\n",
       "      <td>87.0</td>\n",
       "    </tr>\n",
       "    <tr>\n",
       "      <th>(2, 0)</th>\n",
       "      <td>128.0</td>\n",
       "      <td>122.0</td>\n",
       "      <td>149.0</td>\n",
       "      <td>175.0</td>\n",
       "    </tr>\n",
       "    <tr>\n",
       "      <th>(2, 1)</th>\n",
       "      <td>118.0</td>\n",
       "      <td>97.0</td>\n",
       "      <td>113.0</td>\n",
       "      <td>106.0</td>\n",
       "    </tr>\n",
       "    <tr>\n",
       "      <th>(2, 2)</th>\n",
       "      <td>79.0</td>\n",
       "      <td>80.0</td>\n",
       "      <td>67.0</td>\n",
       "      <td>71.0</td>\n",
       "    </tr>\n",
       "    <tr>\n",
       "      <th>(2, 3)</th>\n",
       "      <td>51.0</td>\n",
       "      <td>48.0</td>\n",
       "      <td>63.0</td>\n",
       "      <td>63.0</td>\n",
       "    </tr>\n",
       "    <tr>\n",
       "      <th>(3, 0)</th>\n",
       "      <td>103.0</td>\n",
       "      <td>78.0</td>\n",
       "      <td>105.0</td>\n",
       "      <td>112.0</td>\n",
       "    </tr>\n",
       "    <tr>\n",
       "      <th>(3, 1)</th>\n",
       "      <td>67.0</td>\n",
       "      <td>95.0</td>\n",
       "      <td>93.0</td>\n",
       "      <td>89.0</td>\n",
       "    </tr>\n",
       "    <tr>\n",
       "      <th>(3, 2)</th>\n",
       "      <td>53.0</td>\n",
       "      <td>49.0</td>\n",
       "      <td>49.0</td>\n",
       "      <td>45.0</td>\n",
       "    </tr>\n",
       "    <tr>\n",
       "      <th>(3, 3)</th>\n",
       "      <td>0.0</td>\n",
       "      <td>0.0</td>\n",
       "      <td>0.0</td>\n",
       "      <td>0.0</td>\n",
       "    </tr>\n",
       "  </tbody>\n",
       "</table>\n",
       "</div>"
      ],
      "text/plain": [
       "            →      ↓      ←      ↑\n",
       "(0, 0)  240.0  256.0  235.0  238.0\n",
       "(0, 1)  173.0  165.0  196.0  205.0\n",
       "(0, 2)  175.0  166.0  141.0  162.0\n",
       "(0, 3)  148.0  119.0  143.0  123.0\n",
       "(1, 0)  189.0  200.0  195.0  199.0\n",
       "(1, 1)  163.0  150.0  157.0  153.0\n",
       "(1, 2)    0.0    0.0    0.0    0.0\n",
       "(1, 3)   96.0   95.0   84.0   87.0\n",
       "(2, 0)  128.0  122.0  149.0  175.0\n",
       "(2, 1)  118.0   97.0  113.0  106.0\n",
       "(2, 2)   79.0   80.0   67.0   71.0\n",
       "(2, 3)   51.0   48.0   63.0   63.0\n",
       "(3, 0)  103.0   78.0  105.0  112.0\n",
       "(3, 1)   67.0   95.0   93.0   89.0\n",
       "(3, 2)   53.0   49.0   49.0   45.0\n",
       "(3, 3)    0.0    0.0    0.0    0.0"
      ]
     },
     "execution_count": 248,
     "metadata": {},
     "output_type": "execute_result"
    }
   ],
   "source": [
    "# 定义一个数组\n",
    "# for i, my_array in enumerate(Q_set):\n",
    "my_array = N_set[episode]\n",
    "\n",
    "# # 将数组转换为DataFrame格式\n",
    "df = pd.DataFrame(my_array.reshape(-1, 4), index=index, columns=columns)\n",
    "df = df.round(1)\n",
    "\n",
    "# # 打印结果\n",
    "print(f'=========Episode 0 N-Table=========')\n",
    "df"
   ]
  },
  {
   "cell_type": "code",
   "execution_count": 243,
   "metadata": {},
   "outputs": [
    {
     "data": {
      "text/plain": [
       "[((0, 0), 0, -0.04),\n",
       " ((0, 1), 2, -0.04),\n",
       " ((0, 0), 1, -0.04),\n",
       " ((1, 0), 2, -0.75),\n",
       " ((1, 0), 1, -0.04),\n",
       " ((2, 0), 0, -0.04),\n",
       " ((2, 1), 1, -0.04),\n",
       " ((3, 1), 2, -0.04),\n",
       " ((3, 0), 2, -0.75),\n",
       " ((3, 0), 3, -0.04),\n",
       " ((2, 0), 2, -0.75),\n",
       " ((2, 0), 3, -0.04),\n",
       " ((1, 0), 0, -0.04),\n",
       " ((1, 1), 3, -0.04),\n",
       " ((0, 1), 3, -0.75),\n",
       " ((0, 1), 0, -0.04),\n",
       " ((0, 2), 0, -0.04),\n",
       " ((0, 3), 1, -0.04),\n",
       " ((1, 3), 2, -0.75),\n",
       " ((1, 3), 0, -0.75),\n",
       " ((1, 3), 3, -0.04),\n",
       " ((0, 3), 1, -0.04),\n",
       " ((1, 3), 2, -0.75),\n",
       " ((1, 3), 3, -0.04),\n",
       " ((0, 3), 2, -0.04),\n",
       " ((0, 2), 3, -0.75),\n",
       " ((0, 2), 3, -0.75),\n",
       " ((0, 2), 1, -0.75),\n",
       " ((0, 2), 2, -0.04),\n",
       " ((0, 1), 1, -0.04),\n",
       " ((1, 1), 1, -0.04),\n",
       " ((2, 1), 3, -0.04),\n",
       " ((1, 1), 2, -0.04),\n",
       " ((1, 0), 1, -0.04),\n",
       " ((2, 0), 0, -0.04),\n",
       " ((2, 1), 0, -0.04),\n",
       " ((2, 2), 1, -0.04),\n",
       " ((3, 2), 0, 1)]"
      ]
     },
     "execution_count": 243,
     "metadata": {},
     "output_type": "execute_result"
    }
   ],
   "source": [
    "trajectory_set[episode]"
   ]
  },
  {
   "cell_type": "code",
   "execution_count": 244,
   "metadata": {},
   "outputs": [
    {
     "name": "stdout",
     "output_type": "stream",
     "text": [
      "[[1. 1. 3. 1.]\n",
      " [1. 1. 0. 2.]\n",
      " [0. 0. 1. 1.]\n",
      " [0. 0. 0. 0.]]\n"
     ]
    }
   ],
   "source": [
    "policy = np.zeros((4, 4), dtype=float)\n",
    "grid = Q_set[episode]\n",
    "\n",
    "for i in range(4):\n",
    "    for j in range(4):\n",
    "        policy[i][j] = np.argmax(grid[(i, j)])\n",
    "\n",
    "print(policy)"
   ]
  },
  {
   "cell_type": "code",
   "execution_count": 245,
   "metadata": {},
   "outputs": [
    {
     "name": "stdout",
     "output_type": "stream",
     "text": [
      "['↓', '↓', '↑', '↓']\n",
      "['↓', '↓', '→', '←']\n",
      "['→', '→', '↓', '↓']\n",
      "['→', '→', '→', '→']\n"
     ]
    }
   ],
   "source": [
    "policy_ = policy.tolist()\n",
    "directions = {0: '→', 1: '↓', 2: '←', 3: '↑'}\n",
    "\n",
    "# 将数字替换为相应的方向符号\n",
    "for i in range(4):\n",
    "    for j in range(4):\n",
    "        policy_grid[i][j] = directions.get(policy_[i][j], grid[i][j])\n",
    "\n",
    "# 打印结果\n",
    "for row in policy_grid:\n",
    "    print(row)"
   ]
  },
  {
   "cell_type": "code",
   "execution_count": null,
   "metadata": {},
   "outputs": [],
   "source": []
  },
  {
   "cell_type": "code",
   "execution_count": 249,
   "metadata": {},
   "outputs": [],
   "source": [
    "p = [((0, 0), 0, -0.04),\n",
    " ((0, 1), 2, -0.04),\n",
    " ((0, 0), 1, -0.04),\n",
    " ((1, 0), 2, -0.75),\n",
    " ((1, 0), 1, -0.04),\n",
    " ((2, 0), 0, -0.04),\n",
    " ((2, 1), 1, -0.04),\n",
    " ((3, 1), 2, -0.04),\n",
    " ((3, 0), 2, -0.75),\n",
    " ((3, 0), 3, -0.04),\n",
    " ((2, 0), 2, -0.75),\n",
    " ((2, 0), 3, -0.04),\n",
    " ((1, 0), 0, -0.04),\n",
    " ((1, 1), 3, -0.04),\n",
    " ((0, 1), 3, -0.75),\n",
    " ((0, 1), 0, -0.04),\n",
    " ((0, 2), 0, -0.04),\n",
    " ((0, 3), 1, -0.04),\n",
    " ((1, 3), 2, -0.75),\n",
    " ((1, 3), 0, -0.75),\n",
    " ((1, 3), 3, -0.04),\n",
    " ((0, 3), 1, -0.04),\n",
    " ((1, 3), 2, -0.75),\n",
    " ((1, 3), 3, -0.04),\n",
    " ((0, 3), 2, -0.04),\n",
    " ((0, 2), 3, -0.75),\n",
    " ((0, 2), 3, -0.75),\n",
    " ((0, 2), 1, -0.75),\n",
    " ((0, 2), 2, -0.04),\n",
    " ((0, 1), 1, -0.04),\n",
    " ((1, 1), 1, -0.04),\n",
    " ((2, 1), 3, -0.04),\n",
    " ((1, 1), 2, -0.04),\n",
    " ((1, 0), 1, -0.04),\n",
    " ((2, 0), 0, -0.04),\n",
    " ((2, 1), 0, -0.04),\n",
    " ((2, 2), 1, -0.04),\n",
    " ((3, 2), 0, 1)]"
   ]
  },
  {
   "cell_type": "code",
   "execution_count": 250,
   "metadata": {},
   "outputs": [
    {
     "data": {
      "text/plain": [
       "38"
      ]
     },
     "execution_count": 250,
     "metadata": {},
     "output_type": "execute_result"
    }
   ],
   "source": [
    "len(p)"
   ]
  },
  {
   "cell_type": "code",
   "execution_count": 254,
   "metadata": {},
   "outputs": [
    {
     "data": {
      "image/png": "[encoded data removed]",
      "text/plain": [
       "<Figure size 432x288 with 1 Axes>"
      ]
     },
     "metadata": {
      "needs_background": "light"
     },
     "output_type": "display_data"
    }
   ],
   "source": [
    "path_train = []\n",
    "for i in range(len(p)):\n",
    "    path_train.append(p[i][0])\n",
    "path_train.append((3,3))\n",
    "display_maze_with_path(maze, path_train)"
   ]
  },
  {
   "cell_type": "code",
   "execution_count": null,
   "metadata": {},
   "outputs": [],
   "source": []
  },
  {
   "cell_type": "code",
   "execution_count": null,
   "metadata": {},
   "outputs": [],
   "source": []
  },
  {
   "cell_type": "code",
   "execution_count": null,
   "metadata": {},
   "outputs": [],
   "source": []
  },
  {
   "cell_type": "code",
   "execution_count": 273,
   "metadata": {},
   "outputs": [
    {
     "name": "stdout",
     "output_type": "stream",
     "text": [
      "Optimal path:\n",
      "(0, 0)\n",
      "(1, 0)\n",
      "(1, 1)\n",
      "(2, 1)\n",
      "(3, 1)\n",
      "(3, 2)\n",
      "(3, 3)\n",
      "\n",
      "Maze with optimal path:\n"
     ]
    },
    {
     "data": {
      "image/png": "[encoded data removed]",
      "text/plain": [
       "<Figure size 432x288 with 1 Axes>"
      ]
     },
     "metadata": {
      "needs_background": "light"
     },
     "output_type": "display_data"
    }
   ],
   "source": [
    "import numpy as np\n",
    "import random\n",
    "import matplotlib.pyplot as plt\n",
    "import matplotlib.patches as patches\n",
    "\n",
    "# 其他代码保持不变...\n",
    "\n",
    "reward_set = []\n",
    "trajectory_set = []\n",
    "N_set = []\n",
    "Q_set = []\n",
    "G_set = []\n",
    "\n",
    "def q_learning(episodes, alpha, gamma, epsilon):\n",
    "    Q = np.zeros((len(maze), len(maze[0]), len(actions)))\n",
    "    \n",
    "    \n",
    "    for _ in range(episodes):\n",
    "        state = start\n",
    "        acc_reward = 0\n",
    "        acc_trajectory = []\n",
    "        \n",
    "        while state != goal:\n",
    "            if random.uniform(0, 1) < epsilon:\n",
    "                action_idx = random.randint(0, len(actions) - 1)\n",
    "            else:\n",
    "                action_idx = np.argmax(Q[state[0], state[1]])\n",
    "\n",
    "            action = actions[action_idx]\n",
    "            next_state, reward = step(state, action)\n",
    "            acc_trajectory.append((state, action, reward))\n",
    "            acc_reward += reward\n",
    "\n",
    "            Q[state[0], state[1], action_idx] = Q[state[0], state[1], action_idx] + alpha * (reward + gamma * np.max(Q[next_state[0], next_state[1]]) - Q[state[0], state[1], action_idx])\n",
    "\n",
    "            state = next_state\n",
    "            \n",
    "        reward_set.append(acc_reward)\n",
    "        trajectory_set.append(acc_trajectory)\n",
    "        Q_set.append(copy.deepcopy(Q))\n",
    "\n",
    "    return Q\n",
    "\n",
    "def test_q_learning(episodes=100, alpha=0.1, gamma=0.99, epsilon=0.1, max_steps=1000):\n",
    "    Q = q_learning(episodes, alpha, gamma, epsilon)\n",
    "    optimal_path = find_optimal_path(Q)\n",
    "\n",
    "    print(\"Optimal path:\")\n",
    "    for state in optimal_path:\n",
    "        print(state)\n",
    "\n",
    "    print(\"\\nMaze with optimal path:\")\n",
    "    display_maze_with_path(maze, optimal_path)\n",
    "\n",
    "if __name__ == \"__main__\":\n",
    "    test_q_learning()\n"
   ]
  },
  {
   "cell_type": "code",
   "execution_count": 304,
   "metadata": {},
   "outputs": [
    {
     "data": {
      "image/png": "[encoded data removed]",
      "text/plain": [
       "<Figure size 432x288 with 1 Axes>"
      ]
     },
     "metadata": {
      "needs_background": "light"
     },
     "output_type": "display_data"
    }
   ],
   "source": [
    "title='Result'\n",
    "ylabel='Cumulative Rewards'\n",
    "\n",
    "plt.figure()\n",
    "plt.title('')\n",
    "plt.xlabel('episode')\n",
    "plt.ylabel(ylabel)\n",
    "\n",
    "\n",
    "plt.axhline(y=0.8, color='Red', linestyle='--')\n",
    "\n",
    "\n",
    "plt.plot(reward_set)\n",
    "\n",
    "\n",
    "plt.show()"
   ]
  },
  {
   "cell_type": "code",
   "execution_count": 300,
   "metadata": {
    "scrolled": true
   },
   "outputs": [
    {
     "data": {
      "image/png": "[encoded data removed]",
      "text/plain": [
       "<Figure size 432x288 with 1 Axes>"
      ]
     },
     "metadata": {
      "needs_background": "light"
     },
     "output_type": "display_data"
    }
   ],
   "source": [
    "plot_history(reward_set, hline=0.8)"
   ]
  },
  {
   "cell_type": "code",
   "execution_count": 315,
   "metadata": {},
   "outputs": [
    {
     "data": {
      "text/plain": [
       "[((0, 0), (1, 0), -0.04),\n",
       " ((1, 0), (0, 1), -0.04),\n",
       " ((1, 1), (1, 0), -0.04),\n",
       " ((2, 1), (1, 0), -0.04),\n",
       " ((3, 1), (0, 1), -0.04),\n",
       " ((3, 2), (0, 1), 1)]"
      ]
     },
     "execution_count": 315,
     "metadata": {},
     "output_type": "execute_result"
    }
   ],
   "source": [
    "t = trajectory_set[99]\n",
    "t"
   ]
  },
  {
   "cell_type": "code",
   "execution_count": 316,
   "metadata": {},
   "outputs": [],
   "source": [
    "actions = [(0, 1), (1, 0), (0, -1), (-1, 0)]  # 右，下，左，上\n",
    "directions = {0: '→', 1: '↓', 2: '←', 3: '↑'}"
   ]
  },
  {
   "cell_type": "code",
   "execution_count": 317,
   "metadata": {},
   "outputs": [],
   "source": [
    "display_trajectory = []\n",
    "for e in t:\n",
    "    for i, a in enumerate(actions):\n",
    "        if e[1] == a:\n",
    "            display_trajectory.append((e[0], directions[i], e[2]))"
   ]
  },
  {
   "cell_type": "code",
   "execution_count": 318,
   "metadata": {},
   "outputs": [
    {
     "data": {
      "text/plain": [
       "[((0, 0), '↓', -0.04),\n",
       " ((1, 0), '→', -0.04),\n",
       " ((1, 1), '↓', -0.04),\n",
       " ((2, 1), '↓', -0.04),\n",
       " ((3, 1), '→', -0.04),\n",
       " ((3, 2), '→', 1)]"
      ]
     },
     "execution_count": 318,
     "metadata": {},
     "output_type": "execute_result"
    }
   ],
   "source": [
    "display_trajectory"
   ]
  },
  {
   "cell_type": "code",
   "execution_count": 305,
   "metadata": {},
   "outputs": [],
   "source": [
    "episode = 99"
   ]
  },
  {
   "cell_type": "code",
   "execution_count": 306,
   "metadata": {},
   "outputs": [
    {
     "data": {
      "text/plain": [
       "array([[[-0.06778534,  0.67204684, -0.22639842, -0.17798052],\n",
       "        [-0.04429698,  0.04050437, -0.04534149, -0.14619251],\n",
       "        [-0.02688651, -0.14336605, -0.02811737, -0.075     ],\n",
       "        [-0.075     ,  0.02173563, -0.00931956, -0.075     ]],\n",
       "\n",
       "       [[ 0.76793391, -0.04110868, -0.08153019,  0.04190778],\n",
       "        [-0.11248798,  0.83847031,  0.07628261, -0.0392178 ],\n",
       "        [ 0.        ,  0.        ,  0.        ,  0.        ],\n",
       "        [-0.075     ,  0.20012612,  0.        ,  0.        ]],\n",
       "\n",
       "       [[ 0.15489329, -0.02046354, -0.075     , -0.02979016],\n",
       "        [-0.0102559 ,  0.89709289, -0.01295724,  0.12150296],\n",
       "        [ 0.05304537,  0.20287528,  0.        ,  0.        ],\n",
       "        [-0.075     ,  0.65132156,  0.        ,  0.        ]],\n",
       "\n",
       "       [[ 0.0998977 , -0.1425    , -0.1432524 , -0.00852977],\n",
       "        [ 0.94928667, -0.00132284, -0.00616289,  0.15629391],\n",
       "        [ 0.99992382,  0.04849137,  0.1461114 ,  0.02220034],\n",
       "        [ 0.        ,  0.        ,  0.        ,  0.        ]]])"
      ]
     },
     "execution_count": 306,
     "metadata": {},
     "output_type": "execute_result"
    }
   ],
   "source": [
    "Q_set[episode]"
   ]
  },
  {
   "cell_type": "code",
   "execution_count": 319,
   "metadata": {},
   "outputs": [
    {
     "name": "stdout",
     "output_type": "stream",
     "text": [
      "=========Episode 0 N-Table=========\n"
     ]
    },
    {
     "data": {
      "text/html": [
       "<div>\n",
       "<style scoped>\n",
       "    .dataframe tbody tr th:only-of-type {\n",
       "        vertical-align: middle;\n",
       "    }\n",
       "\n",
       "    .dataframe tbody tr th {\n",
       "        vertical-align: top;\n",
       "    }\n",
       "\n",
       "    .dataframe thead th {\n",
       "        text-align: right;\n",
       "    }\n",
       "</style>\n",
       "<table border=\"1\" class=\"dataframe\">\n",
       "  <thead>\n",
       "    <tr style=\"text-align: right;\">\n",
       "      <th></th>\n",
       "      <th>→</th>\n",
       "      <th>↓</th>\n",
       "      <th>←</th>\n",
       "      <th>↑</th>\n",
       "    </tr>\n",
       "  </thead>\n",
       "  <tbody>\n",
       "    <tr>\n",
       "      <th>(0, 0)</th>\n",
       "      <td>-0.068</td>\n",
       "      <td>0.672</td>\n",
       "      <td>-0.226</td>\n",
       "      <td>-0.178</td>\n",
       "    </tr>\n",
       "    <tr>\n",
       "      <th>(0, 1)</th>\n",
       "      <td>-0.044</td>\n",
       "      <td>0.041</td>\n",
       "      <td>-0.045</td>\n",
       "      <td>-0.146</td>\n",
       "    </tr>\n",
       "    <tr>\n",
       "      <th>(0, 2)</th>\n",
       "      <td>-0.027</td>\n",
       "      <td>-0.143</td>\n",
       "      <td>-0.028</td>\n",
       "      <td>-0.075</td>\n",
       "    </tr>\n",
       "    <tr>\n",
       "      <th>(0, 3)</th>\n",
       "      <td>-0.075</td>\n",
       "      <td>0.022</td>\n",
       "      <td>-0.009</td>\n",
       "      <td>-0.075</td>\n",
       "    </tr>\n",
       "    <tr>\n",
       "      <th>(1, 0)</th>\n",
       "      <td>0.768</td>\n",
       "      <td>-0.041</td>\n",
       "      <td>-0.082</td>\n",
       "      <td>0.042</td>\n",
       "    </tr>\n",
       "    <tr>\n",
       "      <th>(1, 1)</th>\n",
       "      <td>-0.112</td>\n",
       "      <td>0.838</td>\n",
       "      <td>0.076</td>\n",
       "      <td>-0.039</td>\n",
       "    </tr>\n",
       "    <tr>\n",
       "      <th>(1, 2)</th>\n",
       "      <td>0.000</td>\n",
       "      <td>0.000</td>\n",
       "      <td>0.000</td>\n",
       "      <td>0.000</td>\n",
       "    </tr>\n",
       "    <tr>\n",
       "      <th>(1, 3)</th>\n",
       "      <td>-0.075</td>\n",
       "      <td>0.200</td>\n",
       "      <td>0.000</td>\n",
       "      <td>0.000</td>\n",
       "    </tr>\n",
       "    <tr>\n",
       "      <th>(2, 0)</th>\n",
       "      <td>0.155</td>\n",
       "      <td>-0.020</td>\n",
       "      <td>-0.075</td>\n",
       "      <td>-0.030</td>\n",
       "    </tr>\n",
       "    <tr>\n",
       "      <th>(2, 1)</th>\n",
       "      <td>-0.010</td>\n",
       "      <td>0.897</td>\n",
       "      <td>-0.013</td>\n",
       "      <td>0.122</td>\n",
       "    </tr>\n",
       "    <tr>\n",
       "      <th>(2, 2)</th>\n",
       "      <td>0.053</td>\n",
       "      <td>0.203</td>\n",
       "      <td>0.000</td>\n",
       "      <td>0.000</td>\n",
       "    </tr>\n",
       "    <tr>\n",
       "      <th>(2, 3)</th>\n",
       "      <td>-0.075</td>\n",
       "      <td>0.651</td>\n",
       "      <td>0.000</td>\n",
       "      <td>0.000</td>\n",
       "    </tr>\n",
       "    <tr>\n",
       "      <th>(3, 0)</th>\n",
       "      <td>0.100</td>\n",
       "      <td>-0.143</td>\n",
       "      <td>-0.143</td>\n",
       "      <td>-0.009</td>\n",
       "    </tr>\n",
       "    <tr>\n",
       "      <th>(3, 1)</th>\n",
       "      <td>0.949</td>\n",
       "      <td>-0.001</td>\n",
       "      <td>-0.006</td>\n",
       "      <td>0.156</td>\n",
       "    </tr>\n",
       "    <tr>\n",
       "      <th>(3, 2)</th>\n",
       "      <td>1.000</td>\n",
       "      <td>0.048</td>\n",
       "      <td>0.146</td>\n",
       "      <td>0.022</td>\n",
       "    </tr>\n",
       "    <tr>\n",
       "      <th>(3, 3)</th>\n",
       "      <td>0.000</td>\n",
       "      <td>0.000</td>\n",
       "      <td>0.000</td>\n",
       "      <td>0.000</td>\n",
       "    </tr>\n",
       "  </tbody>\n",
       "</table>\n",
       "</div>"
      ],
      "text/plain": [
       "            →      ↓      ←      ↑\n",
       "(0, 0) -0.068  0.672 -0.226 -0.178\n",
       "(0, 1) -0.044  0.041 -0.045 -0.146\n",
       "(0, 2) -0.027 -0.143 -0.028 -0.075\n",
       "(0, 3) -0.075  0.022 -0.009 -0.075\n",
       "(1, 0)  0.768 -0.041 -0.082  0.042\n",
       "(1, 1) -0.112  0.838  0.076 -0.039\n",
       "(1, 2)  0.000  0.000  0.000  0.000\n",
       "(1, 3) -0.075  0.200  0.000  0.000\n",
       "(2, 0)  0.155 -0.020 -0.075 -0.030\n",
       "(2, 1) -0.010  0.897 -0.013  0.122\n",
       "(2, 2)  0.053  0.203  0.000  0.000\n",
       "(2, 3) -0.075  0.651  0.000  0.000\n",
       "(3, 0)  0.100 -0.143 -0.143 -0.009\n",
       "(3, 1)  0.949 -0.001 -0.006  0.156\n",
       "(3, 2)  1.000  0.048  0.146  0.022\n",
       "(3, 3)  0.000  0.000  0.000  0.000"
      ]
     },
     "execution_count": 319,
     "metadata": {},
     "output_type": "execute_result"
    }
   ],
   "source": [
    "# 定义一个数组\n",
    "# for i, my_array in enumerate(Q_set):\n",
    "my_array = Q_set[episode]\n",
    "\n",
    "# # 将数组转换为DataFrame格式\n",
    "df = pd.DataFrame(my_array.reshape(-1, 4), index=index, columns=columns)\n",
    "df = df.round(3)\n",
    "\n",
    "# # 打印结果\n",
    "print(f'=========Episode 0 N-Table=========')\n",
    "df"
   ]
  },
  {
   "cell_type": "code",
   "execution_count": 308,
   "metadata": {},
   "outputs": [
    {
     "name": "stdout",
     "output_type": "stream",
     "text": [
      "[[1. 1. 0. 1.]\n",
      " [0. 1. 0. 1.]\n",
      " [0. 1. 1. 1.]\n",
      " [0. 0. 0. 0.]]\n"
     ]
    }
   ],
   "source": [
    "policy = np.zeros((4, 4), dtype=float)\n",
    "grid = Q_set[episode]\n",
    "\n",
    "for i in range(4):\n",
    "    for j in range(4):\n",
    "        policy[i][j] = np.argmax(grid[(i, j)])\n",
    "\n",
    "print(policy)"
   ]
  },
  {
   "cell_type": "code",
   "execution_count": 309,
   "metadata": {},
   "outputs": [
    {
     "name": "stdout",
     "output_type": "stream",
     "text": [
      "['↓', '↓', '→', '↓']\n",
      "['→', '↓', '→', '↓']\n",
      "['→', '↓', '↓', '↓']\n",
      "['→', '→', '→', '→']\n"
     ]
    }
   ],
   "source": [
    "policy_ = policy.tolist()\n",
    "directions = {0: '→', 1: '↓', 2: '←', 3: '↑'}\n",
    "\n",
    "# 将数字替换为相应的方向符号\n",
    "for i in range(4):\n",
    "    for j in range(4):\n",
    "        policy_grid[i][j] = directions.get(policy_[i][j], grid[i][j])\n",
    "\n",
    "# 打印结果\n",
    "for row in policy_grid:\n",
    "    print(row)"
   ]
  },
  {
   "cell_type": "code",
   "execution_count": 310,
   "metadata": {},
   "outputs": [
    {
     "data": {
      "text/plain": [
       "(0, 0)"
      ]
     },
     "execution_count": 310,
     "metadata": {},
     "output_type": "execute_result"
    }
   ],
   "source": [
    "trajectory_set[1][0][0]"
   ]
  },
  {
   "cell_type": "code",
   "execution_count": 314,
   "metadata": {},
   "outputs": [
    {
     "data": {
      "text/plain": [
       "[((0, 0), (1, 0), -0.04),\n",
       " ((1, 0), (0, 1), -0.04),\n",
       " ((1, 1), (1, 0), -0.04),\n",
       " ((2, 1), (1, 0), -0.04),\n",
       " ((3, 1), (0, 1), -0.04),\n",
       " ((3, 2), (0, 1), 1)]"
      ]
     },
     "execution_count": 314,
     "metadata": {},
     "output_type": "execute_result"
    }
   ],
   "source": [
    "trajectory_set[episode]"
   ]
  },
  {
   "cell_type": "code",
   "execution_count": 313,
   "metadata": {},
   "outputs": [
    {
     "data": {
      "image/png": "[encoded data removed]",
      "text/plain": [
       "<Figure size 432x288 with 1 Axes>"
      ]
     },
     "metadata": {
      "needs_background": "light"
     },
     "output_type": "display_data"
    }
   ],
   "source": [
    "path_train = []\n",
    "for i in range(len(trajectory_set[episode])):\n",
    "    path_train.append(trajectory_set[episode][i][0])\n",
    "path_train.append((3,3))\n",
    "display_maze_with_path(maze, path_train)"
   ]
  },
  {
   "cell_type": "code",
   "execution_count": null,
   "metadata": {},
   "outputs": [],
   "source": []
  }
 ],
 "metadata": {
  "kernelspec": {
   "display_name": "Python 3",
   "language": "python",
   "name": "python3"
  },
  "language_info": {
   "codemirror_mode": {
    "name": "ipython",
    "version": 3
   },
   "file_extension": ".py",
   "mimetype": "text/x-python",
   "name": "python",
   "nbconvert_exporter": "python",
   "pygments_lexer": "ipython3",
   "version": "3.7.7"
  }
 },
 "nbformat": 4,
 "nbformat_minor": 4
}
