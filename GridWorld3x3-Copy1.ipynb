{
 "cells": [
  {
   "cell_type": "code",
   "execution_count": 1,
   "metadata": {},
   "outputs": [],
   "source": [
    "# CAP6629 001 RL Spring 2023\n",
    "# Yiran Pang\n",
    "# Copied and adapted from https://www.samyzaf.com/ML/rl/qmaze.html about Maze Definition Part"
   ]
  },
  {
   "cell_type": "code",
   "execution_count": 2,
   "metadata": {},
   "outputs": [],
   "source": [
    "import os, sys, time, datetime, json, random\n",
    "import numpy as np\n",
    "import matplotlib.pyplot as plt\n",
    "%matplotlib inline"
   ]
  },
  {
   "cell_type": "markdown",
   "metadata": {},
   "source": [
    "- 0 - 左\n",
    "- 1 - 向上\n",
    "- 2 - 右\n",
    "- 3 - 向下\n",
    "- 每次移动都会花费老鼠 -0.04 分\n",
    "- 奶酪，给予 1.0 分\n",
    "- 封锁的单元格-0.75 分，动作不会被执行\n",
    "- 已经访问过的单元格，-0.25 分\n",
    "- 总奖励低于负阈值：(-0.5 * maze.size)，lose"
   ]
  },
  {
   "cell_type": "code",
   "execution_count": 3,
   "metadata": {},
   "outputs": [],
   "source": [
    "visited_mark = 0.8  # Cells visited by the rat will be painted by gray 0.8\n",
    "rat_mark = 0.5      # The current rat cell will be painteg by gray 0.5\n",
    "LEFT = 0\n",
    "UP = 1\n",
    "RIGHT = 2\n",
    "DOWN = 3\n",
    "\n",
    "# Actions dictionary\n",
    "actions_dict = {\n",
    "    LEFT: 'left',\n",
    "    UP: 'up',\n",
    "    RIGHT: 'right',\n",
    "    DOWN: 'down',\n",
    "}\n",
    "\n",
    "num_actions = len(actions_dict)\n",
    "\n",
    "# Exploration factor\n",
    "epsilon = 0.1"
   ]
  },
  {
   "cell_type": "markdown",
   "metadata": {},
   "source": [
    "## Q-maze"
   ]
  },
  {
   "cell_type": "code",
   "execution_count": 91,
   "metadata": {},
   "outputs": [],
   "source": [
    "# maze is a 2d Numpy array of floats between 0.0 to 1.0\n",
    "# 1.0 corresponds to a free cell, and 0.0 an occupied cell\n",
    "# rat = (row, col) initial rat position (defaults to (0,0))\n",
    "\n",
    "class Qmaze(object):\n",
    "    def __init__(self, maze, rat=(0,0)):\n",
    "        # 初始化迷宫，老鼠可以从任意位置开始，默认为左上角\n",
    "        self._maze = np.array(maze)\n",
    "        nrows, ncols = self._maze.shape\n",
    "        # 终点始终在右下角\n",
    "        self.target = (nrows-1, ncols-1)   # target cell where the \"cheese\" is\n",
    "        # 初始化空格list，maze为1表示空格，为0表示墙体\n",
    "        self.free_cells = [(r,c) for r in range(nrows) for c in range(ncols) if self._maze[r,c] == 1.0]\n",
    "        # 将目标格移出空格list\n",
    "        self.free_cells.remove(self.target)\n",
    "        # 检查左上和右下是否为空\n",
    "        if self._maze[self.target] == 0.0:\n",
    "            raise Exception(\"Invalid maze: target cell cannot be blocked!\")\n",
    "        if not rat in self.free_cells:\n",
    "            raise Exception(\"Invalid Rat Location: must sit on a free cell\")\n",
    "        # 放置老鼠并初始化参数\n",
    "        self.reset(rat)\n",
    "\n",
    "    def reset(self, rat):\n",
    "        self.rat = rat\n",
    "        self.maze = np.copy(self._maze)\n",
    "        nrows, ncols = self.maze.shape\n",
    "        row, col = rat\n",
    "        self.maze[row, col] = rat_mark\n",
    "        # 初始状态\n",
    "        self.state = (row, col, 'start')\n",
    "        # 设置最低奖励阈值\n",
    "        self.min_reward = -800\n",
    "        # 初始化总奖励\n",
    "        self.total_reward = 0\n",
    "        self.visited = set()\n",
    "\n",
    "    def update_state(self, action):\n",
    "        '''\n",
    "            input: action [0, 1, 2, 3] [L, U, R, D]\n",
    "        '''\n",
    "        nrows, ncols = self.maze.shape\n",
    "        nrow, ncol, nmode = rat_row, rat_col, mode = self.state\n",
    "        \n",
    "        # 如果老鼠访问的是空格，则记录\n",
    "        if self.maze[rat_row, rat_col] > 0.0:\n",
    "            self.visited.add((rat_row, rat_col))  # mark visited cell\n",
    "\n",
    "        # 获取所有可能执行的动作\n",
    "        valid_actions = self.valid_actions()\n",
    "        # print('valid_actions', valid_actions)\n",
    "        \n",
    "        # 如果没有可以执行的动作（被围住了），则状态为 blocked，位置不变\n",
    "        if not valid_actions:\n",
    "            nmode = 'blocked'\n",
    "        # 如果需要执行的动作在可执行动作列表中，那么状态为有效，并相应执行动作\n",
    "        elif action in valid_actions:\n",
    "            nmode = 'valid'\n",
    "            if action == LEFT:\n",
    "                ncol -= 1\n",
    "            elif action == UP:\n",
    "                nrow -= 1\n",
    "            if action == RIGHT:\n",
    "                ncol += 1\n",
    "            elif action == DOWN:\n",
    "                nrow += 1\n",
    "        # 如果需要执行的动作不在可执行动作列表中（撞墙），位置不变\n",
    "        else:                  # invalid action, no change in rat position\n",
    "            nmode = 'invalid'\n",
    "\n",
    "        # new state\n",
    "        self.state = (nrow, ncol, nmode)\n",
    "\n",
    "    def get_reward(self):\n",
    "        rat_row, rat_col, mode = self.state\n",
    "        nrows, ncols = self.maze.shape\n",
    "        if rat_row == nrows-1 and rat_col == ncols-1:\n",
    "            return 1.0  # 奶酪，给予 1.0 分\n",
    "        if mode == 'blocked':\n",
    "            return self.min_reward - 1\n",
    "        if (rat_row, rat_col) in self.visited:\n",
    "            return -0.25  # 访问已经访问过的单元格，-0.25 分\n",
    "        if mode == 'invalid':\n",
    "            return -0.75  # 撞墙-0.75 分，动作不会被执行\n",
    "        if mode == 'valid':\n",
    "            return 0  # 每次移动都会花费老鼠 -0.04 分\n",
    "\n",
    "    def act(self, action):\n",
    "        self.update_state(action)\n",
    "        reward = self.get_reward()\n",
    "        self.total_reward += reward\n",
    "        status = self.game_status()\n",
    "        envstate = self.observe()\n",
    "        return envstate, reward, status\n",
    "\n",
    "    def observe(self):\n",
    "        canvas = self.draw_env()\n",
    "        envstate = canvas.reshape((1, -1))\n",
    "        return envstate\n",
    "\n",
    "    def draw_env(self):\n",
    "        canvas = np.copy(self.maze)\n",
    "        nrows, ncols = self.maze.shape\n",
    "        # clear all visual marks\n",
    "        for r in range(nrows):\n",
    "            for c in range(ncols):\n",
    "                if canvas[r,c] > 0.0:\n",
    "                    canvas[r,c] = 1.0\n",
    "        # draw the rat\n",
    "        row, col, valid = self.state\n",
    "        canvas[row, col] = rat_mark\n",
    "        return canvas\n",
    "\n",
    "    def game_status(self):\n",
    "        if self.total_reward < self.min_reward:\n",
    "            return 'lose'\n",
    "        rat_row, rat_col, mode = self.state\n",
    "        nrows, ncols = self.maze.shape\n",
    "        if rat_row == nrows-1 and rat_col == ncols-1:\n",
    "            return 'win'\n",
    "\n",
    "        return 'not_over'\n",
    "\n",
    "    def valid_actions(self, cell=None):\n",
    "        # 默认验证当前位置\n",
    "        if cell is None:\n",
    "            row, col, mode = self.state\n",
    "        else:\n",
    "            row, col = cell\n",
    "        actions = [0, 1, 2, 3]\n",
    "        nrows, ncols = self.maze.shape\n",
    "        # 如果在第0行，则不能向上走；如果在最后一行，则不能向下走\n",
    "        if row == 0:\n",
    "            actions.remove(1)\n",
    "        elif row == nrows-1:\n",
    "            actions.remove(3)\n",
    "        # 列-左右\n",
    "        if col == 0:\n",
    "            actions.remove(0)\n",
    "        elif col == ncols-1:\n",
    "            actions.remove(2)\n",
    "\n",
    "        # 如果不在最左列，而左边是墙，则不能向左；右边同理\n",
    "        if row>0 and self.maze[row-1,col] == 0.0:\n",
    "            actions.remove(1)\n",
    "        if row<nrows-1 and self.maze[row+1,col] == 0.0:\n",
    "            actions.remove(3)\n",
    "\n",
    "        # 上下同理\n",
    "        if col>0 and self.maze[row,col-1] == 0.0:\n",
    "            actions.remove(0)\n",
    "        if col<ncols-1 and self.maze[row,col+1] == 0.0:\n",
    "            actions.remove(2)\n",
    "\n",
    "        # 返回所有可能执行的动作\n",
    "        return actions"
   ]
  },
  {
   "cell_type": "code",
   "execution_count": 92,
   "metadata": {},
   "outputs": [],
   "source": [
    "def show(qmaze):\n",
    "    plt.grid('on')\n",
    "    nrows, ncols = qmaze.maze.shape\n",
    "    ax = plt.gca()\n",
    "    ax.set_xticks(np.arange(0.5, nrows, 1))\n",
    "    ax.set_yticks(np.arange(0.5, ncols, 1))\n",
    "    ax.set_xticklabels([])\n",
    "    ax.set_yticklabels([])\n",
    "    canvas = np.copy(qmaze.maze)\n",
    "    for row,col in qmaze.visited:\n",
    "        canvas[row,col] = 0.6\n",
    "    rat_row, rat_col, _ = qmaze.state\n",
    "    canvas[rat_row, rat_col] = 0.3   # rat cell\n",
    "    canvas[nrows-1, ncols-1] = 0.9 # cheese cell\n",
    "    img = plt.imshow(canvas, interpolation='none', cmap='gray')\n",
    "    return img"
   ]
  },
  {
   "cell_type": "code",
   "execution_count": 93,
   "metadata": {},
   "outputs": [],
   "source": [
    "maze = [\n",
    "    [ 1.,  1., 1., 1.],\n",
    "    [ 1.,  1., 0., 1.],\n",
    "    [ 1.,  1., 1., 1.],\n",
    "    [ 1.,  1., 1., 1.],\n",
    "]\n",
    "# maze = np.loadtxt('games/GridWorld/maze8_0.1_2.txt')"
   ]
  },
  {
   "cell_type": "code",
   "execution_count": 94,
   "metadata": {},
   "outputs": [
    {
     "data": {
      "text/plain": [
       "<matplotlib.image.AxesImage at 0x7fc18d1fb250>"
      ]
     },
     "execution_count": 94,
     "metadata": {},
     "output_type": "execute_result"
    },
    {
     "data": {
      "image/png": "[encoded data removed]",
      "text/plain": [
       "<Figure size 432x288 with 1 Axes>"
      ]
     },
     "metadata": {
      "needs_background": "light"
     },
     "output_type": "display_data"
    }
   ],
   "source": [
    "qmaze = Qmaze(maze)\n",
    "# canvas, reward, game_over = qmaze.act(DOWN)\n",
    "# print(\"reward=\", reward)\n",
    "show(qmaze)"
   ]
  },
  {
   "cell_type": "code",
   "execution_count": 95,
   "metadata": {},
   "outputs": [
    {
     "name": "stdout",
     "output_type": "stream",
     "text": [
      "0 0\n",
      "0 0\n",
      "-0.25 -0.25 not_over\n"
     ]
    },
    {
     "data": {
      "text/plain": [
       "<matplotlib.image.AxesImage at 0x7fc18d15bf50>"
      ]
     },
     "execution_count": 95,
     "metadata": {},
     "output_type": "execute_result"
    },
    {
     "data": {
      "image/png": "[encoded data removed]",
      "text/plain": [
       "<Figure size 432x288 with 1 Axes>"
      ]
     },
     "metadata": {
      "needs_background": "light"
     },
     "output_type": "display_data"
    }
   ],
   "source": [
    "envstate, reward, status = qmaze.act(DOWN)  # move down\n",
    "print(reward, qmaze.total_reward)\n",
    "envstate, reward, status = qmaze.act(RIGHT)  # move right\n",
    "print(reward, qmaze.total_reward)\n",
    "envstate, reward, status = qmaze.act(RIGHT)  # move right\n",
    "print(reward, qmaze.total_reward, status)\n",
    "# envstate, reward, status = qmaze.act(RIGHT)  # move right\n",
    "# print(reward, qmaze.total_reward)\n",
    "# envstate, reward, status = qmaze.act(UP)  # move up\n",
    "# print(reward, qmaze.total_reward)\n",
    "show(qmaze)"
   ]
  },
  {
   "cell_type": "markdown",
   "metadata": {},
   "source": [
    "## Q-Learning"
   ]
  },
  {
   "cell_type": "markdown",
   "metadata": {},
   "source": [
    "0 - 左\n",
    "1 - 向上\n",
    "2 - 右\n",
    "3 - 向下"
   ]
  },
  {
   "cell_type": "markdown",
   "metadata": {},
   "source": [
    "$$Q(s,a)= Q(s, a) + α⋅[Value(s’)+γ⋅maxQ(s′)−Q(s,a)]$$"
   ]
  },
  {
   "cell_type": "markdown",
   "metadata": {},
   "source": [
    "**Pseudocode**\n",
    "```\n",
    "Init Q(s, a) to 0 for all (s, a) pairs\n",
    "Repeat for episode = 1 ... numEpisodes\n",
    "     Initialize s to startState\n",
    "     While (s is not TerminalState)\n",
    "           Choose an action a from Actions(s)\n",
    "           s' = new state after action a from s\n",
    "           Q(s,a)= Q(s, a) + α⋅[Value(s’)+γ⋅maxQ(s′)−Q(s,a)]\n",
    "           s = s'\n",
    "```"
   ]
  },
  {
   "cell_type": "code",
   "execution_count": 64,
   "metadata": {},
   "outputs": [
    {
     "name": "stdout",
     "output_type": "stream",
     "text": [
      "============episode: 0 ============\n",
      "[[ 0.       0.       0.       0.     ]\n",
      " [ 0.      -0.075    0.       0.     ]\n",
      " [ 0.       0.       0.      -0.075  ]\n",
      " [ 0.       0.       0.       0.     ]\n",
      " [ 0.       0.       0.       0.     ]\n",
      " [ 0.       0.      -0.075    0.     ]\n",
      " [ 0.       0.       0.       0.     ]\n",
      " [ 0.       0.       0.       0.     ]\n",
      " [ 0.       0.       0.       0.     ]\n",
      " [ 0.       0.       0.       0.     ]\n",
      " [ 0.      -0.20325  0.       0.     ]\n",
      " [ 0.       0.       0.       0.     ]\n",
      " [ 0.       0.       0.       0.     ]\n",
      " [ 0.       0.       0.       0.     ]\n",
      " [ 0.       0.       0.1      0.     ]\n",
      " [ 0.       0.       0.       0.     ]]\n",
      "total_reward -3.5\n",
      "\n",
      "============episode: 1 ============\n",
      "[[-0.74928375 -0.7479458   0.          0.        ]\n",
      " [ 0.         -0.7479458   0.          0.        ]\n",
      " [ 0.         -0.42714959  0.         -0.39127733]\n",
      " [ 0.         -0.075      -0.1425      0.        ]\n",
      " [-0.55936006  0.          0.          0.        ]\n",
      " [ 0.          0.         -0.45943463  0.        ]\n",
      " [ 0.          0.          0.          0.        ]\n",
      " [-0.075       0.          0.          0.        ]\n",
      " [-0.20325     0.          0.          0.        ]\n",
      " [ 0.          0.          0.          0.        ]\n",
      " [ 0.         -0.20325     0.          0.0099    ]\n",
      " [ 0.          0.          0.          0.        ]\n",
      " [-0.1425      0.          0.          0.        ]\n",
      " [ 0.          0.          0.          0.        ]\n",
      " [ 0.          0.          0.19        0.        ]\n",
      " [ 0.          0.          0.          0.        ]]\n",
      "total_reward -164.75\n",
      "\n",
      "============episode: 2 ============\n",
      "[[-0.74997787 -0.74996252  0.          0.        ]\n",
      " [ 0.         -0.74983614  0.          0.        ]\n",
      " [ 0.         -0.55936006  0.         -0.45943463]\n",
      " [ 0.         -0.075      -0.257925    0.        ]\n",
      " [-0.61102349  0.          0.          0.        ]\n",
      " [ 0.          0.         -0.48849117  0.        ]\n",
      " [ 0.          0.          0.          0.        ]\n",
      " [-0.075       0.         -0.1425      0.        ]\n",
      " [-0.257925    0.          0.          0.        ]\n",
      " [ 0.          0.          0.0009801   0.        ]\n",
      " [ 0.         -0.20325     0.          0.02772   ]\n",
      " [ 0.          0.          0.          0.        ]\n",
      " [-0.1425      0.          0.          0.        ]\n",
      " [ 0.          0.          0.          0.        ]\n",
      " [ 0.          0.          0.271       0.        ]\n",
      " [ 0.          0.          0.          0.        ]]\n",
      "total_reward -82.25\n",
      "\n",
      "============episode: 3 ============\n",
      "[[-7.49998411e-01 -7.49997309e-01  0.00000000e+00  0.00000000e+00]\n",
      " [ 0.00000000e+00 -7.49953722e-01  0.00000000e+00  0.00000000e+00]\n",
      " [ 0.00000000e+00 -5.95581651e-01  0.00000000e+00 -4.88491170e-01]\n",
      " [ 0.00000000e+00 -7.50000000e-02 -2.57925000e-01  0.00000000e+00]\n",
      " [-6.24921137e-01  0.00000000e+00  0.00000000e+00  0.00000000e+00]\n",
      " [ 0.00000000e+00  0.00000000e+00 -4.88491170e-01  0.00000000e+00]\n",
      " [ 0.00000000e+00  0.00000000e+00  0.00000000e+00  0.00000000e+00]\n",
      " [-7.50000000e-02  0.00000000e+00 -1.42500000e-01  0.00000000e+00]\n",
      " [-2.57925000e-01  0.00000000e+00  9.70299000e-05  0.00000000e+00]\n",
      " [ 0.00000000e+00  0.00000000e+00  3.62637000e-03  0.00000000e+00]\n",
      " [ 0.00000000e+00 -2.03250000e-01  0.00000000e+00  5.17770000e-02]\n",
      " [ 0.00000000e+00  0.00000000e+00  0.00000000e+00  0.00000000e+00]\n",
      " [-2.03250000e-01  0.00000000e+00  0.00000000e+00  0.00000000e+00]\n",
      " [ 0.00000000e+00  0.00000000e+00  0.00000000e+00  0.00000000e+00]\n",
      " [ 0.00000000e+00  0.00000000e+00  3.43900000e-01  0.00000000e+00]\n",
      " [ 0.00000000e+00  0.00000000e+00  0.00000000e+00  0.00000000e+00]]\n",
      "total_reward -49.25\n",
      "\n",
      "============episode: 4 ============\n",
      "[[-7.49998411e-01 -7.49997309e-01  0.00000000e+00  0.00000000e+00]\n",
      " [ 0.00000000e+00 -7.49953722e-01  0.00000000e+00  0.00000000e+00]\n",
      " [ 0.00000000e+00 -5.95581651e-01  0.00000000e+00 -4.88491170e-01]\n",
      " [ 0.00000000e+00 -7.50000000e-02 -2.57925000e-01  0.00000000e+00]\n",
      " [-6.24921137e-01  0.00000000e+00  0.00000000e+00  0.00000000e+00]\n",
      " [ 0.00000000e+00  0.00000000e+00 -4.88491170e-01  3.59010630e-04]\n",
      " [ 0.00000000e+00  0.00000000e+00  0.00000000e+00  0.00000000e+00]\n",
      " [-7.50000000e-02  0.00000000e+00 -1.42500000e-01  0.00000000e+00]\n",
      " [-2.57925000e-01  0.00000000e+00  9.17902854e-04  0.00000000e+00]\n",
      " [ 0.00000000e+00  0.00000000e+00  1.55345850e-02  0.00000000e+00]\n",
      " [ 0.00000000e+00 -2.03250000e-01  0.00000000e+00  1.06626960e-01]\n",
      " [ 0.00000000e+00  0.00000000e+00  0.00000000e+00  0.00000000e+00]\n",
      " [-2.03250000e-01  9.60596010e-06  0.00000000e+00  0.00000000e+00]\n",
      " [ 0.00000000e+00  0.00000000e+00  0.00000000e+00  0.00000000e+00]\n",
      " [ 0.00000000e+00  0.00000000e+00  4.09510000e-01 -4.09539000e-02]\n",
      " [ 0.00000000e+00  0.00000000e+00  0.00000000e+00  0.00000000e+00]]\n",
      "total_reward 0.25\n",
      "\n",
      "============episode: 5 ============\n",
      "[[-7.49998411e-01 -7.49997309e-01  0.00000000e+00  0.00000000e+00]\n",
      " [ 0.00000000e+00 -7.49953722e-01  0.00000000e+00  3.55420524e-05]\n",
      " [ 0.00000000e+00 -5.95581651e-01  0.00000000e+00 -4.88491170e-01]\n",
      " [ 0.00000000e+00 -7.50000000e-02 -2.57925000e-01  0.00000000e+00]\n",
      " [-6.24921137e-01  0.00000000e+00  0.00000000e+00  0.00000000e+00]\n",
      " [ 0.00000000e+00  0.00000000e+00 -4.88491170e-01  1.86103348e-03]\n",
      " [ 0.00000000e+00  0.00000000e+00  0.00000000e+00  0.00000000e+00]\n",
      " [-7.50000000e-02  0.00000000e+00 -1.42500000e-01  0.00000000e+00]\n",
      " [-2.57925000e-01  0.00000000e+00  9.17902854e-04  0.00000000e+00]\n",
      " [ 0.00000000e+00  0.00000000e+00  2.45371955e-02  0.00000000e+00]\n",
      " [ 0.00000000e+00 -2.87075969e-01  0.00000000e+00  1.36505754e-01]\n",
      " [ 0.00000000e+00  0.00000000e+00  0.00000000e+00  0.00000000e+00]\n",
      " [-2.03250000e-01  9.60596010e-06  0.00000000e+00  0.00000000e+00]\n",
      " [ 0.00000000e+00  0.00000000e+00  0.00000000e+00  0.00000000e+00]\n",
      " [ 0.00000000e+00  0.00000000e+00  4.68559000e-01 -4.09539000e-02]\n",
      " [ 0.00000000e+00  0.00000000e+00  0.00000000e+00  0.00000000e+00]]\n",
      "total_reward -0.5\n",
      "\n",
      "============episode: 6 ============\n",
      "[[-7.49998570e-01 -7.49997309e-01  3.51866318e-06  0.00000000e+00]\n",
      " [ 0.00000000e+00 -7.49953722e-01  0.00000000e+00  2.16230162e-04]\n",
      " [ 0.00000000e+00 -5.95581651e-01  0.00000000e+00 -4.88491170e-01]\n",
      " [ 0.00000000e+00 -7.50000000e-02 -2.57925000e-01  0.00000000e+00]\n",
      " [-6.24921137e-01  0.00000000e+00  0.00000000e+00  0.00000000e+00]\n",
      " [ 0.00000000e+00  0.00000000e+00 -4.88491170e-01  4.10411249e-03]\n",
      " [ 0.00000000e+00  0.00000000e+00  0.00000000e+00  0.00000000e+00]\n",
      " [-7.50000000e-02  0.00000000e+00 -1.42500000e-01  0.00000000e+00]\n",
      " [-2.57925000e-01  0.00000000e+00  9.17902854e-04  0.00000000e+00]\n",
      " [ 0.00000000e+00  0.00000000e+00  3.55975456e-02  0.00000000e+00]\n",
      " [ 0.00000000e+00 -3.19854302e-01  0.00000000e+00  1.69242520e-01]\n",
      " [ 0.00000000e+00  0.00000000e+00  0.00000000e+00  0.00000000e+00]\n",
      " [-2.03250000e-01  9.60596010e-06  0.00000000e+00  0.00000000e+00]\n",
      " [ 0.00000000e+00  0.00000000e+00  0.00000000e+00  0.00000000e+00]\n",
      " [ 0.00000000e+00  0.00000000e+00  5.21703100e-01 -4.09539000e-02]\n",
      " [ 0.00000000e+00  0.00000000e+00  0.00000000e+00  0.00000000e+00]]\n",
      "total_reward -0.5\n",
      "\n",
      "============episode: 7 ============\n",
      "[[-7.49998570e-01 -7.49997309e-01  2.45735829e-05  0.00000000e+00]\n",
      " [ 0.00000000e+00 -7.49953722e-01  0.00000000e+00  6.00914282e-04]\n",
      " [ 0.00000000e+00 -5.95581651e-01  0.00000000e+00 -4.88491170e-01]\n",
      " [ 0.00000000e+00 -7.50000000e-02 -2.57925000e-01  0.00000000e+00]\n",
      " [-6.24921137e-01  0.00000000e+00  0.00000000e+00  0.00000000e+00]\n",
      " [ 0.00000000e+00  0.00000000e+00 -4.88491170e-01  7.21785826e-03]\n",
      " [ 0.00000000e+00  0.00000000e+00  0.00000000e+00  0.00000000e+00]\n",
      " [-7.50000000e-02  0.00000000e+00 -1.42500000e-01  0.00000000e+00]\n",
      " [-2.57925000e-01  0.00000000e+00  9.17902854e-04  0.00000000e+00]\n",
      " [ 0.00000000e+00  0.00000000e+00  4.87928005e-02  0.00000000e+00]\n",
      " [ 0.00000000e+00 -3.46113863e-01  0.00000000e+00  2.03966875e-01]\n",
      " [ 0.00000000e+00  0.00000000e+00  0.00000000e+00  0.00000000e+00]\n",
      " [-2.03250000e-01  9.60596010e-06  0.00000000e+00  0.00000000e+00]\n",
      " [ 0.00000000e+00  0.00000000e+00  0.00000000e+00  0.00000000e+00]\n",
      " [ 0.00000000e+00  0.00000000e+00  5.69532790e-01 -4.09539000e-02]\n",
      " [ 0.00000000e+00  0.00000000e+00  0.00000000e+00  0.00000000e+00]]\n",
      "total_reward 0.25\n",
      "\n",
      "============episode: 8 ============\n",
      "[[-7.49998570e-01 -7.49997309e-01  8.16067386e-05  0.00000000e+00]\n",
      " [ 0.00000000e+00 -7.49953722e-01  0.00000000e+00  1.25539082e-03]\n",
      " [ 0.00000000e+00 -5.95581651e-01  0.00000000e+00 -4.88491170e-01]\n",
      " [ 0.00000000e+00 -7.50000000e-02 -2.57925000e-01  0.00000000e+00]\n",
      " [-6.24921137e-01  0.00000000e+00  0.00000000e+00  0.00000000e+00]\n",
      " [ 0.00000000e+00  0.00000000e+00 -4.88491170e-01  1.13265597e-02]\n",
      " [ 0.00000000e+00  0.00000000e+00  0.00000000e+00  0.00000000e+00]\n",
      " [-7.50000000e-02  0.00000000e+00 -1.42500000e-01  0.00000000e+00]\n",
      " [-2.57925000e-01  0.00000000e+00  9.17902854e-04  0.00000000e+00]\n",
      " [ 0.00000000e+00  0.00000000e+00  6.41062410e-02  0.00000000e+00]\n",
      " [ 0.00000000e+00 -3.46113863e-01  0.00000000e+00  2.39953933e-01]\n",
      " [ 0.00000000e+00  0.00000000e+00  0.00000000e+00  0.00000000e+00]\n",
      " [-2.03250000e-01  9.60596010e-06  0.00000000e+00  0.00000000e+00]\n",
      " [ 0.00000000e+00  0.00000000e+00  0.00000000e+00  0.00000000e+00]\n",
      " [ 0.00000000e+00  0.00000000e+00  6.12579511e-01 -4.09539000e-02]\n",
      " [ 0.00000000e+00  0.00000000e+00  0.00000000e+00  0.00000000e+00]]\n",
      "total_reward 1.0\n",
      "\n",
      "============episode: 9 ============\n",
      "[[-7.49998570e-01 -7.49997309e-01  3.02240472e-04  0.00000000e+00]\n",
      " [ 1.95752459e-05 -7.49953722e-01  0.00000000e+00  2.25118115e-03]\n",
      " [ 0.00000000e+00 -5.95581651e-01  0.00000000e+00 -4.88491170e-01]\n",
      " [ 0.00000000e+00 -7.50000000e-02 -2.57925000e-01  0.00000000e+00]\n",
      " [-6.24921137e-01  0.00000000e+00  0.00000000e+00  0.00000000e+00]\n",
      " [ 0.00000000e+00  0.00000000e+00 -4.88491170e-01  1.65404216e-02]\n",
      " [ 0.00000000e+00  0.00000000e+00  0.00000000e+00  0.00000000e+00]\n",
      " [-7.50000000e-02  0.00000000e+00 -1.42500000e-01  0.00000000e+00]\n",
      " [-2.57925000e-01  0.00000000e+00  9.17902854e-04  0.00000000e+00]\n",
      " [ 0.00000000e+00  0.00000000e+00  8.14510563e-02  0.00000000e+00]\n",
      " [ 0.00000000e+00 -3.46113863e-01  0.00000000e+00  2.76603912e-01]\n",
      " [ 0.00000000e+00  0.00000000e+00  0.00000000e+00  0.00000000e+00]\n",
      " [-2.03250000e-01  9.60596010e-06  0.00000000e+00  0.00000000e+00]\n",
      " [ 0.00000000e+00  0.00000000e+00  0.00000000e+00  0.00000000e+00]\n",
      " [ 0.00000000e+00  0.00000000e+00  6.51321560e-01 -4.09539000e-02]\n",
      " [ 0.00000000e+00  0.00000000e+00  0.00000000e+00  0.00000000e+00]]\n",
      "total_reward 1.0\n",
      "\n"
     ]
    }
   ],
   "source": [
    "# 定义参数\n",
    "LEARNING_RATE = 0.1\n",
    "DISCOUNT_FACTOR = 0.99\n",
    "NUM_Episodes = 10\n",
    "MAZE_SIZE = qmaze.maze.shape[0]\n",
    "\n",
    "# 将状态表示为一个数字\n",
    "def state_to_index(state):\n",
    "    return state[0] * MAZE_SIZE + state[1]\n",
    "\n",
    "# 获取当前状态下的最佳行动\n",
    "def get_best_action(rat_row, rat_col):\n",
    "    state = (rat_row, rat_col)\n",
    "    index = state_to_index(state)\n",
    "    return np.argmax(q_table[index])\n",
    "\n",
    "# 通过ε-greedy策略选择下一个行动\n",
    "def choose_action(state, epsilon):\n",
    "    if np.random.uniform() < epsilon:\n",
    "        return np.random.randint(4)\n",
    "    else:\n",
    "        return get_best_action(*state)\n",
    "    \n",
    "# 更新 Q 表格\n",
    "def update_q_table(state, action, next_state, reward):\n",
    "    index = state_to_index(state)\n",
    "    next_index = state_to_index(next_state)\n",
    "    q_table[index][action] += LEARNING_RATE * (\n",
    "        reward + DISCOUNT_FACTOR * np.max(q_table[next_index]) - q_table[index][action])\n",
    "\n",
    "    \n",
    "# Q-Table\n",
    "# 每行代表格子，从上往下从左往右\n",
    "# 每列代表动作，0 - 左 1 - 向上 2 - 右 3 - 向下\n",
    "q_table = np.zeros((qmaze.maze.shape[0]**2, 4))  \n",
    "total_reward = []\n",
    "\n",
    "for episode in range(NUM_Episodes):\n",
    "    epsilon = 1.0 / (episode + 1)\n",
    "    \n",
    "    qmaze = Qmaze(maze)\n",
    "    \n",
    "    while qmaze.game_status() == 'not_over':\n",
    "        # 初次观测\n",
    "        rat_row, rat_col, mode = qmaze.state\n",
    "        # 选择动作\n",
    "        # print(rat_row, rat_col, mode)\n",
    "        action = choose_action((rat_row, rat_col), epsilon)\n",
    "        # print(action)\n",
    "        # 执行动作并二次观测\n",
    "        canvas, reward, game_over = qmaze.act(action)\n",
    "        rat_row_next, rat_col_next, mode = qmaze.state\n",
    "        # 根据观测更新Q\n",
    "        update_q_table((rat_row, rat_col), action, (rat_row_next, rat_col_next), reward)\n",
    "    \n",
    "    print('============episode:', episode, '============')\n",
    "    print(q_table)\n",
    "    print('total_reward', qmaze.total_reward)\n",
    "    total_reward.append(qmaze.total_reward)\n",
    "    print('')"
   ]
  },
  {
   "cell_type": "code",
   "execution_count": 47,
   "metadata": {},
   "outputs": [
    {
     "name": "stdout",
     "output_type": "stream",
     "text": [
      "q_value_table\n",
      "[[0.  0.  0.  0.  0.  0.  0.  0. ]\n",
      " [0.  0.  0.  0.  0.  0.  0.  0. ]\n",
      " [0.  0.  0.  0.  0.  0.  0.  0. ]\n",
      " [0.  0.  0.  0.  0.  0.  0.  0. ]\n",
      " [0.  0.  0.  0.  0.  0.  0.  0. ]\n",
      " [0.  0.  0.  0.  0.  0.  0.  0. ]\n",
      " [0.  0.  0.  0.  0.  0.  0.  0.1]\n",
      " [0.  0.  0.  0.  0.  0.  0.  0. ]]\n"
     ]
    }
   ],
   "source": [
    "q_value_table = np.amax(q_table, axis=1).reshape((8, 8))\n",
    "print('q_value_table')\n",
    "print(q_value_table)"
   ]
  },
  {
   "cell_type": "code",
   "execution_count": 48,
   "metadata": {},
   "outputs": [
    {
     "data": {
      "text/plain": [
       "<matplotlib.image.AxesImage at 0x7fc194ca7a50>"
      ]
     },
     "execution_count": 48,
     "metadata": {},
     "output_type": "execute_result"
    },
    {
     "data": {
      "image/png": "[encoded data removed]",
      "text/plain": [
       "<Figure size 432x288 with 1 Axes>"
      ]
     },
     "metadata": {
      "needs_background": "light"
     },
     "output_type": "display_data"
    }
   ],
   "source": [
    "show(qmaze)"
   ]
  },
  {
   "cell_type": "code",
   "execution_count": 49,
   "metadata": {},
   "outputs": [
    {
     "data": {
      "image/png": "[encoded data removed]",
      "text/plain": [
       "<Figure size 432x288 with 1 Axes>"
      ]
     },
     "metadata": {
      "needs_background": "light"
     },
     "output_type": "display_data"
    }
   ],
   "source": [
    "%matplotlib inline\n",
    "plt.plot(total_reward)\n",
    "plt.show()"
   ]
  },
  {
   "cell_type": "markdown",
   "metadata": {},
   "source": [
    "## Monte Carlo"
   ]
  },
  {
   "cell_type": "markdown",
   "metadata": {},
   "source": [
    "**Pseudocode**\n",
    "```\n",
    "Initialize state-action value function Q(s, a)\n",
    "Initialize sampling counter N(s, a)\n",
    "for episode in episodes:\n",
    "    Generate an episode and record information for each state-action pair\n",
    "    G = 0\n",
    "    for t in reversed(range(0, episode_length)):\n",
    "        S_t, A_t, R_t = episode[t]\n",
    "        G = gamma * G + R_t\n",
    "        N(S_t, A_t) += 1\n",
    "        alpha = 1 / N(S_t, A_t)\n",
    "        Q(S_t, A_t) += alpha * (G - Q(S_t, A_t))\n",
    "return state-action value function Q\n",
    "```"
   ]
  },
  {
   "cell_type": "code",
   "execution_count": 105,
   "metadata": {},
   "outputs": [
    {
     "name": "stderr",
     "output_type": "stream",
     "text": [
      "100%|██████████| 500/500 [01:56<00:00,  4.29it/s]\n"
     ]
    }
   ],
   "source": [
    "from tqdm import trange\n",
    "import math\n",
    "\n",
    "# 定义参数\n",
    "LEARNING_RATE = 0.1\n",
    "DISCOUNT_FACTOR = 0.99\n",
    "NUM_Episodes = 500\n",
    "MAZE_SIZE = qmaze.maze.shape[0]\n",
    "records = []\n",
    "q_table = np.zeros((qmaze.maze.shape[0]**2, 4))\n",
    "EPS_START = 0.95\n",
    "EPS_END = 0.05\n",
    "EPS_DECAY = 10000\n",
    "epsilon = EPS_START\n",
    "steps_done = 0\n",
    "\n",
    "# 将状态表示为一个数字\n",
    "def state_to_index(state):\n",
    "    return state[0] * MAZE_SIZE + state[1]\n",
    "\n",
    "# 获取当前状态下的最佳行动\n",
    "def get_best_action(rat_row, rat_col):\n",
    "    state = (rat_row, rat_col)\n",
    "    index = state_to_index(state)\n",
    "    return np.argmax(q_table[index])\n",
    "\n",
    "# 通过ε-greedy策略选择下一个行动\n",
    "def choose_action(state, epsilon):\n",
    "    if np.random.uniform() < epsilon:\n",
    "        return np.random.randint(4)\n",
    "    else:\n",
    "        return get_best_action(*state)\n",
    "    \n",
    "# 更新 Q 表格\n",
    "# def update_q_table(state, action, next_state, reward):\n",
    "#     index = state_to_index(state)\n",
    "#     next_index = state_to_index(next_state)\n",
    "#     q_table[index][action] += LEARNING_RATE * (\n",
    "#         reward + DISCOUNT_FACTOR * np.max(q_table[next_index]) - q_table[index][action])\n",
    "\n",
    "    \n",
    "# Q-Table\n",
    "# 每行代表格子，从上往下从左往右\n",
    "# 每列代表动作，0 - 左 1 - 向上 2 - 右 3 - 向下\n",
    "Q = q_table  # 初始化状态-动作价值函数\n",
    "N = np.zeros((qmaze.maze.shape[0]**2, 4))  # 记录每个状态-动作被采样的次数\n",
    "total_reward = []\n",
    "\n",
    "for episode in trange(NUM_Episodes):\n",
    "    \n",
    "    \n",
    "    qmaze = Qmaze(maze)\n",
    "    \n",
    "    # 进行一次完整的 episode，并记录每个状态-动作的信息\n",
    "    while qmaze.game_status() == 'not_over':\n",
    "        # 初次观测\n",
    "        rat_row, rat_col, mode = qmaze.state\n",
    "        # 选择动作\n",
    "        # print(rat_row, rat_col, mode)\n",
    "        action = choose_action((rat_row, rat_col), epsilon)\n",
    "\n",
    "        state, action = state_to_index((rat_row, rat_col)), action\n",
    "\n",
    "        # 执行动作并二次观测\n",
    "        canvas, reward, game_over = qmaze.act(action)\n",
    "\n",
    "        records.append((state, action, reward))\n",
    "\n",
    "        rat_row_next, rat_col_next, mode = qmaze.state\n",
    "        \n",
    "        # 随着进行，eps_threshold逐渐降低\n",
    "        epsilon = EPS_END + (EPS_START - EPS_END) * \\\n",
    "            math.exp(-1. * steps_done / EPS_DECAY)\n",
    "        \n",
    "        steps_done += 1\n",
    "        \n",
    "\n",
    "    \n",
    "    # 使用经验采样更新状态-动作价值函数\n",
    "    G = 0  # 记录返回值\n",
    "    for j in range(len(records)-1, -1, -1):\n",
    "        state, action, reward = records[j]\n",
    "        G += reward\n",
    "        N[state][action] += 1\n",
    "        alpha = 1 / N[state][action]\n",
    "        Q[state][action] += alpha * (G - Q[state][action])\n",
    "        \n",
    "    # # 根据观测更新Q\n",
    "    # update_q_table((rat_row, rat_col), action, (rat_row_next, rat_col_next), reward)\n",
    "    \n",
    "    # print('============episode:', episode, '============')\n",
    "    # print(Q)\n",
    "    # print('total_reward', qmaze.total_reward)\n",
    "    total_reward.append(qmaze.total_reward)\n",
    "    # print('')\n",
    "    \n",
    "    # break"
   ]
  },
  {
   "cell_type": "code",
   "execution_count": 106,
   "metadata": {},
   "outputs": [
    {
     "data": {
      "text/plain": [
       "array([[-2068.83849119, -1968.51239294, -2071.5773681 , -2017.06366643],\n",
       "       [-2108.90947182, -2100.50911976,     0.        , -1987.13184729],\n",
       "       [-2018.16874244, -2101.96552115, -2156.60846569, -2080.36302301],\n",
       "       [-2041.22666548, -2099.80097838, -2129.00140609,     0.        ]])"
      ]
     },
     "execution_count": 106,
     "metadata": {},
     "output_type": "execute_result"
    }
   ],
   "source": [
    "q_value_table"
   ]
  },
  {
   "cell_type": "code",
   "execution_count": 107,
   "metadata": {
    "scrolled": true
   },
   "outputs": [
    {
     "data": {
      "text/plain": [
       "<matplotlib.image.AxesImage at 0x7fc19496a690>"
      ]
     },
     "execution_count": 107,
     "metadata": {},
     "output_type": "execute_result"
    },
    {
     "data": {
      "image/png": "[encoded data removed]",
      "text/plain": [
       "<Figure size 432x288 with 1 Axes>"
      ]
     },
     "metadata": {
      "needs_background": "light"
     },
     "output_type": "display_data"
    }
   ],
   "source": [
    "plt.imshow(q_value_table)"
   ]
  },
  {
   "cell_type": "code",
   "execution_count": 108,
   "metadata": {},
   "outputs": [
    {
     "name": "stdout",
     "output_type": "stream",
     "text": [
      "q_value_table\n",
      "[[-17581.91288214 -16760.70526882 -12952.13975174 -11585.04661036]\n",
      " [-16125.21122935 -20018.17397748      0.         -11120.89338989]\n",
      " [-11689.85131049 -12824.00736908 -11420.12091368 -11186.8574567 ]\n",
      " [-16528.8818896  -11827.62549647 -11609.24123099      0.        ]]\n"
     ]
    }
   ],
   "source": [
    "q_value_table = np.amax(Q, axis=1).reshape((4, 4))\n",
    "print('q_value_table')\n",
    "print(q_value_table)"
   ]
  },
  {
   "cell_type": "code",
   "execution_count": 109,
   "metadata": {},
   "outputs": [
    {
     "data": {
      "text/plain": [
       "array([[-20582.8008399 , -20587.15756488, -20045.26996973,\n",
       "        -17581.91288214],\n",
       "       [-20378.06148324, -16760.70526882, -20389.20482477,\n",
       "        -20020.26809669],\n",
       "       [-20149.49146338, -19086.98419543, -19002.80848833,\n",
       "        -12952.13975174],\n",
       "       [-18107.99445939, -11585.04661036, -15792.54632639,\n",
       "        -15959.92037387],\n",
       "       [-20436.20562614, -19992.47181655, -20527.17112541,\n",
       "        -16125.21122935],\n",
       "       [-20018.17397748, -20430.86199758, -20651.11755636,\n",
       "        -20613.02411432],\n",
       "       [     0.        ,      0.        ,      0.        ,\n",
       "             0.        ],\n",
       "       [-11120.89338989, -14532.07779896, -15655.42304476,\n",
       "        -14367.911244  ],\n",
       "       [-11689.85131049, -16217.9017773 , -16264.64305633,\n",
       "        -19227.8817151 ],\n",
       "       [-19803.31133576, -20520.13023687, -12824.00736908,\n",
       "        -19681.82050065],\n",
       "       [-12716.52977512, -11420.12091368, -12534.8727911 ,\n",
       "        -14154.27913052],\n",
       "       [-13988.53321777, -12674.52594372, -11186.8574567 ,\n",
       "        -12500.65186916],\n",
       "       [-16528.8818896 , -19397.56634597, -19322.55734243,\n",
       "        -19330.7378683 ],\n",
       "       [-19559.59345483, -17054.93072594, -17333.72438467,\n",
       "        -11827.62549647],\n",
       "       [-14243.159048  , -13896.22060274, -17124.66518183,\n",
       "        -11609.24123099],\n",
       "       [     0.        ,      0.        ,      0.        ,\n",
       "             0.        ]])"
      ]
     },
     "execution_count": 109,
     "metadata": {},
     "output_type": "execute_result"
    }
   ],
   "source": [
    "Q "
   ]
  },
  {
   "cell_type": "code",
   "execution_count": 110,
   "metadata": {},
   "outputs": [
    {
     "data": {
      "text/plain": [
       "<matplotlib.image.AxesImage at 0x7fc194891c90>"
      ]
     },
     "execution_count": 110,
     "metadata": {},
     "output_type": "execute_result"
    },
    {
     "data": {
      "image/png": "[encoded data removed]",
      "text/plain": [
       "<Figure size 432x288 with 1 Axes>"
      ]
     },
     "metadata": {
      "needs_background": "light"
     },
     "output_type": "display_data"
    }
   ],
   "source": [
    "show(qmaze)"
   ]
  },
  {
   "cell_type": "code",
   "execution_count": 111,
   "metadata": {},
   "outputs": [
    {
     "data": {
      "image/png": "[encoded data removed]",
      "text/plain": [
       "<Figure size 432x288 with 1 Axes>"
      ]
     },
     "metadata": {
      "needs_background": "light"
     },
     "output_type": "display_data"
    }
   ],
   "source": [
    "%matplotlib inline\n",
    "plt.plot(total_reward)\n",
    "plt.show()"
   ]
  },
  {
   "cell_type": "code",
   "execution_count": 112,
   "metadata": {},
   "outputs": [
    {
     "name": "stderr",
     "output_type": "stream",
     "text": [
      "100%|██████████| 1/1 [00:00<00:00,  7.97it/s]\n"
     ]
    }
   ],
   "source": [
    "# Q = q_table  # 初始化状态-动作价值函数\n",
    "# N = np.zeros((qmaze.maze.shape[0]**2, 4))  # 记录每个状态-动作被采样的次数\n",
    "# total_reward = []\n",
    "records = []\n",
    "\n",
    "# # 通过ε-greedy策略选择下一个行动\n",
    "# def choose_action(state, epsilon):\n",
    "#     if np.random.uniform() < epsilon:\n",
    "#         return np.random.randint(4)\n",
    "#     else:\n",
    "#         return get_best_action(*state)\n",
    "\n",
    "for episode in trange(1):\n",
    "    \n",
    "    \n",
    "    qmaze = Qmaze(maze)\n",
    "    \n",
    "    # 进行一次完整的 episode，并记录每个状态-动作的信息\n",
    "    while qmaze.game_status() == 'not_over':\n",
    "        # 初次观测\n",
    "        rat_row, rat_col, mode = qmaze.state\n",
    "        # 选择动作\n",
    "        # print(rat_row, rat_col, mode)\n",
    "        action = get_best_action(rat_row, rat_col)\n",
    "\n",
    "        state, action = state_to_index((rat_row, rat_col)), action\n",
    "\n",
    "        # 执行动作并二次观测\n",
    "        canvas, reward, game_over = qmaze.act(action)\n",
    "\n",
    "        records.append((state, action, reward))\n",
    "\n",
    "        rat_row_next, rat_col_next, mode = qmaze.state\n",
    "        \n",
    "        # 随着进行，eps_threshold逐渐降低\n",
    "        epsilon = EPS_END + (EPS_START - EPS_END) * \\\n",
    "            math.exp(-1. * steps_done / EPS_DECAY)\n",
    "        \n",
    "        steps_done += 1\n",
    "        \n",
    "\n",
    "    \n",
    "    # 使用经验采样更新状态-动作价值函数\n",
    "#     G = 0  # 记录返回值\n",
    "#     for j in range(len(records)-1, -1, -1):\n",
    "#         state, action, reward = records[j]\n",
    "#         G += reward\n",
    "#         N[state][action] += 1\n",
    "#         alpha = 1 / N[state][action]\n",
    "#         Q[state][action] += alpha * (G - Q[state][action])\n",
    "        \n",
    "    # # 根据观测更新Q\n",
    "    # update_q_table((rat_row, rat_col), action, (rat_row_next, rat_col_next), reward)\n",
    "    \n",
    "    # print('============episode:', episode, '============')\n",
    "    # print(Q)\n",
    "    # print('total_reward', qmaze.total_reward)\n",
    "    total_reward.append(qmaze.total_reward)"
   ]
  },
  {
   "cell_type": "code",
   "execution_count": 113,
   "metadata": {},
   "outputs": [
    {
     "data": {
      "text/plain": [
       "<matplotlib.image.AxesImage at 0x7fc18ac89b90>"
      ]
     },
     "execution_count": 113,
     "metadata": {},
     "output_type": "execute_result"
    },
    {
     "data": {
      "image/png": "[encoded data removed]",
      "text/plain": [
       "<Figure size 432x288 with 1 Axes>"
      ]
     },
     "metadata": {
      "needs_background": "light"
     },
     "output_type": "display_data"
    }
   ],
   "source": [
    "show(qmaze)"
   ]
  },
  {
   "cell_type": "code",
   "execution_count": null,
   "metadata": {},
   "outputs": [],
   "source": []
  }
 ],
 "metadata": {
  "kernelspec": {
   "display_name": "Python 3",
   "language": "python",
   "name": "python3"
  },
  "language_info": {
   "codemirror_mode": {
    "name": "ipython",
    "version": 3
   },
   "file_extension": ".py",
   "mimetype": "text/x-python",
   "name": "python",
   "nbconvert_exporter": "python",
   "pygments_lexer": "ipython3",
   "version": "3.7.7"
  }
 },
 "nbformat": 4,
 "nbformat_minor": 5
}
