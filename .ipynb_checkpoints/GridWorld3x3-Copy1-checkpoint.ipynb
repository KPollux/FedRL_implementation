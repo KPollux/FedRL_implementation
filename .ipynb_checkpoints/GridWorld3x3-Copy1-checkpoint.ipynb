{
 "cells": [
  {
   "cell_type": "code",
   "execution_count": 1,
   "metadata": {},
   "outputs": [],
   "source": [
    "# CAP6629 001 RL Spring 2023\n",
    "# Yiran Pang\n",
    "# Copied and adapted from https://www.samyzaf.com/ML/rl/qmaze.html about Maze Definition Part"
   ]
  },
  {
   "cell_type": "code",
   "execution_count": 21,
   "metadata": {},
   "outputs": [],
   "source": [
    "import os, sys, time, datetime, json, random\n",
    "import numpy as np\n",
    "import matplotlib.pyplot as plt\n",
    "%matplotlib inline"
   ]
  },
  {
   "cell_type": "markdown",
   "metadata": {},
   "source": [
    "- 0 - 左\n",
    "- 1 - 向上\n",
    "- 2 - 右\n",
    "- 3 - 向下\n",
    "- 每次移动都会花费老鼠 -0.04 分\n",
    "- 奶酪，给予 1.0 分\n",
    "- 封锁的单元格-0.75 分，动作不会被执行\n",
    "- 已经访问过的单元格，-0.25 分\n",
    "- 总奖励低于负阈值：(-0.5 * maze.size)，lose"
   ]
  },
  {
   "cell_type": "code",
   "execution_count": 22,
   "metadata": {},
   "outputs": [],
   "source": [
    "visited_mark = 0.8  # Cells visited by the rat will be painted by gray 0.8\n",
    "rat_mark = 0.5      # The current rat cell will be painteg by gray 0.5\n",
    "LEFT = 0\n",
    "UP = 1\n",
    "RIGHT = 2\n",
    "DOWN = 3\n",
    "\n",
    "# Actions dictionary\n",
    "actions_dict = {\n",
    "    LEFT: 'left',\n",
    "    UP: 'up',\n",
    "    RIGHT: 'right',\n",
    "    DOWN: 'down',\n",
    "}\n",
    "\n",
    "num_actions = len(actions_dict)\n",
    "\n",
    "# Exploration factor\n",
    "epsilon = 0.1"
   ]
  },
  {
   "cell_type": "markdown",
   "metadata": {},
   "source": [
    "## Q-maze"
   ]
  },
  {
   "cell_type": "code",
   "execution_count": null,
   "metadata": {},
   "outputs": [],
   "source": [
    "# maze is a 2d Numpy array of floats between 0.0 to 1.0\n",
    "# 1.0 corresponds to a free cell, and 0.0 an occupied cell\n",
    "# rat = (row, col) initial rat position (defaults to (0,0))\n",
    "\n",
    "class Qmaze(object):\n",
    "    def __init__(self, maze, rat=(0,0)):\n",
    "        # 初始化迷宫，老鼠可以从任意位置开始，默认为左上角\n",
    "        self._maze = np.array(maze)\n",
    "        nrows, ncols = self._maze.shape\n",
    "        # 终点始终在右下角\n",
    "        self.target = (nrows-1, ncols-1)   # target cell where the \"cheese\" is\n",
    "        # 初始化空格list，maze为1表示空格，为0表示墙体\n",
    "        self.free_cells = [(r,c) for r in range(nrows) for c in range(ncols) if self._maze[r,c] == 1.0]\n",
    "        # 将目标格移出空格list\n",
    "        self.free_cells.remove(self.target)\n",
    "        # 检查左上和右下是否为空\n",
    "        if self._maze[self.target] == 0.0:\n",
    "            raise Exception(\"Invalid maze: target cell cannot be blocked!\")\n",
    "        if not rat in self.free_cells:\n",
    "            raise Exception(\"Invalid Rat Location: must sit on a free cell\")\n",
    "        # 放置老鼠并初始化参数\n",
    "        self.reset(rat)\n",
    "\n",
    "    def reset(self, rat):\n",
    "        self.rat = rat\n",
    "        self.maze = np.copy(self._maze)\n",
    "        nrows, ncols = self.maze.shape\n",
    "        row, col = rat\n",
    "        self.maze[row, col] = rat_mark\n",
    "        # 初始状态\n",
    "        self.state = (row, col, 'start')\n",
    "        # 设置最低奖励阈值\n",
    "        self.min_reward = -800\n",
    "        # 初始化总奖励\n",
    "        self.total_reward = 0\n",
    "        self.visited = set()\n",
    "\n",
    "    def update_state(self, action):\n",
    "        '''\n",
    "            input: action [0, 1, 2, 3] [L, U, R, D]\n",
    "        '''\n",
    "        nrows, ncols = self.maze.shape\n",
    "        nrow, ncol, nmode = rat_row, rat_col, mode = self.state\n",
    "        \n",
    "        # 如果老鼠访问的是空格，则记录\n",
    "        if self.maze[rat_row, rat_col] > 0.0:\n",
    "            self.visited.add((rat_row, rat_col))  # mark visited cell\n",
    "\n",
    "        # 获取所有可能执行的动作\n",
    "        valid_actions = self.valid_actions()\n",
    "        # print('valid_actions', valid_actions)\n",
    "        \n",
    "        # 如果没有可以执行的动作（被围住了），则状态为 blocked，位置不变\n",
    "        if not valid_actions:\n",
    "            nmode = 'blocked'\n",
    "        # 如果需要执行的动作在可执行动作列表中，那么状态为有效，并相应执行动作\n",
    "        elif action in valid_actions:\n",
    "            nmode = 'valid'\n",
    "            if action == LEFT:\n",
    "                ncol -= 1\n",
    "            elif action == UP:\n",
    "                nrow -= 1\n",
    "            if action == RIGHT:\n",
    "                ncol += 1\n",
    "            elif action == DOWN:\n",
    "                nrow += 1\n",
    "        # 如果需要执行的动作不在可执行动作列表中（撞墙），位置不变\n",
    "        else:                  # invalid action, no change in rat position\n",
    "            nmode = 'invalid'\n",
    "\n",
    "        # new state\n",
    "        self.state = (nrow, ncol, nmode)\n",
    "\n",
    "    def get_reward(self):\n",
    "        rat_row, rat_col, mode = self.state\n",
    "        nrows, ncols = self.maze.shape\n",
    "        if rat_row == nrows-1 and rat_col == ncols-1:\n",
    "            return 1.0  # 奶酪，给予 1.0 分\n",
    "        if mode == 'blocked':\n",
    "            return self.min_reward - 1\n",
    "        # if (rat_row, rat_col) in self.visited:\n",
    "        #     return -0.25  # 访问已经访问过的单元格，-0.25 分\n",
    "        if mode == 'invalid':\n",
    "            return -0.75  # 撞墙-0.75 分，动作不会被执行\n",
    "        if mode == 'valid':\n",
    "            return -0.04  # 每次移动都会花费老鼠 -0.04 分\n",
    "\n",
    "    def act(self, action):\n",
    "        self.update_state(action)\n",
    "        reward = self.get_reward()\n",
    "        self.total_reward += reward\n",
    "        status = self.game_status()\n",
    "        envstate = self.observe()\n",
    "        return envstate, reward, status\n",
    "\n",
    "    def observe(self):\n",
    "        canvas = self.draw_env()\n",
    "        envstate = canvas.reshape((1, -1))\n",
    "        return envstate\n",
    "\n",
    "    def draw_env(self):\n",
    "        canvas = np.copy(self.maze)\n",
    "        nrows, ncols = self.maze.shape\n",
    "        # clear all visual marks\n",
    "        for r in range(nrows):\n",
    "            for c in range(ncols):\n",
    "                if canvas[r,c] > 0.0:\n",
    "                    canvas[r,c] = 1.0\n",
    "        # draw the rat\n",
    "        row, col, valid = self.state\n",
    "        canvas[row, col] = rat_mark\n",
    "        return canvas\n",
    "\n",
    "    def game_status(self):\n",
    "        if self.total_reward < self.min_reward:\n",
    "            return 'lose'\n",
    "        rat_row, rat_col, mode = self.state\n",
    "        nrows, ncols = self.maze.shape\n",
    "        if rat_row == nrows-1 and rat_col == ncols-1:\n",
    "            return 'win'\n",
    "\n",
    "        return 'not_over'\n",
    "\n",
    "    def valid_actions(self, cell=None):\n",
    "        # 默认验证当前位置\n",
    "        if cell is None:\n",
    "            row, col, mode = self.state\n",
    "        else:\n",
    "            row, col = cell\n",
    "        actions = [0, 1, 2, 3]\n",
    "        nrows, ncols = self.maze.shape\n",
    "        # 如果在第0行，则不能向上走；如果在最后一行，则不能向下走\n",
    "        if row == 0:\n",
    "            actions.remove(1)\n",
    "        elif row == nrows-1:\n",
    "            actions.remove(3)\n",
    "        # 列-左右\n",
    "        if col == 0:\n",
    "            actions.remove(0)\n",
    "        elif col == ncols-1:\n",
    "            actions.remove(2)\n",
    "\n",
    "        # 如果不在最左列，而左边是墙，则不能向左；右边同理\n",
    "        if row>0 and self.maze[row-1,col] == 0.0:\n",
    "            actions.remove(1)\n",
    "        if row<nrows-1 and self.maze[row+1,col] == 0.0:\n",
    "            actions.remove(3)\n",
    "\n",
    "        # 上下同理\n",
    "        if col>0 and self.maze[row,col-1] == 0.0:\n",
    "            actions.remove(0)\n",
    "        if col<ncols-1 and self.maze[row,col+1] == 0.0:\n",
    "            actions.remove(2)\n",
    "\n",
    "        # 返回所有可能执行的动作\n",
    "        return actions"
   ]
  },
  {
   "cell_type": "code",
   "execution_count": null,
   "metadata": {},
   "outputs": [],
   "source": [
    "def show(qmaze):\n",
    "    plt.grid('on')\n",
    "    nrows, ncols = qmaze.maze.shape\n",
    "    ax = plt.gca()\n",
    "    ax.set_xticks(np.arange(0.5, nrows, 1))\n",
    "    ax.set_yticks(np.arange(0.5, ncols, 1))\n",
    "    ax.set_xticklabels([])\n",
    "    ax.set_yticklabels([])\n",
    "    canvas = np.copy(qmaze.maze)\n",
    "    for row,col in qmaze.visited:\n",
    "        canvas[row,col] = 0.6\n",
    "    rat_row, rat_col, _ = qmaze.state\n",
    "    canvas[rat_row, rat_col] = 0.3   # rat cell\n",
    "    canvas[nrows-1, ncols-1] = 0.9 # cheese cell\n",
    "    img = plt.imshow(canvas, interpolation='none', cmap='gray')\n",
    "    return img"
   ]
  },
  {
   "cell_type": "code",
   "execution_count": 25,
   "metadata": {},
   "outputs": [],
   "source": [
    "# maze = [\n",
    "#     [ 1.,  1., 1.],\n",
    "#     [ 1.,  1., 1.],\n",
    "#     [ 1.,  1., 1.],\n",
    "# ]\n",
    "maze = np.loadtxt('games/GridWorld/maze8_0.1_2.txt')"
   ]
  },
  {
   "cell_type": "code",
   "execution_count": 26,
   "metadata": {},
   "outputs": [
    {
     "data": {
      "text/plain": [
       "<matplotlib.image.AxesImage at 0x7f4dfd699f90>"
      ]
     },
     "execution_count": 26,
     "metadata": {},
     "output_type": "execute_result"
    },
    {
     "data": {
      "image/png": "[encoded data removed]",
      "text/plain": [
       "<Figure size 432x288 with 1 Axes>"
      ]
     },
     "metadata": {
      "needs_background": "light"
     },
     "output_type": "display_data"
    }
   ],
   "source": [
    "qmaze = Qmaze(maze)\n",
    "# canvas, reward, game_over = qmaze.act(DOWN)\n",
    "# print(\"reward=\", reward)\n",
    "show(qmaze)"
   ]
  },
  {
   "cell_type": "code",
   "execution_count": 27,
   "metadata": {},
   "outputs": [
    {
     "name": "stdout",
     "output_type": "stream",
     "text": [
      "-0.04 -0.04\n",
      "-0.04 -0.08\n",
      "-0.04 -0.12 not_over\n"
     ]
    },
    {
     "data": {
      "text/plain": [
       "<matplotlib.image.AxesImage at 0x7f4dfd61d0d0>"
      ]
     },
     "execution_count": 27,
     "metadata": {},
     "output_type": "execute_result"
    },
    {
     "data": {
      "image/png": "[encoded data removed]",
      "text/plain": [
       "<Figure size 432x288 with 1 Axes>"
      ]
     },
     "metadata": {
      "needs_background": "light"
     },
     "output_type": "display_data"
    }
   ],
   "source": [
    "envstate, reward, status = qmaze.act(DOWN)  # move down\n",
    "print(reward, qmaze.total_reward)\n",
    "envstate, reward, status = qmaze.act(RIGHT)  # move right\n",
    "print(reward, qmaze.total_reward)\n",
    "envstate, reward, status = qmaze.act(RIGHT)  # move right\n",
    "print(reward, qmaze.total_reward, status)\n",
    "# envstate, reward, status = qmaze.act(RIGHT)  # move right\n",
    "# print(reward, qmaze.total_reward)\n",
    "# envstate, reward, status = qmaze.act(UP)  # move up\n",
    "# print(reward, qmaze.total_reward)\n",
    "show(qmaze)"
   ]
  },
  {
   "cell_type": "markdown",
   "metadata": {},
   "source": [
    "## Q-Learning"
   ]
  },
  {
   "cell_type": "markdown",
   "metadata": {},
   "source": [
    "0 - 左\n",
    "1 - 向上\n",
    "2 - 右\n",
    "3 - 向下"
   ]
  },
  {
   "cell_type": "markdown",
   "metadata": {},
   "source": [
    "$$Q(s,a)= Q(s, a) + α⋅[Value(s’)+γ⋅maxQ(s′)−Q(s,a)]$$"
   ]
  },
  {
   "cell_type": "markdown",
   "metadata": {},
   "source": [
    "**Pseudocode**\n",
    "```\n",
    "Init Q(s, a) to 0 for all (s, a) pairs\n",
    "Repeat for episode = 1 ... numEpisodes\n",
    "     Initialize s to startState\n",
    "     While (s is not TerminalState)\n",
    "           Choose an action a from Actions(s)\n",
    "           s' = new state after action a from s\n",
    "           Q(s,a)= Q(s, a) + α⋅[Value(s’)+γ⋅maxQ(s′)−Q(s,a)]\n",
    "           s = s'\n",
    "```"
   ]
  },
  {
   "cell_type": "code",
   "execution_count": 482,
   "metadata": {},
   "outputs": [
    {
     "name": "stdout",
     "output_type": "stream",
     "text": [
      "============episode: 0 ============\n",
      "[[-0.075      -0.35141925  0.          0.        ]\n",
      " [ 0.          0.          0.          0.        ]\n",
      " [ 0.          0.          0.          0.        ]\n",
      " [ 0.          0.          0.          0.        ]\n",
      " [ 0.          0.          0.          0.        ]\n",
      " [ 0.          0.          0.          0.        ]\n",
      " [ 0.          0.          0.          0.        ]\n",
      " [ 0.          0.          0.          0.        ]\n",
      " [ 0.          0.          0.          0.        ]]\n",
      "total_reward -5.25\n",
      "\n",
      "============episode: 1 ============\n",
      "[[-0.075      -0.35141925 -0.0076     -0.004     ]\n",
      " [-0.004396   -0.075      -0.004      -0.0076    ]\n",
      " [-0.004       0.          0.          0.        ]\n",
      " [ 0.         -0.004      -0.004       0.        ]\n",
      " [-0.004      -0.004      -0.004       0.        ]\n",
      " [ 0.          0.          0.          0.1       ]\n",
      " [ 0.          0.          0.          0.        ]\n",
      " [ 0.          0.          0.          0.        ]\n",
      " [ 0.          0.          0.          0.        ]]\n",
      "total_reward -0.27\n",
      "\n",
      "============episode: 2 ============\n",
      "[[-0.075      -0.39202972 -0.011236   -0.011236  ]\n",
      " [-0.0087088  -0.075      -0.004      -0.0076    ]\n",
      " [-0.004       0.          0.          0.        ]\n",
      " [-0.075      -0.0083524  -0.0076     -0.0076    ]\n",
      " [-0.007996   -0.004      -0.004       0.        ]\n",
      " [ 0.          0.          0.          0.1       ]\n",
      " [-0.075      -0.004396   -0.0076     -0.142896  ]\n",
      " [-0.004396    0.          0.1         0.        ]\n",
      " [ 0.          0.          0.          0.        ]]\n",
      "total_reward -3.2700000000000005\n",
      "\n",
      "============episode: 3 ============\n",
      "[[-0.075      -0.39202972 -0.0145084  -0.011236  ]\n",
      " [-0.0087088  -0.075      -0.0076     -0.0076    ]\n",
      " [-0.004      -0.075      -0.075       0.0059    ]\n",
      " [-0.075      -0.0083524  -0.0076     -0.0076    ]\n",
      " [-0.007996   -0.004      -0.004       0.        ]\n",
      " [ 0.          0.          0.          0.19      ]\n",
      " [-0.075      -0.004396   -0.0076     -0.142896  ]\n",
      " [-0.004396    0.          0.1         0.        ]\n",
      " [ 0.          0.          0.          0.        ]]\n",
      "total_reward -0.6200000000000001\n",
      "\n",
      "============episode: 4 ============\n",
      "[[-0.075      -0.39202972 -0.01780996 -0.011236  ]\n",
      " [-0.0087088  -0.075      -0.0102559  -0.0076    ]\n",
      " [-0.004      -0.075      -0.075       0.02012   ]\n",
      " [-0.075      -0.0083524  -0.0076     -0.0076    ]\n",
      " [-0.007996   -0.004      -0.004       0.        ]\n",
      " [ 0.          0.          0.          0.271     ]\n",
      " [-0.075      -0.004396   -0.0076     -0.142896  ]\n",
      " [-0.004396    0.          0.1         0.        ]\n",
      " [ 0.          0.          0.          0.        ]]\n",
      "total_reward 0.88\n",
      "\n",
      "============episode: 5 ============\n",
      "[[-0.075      -0.39202972 -0.01780996 -0.0148648 ]\n",
      " [-0.0087088  -0.075      -0.0102559  -0.0076    ]\n",
      " [-0.004      -0.075      -0.075       0.02012   ]\n",
      " [-0.075      -0.0083524  -0.01084    -0.0076    ]\n",
      " [-0.007996   -0.004      -0.004       0.0059    ]\n",
      " [ 0.          0.          0.          0.271     ]\n",
      " [-0.075      -0.004396   -0.0076     -0.142896  ]\n",
      " [-0.004396    0.          0.19        0.        ]\n",
      " [ 0.          0.          0.          0.        ]]\n",
      "total_reward 0.88\n",
      "\n",
      "============episode: 6 ============\n",
      "[[-0.075      -0.39202972 -0.01780996 -0.01813072]\n",
      " [-0.0087088  -0.075      -0.0102559  -0.0076    ]\n",
      " [-0.004      -0.075      -0.075       0.02012   ]\n",
      " [-0.075      -0.0083524  -0.0131719  -0.0076    ]\n",
      " [-0.007996   -0.004      -0.004       0.02012   ]\n",
      " [ 0.          0.          0.          0.271     ]\n",
      " [-0.075      -0.004396   -0.0076     -0.142896  ]\n",
      " [-0.004396    0.          0.271       0.        ]\n",
      " [ 0.          0.          0.          0.        ]]\n",
      "total_reward 0.88\n",
      "\n",
      "============episode: 7 ============\n",
      "[[-0.075      -0.39202972 -0.02078136 -0.01813072]\n",
      " [-0.0087088  -0.075      -0.0102559  -0.00884812]\n",
      " [-0.004      -0.075      -0.075       0.02012   ]\n",
      " [-0.075      -0.0083524  -0.0131719  -0.0076    ]\n",
      " [-0.007996   -0.004      -0.004       0.040937  ]\n",
      " [ 0.          0.          0.          0.271     ]\n",
      " [-0.075      -0.004396   -0.0076     -0.142896  ]\n",
      " [-0.004396    0.          0.3439      0.        ]\n",
      " [ 0.          0.          0.          0.        ]]\n",
      "total_reward 0.88\n",
      "\n",
      "============episode: 8 ============\n",
      "[[-0.075      -0.39202972 -0.0235654  -0.02407929]\n",
      " [-0.01392385 -0.075      -0.0102559  -0.00884812]\n",
      " [-0.004      -0.075      -0.075       0.02012   ]\n",
      " [-0.075      -0.01357452 -0.0131719  -0.01490008]\n",
      " [-0.007996   -0.004      -0.004       0.040937  ]\n",
      " [ 0.          0.          0.          0.271     ]\n",
      " [-0.075      -0.00878329  0.0232061  -0.142896  ]\n",
      " [-0.004396    0.          0.40951     0.        ]\n",
      " [ 0.          0.          0.          0.        ]]\n",
      "total_reward 0.64\n",
      "\n",
      "============episode: 9 ============\n",
      "[[-0.075      -0.39202972 -0.02608482 -0.02407929]\n",
      " [-0.01392385 -0.075      -0.0102559  -0.00791055]\n",
      " [-0.004      -0.075      -0.075       0.02012   ]\n",
      " [-0.075      -0.01357452 -0.0131719  -0.01490008]\n",
      " [-0.007996   -0.004      -0.004       0.07338479]\n",
      " [ 0.          0.          0.          0.271     ]\n",
      " [-0.075      -0.00878329  0.0232061  -0.142896  ]\n",
      " [-0.004396    0.          0.468559    0.        ]\n",
      " [ 0.          0.          0.          0.        ]]\n",
      "total_reward 0.88\n",
      "\n"
     ]
    }
   ],
   "source": [
    "# 定义参数\n",
    "LEARNING_RATE = 0.1\n",
    "DISCOUNT_FACTOR = 0.99\n",
    "NUM_Episodes = 10\n",
    "MAZE_SIZE = qmaze.maze.shape[0]\n",
    "\n",
    "# 将状态表示为一个数字\n",
    "def state_to_index(state):\n",
    "    return state[0] * MAZE_SIZE + state[1]\n",
    "\n",
    "# 获取当前状态下的最佳行动\n",
    "def get_best_action(rat_row, rat_col):\n",
    "    state = (rat_row, rat_col)\n",
    "    index = state_to_index(state)\n",
    "    return np.argmax(q_table[index])\n",
    "\n",
    "# 通过ε-greedy策略选择下一个行动\n",
    "def choose_action(state, epsilon):\n",
    "    if np.random.uniform() < epsilon:\n",
    "        return np.random.randint(4)\n",
    "    else:\n",
    "        return get_best_action(*state)\n",
    "    \n",
    "# 更新 Q 表格\n",
    "def update_q_table(state, action, next_state, reward):\n",
    "    index = state_to_index(state)\n",
    "    next_index = state_to_index(next_state)\n",
    "    q_table[index][action] += LEARNING_RATE * (\n",
    "        reward + DISCOUNT_FACTOR * np.max(q_table[next_index]) - q_table[index][action])\n",
    "\n",
    "    \n",
    "# Q-Table\n",
    "# 每行代表格子，从上往下从左往右\n",
    "# 每列代表动作，0 - 左 1 - 向上 2 - 右 3 - 向下\n",
    "q_table = np.zeros((qmaze.maze.shape[0]**2, 4))  \n",
    "total_reward = []\n",
    "\n",
    "for episode in range(NUM_Episodes):\n",
    "    epsilon = 1.0 / (episode + 1)\n",
    "    \n",
    "    qmaze = Qmaze(maze)\n",
    "    \n",
    "    while qmaze.game_status() == 'not_over':\n",
    "        # 初次观测\n",
    "        rat_row, rat_col, mode = qmaze.state\n",
    "        # 选择动作\n",
    "        # print(rat_row, rat_col, mode)\n",
    "        action = choose_action((rat_row, rat_col), epsilon)\n",
    "        # print(action)\n",
    "        # 执行动作并二次观测\n",
    "        canvas, reward, game_over = qmaze.act(action)\n",
    "        rat_row_next, rat_col_next, mode = qmaze.state\n",
    "        # 根据观测更新Q\n",
    "        update_q_table((rat_row, rat_col), action, (rat_row_next, rat_col_next), reward)\n",
    "    \n",
    "    print('============episode:', episode, '============')\n",
    "    print(q_table)\n",
    "    print('total_reward', qmaze.total_reward)\n",
    "    total_reward.append(qmaze.total_reward)\n",
    "    print('')"
   ]
  },
  {
   "cell_type": "code",
   "execution_count": 483,
   "metadata": {},
   "outputs": [
    {
     "name": "stdout",
     "output_type": "stream",
     "text": [
      "q_value_table\n",
      "[[-0.02407929 -0.00791055  0.02012   ]\n",
      " [-0.0131719   0.07338479  0.271     ]\n",
      " [ 0.0232061   0.468559    0.        ]]\n"
     ]
    }
   ],
   "source": [
    "q_value_table = np.amax(q_table, axis=1).reshape((3, 3))\n",
    "print('q_value_table')\n",
    "print(q_value_table)"
   ]
  },
  {
   "cell_type": "code",
   "execution_count": 484,
   "metadata": {},
   "outputs": [
    {
     "data": {
      "text/plain": [
       "<matplotlib.image.AxesImage at 0x1af4265edc0>"
      ]
     },
     "execution_count": 484,
     "metadata": {},
     "output_type": "execute_result"
    },
    {
     "data": {
      "image/png": "[encoded data removed]",
      "text/plain": [
       "<Figure size 432x288 with 1 Axes>"
      ]
     },
     "metadata": {
      "needs_background": "light"
     },
     "output_type": "display_data"
    }
   ],
   "source": [
    "show(qmaze)"
   ]
  },
  {
   "cell_type": "code",
   "execution_count": 485,
   "metadata": {},
   "outputs": [
    {
     "data": {
      "image/png": "[encoded data removed]",
      "text/plain": [
       "<Figure size 432x288 with 1 Axes>"
      ]
     },
     "metadata": {
      "needs_background": "light"
     },
     "output_type": "display_data"
    }
   ],
   "source": [
    "%matplotlib inline\n",
    "plt.plot(total_reward)\n",
    "plt.show()"
   ]
  },
  {
   "cell_type": "markdown",
   "metadata": {},
   "source": [
    "## Monte Carlo"
   ]
  },
  {
   "cell_type": "markdown",
   "metadata": {},
   "source": [
    "**Pseudocode**\n",
    "```\n",
    "Initialize state-action value function Q(s, a)\n",
    "Initialize sampling counter N(s, a)\n",
    "for episode in episodes:\n",
    "    Generate an episode and record information for each state-action pair\n",
    "    G = 0\n",
    "    for t in reversed(range(0, episode_length)):\n",
    "        S_t, A_t, R_t = episode[t]\n",
    "        G = gamma * G + R_t\n",
    "        N(S_t, A_t) += 1\n",
    "        alpha = 1 / N(S_t, A_t)\n",
    "        Q(S_t, A_t) += alpha * (G - Q(S_t, A_t))\n",
    "return state-action value function Q\n",
    "```"
   ]
  },
  {
   "cell_type": "code",
   "execution_count": null,
   "metadata": {},
   "outputs": [],
   "source": [
    "from tqdm import trange\n",
    "\n",
    "# 定义参数\n",
    "LEARNING_RATE = 0.1\n",
    "DISCOUNT_FACTOR = 0.99\n",
    "NUM_Episodes = 1000\n",
    "MAZE_SIZE = qmaze.maze.shape[0]\n",
    "records = []\n",
    "q_table = np.zeros((qmaze.maze.shape[0]**2, 4))  \n",
    "\n",
    "# 将状态表示为一个数字\n",
    "def state_to_index(state):\n",
    "    return state[0] * MAZE_SIZE + state[1]\n",
    "\n",
    "# 获取当前状态下的最佳行动\n",
    "def get_best_action(rat_row, rat_col):\n",
    "    state = (rat_row, rat_col)\n",
    "    index = state_to_index(state)\n",
    "    return np.argmax(q_table[index])\n",
    "\n",
    "# 通过ε-greedy策略选择下一个行动\n",
    "def choose_action(state, epsilon):\n",
    "    if np.random.uniform() < epsilon:\n",
    "        return np.random.randint(4)\n",
    "    else:\n",
    "        return get_best_action(*state)\n",
    "    \n",
    "# 更新 Q 表格\n",
    "# def update_q_table(state, action, next_state, reward):\n",
    "#     index = state_to_index(state)\n",
    "#     next_index = state_to_index(next_state)\n",
    "#     q_table[index][action] += LEARNING_RATE * (\n",
    "#         reward + DISCOUNT_FACTOR * np.max(q_table[next_index]) - q_table[index][action])\n",
    "\n",
    "    \n",
    "# Q-Table\n",
    "# 每行代表格子，从上往下从左往右\n",
    "# 每列代表动作，0 - 左 1 - 向上 2 - 右 3 - 向下\n",
    "Q = q_table  # 初始化状态-动作价值函数\n",
    "N = np.zeros((qmaze.maze.shape[0]**2, 4))  # 记录每个状态-动作被采样的次数\n",
    "total_reward = []\n",
    "\n",
    "for episode in trange(NUM_Episodes):\n",
    "    epsilon = 0.1\n",
    "    \n",
    "    qmaze = Qmaze(maze)\n",
    "    \n",
    "    # 进行一次完整的 episode，并记录每个状态-动作的信息\n",
    "    while qmaze.game_status() == 'not_over':\n",
    "        # 初次观测\n",
    "        rat_row, rat_col, mode = qmaze.state\n",
    "        # 选择动作\n",
    "        # print(rat_row, rat_col, mode)\n",
    "        action = choose_action((rat_row, rat_col), epsilon)\n",
    "\n",
    "        state, action = state_to_index((rat_row, rat_col)), action\n",
    "\n",
    "        # 执行动作并二次观测\n",
    "        canvas, reward, game_over = qmaze.act(action)\n",
    "\n",
    "        records.append((state, action, reward))\n",
    "\n",
    "        rat_row_next, rat_col_next, mode = qmaze.state\n",
    "        \n",
    "\n",
    "    \n",
    "    # 使用经验采样更新状态-动作价值函数\n",
    "    G = 0  # 记录返回值\n",
    "    for j in range(len(records)-1, -1, -1):\n",
    "        state, action, reward = records[j]\n",
    "        G += reward\n",
    "        N[state][action] += 1\n",
    "        alpha = 1 / N[state][action]\n",
    "        Q[state][action] += alpha * (G - Q[state][action])\n",
    "        \n",
    "    # # 根据观测更新Q\n",
    "    # update_q_table((rat_row, rat_col), action, (rat_row_next, rat_col_next), reward)\n",
    "    \n",
    "    # print('============episode:', episode, '============')\n",
    "    # print(Q)\n",
    "    # print('total_reward', qmaze.total_reward)\n",
    "    total_reward.append(qmaze.total_reward)\n",
    "    # print('')\n",
    "    \n",
    "    # break"
   ]
  },
  {
   "cell_type": "code",
   "execution_count": null,
   "metadata": {},
   "outputs": [],
   "source": [
    "q_value_table = np.amax(Q, axis=1).reshape((8, 8))\n",
    "print('q_value_table')\n",
    "print(q_value_table)"
   ]
  },
  {
   "cell_type": "code",
   "execution_count": 31,
   "metadata": {},
   "outputs": [
    {
     "data": {
      "text/plain": [
       "array([[-162.02854447, -161.445     , -153.09      , -124.215     ],\n",
       "       [-159.115     , -112.79833333, -125.655     ,  -84.12382979],\n",
       "       [ -93.73326531,  -81.80910569,  -78.06763133,  -82.53148148],\n",
       "       [ -78.74555877,  -86.55533333,  -63.95851852,  -89.772     ],\n",
       "       [ -74.6625    ,  -70.50515152,  -58.57869565,  -39.32993506],\n",
       "       [ -51.32869565,  -57.90794872,  -34.40926829,  -40.65480769],\n",
       "       [ -33.72      ,  -26.7844898 ,  -15.81825   ,  -38.05      ],\n",
       "       [   0.        ,    0.        ,    0.        ,    0.        ],\n",
       "       [-144.28344262, -133.834375  , -134.44277592, -102.63971564],\n",
       "       [-135.72146067, -110.45055556,  -96.00228643, -123.995     ],\n",
       "       [ -98.19677966,  -73.76233766,  -92.80590909,  -90.93555556],\n",
       "       [ -75.94333333,  -82.70173913,  -46.55713376,  -51.29      ],\n",
       "       [ -46.16952663,  -39.52166667,  -43.21857143,  -45.694     ],\n",
       "       [ -45.30333333,  -40.55071429,  -30.91      ,    0.        ],\n",
       "       [ -38.01      ,  -30.87      ,    0.        ,    0.        ],\n",
       "       [   0.        ,    0.        ,    0.        ,    0.        ],\n",
       "       [-142.94571429, -102.5826409 , -118.60903226, -136.8115    ],\n",
       "       [-133.71769231, -105.96631579,  -98.50575812, -107.82741935],\n",
       "       [ -99.02714286,  -85.22459459, -103.10391304, -100.3075    ],\n",
       "       [-105.48666667,  -75.15625   ,  -50.86      ,  -45.625     ],\n",
       "       [   0.        ,    0.        ,    0.        ,    0.        ],\n",
       "       [   0.        ,    0.        ,    0.        ,    0.        ],\n",
       "       [   0.        ,    0.        ,    0.        ,    0.        ],\n",
       "       [   0.        ,    0.        ,    0.        ,    0.        ],\n",
       "       [-145.63833333, -136.26333333, -128.59679487,  -63.38      ],\n",
       "       [-128.41223684,  -98.71837838, -127.765     , -133.97      ],\n",
       "       [-103.87909091, -100.2675    ,  -48.96763158,    0.        ],\n",
       "       [ -48.78512821,  -47.72      ,  -40.49      ,    0.        ],\n",
       "       [ -40.45      ,    0.        ,    0.        ,    0.        ],\n",
       "       [   0.        ,    0.        ,    0.        ,    0.        ],\n",
       "       [   0.        ,    0.        ,    0.        ,    0.        ],\n",
       "       [   0.        ,    0.        ,    0.        ,    0.        ],\n",
       "       [-128.98352941, -129.685     ,  -63.34      ,    0.        ],\n",
       "       [-133.93      ,  -63.3       ,    0.        ,    0.        ],\n",
       "       [   0.        ,    0.        ,    0.        ,    0.        ],\n",
       "       [   0.        ,    0.        ,    0.        ,    0.        ],\n",
       "       [   0.        ,    0.        ,    0.        ,    0.        ],\n",
       "       [   0.        ,    0.        ,    0.        ,    0.        ],\n",
       "       [   0.        ,    0.        ,    0.        ,    0.        ],\n",
       "       [   0.        ,    0.        ,    0.        ,    0.        ],\n",
       "       [   0.        ,    0.        ,    0.        ,    0.        ],\n",
       "       [   0.        ,    0.        ,    0.        ,    0.        ],\n",
       "       [   0.        ,    0.        ,    0.        ,    0.        ],\n",
       "       [   0.        ,    0.        ,    0.        ,    0.        ],\n",
       "       [   0.        ,    0.        ,    0.        ,    0.        ],\n",
       "       [   0.        ,    0.        ,    0.        ,    0.        ],\n",
       "       [   0.        ,    0.        ,    0.        ,    0.        ],\n",
       "       [   0.        ,    0.        ,    0.        ,    0.        ],\n",
       "       [   0.        ,    0.        ,    0.        ,    0.        ],\n",
       "       [   0.        ,    0.        ,    0.        ,    0.        ],\n",
       "       [   0.        ,    0.        ,    0.        ,    0.        ],\n",
       "       [   0.        ,    0.        ,    0.        ,    0.        ],\n",
       "       [   0.        ,    0.        ,    0.        ,    0.        ],\n",
       "       [   0.        ,    0.        ,    0.        ,    0.        ],\n",
       "       [   0.        ,    0.        ,    0.        ,    0.        ],\n",
       "       [   0.        ,    0.        ,    0.        ,    0.        ],\n",
       "       [   0.        ,    0.        ,    0.        ,    0.        ],\n",
       "       [   0.        ,    0.        ,    0.        ,    0.        ],\n",
       "       [   0.        ,    0.        ,    0.        ,    0.        ],\n",
       "       [   0.        ,    0.        ,    0.        ,    0.        ],\n",
       "       [   0.        ,    0.        ,    0.        ,    0.        ],\n",
       "       [   0.        ,    0.        ,    0.        ,    0.        ],\n",
       "       [   0.        ,    0.        ,    0.        ,    0.        ],\n",
       "       [   0.        ,    0.        ,    0.        ,    0.        ]])"
      ]
     },
     "execution_count": 31,
     "metadata": {},
     "output_type": "execute_result"
    }
   ],
   "source": [
    "Q "
   ]
  },
  {
   "cell_type": "code",
   "execution_count": 32,
   "metadata": {},
   "outputs": [
    {
     "data": {
      "text/plain": [
       "<matplotlib.image.AxesImage at 0x7f4dfca42e50>"
      ]
     },
     "execution_count": 32,
     "metadata": {},
     "output_type": "execute_result"
    },
    {
     "data": {
      "image/png": "[encoded data removed]",
      "text/plain": [
       "<Figure size 432x288 with 1 Axes>"
      ]
     },
     "metadata": {
      "needs_background": "light"
     },
     "output_type": "display_data"
    }
   ],
   "source": [
    "show(qmaze)"
   ]
  },
  {
   "cell_type": "code",
   "execution_count": 33,
   "metadata": {},
   "outputs": [
    {
     "data": {
      "image/png": "[encoded data removed]",
      "text/plain": [
       "<Figure size 432x288 with 1 Axes>"
      ]
     },
     "metadata": {
      "needs_background": "light"
     },
     "output_type": "display_data"
    }
   ],
   "source": [
    "%matplotlib inline\n",
    "plt.plot(total_reward)\n",
    "plt.show()"
   ]
  },
  {
   "cell_type": "code",
   "execution_count": null,
   "metadata": {},
   "outputs": [],
   "source": []
  }
 ],
 "metadata": {
  "kernelspec": {
   "display_name": "Python 3",
   "language": "python",
   "name": "python3"
  },
  "language_info": {
   "codemirror_mode": {
    "name": "ipython",
    "version": 3
   },
   "file_extension": ".py",
   "mimetype": "text/x-python",
   "name": "python",
   "nbconvert_exporter": "python",
   "pygments_lexer": "ipython3",
   "version": "3.7.7"
  }
 },
 "nbformat": 4,
 "nbformat_minor": 5
}
