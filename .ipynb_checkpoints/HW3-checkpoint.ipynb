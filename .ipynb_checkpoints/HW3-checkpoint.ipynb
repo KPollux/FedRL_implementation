{
 "cells": [
  {
   "cell_type": "code",
   "execution_count": 1,
   "metadata": {},
   "outputs": [
    {
     "name": "stderr",
     "output_type": "stream",
     "text": [
      "  0%|                                                                                        | 0/10000 [00:51<?, ?it/s]\n"
     ]
    },
    {
     "ename": "KeyboardInterrupt",
     "evalue": "",
     "output_type": "error",
     "traceback": [
      "\u001b[1;31m---------------------------------------------------------------------------\u001b[0m",
      "\u001b[1;31mKeyboardInterrupt\u001b[0m                         Traceback (most recent call last)",
      "Input \u001b[1;32mIn [1]\u001b[0m, in \u001b[0;36m<cell line: 62>\u001b[1;34m()\u001b[0m\n\u001b[0;32m     59\u001b[0m     \u001b[38;5;28;01mreturn\u001b[39;00m q_values\n\u001b[0;32m     61\u001b[0m \u001b[38;5;66;03m# Run the Q-learning function\u001b[39;00m\n\u001b[1;32m---> 62\u001b[0m q_values \u001b[38;5;241m=\u001b[39m \u001b[43mq_learning\u001b[49m\u001b[43m(\u001b[49m\u001b[43mgrid\u001b[49m\u001b[43m,\u001b[49m\u001b[43m \u001b[49m\u001b[43mstart\u001b[49m\u001b[43m,\u001b[49m\u001b[43m \u001b[49m\u001b[43mgoal\u001b[49m\u001b[43m,\u001b[49m\u001b[43m \u001b[49m\u001b[43malpha\u001b[49m\u001b[43m,\u001b[49m\u001b[43m \u001b[49m\u001b[43mgamma\u001b[49m\u001b[43m,\u001b[49m\u001b[43m \u001b[49m\u001b[43mepsilon\u001b[49m\u001b[43m)\u001b[49m\n\u001b[0;32m     64\u001b[0m \u001b[38;5;66;03m# Print the Q-values\u001b[39;00m\n\u001b[0;32m     65\u001b[0m \u001b[38;5;28mprint\u001b[39m(q_values)\n",
      "Input \u001b[1;32mIn [1]\u001b[0m, in \u001b[0;36mq_learning\u001b[1;34m(grid, start, goal, alpha, gamma, epsilon)\u001b[0m\n\u001b[0;32m     43\u001b[0m state \u001b[38;5;241m=\u001b[39m start\n\u001b[0;32m     44\u001b[0m \u001b[38;5;28;01mwhile\u001b[39;00m state \u001b[38;5;241m!=\u001b[39m goal:\n\u001b[1;32m---> 45\u001b[0m     action \u001b[38;5;241m=\u001b[39m \u001b[43mpolicy\u001b[49m\u001b[43m(\u001b[49m\u001b[43mstate\u001b[49m\u001b[43m)\u001b[49m\n\u001b[0;32m     46\u001b[0m     \u001b[38;5;28;01mif\u001b[39;00m action \u001b[38;5;241m==\u001b[39m \u001b[38;5;124m'\u001b[39m\u001b[38;5;124mup\u001b[39m\u001b[38;5;124m'\u001b[39m:\n\u001b[0;32m     47\u001b[0m         next_state \u001b[38;5;241m=\u001b[39m (\u001b[38;5;28mmax\u001b[39m(state[\u001b[38;5;241m0\u001b[39m]\u001b[38;5;241m-\u001b[39m\u001b[38;5;241m1\u001b[39m,\u001b[38;5;241m0\u001b[39m), state[\u001b[38;5;241m1\u001b[39m])\n",
      "Input \u001b[1;32mIn [1]\u001b[0m, in \u001b[0;36mq_learning.<locals>.policy\u001b[1;34m(state)\u001b[0m\n\u001b[0;32m     33\u001b[0m     \u001b[38;5;28;01mreturn\u001b[39;00m np\u001b[38;5;241m.\u001b[39mrandom\u001b[38;5;241m.\u001b[39mchoice(actions)\n\u001b[0;32m     34\u001b[0m \u001b[38;5;28;01melse\u001b[39;00m:\n\u001b[1;32m---> 35\u001b[0m     \u001b[38;5;28;01mreturn\u001b[39;00m actions[\u001b[43mnp\u001b[49m\u001b[38;5;241;43m.\u001b[39;49m\u001b[43margmax\u001b[49m\u001b[43m(\u001b[49m\u001b[43mq_values\u001b[49m\u001b[43m[\u001b[49m\u001b[43mstate\u001b[49m\u001b[43m]\u001b[49m\u001b[43m)\u001b[49m]\n",
      "File \u001b[1;32m<__array_function__ internals>:5\u001b[0m, in \u001b[0;36margmax\u001b[1;34m(*args, **kwargs)\u001b[0m\n",
      "File \u001b[1;32mD:\\Tools\\anaconda\\lib\\site-packages\\numpy\\core\\fromnumeric.py:1195\u001b[0m, in \u001b[0;36margmax\u001b[1;34m(a, axis, out)\u001b[0m\n\u001b[0;32m   1121\u001b[0m \u001b[38;5;129m@array_function_dispatch\u001b[39m(_argmax_dispatcher)\n\u001b[0;32m   1122\u001b[0m \u001b[38;5;28;01mdef\u001b[39;00m \u001b[38;5;21margmax\u001b[39m(a, axis\u001b[38;5;241m=\u001b[39m\u001b[38;5;28;01mNone\u001b[39;00m, out\u001b[38;5;241m=\u001b[39m\u001b[38;5;28;01mNone\u001b[39;00m):\n\u001b[0;32m   1123\u001b[0m     \u001b[38;5;124;03m\"\"\"\u001b[39;00m\n\u001b[0;32m   1124\u001b[0m \u001b[38;5;124;03m    Returns the indices of the maximum values along an axis.\u001b[39;00m\n\u001b[0;32m   1125\u001b[0m \n\u001b[1;32m   (...)\u001b[0m\n\u001b[0;32m   1193\u001b[0m \n\u001b[0;32m   1194\u001b[0m \u001b[38;5;124;03m    \"\"\"\u001b[39;00m\n\u001b[1;32m-> 1195\u001b[0m     \u001b[38;5;28;01mreturn\u001b[39;00m \u001b[43m_wrapfunc\u001b[49m\u001b[43m(\u001b[49m\u001b[43ma\u001b[49m\u001b[43m,\u001b[49m\u001b[43m \u001b[49m\u001b[38;5;124;43m'\u001b[39;49m\u001b[38;5;124;43margmax\u001b[39;49m\u001b[38;5;124;43m'\u001b[39;49m\u001b[43m,\u001b[49m\u001b[43m \u001b[49m\u001b[43maxis\u001b[49m\u001b[38;5;241;43m=\u001b[39;49m\u001b[43maxis\u001b[49m\u001b[43m,\u001b[49m\u001b[43m \u001b[49m\u001b[43mout\u001b[49m\u001b[38;5;241;43m=\u001b[39;49m\u001b[43mout\u001b[49m\u001b[43m)\u001b[49m\n",
      "File \u001b[1;32mD:\\Tools\\anaconda\\lib\\site-packages\\numpy\\core\\fromnumeric.py:57\u001b[0m, in \u001b[0;36m_wrapfunc\u001b[1;34m(obj, method, *args, **kwds)\u001b[0m\n\u001b[0;32m     54\u001b[0m     \u001b[38;5;28;01mreturn\u001b[39;00m _wrapit(obj, method, \u001b[38;5;241m*\u001b[39margs, \u001b[38;5;241m*\u001b[39m\u001b[38;5;241m*\u001b[39mkwds)\n\u001b[0;32m     56\u001b[0m \u001b[38;5;28;01mtry\u001b[39;00m:\n\u001b[1;32m---> 57\u001b[0m     \u001b[38;5;28;01mreturn\u001b[39;00m bound(\u001b[38;5;241m*\u001b[39margs, \u001b[38;5;241m*\u001b[39m\u001b[38;5;241m*\u001b[39mkwds)\n\u001b[0;32m     58\u001b[0m \u001b[38;5;28;01mexcept\u001b[39;00m \u001b[38;5;167;01mTypeError\u001b[39;00m:\n\u001b[0;32m     59\u001b[0m     \u001b[38;5;66;03m# A TypeError occurs if the object does have such a method in its\u001b[39;00m\n\u001b[0;32m     60\u001b[0m     \u001b[38;5;66;03m# class, but its signature is not identical to that of NumPy's. This\u001b[39;00m\n\u001b[1;32m   (...)\u001b[0m\n\u001b[0;32m     64\u001b[0m     \u001b[38;5;66;03m# Call _wrapit from within the except clause to ensure a potential\u001b[39;00m\n\u001b[0;32m     65\u001b[0m     \u001b[38;5;66;03m# exception has a traceback chain.\u001b[39;00m\n\u001b[0;32m     66\u001b[0m     \u001b[38;5;28;01mreturn\u001b[39;00m _wrapit(obj, method, \u001b[38;5;241m*\u001b[39margs, \u001b[38;5;241m*\u001b[39m\u001b[38;5;241m*\u001b[39mkwds)\n",
      "\u001b[1;31mKeyboardInterrupt\u001b[0m: "
     ]
    }
   ],
   "source": [
    "import numpy as np\n",
    "from tqdm import trange\n",
    "import matplotlib.pyplot as plt\n",
    "import math\n",
    "import copy\n",
    "\n",
    "# 考虑一个8*8的gridworld，起点在左上角，终点在右下角，使用Q-Learning找到终点。\n",
    "# Define the gridworld\n",
    "grid = np.zeros((8,8))\n",
    "start = (0,0)\n",
    "goal = (7,7)\n",
    "\n",
    "# Define the Q-learning parameters\n",
    "alpha = 0.1\n",
    "gamma = 0.9\n",
    "epsilon = 0.1\n",
    "\n",
    "# Define the Q-learning function\n",
    "def q_learning(grid, start, goal, alpha, gamma, epsilon):\n",
    "    # Initialize the Q-values\n",
    "    q_values = np.zeros((8,8,4))\n",
    "    \n",
    "    steps_done = 0\n",
    "    \n",
    "    # Define the actions\n",
    "    actions = ['up', 'down', 'left', 'right']\n",
    "    \n",
    "    # Define the rewards\n",
    "    rewards = np.zeros((8,8))\n",
    "    rewards[goal] = 1\n",
    "    \n",
    "    # Define the policy\n",
    "    def policy(state, steps_done):\n",
    "        eps_threshold = EPS_END + (EPS_START - EPS_END) * \\\n",
    "                            math.exp(-1. * steps_done / EPS_DECAY)\n",
    "        if np.random.uniform() < eps_threshold:\n",
    "            return np.random.choice(actions)\n",
    "        else:\n",
    "            return actions[np.argmax(q_values[state])]\n",
    "    \n",
    "    # Define the update rule\n",
    "    def update(state, action, next_state, reward):\n",
    "        q_values[state][actions.index(action)] += alpha * (reward + gamma * np.max(q_values[next_state]) - q_values[state][actions.index(action)])\n",
    "    \n",
    "    # Run the Q-learning algorithm\n",
    "    for i in trange(10000):\n",
    "        state = start\n",
    "        while state != goal:\n",
    "            action = policy(state, steps_done)\n",
    "            steps_done +\n",
    "            if action == 'up':\n",
    "                next_state = (max(state[0]-1,0), state[1])\n",
    "            elif action == 'down':\n",
    "                next_state = (min(state[0]+1,7), state[1])\n",
    "            elif action == 'left':\n",
    "                next_state = (state[0], max(state[1]-1,0))\n",
    "            elif action == 'right':\n",
    "                next_state = (state[0], min(state[1]+1,7))\n",
    "            reward = rewards[next_state]\n",
    "            update(state, action, next_state, reward)\n",
    "            state = next_state\n",
    "    \n",
    "    # Return the Q-values\n",
    "    return q_values\n",
    "\n",
    "# Run the Q-learning function\n",
    "q_values = q_learning(grid, start, goal, alpha, gamma, epsilon)\n",
    "\n",
    "# Print the Q-values\n",
    "print(q_values)"
   ]
  },
  {
   "cell_type": "code",
   "execution_count": null,
   "metadata": {},
   "outputs": [],
   "source": []
  },
  {
   "cell_type": "code",
   "execution_count": 369,
   "metadata": {},
   "outputs": [],
   "source": [
    "# Define the Q-learning function\n",
    "def q_learning(grid, alpha=0.5, gamma=0.5, num_episodes=5000):\n",
    "    Q = np.zeros((3, 3, 4))\n",
    "    rewards = []\n",
    "    Q_history = []\n",
    "    \n",
    "    steps_done = 0\n",
    "    EPS_START = 0.9\n",
    "    EPS_END = 0.05\n",
    "    EPS_DECAY = 1000\n",
    "    \n",
    "    for episode in trange(num_episodes):\n",
    "        state = (0, 0)\n",
    "        acc_reward = 0\n",
    "        while state not in terminal_states:\n",
    "            \n",
    "            eps_threshold = EPS_END + (EPS_START - EPS_END) * \\\n",
    "                            math.exp(-1. * steps_done / EPS_DECAY)\n",
    "            steps_done += 1\n",
    "            # eps_threshold = 0.1\n",
    "            \n",
    "            if np.random.rand() < eps_threshold:\n",
    "                action = np.random.randint(0, 4)\n",
    "            else:\n",
    "                action = np.argmax(Q[state])\n",
    "                \n",
    "            if action == 0:  # Up\n",
    "                next_state = (max(state[0] - 1, 0), state[1])\n",
    "            elif action == 1:  # Right\n",
    "                next_state = (state[0], min(state[1] + 1, 2))\n",
    "            elif action == 2:  # Down\n",
    "                next_state = (min(state[0] + 1, 2), state[1])\n",
    "            else:  # Left\n",
    "                next_state = (state[0], max(state[1] - 1, 0))\n",
    "                \n",
    "            reward = grid[next_state]\n",
    "            acc_reward += reward\n",
    "            Q[state][action] = (1-alpha)*Q[state][action] + alpha*(reward + gamma * np.max(Q[next_state]))\n",
    "            state = next_state\n",
    "            # print(Q)\n",
    "            \n",
    "        if episode in [1, 5, 10, num_episodes-1]:\n",
    "            Q_history.append(copy.deepcopy(Q))\n",
    "        rewards.append(acc_reward)\n",
    "    print(steps_done)\n",
    "    print(steps_done/num_episodes)\n",
    "    return Q, rewards, Q_history"
   ]
  },
  {
   "cell_type": "code",
   "execution_count": 375,
   "metadata": {},
   "outputs": [
    {
     "name": "stderr",
     "output_type": "stream",
     "text": [
      "100%|███████████████████████████████████████████████████████████████████████████| 5000/5000 [00:00<00:00, 31540.20it/s]"
     ]
    },
    {
     "name": "stdout",
     "output_type": "stream",
     "text": [
      "12701\n",
      "2.5402\n",
      "[[ 12   0   0]\n",
      " [ 25  50 100]\n",
      " [  0   0   0]]\n"
     ]
    },
    {
     "name": "stderr",
     "output_type": "stream",
     "text": [
      "\n"
     ]
    }
   ],
   "source": [
    "# Get the optimal policy\n",
    "Q, rewards, Q_history = q_learning(grid)\n",
    "\n",
    "policy = np.zeros((3, 3), dtype=int)\n",
    "\n",
    "for i in range(3):\n",
    "    for j in range(3):\n",
    "        policy[i][j] = np.max(Q[(i, j)])\n",
    "\n",
    "print(policy)"
   ]
  },
  {
   "cell_type": "code",
   "execution_count": 371,
   "metadata": {},
   "outputs": [
    {
     "name": "stdout",
     "output_type": "stream",
     "text": [
      "['↓', '↑', '↑']\n",
      "['→', '→', '↑']\n",
      "['↑', '↑', '↑']\n"
     ]
    }
   ],
   "source": [
    "policy_grid = policy.tolist()\n",
    "directions = {0: '↑', 1: '→', 2: '↓', 3: '←'}\n",
    "\n",
    "# 将数字替换为相应的方向符号\n",
    "for i in range(len(grid)):\n",
    "    for j in range(len(grid[i])):\n",
    "        policy_grid[i][j] = directions.get(policy_grid[i][j], grid[i][j])\n",
    "\n",
    "# 打印结果\n",
    "for row in policy_grid:\n",
    "    print(row)"
   ]
  },
  {
   "cell_type": "code",
   "execution_count": 372,
   "metadata": {},
   "outputs": [],
   "source": [
    "# 按最近的100轮计算移动平均\n",
    "window_size = 100\n",
    "smooth_rewards = np.convolve(rewards, np.ones(window_size)/window_size, mode='valid')"
   ]
  },
  {
   "cell_type": "code",
   "execution_count": 373,
   "metadata": {},
   "outputs": [
    {
     "data": {
      "text/plain": [
       "<matplotlib.legend.Legend at 0x15b58aea850>"
      ]
     },
     "execution_count": 373,
     "metadata": {},
     "output_type": "execute_result"
    },
    {
     "data": {
      "image/png": "[encoded data removed]",
      "text/plain": [
       "<Figure size 432x288 with 1 Axes>"
      ]
     },
     "metadata": {
      "needs_background": "light"
     },
     "output_type": "display_data"
    }
   ],
   "source": [
    "plt.plot(rewards, label='rewards')\n",
    "plt.plot(smooth_rewards, label='smooth_rewards')\n",
    "plt.xlabel('Episodes')\n",
    "plt.ylabel('Rewards')\n",
    "plt.legend()"
   ]
  },
  {
   "cell_type": "code",
   "execution_count": 374,
   "metadata": {},
   "outputs": [
    {
     "data": {
      "text/plain": [
       "[array([[[  0. , -40. ,   0. ,   0. ],\n",
       "         [  0. ,   0. ,   0. ,   0. ],\n",
       "         [  0. ,   0. ,   0. ,   0. ]],\n",
       " \n",
       "        [[  0. ,   0. ,  12.5,   0. ],\n",
       "         [  0. ,   0. ,   0. ,   0. ],\n",
       "         [  0. ,   0. ,   0. ,   0. ]],\n",
       " \n",
       "        [[  0. ,   0. ,   0. ,   0. ],\n",
       "         [  0. ,   0. ,   0. ,   0. ],\n",
       "         [  0. ,   0. ,   0. ,   0. ]]]),\n",
       " array([[[  2.05078125, -60.        ,   5.859375  ,   1.3671875 ],\n",
       "         [  0.        ,   0.        ,   0.        ,   0.        ],\n",
       "         [  0.        ,   0.        ,   0.        ,   0.        ]],\n",
       " \n",
       "        [[  1.171875  ,   0.        ,  12.5       ,   4.6875    ],\n",
       "         [-40.        ,   0.        , -50.        ,   0.        ],\n",
       "         [  0.        ,   0.        ,  40.        ,   0.        ]],\n",
       " \n",
       "        [[  0.        ,   0.        ,   0.        ,   0.        ],\n",
       "         [  0.        ,   0.        ,   0.        ,   0.        ],\n",
       "         [  0.        ,   0.        ,   0.        ,   0.        ]]]),\n",
       " array([[[  3.46374512, -75.        ,   9.75341797,   3.54919434],\n",
       "         [  0.        ,   0.        ,   0.        ,   0.        ],\n",
       "         [  0.        ,   0.        ,   0.        ,   0.        ]],\n",
       " \n",
       "        [[  3.48815918,   0.        ,  21.875     ,   6.15234375],\n",
       "         [-40.        ,  10.        , -50.        ,   0.        ],\n",
       "         [  0.        ,   0.        ,  60.        ,   0.        ]],\n",
       " \n",
       "        [[  0.        ,   0.        ,   0.        ,   0.        ],\n",
       "         [  0.        ,   0.        ,   0.        ,   0.        ],\n",
       "         [  0.        ,   0.        ,   0.        ,   0.        ]]]),\n",
       " array([[[   6.25,  -80.  ,   12.5 ,    6.25],\n",
       "         [   0.  ,    0.  ,    0.  ,    0.  ],\n",
       "         [   0.  ,    0.  ,    0.  ,    0.  ]],\n",
       " \n",
       "        [[   6.25,   25.  ,   25.  ,   12.5 ],\n",
       "         [ -80.  ,   50.  , -100.  ,   12.5 ],\n",
       "         [ 100.  ,   50.  ,   80.  ,   25.  ]],\n",
       " \n",
       "        [[   0.  ,    0.  ,    0.  ,    0.  ],\n",
       "         [   0.  ,    0.  ,    0.  ,    0.  ],\n",
       "         [   0.  ,    0.  ,    0.  ,    0.  ]]])]"
      ]
     },
     "execution_count": 374,
     "metadata": {},
     "output_type": "execute_result"
    }
   ],
   "source": [
    "Q_history"
   ]
  },
  {
   "cell_type": "code",
   "execution_count": 395,
   "metadata": {},
   "outputs": [
    {
     "name": "stdout",
     "output_type": "stream",
     "text": [
      "=========Episode 1 Q-Table=========\n",
      "          ↑     →    ↓    ←\n",
      "(1, 3)  0.0 -60.0  0.0  0.0\n",
      "(2, 3)  0.0   0.0  0.0  0.0\n",
      "(3, 3)  0.0   0.0  0.0  0.0\n",
      "(1, 2)  0.0   0.0  0.0  0.0\n",
      "(2, 2)  0.0   0.0  0.0  0.0\n",
      "(3, 2)  0.0   0.0  0.0  0.0\n",
      "(1, 1)  0.0   0.0  0.0  0.0\n",
      "(2, 1)  0.0   0.0  0.0  0.0\n",
      "(3, 1)  0.0   0.0  0.0  0.0\n",
      "\n",
      "=========Episode 5 Q-Table=========\n",
      "          ↑     →     ↓    ←\n",
      "(1, 3)  0.0 -70.0   4.7  0.0\n",
      "(2, 3)  0.0   0.0   0.0  0.0\n",
      "(3, 3)  0.0   0.0   0.0  0.0\n",
      "(1, 2)  0.8   0.0  18.8  4.7\n",
      "(2, 2)  0.0   0.0   0.0  0.0\n",
      "(3, 2)  0.0   0.0  40.0  0.0\n",
      "(1, 1)  0.0   0.0   0.0  0.0\n",
      "(2, 1)  0.0   0.0   0.0  0.0\n",
      "(3, 1)  0.0   0.0   0.0  0.0\n",
      "\n",
      "=========Episode 10 Q-Table=========\n",
      "          ↑     →     ↓    ←\n",
      "(1, 3)  1.8 -79.4   8.2  2.1\n",
      "(2, 3)  0.0   0.0   0.0  0.0\n",
      "(3, 3)  0.0   0.0   0.0  0.0\n",
      "(1, 2)  2.1   0.0  21.9  7.0\n",
      "(2, 2)  0.0   0.0   0.0  0.0\n",
      "(3, 2)  0.0   0.0  40.0  0.0\n",
      "(1, 1)  0.0   0.0   0.0  0.0\n",
      "(2, 1)  0.0   0.0   0.0  0.0\n",
      "(3, 1)  0.0   0.0   0.0  0.0\n",
      "\n",
      "=========Episode Final Q-Table=========\n",
      "            ↑     →      ↓     ←\n",
      "(1, 3)    6.2 -80.0   12.5   6.2\n",
      "(2, 3)    0.0   0.0    0.0   0.0\n",
      "(3, 3)    0.0   0.0    0.0   0.0\n",
      "(1, 2)    6.2  25.0   25.0  12.5\n",
      "(2, 2)  -80.0  50.0 -100.0  12.5\n",
      "(3, 2)  100.0  50.0   80.0  25.0\n",
      "(1, 1)    0.0   0.0    0.0   0.0\n",
      "(2, 1)    0.0   0.0    0.0   0.0\n",
      "(3, 1)    0.0   0.0    0.0   0.0\n",
      "\n"
     ]
    }
   ],
   "source": [
    "import numpy as np\n",
    "import pandas as pd\n",
    "\n",
    "index = []\n",
    "# 定义行名和列名\n",
    "for j in range(3, 0, -1):\n",
    "    for i in range(1, 4, 1):\n",
    "        index.append((i, j))\n",
    "# index = [(j, i) for i in range(1, 4, 1) for j in range(3, 0, -1)]\n",
    "columns = ['↑', '→', '↓', '←']\n",
    "episodes = ['1', '5', '10', 'Final']\n",
    "\n",
    "# 定义一个数组\n",
    "for i, my_array in enumerate(Q_history):\n",
    "    \n",
    "    # # 将数组转换为DataFrame格式\n",
    "    df = pd.DataFrame(my_array.reshape(-1, 4), index=index, columns=columns)\n",
    "    df = df.round(1)\n",
    "\n",
    "    # # 打印结果\n",
    "    print(f'=========Episode {episodes[i]} Q-Table=========')\n",
    "    print(df)\n",
    "    print()"
   ]
  },
  {
   "cell_type": "code",
   "execution_count": 350,
   "metadata": {},
   "outputs": [
    {
     "data": {
      "text/plain": [
       "[(1, 3), (2, 3), (3, 3), (1, 2), (2, 2), (3, 2), (1, 1), (2, 1), (3, 1)]"
      ]
     },
     "execution_count": 350,
     "metadata": {},
     "output_type": "execute_result"
    }
   ],
   "source": [
    "index"
   ]
  },
  {
   "cell_type": "code",
   "execution_count": 351,
   "metadata": {},
   "outputs": [
    {
     "data": {
      "text/plain": [
       "[(1, 3), (2, 3), (3, 3), (1, 2), (2, 2), (3, 2), (1, 1), (2, 1), (3, 1)]"
      ]
     },
     "execution_count": 351,
     "metadata": {},
     "output_type": "execute_result"
    }
   ],
   "source": [
    "index"
   ]
  },
  {
   "cell_type": "code",
   "execution_count": 352,
   "metadata": {},
   "outputs": [
    {
     "ename": "SyntaxError",
     "evalue": "invalid syntax (3242551810.py, line 1)",
     "output_type": "error",
     "traceback": [
      "\u001b[1;36m  Input \u001b[1;32mIn [352]\u001b[1;36m\u001b[0m\n\u001b[1;33m    0, 0  1, 3\u001b[0m\n\u001b[1;37m              ^\u001b[0m\n\u001b[1;31mSyntaxError\u001b[0m\u001b[1;31m:\u001b[0m invalid syntax\n"
     ]
    }
   ],
   "source": [
    "0, 0  1, 3\n",
    "0, 1  2, 3\n",
    "0, 2  3, 3"
   ]
  },
  {
   "cell_type": "code",
   "execution_count": 2,
   "metadata": {},
   "outputs": [],
   "source": [
    "import matplotlib.pyplot as plt\n",
    "import numpy as np"
   ]
  },
  {
   "cell_type": "code",
   "execution_count": null,
   "metadata": {},
   "outputs": [],
   "source": []
  },
  {
   "cell_type": "code",
   "execution_count": 3,
   "metadata": {},
   "outputs": [
    {
     "ename": "NameError",
     "evalue": "name 'r_x' is not defined",
     "output_type": "error",
     "traceback": [
      "\u001b[0;31m---------------------------------------------------------------------------\u001b[0m",
      "\u001b[0;31mNameError\u001b[0m                                 Traceback (most recent call last)",
      "\u001b[0;32m<ipython-input-3-25ce95a131b9>\u001b[0m in \u001b[0;36m<module>\u001b[0;34m\u001b[0m\n\u001b[1;32m     18\u001b[0m \u001b[0;32mwhile\u001b[0m \u001b[0;32mTrue\u001b[0m\u001b[0;34m:\u001b[0m\u001b[0;34m\u001b[0m\u001b[0;34m\u001b[0m\u001b[0m\n\u001b[1;32m     19\u001b[0m     \u001b[0;31m# 计算当前梯度值\u001b[0m\u001b[0;34m\u001b[0m\u001b[0;34m\u001b[0m\u001b[0;34m\u001b[0m\u001b[0m\n\u001b[0;32m---> 20\u001b[0;31m     \u001b[0mgrad\u001b[0m \u001b[0;34m=\u001b[0m \u001b[0mgradient\u001b[0m\u001b[0;34m(\u001b[0m\u001b[0mw\u001b[0m\u001b[0;34m)\u001b[0m\u001b[0;34m\u001b[0m\u001b[0;34m\u001b[0m\u001b[0m\n\u001b[0m\u001b[1;32m     21\u001b[0m \u001b[0;34m\u001b[0m\u001b[0m\n\u001b[1;32m     22\u001b[0m     \u001b[0;31m# 更新参数值\u001b[0m\u001b[0;34m\u001b[0m\u001b[0;34m\u001b[0m\u001b[0;34m\u001b[0m\u001b[0m\n",
      "\u001b[0;32m<ipython-input-3-25ce95a131b9>\u001b[0m in \u001b[0;36mgradient\u001b[0;34m(w)\u001b[0m\n\u001b[1;32m     10\u001b[0m \u001b[0;34m\u001b[0m\u001b[0m\n\u001b[1;32m     11\u001b[0m \u001b[0;32mdef\u001b[0m \u001b[0mgradient\u001b[0m\u001b[0;34m(\u001b[0m\u001b[0mw\u001b[0m\u001b[0;34m)\u001b[0m\u001b[0;34m:\u001b[0m\u001b[0;34m\u001b[0m\u001b[0;34m\u001b[0m\u001b[0m\n\u001b[0;32m---> 12\u001b[0;31m     \u001b[0;32mreturn\u001b[0m \u001b[0mr_x\u001b[0m\u001b[0;34m.\u001b[0m\u001b[0mdot\u001b[0m\u001b[0;34m(\u001b[0m\u001b[0mw\u001b[0m\u001b[0;34m)\u001b[0m \u001b[0;34m-\u001b[0m \u001b[0mr_xd\u001b[0m\u001b[0;34m\u001b[0m\u001b[0;34m\u001b[0m\u001b[0m\n\u001b[0m\u001b[1;32m     13\u001b[0m \u001b[0;34m\u001b[0m\u001b[0m\n\u001b[1;32m     14\u001b[0m \u001b[0;31m# 定义停止条件\u001b[0m\u001b[0;34m\u001b[0m\u001b[0;34m\u001b[0m\u001b[0;34m\u001b[0m\u001b[0m\n",
      "\u001b[0;31mNameError\u001b[0m: name 'r_x' is not defined"
     ]
    }
   ],
   "source": [
    "# 定义学习率\n",
    "learning_rate = 0.3\n",
    "\n",
    "# 定义初始参数值\n",
    "w = np.array([0, 0])\n",
    "\n",
    "# 定义损失函数及其梯度\n",
    "def loss_function(w):\n",
    "    return 0.5 * sigma ** 2 - np.dot(r_xd, w) + 0.5 * np.dot(w.T, r_x.dot(w))\n",
    "\n",
    "def gradient(w):\n",
    "    return r_x.dot(w) - r_xd\n",
    "\n",
    "# 定义停止条件\n",
    "epsilon = 1e-5\n",
    "\n",
    "# 使用梯度下降算法求解最优值\n",
    "while True:\n",
    "    # 计算当前梯度值\n",
    "    grad = gradient(w)\n",
    "    \n",
    "    # 更新参数值\n",
    "    w_new = w - learning_rate * grad\n",
    "    \n",
    "    # 计算损失函数值\n",
    "    loss_new = loss_function(w_new)\n",
    "    \n",
    "    # 判断是否收敛\n",
    "    if np.linalg.norm(w_new - w) < epsilon or loss_new > loss_function(w):\n",
    "        break\n",
    "    \n",
    "    # 更新参数和损失函数值\n",
    "    w = w_new\n",
    "    loss = loss_new\n",
    "\n",
    "print(\"Optimal value of w: \", w)\n",
    "print(\"Minimum value of loss: \", loss)\n"
   ]
  },
  {
   "cell_type": "code",
   "execution_count": 1,
   "metadata": {},
   "outputs": [
    {
     "ename": "NameError",
     "evalue": "name 'gradient' is not defined",
     "output_type": "error",
     "traceback": [
      "\u001b[0;31m---------------------------------------------------------------------------\u001b[0m",
      "\u001b[0;31mNameError\u001b[0m                                 Traceback (most recent call last)",
      "\u001b[0;32m<ipython-input-1-dbd9f0111ba8>\u001b[0m in \u001b[0;36m<module>\u001b[0;34m\u001b[0m\n\u001b[1;32m     10\u001b[0m \u001b[0;32mwhile\u001b[0m \u001b[0;32mTrue\u001b[0m\u001b[0;34m:\u001b[0m\u001b[0;34m\u001b[0m\u001b[0;34m\u001b[0m\u001b[0m\n\u001b[1;32m     11\u001b[0m     \u001b[0;31m# Compute current gradient value\u001b[0m\u001b[0;34m\u001b[0m\u001b[0;34m\u001b[0m\u001b[0;34m\u001b[0m\u001b[0m\n\u001b[0;32m---> 12\u001b[0;31m     \u001b[0mgrad\u001b[0m \u001b[0;34m=\u001b[0m \u001b[0mgradient\u001b[0m\u001b[0;34m(\u001b[0m\u001b[0mw\u001b[0m\u001b[0;34m)\u001b[0m\u001b[0;34m\u001b[0m\u001b[0;34m\u001b[0m\u001b[0m\n\u001b[0m\u001b[1;32m     13\u001b[0m \u001b[0;34m\u001b[0m\u001b[0m\n\u001b[1;32m     14\u001b[0m     \u001b[0;31m# Update parameter values\u001b[0m\u001b[0;34m\u001b[0m\u001b[0;34m\u001b[0m\u001b[0;34m\u001b[0m\u001b[0m\n",
      "\u001b[0;31mNameError\u001b[0m: name 'gradient' is not defined"
     ]
    }
   ],
   "source": [
    "# Define learning rate, initial parameter values, loss function, gradient, and stopping criteria as before...\n",
    "\n",
    "# Create an empty list to store weight vector values\n",
    "w_traj = []\n",
    "\n",
    "# Use gradient descent algorithm to find optimal value of w\n",
    "while True:\n",
    "    # Compute current gradient value\n",
    "    grad = gradient(w)\n",
    "    \n",
    "    # Update parameter values\n",
    "    w_new = w - learning_rate * grad\n",
    "    \n",
    "    # Compute new loss function value\n",
    "    loss_new = loss_function(w_new)\n",
    "    \n",
    "    # Check for convergence\n",
    "    if np.linalg.norm(w_new - w) < epsilon or loss_new > loss_function(w):\n",
    "        break\n",
    "    \n",
    "    # Update parameter and loss function values\n",
    "    w = w_new\n",
    "    loss = loss_new\n",
    "    \n",
    "    # Append current weight vector to the trajectory list\n",
    "    w_traj.append(w)\n",
    "\n",
    "# Convert weight trajectory list to a numpy array\n",
    "w_traj = np.array(w_traj)\n",
    "\n",
    "# Plot the trajectory\n",
    "plt.plot(w_traj[:, 0], w_traj[:, 1], 'bo-')\n",
    "plt.xlabel('w1')\n",
    "plt.ylabel('w2')\n",
    "plt.title('Trajectory of weight vector')\n",
    "plt.show()\n"
   ]
  },
  {
   "cell_type": "code",
   "execution_count": null,
   "metadata": {},
   "outputs": [],
   "source": []
  }
 ],
 "metadata": {
  "kernelspec": {
   "display_name": "Python 3",
   "language": "python",
   "name": "python3"
  },
  "language_info": {
   "codemirror_mode": {
    "name": "ipython",
    "version": 3
   },
   "file_extension": ".py",
   "mimetype": "text/x-python",
   "name": "python",
   "nbconvert_exporter": "python",
   "pygments_lexer": "ipython3",
   "version": "3.7.7"
  }
 },
 "nbformat": 4,
 "nbformat_minor": 5
}
