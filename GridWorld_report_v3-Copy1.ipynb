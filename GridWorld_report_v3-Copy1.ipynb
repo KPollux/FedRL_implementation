{
 "cells": [
  {
   "cell_type": "code",
   "execution_count": 1961,
   "metadata": {},
   "outputs": [],
   "source": [
    "import os, sys, time, datetime, json, random\n",
    "import numpy as np\n",
    "import copy\n",
    "import matplotlib.pyplot as plt\n",
    "%matplotlib inline"
   ]
  },
  {
   "cell_type": "markdown",
   "metadata": {},
   "source": [
    "- 0 - 左\n",
    "- 1 - 向上\n",
    "- 2 - 右\n",
    "- 3 - 向下\n",
    "- 每次移动都会花费老鼠 -0.04 分\n",
    "- 奶酪，给予 1.0 分\n",
    "- 封锁的单元格-0.75 分，动作不会被执行\n",
    "- 迷宫边界之外的行为：-0.8 分，动作不会被执行\n",
    "- 已经访问过的单元格，-0.25 分\n",
    "- 总奖励低于负阈值：(-0.5 * maze.size)，lose"
   ]
  },
  {
   "cell_type": "code",
   "execution_count": 2558,
   "metadata": {},
   "outputs": [],
   "source": [
    "visited_mark = 0.8  # Cells visited by the rat will be painted by gray 0.8\n",
    "end_mark = 1\n",
    "rat_mark = 0.5      # The current rat cell will be painteg by gray 0.5\n",
    "LEFT = 0\n",
    "UP = 1\n",
    "RIGHT = 2\n",
    "DOWN = 3\n",
    "\n",
    "# Actions dictionary\n",
    "actions_dict = {\n",
    "    LEFT: 'left',\n",
    "    UP: 'up',\n",
    "    RIGHT: 'right',\n",
    "    DOWN: 'down',\n",
    "}\n",
    "\n",
    "num_actions = len(actions_dict)\n",
    "\n",
    "maze_path = 'games/GridWorld/maze16_0.05_3.txt'# 'maze8n_4.txt'  # 'games/GridWorld/maze16_0.05_4.txt'  # maze16_0.05_1.txt\n",
    "ob_size = -1  # -1:全局, N*N\n",
    "ENV_NAME = 'grid_'+maze_path.split('.txt')[0]\n",
    "\n",
    "# BATCH_SIZE是指从重放缓冲区采样的转换数\n",
    "# GAMMA是上一节中提到的折扣系数\n",
    "# EPS_START是EPSILON的起始值\n",
    "# EPS_END是epsilon的最终值\n",
    "# EPS_DECAY 控制epsilon的指数衰减率，越高意味着衰减越慢\n",
    "# TAU是目标网络的更新率\n",
    "# LR是AdamW优化器的学习率\n",
    "BATCH_SIZE = 128\n",
    "GAMMA = 0.99\n",
    "EPS_START = 0.95\n",
    "EPS_END = 0.05\n",
    "EPS_DECAY = 100000\n",
    "TAU = 0.005\n",
    "LR = 5e-4 # 5e-4\n",
    "num_episodes = 1000  # 300\n",
    "max_Tstep = 512  # 64 128 256\n",
    "ReplayMemorySize = 1024\n",
    "sync_target_net_freq = -1  # 1e4 # -1 1e4\n",
    "\n",
    "R_GOAL = 50\n",
    "R_WALL = -10\n",
    "R_MOVE = 0\n",
    "R_Heuristic = True\n",
    "\n",
    "Avoid_looping = True"
   ]
  },
  {
   "cell_type": "code",
   "execution_count": 2559,
   "metadata": {},
   "outputs": [],
   "source": [
    "# now = time.strftime(\"%m-%d_%H-%M-%S\", time.localtime())\n",
    "# folder_name = f\"runs/{ENV_NAME}/\" + now\n",
    "# os.makedirs('runs/', exist_ok=True)\n",
    "# os.makedirs(f'runs/{ENV_NAME}/', exist_ok=True)\n",
    "# os.makedirs(folder_name, exist_ok=True)"
   ]
  },
  {
   "cell_type": "code",
   "execution_count": 2560,
   "metadata": {},
   "outputs": [],
   "source": [
    "import random\n",
    "import heapq\n",
    "\n",
    "def find_path(maze, start, end):\n",
    "    \"\"\"\n",
    "    使用 A* 算法搜索迷宫最优路径\n",
    "    :param maze: 二维迷宫数组，0 表示障碍，1 表示可通行\n",
    "    :param start: 起点坐标 (row, col)\n",
    "    :param end: 终点坐标 (row, col)\n",
    "    :return: 返回最优路径\n",
    "    \"\"\"\n",
    "    ROW, COL = len(maze), len(maze[0])\n",
    "    pq = []  # 使用优先队列存储搜索节点\n",
    "    heapq.heappush(pq, (0, start, [start]))\n",
    "    visited = set()  # 使用 set 存储已访问的节点\n",
    "    while pq:\n",
    "        f, (row, col), path = heapq.heappop(pq)\n",
    "        if (row, col) in visited:\n",
    "            continue\n",
    "        visited.add((row, col))\n",
    "        if (row, col) == end:\n",
    "            return path\n",
    "        for (r, c) in [(row-1, col), (row+1, col), (row, col-1), (row, col+1)]:\n",
    "            if 0 <= r < ROW and 0 <= c < COL and maze[r][c] == 1 and (r, c) not in visited:\n",
    "                g = len(path)  # 当前节点到起点的距离\n",
    "                h = abs(r-end[0]) + abs(c-end[1])  # 当前节点到终点的曼哈顿距离\n",
    "                f = g + h\n",
    "                heapq.heappush(pq, (f, (r, c), path + [(r, c)]))\n",
    "    return False"
   ]
  },
  {
   "cell_type": "markdown",
   "metadata": {},
   "source": [
    "## Q-maze"
   ]
  },
  {
   "cell_type": "code",
   "execution_count": 2561,
   "metadata": {},
   "outputs": [],
   "source": [
    "# maze is a 2d Numpy array of floats between 0.0 to 1.0\n",
    "# 1.0 corresponds to a free cell, and 0.0 an occupied cell\n",
    "# rat = (row, col) initial rat position (defaults to (0,0))\n",
    "\n",
    "class Qmaze(object):\n",
    "    def __init__(self, maze, ob_size, rat=(0,0), max_Tstep=800):\n",
    "        # 允许的最大步数\n",
    "        self.max_Tstep = max_Tstep\n",
    "        self.action_space = [0, 1, 2, 3]\n",
    "        # 初始化迷宫，老鼠可以从任意位置开始，默认为左上角\n",
    "        self._maze = np.array(maze)\n",
    "        nrows, ncols = self._maze.shape\n",
    "        # 终点始终在右下角\n",
    "        self.target = (nrows-1, ncols-1)   # target cell where the \"cheese\" is\n",
    "        # 初始化空格list，maze为1表示空格，为0表示墙体\n",
    "        self.free_cells = [(r,c) for r in range(nrows) for c in range(ncols) if self._maze[r,c] == 1.0]\n",
    "        # 将目标格移出空格list\n",
    "        self.free_cells.remove(self.target)\n",
    "        # 检查左上和右下是否为空\n",
    "        if self._maze[self.target] == 0.0:\n",
    "            raise Exception(\"Invalid maze: target cell cannot be blocked!\")\n",
    "        if not rat in self.free_cells:\n",
    "            raise Exception(\"Invalid Rat Location: must sit on a free cell\")\n",
    "        # 决定观测范围，-1为全局观测\n",
    "        self.ob_size = ob_size\n",
    "        # 放置老鼠并初始化参数\n",
    "        state, info = self.reset(rat)\n",
    "    \n",
    "        # return state, info\n",
    "\n",
    "    def reset(self, rat=(0, 0)):\n",
    "        self.rat = rat\n",
    "        self.maze = np.copy(self._maze)\n",
    "        nrows, ncols = self.maze.shape\n",
    "        row, col = rat\n",
    "        self.maze[row, col] = rat_mark\n",
    "        self.maze[self.target[0], self.target[1]] = end_mark\n",
    "        # 初始状态\n",
    "        self.state = (row, col, 'start')\n",
    "        # 设置最低奖励阈值\n",
    "        self.min_reward = -800 # -0.5 * self.maze.size\n",
    "        # 初始化总奖励\n",
    "        self.total_reward = 0\n",
    "        self.visited = list()\n",
    "        self.total_Tstep = 0\n",
    "        \n",
    "        return self.observe(), self.game_status()\n",
    "\n",
    "    def update_state(self, action):\n",
    "        '''\n",
    "            input: action [0, 1, 2, 3] [L, U, R, D]\n",
    "        '''\n",
    "        nrows, ncols = self.maze.shape\n",
    "        nrow, ncol, nmode = rat_row, rat_col, mode = self.state\n",
    "        \n",
    "        # 如果老鼠访问的是空格，则记录\n",
    "        if self.maze[rat_row, rat_col] > 0.0:\n",
    "            self.visited.append((rat_row, rat_col))  # mark visited cell\n",
    "\n",
    "        # 获取所有可能执行的动作\n",
    "        valid_actions = self.valid_actions()\n",
    "        # print('valid_actions', valid_actions)\n",
    "        \n",
    "        # 如果没有可以执行的动作（被围住了），则状态为 blocked，位置不变\n",
    "        if not valid_actions:\n",
    "            nmode = 'blocked'\n",
    "            print('blocked')\n",
    "        # 如果需要执行的动作在可执行动作列表中，那么状态为有效，并相应执行动作\n",
    "        elif action in valid_actions:\n",
    "            nmode = 'valid'\n",
    "            if action == LEFT:\n",
    "                ncol -= 1\n",
    "            elif action == UP:\n",
    "                nrow -= 1\n",
    "            if action == RIGHT:\n",
    "                ncol += 1\n",
    "            elif action == DOWN:\n",
    "                nrow += 1\n",
    "        # 如果需要执行的动作不在可执行动作列表中（撞墙），位置不变\n",
    "        else:                  # invalid action, no change in rat position\n",
    "            nmode = 'invalid'\n",
    "            \n",
    "        self.total_Tstep += 1  # 每次执行动作+1\n",
    "        # new state\n",
    "        self.state = (nrow, ncol, nmode)\n",
    "\n",
    "    def get_reward(self):\n",
    "        rat_row, rat_col, mode = self.state\n",
    "        nrows, ncols = self.maze.shape\n",
    "        \n",
    "        reward = 0\n",
    "        rl = 0\n",
    "        rg = 0\n",
    "        \n",
    "        if rat_row == nrows-1 and rat_col == ncols-1:\n",
    "            rl = R_GOAL  # 奶酪，给予 1.0 分\n",
    "        # elif mode == 'blocked':\n",
    "        #     rl = self.min_reward - 1\n",
    "        # elif (rat_row, rat_col) in self.visited:\n",
    "        #     rl = -0.25  # 访问已经访问过的单元格，-0.25 分\n",
    "        elif mode == 'invalid':\n",
    "            rl = R_WALL  # 撞墙-0.75 分，动作不会被执行\n",
    "        elif mode == 'valid':\n",
    "            rl = R_MOVE  # 每次移动都会花费老鼠 -0.04 分\n",
    "            \n",
    "        if R_Heuristic:\n",
    "            rg = - (abs(self.state[0]-self.target[0]) + abs(self.state[1]-self.target[1]))\n",
    "#             print(rl, rg)\n",
    "        \n",
    "        reward = rl + rg\n",
    "        \n",
    "        return reward\n",
    "\n",
    "    def act(self, action):\n",
    "        self.update_state(action)\n",
    "        reward = self.get_reward()\n",
    "        self.total_reward += reward\n",
    "        status = self.game_status()\n",
    "        envstate = self.observe()\n",
    "        return envstate, reward, status\n",
    "    \n",
    "    def step(self, action):\n",
    "        envstate, reward, status = self.act(action)\n",
    "        observation = envstate\n",
    "        done = self.is_game_done()\n",
    "        info = status\n",
    "        return observation, reward, done, info\n",
    "\n",
    "    def observe(self):\n",
    "        if self.ob_size == -1:\n",
    "            canvas = self.draw_env()\n",
    "        else:\n",
    "            canvas = self.get_observation()\n",
    "        envstate = canvas.reshape((1, -1))\n",
    "        return envstate\n",
    "\n",
    "    def draw_env(self):\n",
    "        canvas = np.copy(self.maze)\n",
    "        nrows, ncols = self.maze.shape\n",
    "        # clear all visual marks\n",
    "        for r in range(nrows):\n",
    "            for c in range(ncols):\n",
    "                if canvas[r,c] > 0.0:\n",
    "                    canvas[r,c] = 1.0\n",
    "        # draw the rat\n",
    "        row, col, valid = self.state\n",
    "        canvas[row, col] = rat_mark\n",
    "        canvas[self.target[0], self.target[1]] = end_mark\n",
    "        return canvas\n",
    "\n",
    "    def game_status(self):\n",
    "#         if self.total_Tstep > self.max_Tstep or self.total_reward < self.min_reward:\n",
    "        # if self.total_reward < self.min_reward:\n",
    "        if self.total_Tstep > self.max_Tstep:\n",
    "            return 'lose'\n",
    "        rat_row, rat_col, mode = self.state\n",
    "        nrows, ncols = self.maze.shape\n",
    "        if rat_row == nrows-1 and rat_col == ncols-1:\n",
    "            self.visited.append((rat_row, rat_col))  # mark visited cell\n",
    "            return 'win'\n",
    "\n",
    "        return 'not_over'\n",
    "    \n",
    "    def is_game_done(self):\n",
    "        game_status = self.game_status()\n",
    "        \n",
    "        if game_status == 'not_over':\n",
    "            return False\n",
    "        elif game_status == 'win' or game_status == 'lose':\n",
    "            return True\n",
    "        \n",
    "        return -1\n",
    "\n",
    "    def valid_actions(self, cell=None):\n",
    "        # 默认验证当前位置\n",
    "        if cell is None:\n",
    "            row, col, mode = self.state\n",
    "        else:\n",
    "            row, col = cell\n",
    "        actions = copy.deepcopy(self.action_space)\n",
    "        nrows, ncols = self.maze.shape\n",
    "        # 如果在第0行，则不能向上走；如果在最后一行，则不能向下走\n",
    "        if row == 0:\n",
    "            actions.remove(1)\n",
    "        elif row == nrows-1:\n",
    "            actions.remove(3)\n",
    "        # 列-左右\n",
    "        if col == 0:\n",
    "            actions.remove(0)\n",
    "        elif col == ncols-1:\n",
    "            actions.remove(2)\n",
    "\n",
    "        # 如果不在最左列，而左边是墙，则不能向左；右边同理\n",
    "        if row>0 and self.maze[row-1,col] == 0.0:\n",
    "            actions.remove(1)\n",
    "        if row<nrows-1 and self.maze[row+1,col] == 0.0:\n",
    "            actions.remove(3)\n",
    "\n",
    "        # 上下同理\n",
    "        if col>0 and self.maze[row,col-1] == 0.0:\n",
    "            actions.remove(0)\n",
    "        if col<ncols-1 and self.maze[row,col+1] == 0.0:\n",
    "            actions.remove(2)\n",
    "\n",
    "        # 返回所有可能执行的动作\n",
    "        return actions\n",
    "    \n",
    "    def get_observation(self):\n",
    "        size = self.ob_size\n",
    "        maze = self.draw_env()\n",
    "        row, col, _ = self.state\n",
    "        # 获取maze的行列数\n",
    "        ROWS = len(maze)\n",
    "        COLS = len(maze[0])\n",
    "\n",
    "        # 初始化结果二维数组\n",
    "        result = [[0 for _ in range(size)] for _ in range(size)]\n",
    "\n",
    "        # 将以指定点为中心指定尺寸范围的观测值存入结果二维数组\n",
    "        for i in range(row-size//2, row+size//2+1):\n",
    "            for j in range(col-size//2, col+size//2+1):\n",
    "                if i < 0 or i >= ROWS or j < 0 or j >= COLS:\n",
    "                    # 如果超出边界，则填充为1\n",
    "                    result[i-row+size//2][j-col+size//2] = 0.0\n",
    "                else:\n",
    "                    result[i-row+size//2][j-col+size//2] = maze[i][j]\n",
    "\n",
    "        # 返回结果二维数组\n",
    "        result = np.array(result)\n",
    "        result[size//2][size//2] = 0.5\n",
    "        return result"
   ]
  },
  {
   "cell_type": "code",
   "execution_count": 2562,
   "metadata": {},
   "outputs": [],
   "source": [
    "def show(qmaze):\n",
    "    plt.grid('on')\n",
    "    nrows, ncols = qmaze.maze.shape\n",
    "    ax = plt.gca()\n",
    "    ax.set_xticks(np.arange(0.5, nrows, 1))\n",
    "    ax.set_yticks(np.arange(0.5, ncols, 1))\n",
    "    ax.set_xticklabels([])\n",
    "    ax.set_yticklabels([])\n",
    "    canvas = np.copy(qmaze.maze)\n",
    "    for row,col in qmaze.visited:\n",
    "        canvas[row,col] = 0.6\n",
    "    rat_row, rat_col, _ = qmaze.state\n",
    "    canvas[rat_row, rat_col] = 0.3   # rat cell\n",
    "    canvas[nrows-1, ncols-1] = 0.9 # cheese cell\n",
    "    img = plt.imshow(canvas, interpolation='none', cmap='gray')\n",
    "    return img"
   ]
  },
  {
   "cell_type": "code",
   "execution_count": 2563,
   "metadata": {},
   "outputs": [],
   "source": [
    "# np.savetxt('maze32_1.txt', maze)\n",
    "# 读取迷宫\n",
    "maze = np.loadtxt(maze_path)\n",
    "# maze = maze*0+1.0"
   ]
  },
  {
   "cell_type": "code",
   "execution_count": 2564,
   "metadata": {},
   "outputs": [
    {
     "name": "stdout",
     "output_type": "stream",
     "text": [
      "optimal path length is: 31\n",
      "[[0.5 1.  1.  1.  1.  1.  1.  1.  1.  1.  1.  1.  1.  1.  1.  1.  1.  1.\n",
      "  1.  1.  1.  1.  1.  1.  1.  1.  1.  1.  1.  1.  1.  1.  1.  1.  1.  1.\n",
      "  1.  1.  1.  1.  1.  1.  1.  1.  1.  1.  1.  1.  1.  1.  1.  1.  1.  1.\n",
      "  1.  1.  1.  1.  0.  0.  1.  1.  1.  1.  1.  0.  1.  1.  1.  1.  1.  1.\n",
      "  1.  1.  1.  1.  1.  1.  1.  1.  1.  1.  1.  1.  1.  1.  1.  1.  1.  1.\n",
      "  1.  1.  1.  1.  1.  1.  1.  1.  1.  1.  1.  0.  1.  1.  1.  1.  1.  1.\n",
      "  1.  1.  1.  1.  1.  1.  1.  1.  1.  1.  1.  1.  1.  1.  1.  1.  1.  1.\n",
      "  1.  1.  0.  1.  1.  1.  1.  1.  1.  1.  1.  1.  1.  0.  0.  1.  1.  1.\n",
      "  1.  1.  1.  1.  1.  1.  1.  1.  1.  1.  1.  1.  1.  1.  1.  1.  1.  1.\n",
      "  1.  1.  1.  1.  1.  1.  1.  1.  1.  1.  1.  1.  1.  1.  1.  1.  1.  0.\n",
      "  1.  1.  1.  1.  1.  1.  1.  1.  1.  1.  1.  1.  1.  1.  1.  1.  1.  1.\n",
      "  1.  1.  1.  1.  1.  1.  1.  1.  1.  1.  1.  1.  1.  1.  1.  1.  1.  0.\n",
      "  1.  1.  1.  1.  1.  1.  1.  1.  1.  1.  1.  1.  1.  1.  1.  1.  1.  1.\n",
      "  0.  1.  1.  1.  1.  1.  1.  1.  1.  1.  1.  1.  1.  1.  1.  1.  1.  1.\n",
      "  1.  1.  1.  1. ]]\n"
     ]
    },
    {
     "data": {
      "image/png": "[encoded data removed]",
      "text/plain": [
       "<Figure size 432x288 with 1 Axes>"
      ]
     },
     "metadata": {
      "needs_background": "light"
     },
     "output_type": "display_data"
    }
   ],
   "source": [
    "# 测试读取的迷宫，并获得最优长度optimal_length\n",
    "qmaze = Qmaze(maze, ob_size=ob_size)\n",
    "maze_size = maze.shape[0]\n",
    "optimal_path = find_path(maze, (0, 0), (maze_size-1, maze_size-1))\n",
    "qmaze.visited = optimal_path\n",
    "optimal_length = len(optimal_path)\n",
    "\n",
    "show(qmaze)\n",
    "print('optimal path length is:', optimal_length)\n",
    "# 测试观测\n",
    "print(qmaze.observe())"
   ]
  },
  {
   "cell_type": "markdown",
   "metadata": {},
   "source": [
    "## DQN"
   ]
  },
  {
   "cell_type": "code",
   "execution_count": 2565,
   "metadata": {},
   "outputs": [],
   "source": [
    "import math\n",
    "import torch\n",
    "import torch.nn as nn\n",
    "import torch.optim as optim\n",
    "\n",
    "class DQN(nn.Module):\n",
    "    def __init__(self, observation_size, num_actions):\n",
    "        super(DQN, self).__init__()\n",
    "        self.layer1 = nn.Linear(observation_size, 16*16*2)  # 8*8*2 for global\n",
    "        self.relu1 = nn.ReLU()\n",
    "        self.layer2 = nn.Linear(16*16*2, 16*16*2)\n",
    "        self.relu2 = nn.ReLU()\n",
    "        self.output_layer = nn.Linear(16*16*2, num_actions)\n",
    "        \n",
    "    def forward(self, x):\n",
    "        x = self.layer1(x)\n",
    "        x = self.relu1(x)\n",
    "        x = self.layer2(x)\n",
    "        x = self.relu2(x)\n",
    "        x = self.output_layer(x)\n",
    "        return x\n"
   ]
  },
  {
   "cell_type": "code",
   "execution_count": 2566,
   "metadata": {},
   "outputs": [],
   "source": [
    "from collections import namedtuple, deque\n",
    "import matplotlib\n",
    "import matplotlib.pyplot as plt\n",
    "# set up matplotliba\n",
    "is_ipython = 'inline' in matplotlib.get_backend()\n",
    "if is_ipython:\n",
    "    from IPython import display\n",
    "    \n",
    "Transition = namedtuple('Transition',\n",
    "                        ('state', 'action', 'next_state', 'reward'))\n",
    "\n",
    "\n",
    "class ReplayMemory(object):\n",
    "\n",
    "    def __init__(self, capacity):\n",
    "        self.memory = deque([], maxlen=capacity)\n",
    "\n",
    "    def push(self, *args):\n",
    "        \"\"\"Save a transition\"\"\"\n",
    "        self.memory.append(Transition(*args))\n",
    "\n",
    "    def sample(self, batch_size):\n",
    "        return random.sample(self.memory, batch_size)\n",
    "\n",
    "    def __len__(self):\n",
    "        return len(self.memory)\n",
    "\n",
    "def moving_average(data_list, window_size=100):\n",
    "    moving_averages = []\n",
    "    for i in range(len(data_list)):\n",
    "        if i < window_size:\n",
    "            window_data = data_list[:i + 1]\n",
    "        else:\n",
    "            window_data = data_list[i - window_size + 1:i + 1]\n",
    "        average = sum(window_data) / len(window_data)\n",
    "        moving_averages.append(average)\n",
    "    \n",
    "    return moving_averages\n",
    "\n",
    "\n",
    "def plot_rewards(episode_rewards, show_result=False, ylabel='Rewards', window_size=100, maze_size=8):\n",
    "    plt.figure(1)\n",
    "    plt.rcParams.update({'font.size': 20})\n",
    "    # 打开网格\n",
    "    plt.grid(True)\n",
    "    rewards_t = np.array(episode_rewards)\n",
    "    if show_result:\n",
    "        plt.title('Result')\n",
    "    else:\n",
    "        plt.clf()\n",
    "        plt.title('Training...')\n",
    "    plt.xlabel('Episode')\n",
    "    plt.ylabel(ylabel)\n",
    "    plt.plot(rewards_t)\n",
    "    \n",
    "    # Compute the moving average with the specified window size and plot it\n",
    "    moving_averages = moving_average(episode_rewards, window_size)\n",
    "    plt.plot(moving_averages)\n",
    "    \n",
    "    if ylabel == 'Rewards':\n",
    "        if maze_size == 16:\n",
    "            plt.axhline(y=-385, color='Red', linestyle='--')  # \n",
    "#             plt.ylim([-385*10, -385*0.8])\n",
    "#             plt.ylim([-500, 55])\n",
    "        elif maze_size == 8:\n",
    "            plt.axhline(y=50, color='Red', linestyle='--')\n",
    "            plt.ylim([-200, 55])\n",
    "    if ylabel == 'win_eval':\n",
    "        plt.ylim([0, 1.1])\n",
    "\n",
    "    plt.pause(0.001)  # pause a bit so that plots are updated\n",
    "    if is_ipython:\n",
    "        if not show_result:\n",
    "            display.display(plt.gcf())  # \"get current figure\"（获取当前图形）\n",
    "            display.clear_output(wait=True)\n",
    "        else:\n",
    "            display.display(plt.gcf())\n",
    "\n"
   ]
  },
  {
   "cell_type": "code",
   "execution_count": 2567,
   "metadata": {},
   "outputs": [],
   "source": [
    "class Agent():\n",
    "    def __init__(self, n_observations, LR=LR):\n",
    "        self.policy_net = DQN(n_observations, num_actions).to(device)\n",
    "        self.target_net = DQN(n_observations, num_actions).to(device)\n",
    "        self.target_net.load_state_dict(self.policy_net.state_dict())\n",
    "\n",
    "        self.optimizer = optim.AdamW(self.policy_net.parameters(), lr=LR, amsgrad=True)\n",
    "        self.memory = ReplayMemory(ReplayMemorySize)\n",
    "        \n",
    "        self.sa_feedback_memory_size = 2\n",
    "        self.sa_feedback_memory = deque(maxlen=self.sa_feedback_memory_size)\n",
    "#         self.prev_action = None\n",
    "        self.avoid_looping_status_memory = []\n",
    "        \n",
    "        self.steps_done = 0\n",
    "\n",
    "    # 动作选取\n",
    "    def select_action(self, state, valid_action, val_mode=False, avoid_looping=False):\n",
    "    #     global steps_done\n",
    "        sample = random.random()\n",
    "\n",
    "        # 随着进行，eps_threshold逐渐降低\n",
    "        eps_threshold = EPS_END + (EPS_START - EPS_END) * \\\n",
    "            math.exp(-1. * self.steps_done / EPS_DECAY)\n",
    "    #     eps_threshold = 0.1\n",
    "        if not val_mode:\n",
    "            self.steps_done += 1\n",
    "\n",
    "        # 常规情况选择价值最高的动作\n",
    "        if sample > eps_threshold or val_mode:\n",
    "            with torch.no_grad():\n",
    "                # t.max(1) will return the largest column value of each row.\n",
    "                # second column on max result is index of where max element was\n",
    "                # found, so we pick action with the larger expected reward.\n",
    "                action = self.policy_net(state).max(1)[1].view(1, 1)\n",
    "\n",
    "        # 当随机值超过阈值时，随机选取 - exploration\n",
    "        else:\n",
    "            # 探索时只探索可能的动作，增加探索效率？\n",
    "            action = torch.tensor([[random.choice(valid_action)]], device=device, dtype=torch.long)\n",
    "        # env.valid_actions()\n",
    "        \n",
    "        if avoid_looping:\n",
    "            self.cur_state = state.cpu().numpy()\n",
    "            self.cur_action = int(action.cpu()[0][0])\n",
    "            self.loop_flag = self.is_looping(self.cur_state, self.cur_action)\n",
    "            self.collision_flag = self.is_continuous_wall_collision(self.cur_state, self.cur_action)\n",
    "            \n",
    "            if self.loop_flag or self.collision_flag:\n",
    "                \n",
    "                available_actions = [0, 1, 2, 3]\n",
    "                available_actions.remove(self.cur_action)\n",
    "                self.new_action = random.choice(available_actions)\n",
    "                action = torch.tensor([[self.new_action]], device=device, dtype=torch.long)\n",
    "\n",
    "#             self.prev_action = int(action.cpu()[0][0])\n",
    "        \n",
    "        return action\n",
    "        \n",
    "#     def choose_different_action(self):\n",
    "#         available_actions = [0, 1, 2, 3]\n",
    "#         if self.prev_action is not None and self.prev_action in available_actions:\n",
    "#             available_actions.remove(self.prev_action)\n",
    "\n",
    "#         return random.choice(available_actions)\n",
    "    \n",
    "    def is_looping(self, cur_state, cur_action):\n",
    "        if len(self.sa_feedback_memory) < self.sa_feedback_memory_size:\n",
    "            return False\n",
    "        \n",
    "        state0, action0, _ = self.sa_feedback_memory[0]\n",
    "        state1, action1, _ = self.sa_feedback_memory[1]\n",
    "        cur_action = [[cur_action]]\n",
    "        \n",
    "        if np.array_equal(cur_state, state0) and np.array_equal(cur_action, action0) and self.is_opposite_action(cur_action, action1):\n",
    "#             print('is_looping')\n",
    "            return True\n",
    "\n",
    "    def is_opposite_action(self, cur_action, action1):\n",
    "        if abs(cur_action[0][0] - action1[0][0])==2:\n",
    "            return True\n",
    "        else:\n",
    "            return False\n",
    "\n",
    "    def is_continuous_wall_collision(self, cur_state, cur_action):\n",
    "        if len(self.sa_feedback_memory) < 1:\n",
    "            return False\n",
    "\n",
    "        prev_state, prev_action, is_prev_wall_collision1 = self.sa_feedback_memory[-1]\n",
    "        cur_action = [[cur_action]]\n",
    "        \n",
    "#         print('==============================================')\n",
    "#         print(prev_state)\n",
    "#         print(cur_state)\n",
    "#         print(prev_action, cur_action)\n",
    "#         print(np.array_equal(prev_state, cur_state))\n",
    "#         print(np.array_equal(prev_action, cur_action))\n",
    "#         print(is_prev_wall_collision1)\n",
    "\n",
    "        if np.array_equal(prev_state, cur_state) and np.array_equal(prev_action, cur_action) and is_prev_wall_collision1:\n",
    "#             print('is_continuous_wall_collision')\n",
    "            return True\n",
    "    \n",
    "    def reset_sa_feedback_memory(self):\n",
    "        self.sa_feedback_memory.clear()\n",
    "        self.avoid_looping_status_memory = []\n",
    "#         self.prev_action = None\n",
    "    \n",
    "    def optimize_model(self):\n",
    "        if len(self.memory) < BATCH_SIZE:\n",
    "            return\n",
    "\n",
    "        # 离线学习，从记忆池中抽取回忆\n",
    "        transitions = self.memory.sample(BATCH_SIZE)\n",
    "\n",
    "        # 将([a, 1], [b, 2], [c, 3])转化为([a, b, c], [1, 2, 3])，一个zip的trick\n",
    "        # 然后将他们分别放到tuples with names里（'state', 'action', 'next_state', and 'reward'）\n",
    "        batch = Transition(*zip(*transitions))\n",
    "\n",
    "        # 计算非最终状态的掩码，并将批处理元素连接起来\n",
    "        # (最终状态是指模拟结束后的状态)\n",
    "        non_final_mask = torch.tensor(tuple(map(lambda s: s is not None,\n",
    "                                              batch.next_state)), device=device, dtype=torch.bool)\n",
    "        non_final_next_states = torch.cat([s for s in batch.next_state\n",
    "                                                    if s is not None])\n",
    "\n",
    "        state_batch = torch.cat(batch.state)\n",
    "        action_batch = torch.cat(batch.action)\n",
    "        reward_batch = torch.cat(batch.reward)\n",
    "\n",
    "        # 模型计算Q价值，我们根据价值选择动作\n",
    "        state_action_values = self.policy_net(state_batch).gather(1, action_batch)\n",
    "\n",
    "        next_state_values = torch.zeros(BATCH_SIZE, device=device)\n",
    "        with torch.no_grad():\n",
    "            next_state_values[non_final_mask] = self.target_net(non_final_next_states).max(1)[0]\n",
    "\n",
    "        # 当前奖励+下一个状态的奖励，更新Q. 如果下一个状态为最终状态，则仅有当前奖励(next_state_values是0)\n",
    "        expected_state_action_values = (next_state_values * GAMMA) + reward_batch  \n",
    "\n",
    "        # Compute Huber loss\n",
    "        criterion = nn.SmoothL1Loss()\n",
    "    #     criterion = nn.MSELoss()\n",
    "        loss = criterion(state_action_values, expected_state_action_values.unsqueeze(1))\n",
    "\n",
    "\n",
    "    #     print('state_batch', state_batch, state_batch.shape)\n",
    "    #     print('action_batch', action_batch, action_batch.shape)\n",
    "    #     print('reward_batch', reward_batch, reward_batch.shape)\n",
    "\n",
    "    #     print('next_state_values', next_state_values, next_state_values.shape)\n",
    "    #     print('non_final_mask', non_final_mask, non_final_mask.shape)\n",
    "    #     print('non_final_next_states', non_final_next_states, non_final_next_states.shape)\n",
    "\n",
    "    #     print('state_action_values', state_action_values, state_action_values.shape)\n",
    "    #     print('expected_state_action_values', expected_state_action_values, expected_state_action_values.shape)\n",
    "\n",
    "    #     raise Exception(\"Program interrupted!\")  # 在这里中断程序\n",
    "\n",
    "        # Optimize the model\n",
    "        self.optimizer.zero_grad()\n",
    "        loss.backward()\n",
    "        # In-place gradient clipping\n",
    "        torch.nn.utils.clip_grad_value_(self.policy_net.parameters(), 100)\n",
    "        self.optimizer.step()\n",
    "\n",
    "        return loss.item()\n",
    "\n",
    "    # optimize_model()\n",
    "    \n",
    "    def sync_target_net(self):\n",
    "        target_net_state_dict = self.target_net.state_dict()\n",
    "        policy_net_state_dict = self.policy_net.state_dict()\n",
    "\n",
    "        if sync_target_net_freq > 0:\n",
    "            if (self.steps_done % sync_target_net_freq) == 0:\n",
    "                self.target_net.load_state_dict(policy_net_state_dict)\n",
    "        else:\n",
    "            for key in policy_net_state_dict:\n",
    "                target_net_state_dict[key] = policy_net_state_dict[key]*TAU + target_net_state_dict[key]*(1-TAU)\n",
    "            self.target_net.load_state_dict(target_net_state_dict)"
   ]
  },
  {
   "cell_type": "code",
   "execution_count": 2568,
   "metadata": {},
   "outputs": [],
   "source": [
    "# if gpu is to be used\n",
    "device = torch.device(\"cuda\" if torch.cuda.is_available() else \"cpu\")\n",
    "# device = 'cpu'"
   ]
  },
  {
   "cell_type": "code",
   "execution_count": 2569,
   "metadata": {},
   "outputs": [],
   "source": [
    "# ss = []\n",
    "# es = []\n",
    "# EPS_DECAY = 10\n",
    "# for i in range(1000):\n",
    "#     sample = random.random()\n",
    "#     eps_threshold = EPS_END + (EPS_START - EPS_END) * \\\n",
    "#             math.exp(-1. * i / EPS_DECAY)\n",
    "#     # eps_threshold = 1.0 / (i + 1)\n",
    "#     ss.append(sample)\n",
    "#     es.append(eps_threshold)\n",
    "\n",
    "# exploit = 0\n",
    "# for i in range(1000):\n",
    "#     if ss[i] > es[i]:\n",
    "#         exploit += 1\n",
    "# plt.plot(ss)\n",
    "# plt.plot(es)\n",
    "# print(exploit, exploit/1000)"
   ]
  },
  {
   "cell_type": "code",
   "execution_count": 2570,
   "metadata": {},
   "outputs": [],
   "source": [
    "# optimal_length = 86"
   ]
  },
  {
   "cell_type": "code",
   "execution_count": 2571,
   "metadata": {},
   "outputs": [],
   "source": [
    "from tqdm import trange\n",
    "\n",
    "status_memory_list = []\n",
    "\n",
    "def evaluation(agent, show_maze=False, avoid_looping=Avoid_looping):\n",
    "#     global optimal_length\n",
    "    optimal_length = 31\n",
    "    win = 0\n",
    "    episode_rewards_eval = []\n",
    "       \n",
    "    env_eval = Qmaze(maze, ob_size, max_Tstep=86)\n",
    "\n",
    "    for j in range(1):\n",
    "    \n",
    "        # Initialize the environment and get it's state\n",
    "        state, info = env_eval.reset()\n",
    "        # Cart Position, Cart Velocity, Pole Angle, Pole Angular Velocity\n",
    "        state = torch.tensor(state, dtype=torch.float32, device=device)\n",
    "\n",
    "        done = False\n",
    "        while not done:\n",
    "#             action = agent.policy_net(state).max(1)[1].view(1, 1)  # 选择一个动作\n",
    "            action = agent.select_action(state, None, val_mode=True, avoid_looping=avoid_looping)\n",
    "            # random.choice(env.valid_actions())\n",
    "            observation, reward, done, info = env_eval.step(action.item())  # 执行动作，返回{下一个观察值、奖励、是否结束、是否提前终止}\n",
    "            # reward = torch.tensor([reward], device=device)\n",
    "            # print(int(action[0][0]))\n",
    "            # print(observation, reward, done, info)\n",
    "            # print()\n",
    "            if done:\n",
    "                next_state = None\n",
    "            else:\n",
    "                next_state = torch.tensor(observation, dtype=torch.float32, device=device)  # 如果没有终止则继续记录下一个状态\n",
    "\n",
    "            # Store the transition in memory\n",
    "#             memory.push(state, action, next_state, reward)\n",
    "            agent.sa_feedback_memory.append([state.cpu().numpy(), action.cpu().numpy(), is_wall_collision(env_eval, action)])\n",
    "#             print(agent.sa_feedback_memory)\n",
    "\n",
    "            if agent.loop_flag:\n",
    "                agent.avoid_looping_status_memory.append([copy.deepcopy(agent.sa_feedback_memory), 'aviod_looping', agent.cur_action, agent.new_action])\n",
    "            elif agent.collision_flag:\n",
    "                agent.avoid_looping_status_memory.append([copy.deepcopy(agent.sa_feedback_memory), 'aviod_wall', agent.cur_action, agent.new_action])\n",
    "            else:\n",
    "                agent.avoid_looping_status_memory.append([copy.deepcopy(agent.sa_feedback_memory), 'None', agent.cur_action, agent.cur_action])\n",
    "\n",
    "            # Move to the next state\n",
    "            state = next_state\n",
    "            \n",
    "            if done:\n",
    "                status_memory_list.append(copy.deepcopy(agent.avoid_looping_status_memory))\n",
    "                agent.reset_sa_feedback_memory()\n",
    "                \n",
    "        episode_rewards_eval.append(env_eval.total_reward)\n",
    "        if info == 'win' and env_eval.total_Tstep<=optimal_length:\n",
    "            win = 1\n",
    "        elif info == 'win':\n",
    "            win = 0.5\n",
    "        else:\n",
    "            win = 0\n",
    "    \n",
    "    \n",
    "    win_rate = win / 1\n",
    "    \n",
    "    if show_maze:\n",
    "        show(env_eval)\n",
    "        \n",
    "    # print(env.visited)\n",
    "    # print(env.state)\n",
    "    # print(env.total_reward)\n",
    "    \n",
    "    return episode_rewards_eval, win_rate, env_eval.visited\n",
    "\n",
    "# win_rate = evaluation(10)\n",
    "# print(win_rate)"
   ]
  },
  {
   "cell_type": "code",
   "execution_count": 2572,
   "metadata": {},
   "outputs": [],
   "source": [
    "# env = Qmaze(maze, ob_size, max_Tstep=max_Tstep)\n",
    "# # 重置环境获取信息\n",
    "# state, info = env.reset()\n",
    "\n",
    "# n_observations = state.size\n",
    "# state = torch.Tensor(state).to(device)\n",
    "\n",
    "# agent = Agent(n_observations)\n",
    "\n",
    "# evaluation(agent, avoid_looping=True)\n",
    "\n",
    "# status_memory_list"
   ]
  },
  {
   "cell_type": "code",
   "execution_count": 2573,
   "metadata": {},
   "outputs": [],
   "source": [
    "def is_wall_collision(env, action):\n",
    "    return action not in env.valid_actions() "
   ]
  },
  {
   "cell_type": "code",
   "execution_count": 2574,
   "metadata": {},
   "outputs": [],
   "source": [
    "history = {}"
   ]
  },
  {
   "cell_type": "code",
   "execution_count": 2575,
   "metadata": {
    "scrolled": true
   },
   "outputs": [],
   "source": [
    "from itertools import count\n",
    "\n",
    "def train():\n",
    "    \n",
    "\n",
    "#     steps_done = 0\n",
    "\n",
    "    # 初始化环境\n",
    "    env = Qmaze(maze, ob_size, max_Tstep=max_Tstep)\n",
    "    # 重置环境获取信息\n",
    "    state, info = env.reset() \n",
    "\n",
    "    n_observations = state.size\n",
    "    state = torch.Tensor(state).to(device)\n",
    "    \n",
    "    agent = Agent(n_observations)\n",
    "\n",
    "    episode_rewards = []\n",
    "    episode_step = []\n",
    "    win_eval = []\n",
    "    loss_train = []\n",
    "    val_visited_list = []\n",
    "    episode_rewards_eval_list = []\n",
    "\n",
    "    #     weights = []\n",
    "    win_eval_F = []\n",
    "    val_visited_list_F = []\n",
    "\n",
    "\n",
    "    for i_episode in range(num_episodes):\n",
    "        # Initialize the environment and get it's state\n",
    "        state, info = env.reset()\n",
    "        # Cart Position, Cart Velocity, Pole Angle, Pole Angular Velocity\n",
    "        state = torch.tensor(state, dtype=torch.float32, device=device)\n",
    "\n",
    "        done = False\n",
    "        for t in count():\n",
    "            valid_action = env.valid_actions()\n",
    "            action = agent.select_action(state, valid_action, avoid_looping=False)  # 选择一个动作 Avoid_looping\n",
    "\n",
    "            observation, reward, done, _ = env.step(action.item())  # 执行动作，返回{下一个观察值、奖励、是否结束、是否提前终止}\n",
    "            reward = torch.tensor([reward], device=device)\n",
    "\n",
    "            if done:\n",
    "                next_state = None\n",
    "            else:\n",
    "                next_state = torch.tensor(observation, dtype=torch.float32, device=device)  # 如果没有终止则继续记录下一个状态\n",
    "\n",
    "            # Store the transition in memory\n",
    "            agent.memory.push(state, action, next_state, reward)\n",
    "            agent.sa_feedback_memory.append([state.cpu().numpy(), action.cpu().numpy(), is_wall_collision(env, action)])\n",
    "\n",
    "#             print([state.cpu().numpy(), action.cpu().numpy(), is_wall_collision(env, action)])\n",
    "        \n",
    "            # Move to the next state\n",
    "            state = next_state\n",
    "\n",
    "            # Perform one step of the optimization (on the policy network)\n",
    "            \n",
    "            loss = agent.optimize_model()\n",
    "            if loss is not None:\n",
    "                loss_train.append(loss)\n",
    "            \n",
    "\n",
    "            # Update of the target network's weights\n",
    "            # θ′ ← τ θ + (1 −τ )θ′\n",
    "            agent.sync_target_net()\n",
    "\n",
    "            if done:\n",
    "                agent.reset_sa_feedback_memory()\n",
    "                break\n",
    "\n",
    "        episode_rewards_eval, win_rate, val_visited = evaluation(agent, avoid_looping=True)\n",
    "#         _, win_rate_F, val_visited_F = evaluation(agent, avoid_looping=False)\n",
    "    #     print('eval_done')\n",
    "    #     if win_rate == 1:\n",
    "    #         break\n",
    "\n",
    "        episode_rewards.append(env.total_reward)\n",
    "        episode_step.append(t)\n",
    "        win_eval.append(win_rate)\n",
    "\n",
    "        episode_rewards_eval_list.append(episode_rewards_eval)\n",
    "    #     loss_train.append(acc_loss)\n",
    "    \n",
    "        val_visited_list.append(val_visited)\n",
    "\n",
    "        \n",
    "        history['episode_rewards'] = episode_rewards\n",
    "        history['episode_step'] = episode_step\n",
    "        history['win_eval'] = win_eval\n",
    "        history['loss_train'] = loss_train\n",
    "        \n",
    "        history['val_visited_list'] = val_visited_list\n",
    "        history['episode_rewards_eval_list'] = episode_rewards_eval_list\n",
    "        \n",
    "        plot_rewards(episode_step, False, 'Steps')\n",
    "        \n",
    "#         win_eval_F.append(win_rate_F)        \n",
    "#         val_visited_list_F.append(val_visited_F)        \n",
    "#         history['win_eval_F'] = win_eval_F\n",
    "#         history['val_visited_list_F'] = val_visited_list_F\n",
    "\n",
    "        # 将字典保存成 txt 文件\n",
    "    #     with open(folder_name+'/history.txt', 'w') as f:\n",
    "    #         for key, value in history.items():\n",
    "    #             f.write(f'{key}: {value}\\n')\n",
    "    return history"
   ]
  },
  {
   "cell_type": "code",
   "execution_count": 2576,
   "metadata": {},
   "outputs": [],
   "source": [
    "history_list = []"
   ]
  },
  {
   "cell_type": "code",
   "execution_count": null,
   "metadata": {
    "scrolled": false
   },
   "outputs": [
    {
     "data": {
      "image/png": "[encoded data removed]",
      "text/plain": [
       "<Figure size 432x288 with 1 Axes>"
      ]
     },
     "metadata": {
      "needs_background": "light"
     },
     "output_type": "display_data"
    },
    {
     "data": {
      "text/plain": [
       "<Figure size 432x288 with 0 Axes>"
      ]
     },
     "metadata": {},
     "output_type": "display_data"
    }
   ],
   "source": [
    "for _ in range(1):\n",
    "    history = train()\n",
    "    history_list.append(copy.deepcopy(history))"
   ]
  },
  {
   "cell_type": "code",
   "execution_count": 2328,
   "metadata": {},
   "outputs": [],
   "source": [
    "# history_list.append(copy.deepcopy(history))"
   ]
  },
  {
   "cell_type": "code",
   "execution_count": 2578,
   "metadata": {
    "scrolled": false
   },
   "outputs": [
    {
     "data": {
      "image/png": "[encoded data removed]",
      "text/plain": [
       "<Figure size 432x288 with 1 Axes>"
      ]
     },
     "metadata": {
      "needs_background": "light"
     },
     "output_type": "display_data"
    },
    {
     "data": {
      "text/plain": [
       "<Figure size 432x288 with 0 Axes>"
      ]
     },
     "metadata": {},
     "output_type": "display_data"
    },
    {
     "data": {
      "text/plain": [
       "<Figure size 432x288 with 0 Axes>"
      ]
     },
     "metadata": {},
     "output_type": "display_data"
    }
   ],
   "source": [
    "plot_rewards(history_list[0]['episode_rewards'], True, 'Rewards', maze_size=16)"
   ]
  },
  {
   "cell_type": "code",
   "execution_count": 2579,
   "metadata": {},
   "outputs": [
    {
     "data": {
      "image/png": "[encoded data removed]",
      "text/plain": [
       "<Figure size 432x288 with 1 Axes>"
      ]
     },
     "metadata": {
      "needs_background": "light"
     },
     "output_type": "display_data"
    },
    {
     "data": {
      "text/plain": [
       "<Figure size 432x288 with 0 Axes>"
      ]
     },
     "metadata": {},
     "output_type": "display_data"
    },
    {
     "data": {
      "text/plain": [
       "<Figure size 432x288 with 0 Axes>"
      ]
     },
     "metadata": {},
     "output_type": "display_data"
    }
   ],
   "source": [
    "plot_rewards(history_list[0]['episode_step'], True, 'Steps')"
   ]
  },
  {
   "cell_type": "code",
   "execution_count": 2580,
   "metadata": {
    "scrolled": true
   },
   "outputs": [
    {
     "data": {
      "image/png": "[encoded data removed]",
      "text/plain": [
       "<Figure size 432x288 with 1 Axes>"
      ]
     },
     "metadata": {
      "needs_background": "light"
     },
     "output_type": "display_data"
    },
    {
     "data": {
      "text/plain": [
       "<Figure size 432x288 with 0 Axes>"
      ]
     },
     "metadata": {},
     "output_type": "display_data"
    },
    {
     "data": {
      "text/plain": [
       "<Figure size 432x288 with 0 Axes>"
      ]
     },
     "metadata": {},
     "output_type": "display_data"
    }
   ],
   "source": [
    "plot_rewards(history_list[0]['win_eval'], True, 'win_eval')"
   ]
  },
  {
   "cell_type": "code",
   "execution_count": 2581,
   "metadata": {
    "scrolled": true
   },
   "outputs": [
    {
     "data": {
      "image/png": "[encoded data removed]",
      "text/plain": [
       "<Figure size 432x288 with 1 Axes>"
      ]
     },
     "metadata": {
      "needs_background": "light"
     },
     "output_type": "display_data"
    },
    {
     "data": {
      "text/plain": [
       "<Figure size 432x288 with 0 Axes>"
      ]
     },
     "metadata": {},
     "output_type": "display_data"
    },
    {
     "data": {
      "text/plain": [
       "<Figure size 432x288 with 0 Axes>"
      ]
     },
     "metadata": {},
     "output_type": "display_data"
    }
   ],
   "source": [
    "plot_rewards(history_list[0]['loss_train'], True, 'loss_train')"
   ]
  },
  {
   "cell_type": "code",
   "execution_count": 2002,
   "metadata": {},
   "outputs": [],
   "source": [
    "all_history_list = []"
   ]
  },
  {
   "cell_type": "code",
   "execution_count": 2003,
   "metadata": {},
   "outputs": [],
   "source": [
    "all_history_list.append(copy.deepcopy(history_list))"
   ]
  },
  {
   "cell_type": "code",
   "execution_count": 1987,
   "metadata": {},
   "outputs": [],
   "source": [
    "# for i in range(5):\n",
    "#     all_history_list[1][i]['win_eval'] = all_history_list[0][i]['win_eval']"
   ]
  },
  {
   "cell_type": "code",
   "execution_count": 1988,
   "metadata": {},
   "outputs": [],
   "source": [
    "# all_history_list[0] = copy.deepcopy(history_list)"
   ]
  },
  {
   "cell_type": "code",
   "execution_count": 1989,
   "metadata": {},
   "outputs": [],
   "source": [
    "# all_history_list = [all_history_list[0:2]]"
   ]
  },
  {
   "cell_type": "code",
   "execution_count": 1990,
   "metadata": {},
   "outputs": [],
   "source": [
    "# all_history_list = all_history_list[0]"
   ]
  },
  {
   "cell_type": "code",
   "execution_count": 1991,
   "metadata": {},
   "outputs": [],
   "source": [
    "# show(env)"
   ]
  },
  {
   "cell_type": "code",
   "execution_count": 1992,
   "metadata": {},
   "outputs": [],
   "source": [
    "# import numpy as np\n",
    "# import matplotlib.pyplot as plt\n",
    "\n",
    "# # 假设5次运行的数据存储在rewards_data中，形状为(num_runs, num_episodes)\n",
    "# # 您可以使用自己的数据替换这个假设\n",
    "# num_runs = 5\n",
    "# num_episodes = 100\n",
    "# rewards_data = np.random.randn(num_runs, num_episodes)\n",
    "\n",
    "# # 计算均值和标准差\n",
    "# mean_rewards = np.mean(rewards_data, axis=0)\n",
    "# std_rewards = np.std(rewards_data, axis=0)\n",
    "\n",
    "# # 计算置信区间（这里我们使用1.96倍的标准差，对应于95%置信区间）\n",
    "# confidence_interval = 1.96 * std_rewards\n",
    "\n",
    "# # 绘制折线图和置信区间\n",
    "# episodes = np.arange(1, num_episodes + 1)\n",
    "# plt.plot(episodes, mean_rewards, label='Mean Rewards')\n",
    "# plt.fill_between(episodes, mean_rewards - confidence_interval, mean_rewards + confidence_interval, alpha=0.3)\n",
    "\n",
    "# # 设置图表标题和坐标轴标签\n",
    "# plt.title('Mean Rewards with Confidence Interval')\n",
    "# plt.xlabel('Episodes')\n",
    "# plt.ylabel('Rewards')\n",
    "# plt.legend()\n",
    "\n",
    "# # 显示图表\n",
    "# plt.show()\n"
   ]
  },
  {
   "cell_type": "code",
   "execution_count": 2024,
   "metadata": {},
   "outputs": [],
   "source": [
    "num_runs = 3\n",
    "num_episodes = 300"
   ]
  },
  {
   "cell_type": "code",
   "execution_count": 2025,
   "metadata": {},
   "outputs": [],
   "source": [
    "# np.random.randn(num_runs, num_episodes)"
   ]
  },
  {
   "cell_type": "code",
   "execution_count": 2026,
   "metadata": {},
   "outputs": [],
   "source": [
    "import numpy as np\n",
    "import matplotlib.pyplot as plt\n",
    "\n",
    "# 定义一个函数来计算均值和90%置信区间\n",
    "def mean_and_confidence_interval(rewards_data):\n",
    "    mean_rewards = np.mean(rewards_data, axis=0)\n",
    "    std_rewards = np.std(rewards_data, axis=0)\n",
    "    confidence_interval = 1.645 * std_rewards  # 1.645 对应于90%置信区间; 1.96 95%\n",
    "    return mean_rewards, confidence_interval\n",
    "\n",
    "# 假设有两个算法的数据，每个算法运行5次，形状为(num_runs, num_episodes)\n",
    "# 您可以使用自己的数据替换这个假设\n",
    "# num_runs = 5\n",
    "# num_episodes = 300"
   ]
  },
  {
   "cell_type": "markdown",
   "metadata": {},
   "source": [
    "柔和蓝色：'#6CACE4'\n",
    "柔和橙色：'#F79646'\n",
    "柔和绿色：'#82B366'\n",
    "柔和红色：'#E46D76'\n",
    "柔和黄色：'#F3CC56'\n",
    "柔和浅蓝：'#89C1C8'\n",
    "柔和紫罗兰：'#8B81C3'\n",
    "柔和棕色：'#C1A783'\n",
    "柔和粉红：'#F4A2A6'\n",
    "柔和青色：'#7DADD3'"
   ]
  },
  {
   "cell_type": "code",
   "execution_count": 2027,
   "metadata": {},
   "outputs": [],
   "source": [
    "# all_history_list = all_history_list[0:3]"
   ]
  },
  {
   "cell_type": "code",
   "execution_count": 2028,
   "metadata": {},
   "outputs": [
    {
     "data": {
      "text/plain": [
       "3"
      ]
     },
     "execution_count": 2028,
     "metadata": {},
     "output_type": "execute_result"
    }
   ],
   "source": [
    "len(all_history_list[0])"
   ]
  },
  {
   "cell_type": "code",
   "execution_count": 2029,
   "metadata": {},
   "outputs": [
    {
     "data": {
      "text/plain": [
       "3"
      ]
     },
     "execution_count": 2029,
     "metadata": {},
     "output_type": "execute_result"
    }
   ],
   "source": [
    "num_runs"
   ]
  },
  {
   "cell_type": "code",
   "execution_count": 2031,
   "metadata": {},
   "outputs": [
    {
     "data": {
      "image/png": "[encoded data removed]",
      "text/plain": [
       "<Figure size 720x432 with 1 Axes>"
      ]
     },
     "metadata": {
      "needs_background": "light"
     },
     "output_type": "display_data"
    }
   ],
   "source": [
    "def plot_conf_map(labels, key, hline=None, y_lim=None, window_size=5):\n",
    "    # 设置图片大小\n",
    "    plt.figure(figsize=(10, 6))\n",
    "    # 打开网格\n",
    "    plt.grid(True)\n",
    "    \n",
    "    color_maps = ['#6CACE4', '#F79646', '#82B366', '#E46D76', '#F3CC56', '#89C1C8']\n",
    "\n",
    "    for ahl_i in range(len(all_history_list)):\n",
    "        plot_data_list = []\n",
    "        for i in range(num_runs):\n",
    "            plot_data_list.append(all_history_list[ahl_i][i][key])\n",
    "        plot_data_list = np.array(plot_data_list)\n",
    "\n",
    "        # 计算两个算法的均值和置信区间\n",
    "        mean_rewards_algo1, ci_algo1 = mean_and_confidence_interval(plot_data_list)\n",
    "        # mean_rewards_algo2, ci_algo2 = mean_and_confidence_interval(rewards_data_algo2)\n",
    "\n",
    "\n",
    "\n",
    "        # 绘制两个算法的折线图和置信区间\n",
    "        episodes = np.arange(1, num_episodes + 1)\n",
    "        \n",
    "        moving_averages_mean_rewards_algo1 = moving_average(mean_rewards_algo1, window_size=window_size) if window_size>0 else mean_rewards_algo1\n",
    "        plt.plot(episodes, moving_averages_mean_rewards_algo1, label=labels[ahl_i], color=color_maps[ahl_i])\n",
    "#         plt.fill_between(episodes, mean_rewards_algo1 - ci_algo1, mean_rewards_algo1 + ci_algo1, alpha=0.3, color=color_maps[ahl_i])\n",
    "    # plt.plot(episodes, mean_rewards_algo2, label='Algorithm 2')\n",
    "    # plt.fill_between(episodes, mean_rewards_algo2 - ci_algo2, mean_rewards_algo2 + ci_algo2, alpha=0.3)\n",
    "\n",
    "    if hline is not None:\n",
    "        plt.axhline(y=hline, color='Red', linestyle='--')\n",
    "    if y_lim is not None:\n",
    "        plt.ylim(y_lim)\n",
    "\n",
    "    # 设置图表标题和坐标轴标签\n",
    "    plt.title(f'Mean {key} with 3 times training and moving averages {window_size}', fontsize=16)\n",
    "    plt.xlabel('Episodes', fontsize=14)\n",
    "    plt.ylabel(key, fontsize=14)\n",
    "    plt.legend(fontsize=12)\n",
    "\n",
    "    # 显示图表\n",
    "    plt.show()\n",
    "\n",
    "labels = ['From scrach', 'w/ Escape', 'w/ Escape 2']\n",
    "key = 'episode_rewards'\n",
    "plot_conf_map(labels, key, hline=50)\n"
   ]
  },
  {
   "cell_type": "code",
   "execution_count": 2034,
   "metadata": {},
   "outputs": [
    {
     "data": {
      "image/png": "[encoded data removed]",
      "text/plain": [
       "<Figure size 720x432 with 1 Axes>"
      ]
     },
     "metadata": {
      "needs_background": "light"
     },
     "output_type": "display_data"
    }
   ],
   "source": [
    "# labels = ['LR 5e-4', 'LR 1e-4']\n",
    "key = 'episode_step'\n",
    "\n",
    "plot_conf_map(labels, key, hline=86)"
   ]
  },
  {
   "cell_type": "code",
   "execution_count": 2035,
   "metadata": {},
   "outputs": [
    {
     "data": {
      "image/png": "[encoded data removed]",
      "text/plain": [
       "<Figure size 720x432 with 1 Axes>"
      ]
     },
     "metadata": {
      "needs_background": "light"
     },
     "output_type": "display_data"
    }
   ],
   "source": [
    "# labels = ['LR 5e-4', 'LR 1e-4']\n",
    "key = 'win_eval'\n",
    "\n",
    "plot_conf_map(labels, key, hline=1, window_size=0)"
   ]
  },
  {
   "cell_type": "code",
   "execution_count": null,
   "metadata": {},
   "outputs": [],
   "source": []
  },
  {
   "cell_type": "code",
   "execution_count": 338,
   "metadata": {},
   "outputs": [
    {
     "ename": "NameError",
     "evalue": "name 'weights' is not defined",
     "output_type": "error",
     "traceback": [
      "\u001b[0;31m---------------------------------------------------------------------------\u001b[0m",
      "\u001b[0;31mNameError\u001b[0m                                 Traceback (most recent call last)",
      "\u001b[0;32m<ipython-input-338-898146167e3e>\u001b[0m in \u001b[0;36m<module>\u001b[0;34m\u001b[0m\n\u001b[0;32m----> 1\u001b[0;31m \u001b[0mlen\u001b[0m\u001b[0;34m(\u001b[0m\u001b[0mweights\u001b[0m\u001b[0;34m[\u001b[0m\u001b[0;36m0\u001b[0m\u001b[0;34m]\u001b[0m\u001b[0;34m)\u001b[0m\u001b[0;34m\u001b[0m\u001b[0;34m\u001b[0m\u001b[0m\n\u001b[0m",
      "\u001b[0;31mNameError\u001b[0m: name 'weights' is not defined"
     ]
    }
   ],
   "source": [
    "len(weights[0])"
   ]
  },
  {
   "cell_type": "code",
   "execution_count": 778,
   "metadata": {},
   "outputs": [
    {
     "data": {
      "text/plain": [
       "<bound method Module.parameters of DQN(\n",
       "  (layer1): Linear(in_features=64, out_features=128, bias=True)\n",
       "  (relu1): ReLU()\n",
       "  (layer2): Linear(in_features=128, out_features=128, bias=True)\n",
       "  (relu2): ReLU()\n",
       "  (output_layer): Linear(in_features=128, out_features=4, bias=True)\n",
       ")>"
      ]
     },
     "execution_count": 778,
     "metadata": {},
     "output_type": "execute_result"
    }
   ],
   "source": [
    "policy_net.parameters"
   ]
  },
  {
   "cell_type": "code",
   "execution_count": 776,
   "metadata": {},
   "outputs": [
    {
     "data": {
      "text/plain": [
       "odict_keys(['layer1.weight', 'layer1.bias', 'layer2.weight', 'layer2.bias', 'output_layer.weight', 'output_layer.bias'])"
      ]
     },
     "execution_count": 776,
     "metadata": {},
     "output_type": "execute_result"
    }
   ],
   "source": [
    "policy_net.state_dict().keys()"
   ]
  },
  {
   "cell_type": "code",
   "execution_count": 796,
   "metadata": {},
   "outputs": [
    {
     "data": {
      "image/png": "[encoded data removed]",
      "text/plain": [
       "<Figure size 1440x576 with 2 Axes>"
      ]
     },
     "metadata": {
      "needs_background": "light"
     },
     "output_type": "display_data"
    }
   ],
   "source": [
    "import matplotlib.pyplot as plt\n",
    "\n",
    "def plot_weights(weights):\n",
    "    num_layers = len(weights[0])\n",
    "    fig, axs = plt.subplots(1, 2, figsize=(20, 8))\n",
    "    # 设置字体大小为20\n",
    "    plt.rcParams.update({'font.size': 20})\n",
    "    \n",
    "    \n",
    "\n",
    "\n",
    "    for i in range(2):\n",
    "        plt.sca(axs[i])\n",
    "        layer_weights = [w[i] for w in weights]\n",
    "        axs[i].plot([w.flatten()[0].item() for w in layer_weights])\n",
    "        axs[i].set_xlabel('Round')\n",
    "        axs[i].set_ylabel(f'Weights')\n",
    "        \n",
    "        \n",
    "        # 打开网格\n",
    "        plt.grid(True)\n",
    "    axs[0].set_title(f'Layer {1} Neuron 1 Weight Trajectory')\n",
    "    axs[1].set_title(f'Layer {1} Neuron 1 Bias Trajectory')\n",
    "\n",
    "        \n",
    "\n",
    "    plt.tight_layout()\n",
    "    plt.show()\n",
    "\n",
    "# 用法示例：假设weights是一个包含100轮训练权重的列表\n",
    "plot_weights(weights)\n"
   ]
  },
  {
   "cell_type": "markdown",
   "metadata": {},
   "source": [
    "## 可视化Q值表"
   ]
  },
  {
   "cell_type": "code",
   "execution_count": 585,
   "metadata": {},
   "outputs": [
    {
     "data": {
      "text/plain": [
       "array([[1., 1., 0., 1., 0., 1., 1., 1.],\n",
       "       [1., 1., 1., 1., 1., 0., 0., 1.],\n",
       "       [1., 0., 1., 1., 1., 1., 0., 0.],\n",
       "       [0., 1., 1., 1., 1., 1., 1., 1.],\n",
       "       [1., 1., 0., 1., 1., 1., 1., 1.],\n",
       "       [0., 1., 1., 0., 1., 0., 1., 1.],\n",
       "       [1., 1., 0., 1., 1., 1., 1., 1.],\n",
       "       [1., 1., 0., 1., 1., 0., 1., 1.]])"
      ]
     },
     "execution_count": 585,
     "metadata": {},
     "output_type": "execute_result"
    }
   ],
   "source": [
    "maze"
   ]
  },
  {
   "cell_type": "code",
   "execution_count": 586,
   "metadata": {},
   "outputs": [],
   "source": [
    "input_maze = maze.flatten()"
   ]
  },
  {
   "cell_type": "code",
   "execution_count": 587,
   "metadata": {},
   "outputs": [
    {
     "data": {
      "text/plain": [
       "array([[1., 1., 0., 1., 0., 1., 1., 1., 1., 1., 1., 1., 1., 0., 0., 1.,\n",
       "        1., 0., 1., 1., 1., 1., 0., 0., 0., 1., 1., 1., 1., 1., 1., 1.,\n",
       "        1., 1., 0., 1., 1., 1., 1., 1., 0., 1., 1., 0., 1., 0., 1., 1.,\n",
       "        1., 1., 0., 1., 1., 1., 1., 1., 1., 1., 0., 1., 1., 0., 1., 1.]])"
      ]
     },
     "execution_count": 587,
     "metadata": {},
     "output_type": "execute_result"
    }
   ],
   "source": [
    "input_maze.reshape(1, 64)"
   ]
  },
  {
   "cell_type": "code",
   "execution_count": 588,
   "metadata": {},
   "outputs": [],
   "source": [
    "input_maze[0] = 0.5\n",
    "input_maze[-1] = -1"
   ]
  },
  {
   "cell_type": "code",
   "execution_count": 589,
   "metadata": {},
   "outputs": [
    {
     "data": {
      "text/plain": [
       "array([ 0.5,  1. ,  0. ,  1. ,  0. ,  1. ,  1. ,  1. ,  1. ,  1. ,  1. ,\n",
       "        1. ,  1. ,  0. ,  0. ,  1. ,  1. ,  0. ,  1. ,  1. ,  1. ,  1. ,\n",
       "        0. ,  0. ,  0. ,  1. ,  1. ,  1. ,  1. ,  1. ,  1. ,  1. ,  1. ,\n",
       "        1. ,  0. ,  1. ,  1. ,  1. ,  1. ,  1. ,  0. ,  1. ,  1. ,  0. ,\n",
       "        1. ,  0. ,  1. ,  1. ,  1. ,  1. ,  0. ,  1. ,  1. ,  1. ,  1. ,\n",
       "        1. ,  1. ,  1. ,  0. ,  1. ,  1. ,  0. ,  1. , -1. ])"
      ]
     },
     "execution_count": 589,
     "metadata": {},
     "output_type": "execute_result"
    }
   ],
   "source": [
    "input_maze"
   ]
  },
  {
   "cell_type": "code",
   "execution_count": 590,
   "metadata": {},
   "outputs": [],
   "source": [
    "def move_p5(arr):\n",
    "    for i in range(len(arr)):\n",
    "        if arr[i] == 0.5:\n",
    "            j = i + 1\n",
    "            while j < len(arr):\n",
    "                if arr[j] == 1 or arr[j] == -1:\n",
    "                    arr[j] = 1.\n",
    "                    arr[i], arr[j] = arr[j], arr[i]\n",
    "                    return arr\n",
    "                else:\n",
    "                    j += 1"
   ]
  },
  {
   "cell_type": "code",
   "execution_count": 591,
   "metadata": {},
   "outputs": [
    {
     "name": "stdout",
     "output_type": "stream",
     "text": [
      "        ←  ↑  →  ↓\n",
      "(0, 0)  0  0  0  0\n",
      "(0, 1)  0  0  0  0\n",
      "(0, 2)  0  0  0  0\n",
      "(0, 3)  0  0  0  0\n",
      "(0, 4)  0  0  0  0\n",
      "...    .. .. .. ..\n",
      "(7, 3)  0  0  0  0\n",
      "(7, 4)  0  0  0  0\n",
      "(7, 5)  0  0  0  0\n",
      "(7, 6)  0  0  0  0\n",
      "(7, 7)  0  0  0  0\n",
      "\n",
      "[64 rows x 4 columns]\n"
     ]
    }
   ],
   "source": [
    "import pandas as pd\n",
    "\n",
    "# 创建一个行名和列名为指定值的DataFrame，初始值全为0\n",
    "rows = [(i, j) for i in range(8) for j in range(8)]\n",
    "cols = ['←', '↑', '→', '↓']\n",
    "df = pd.DataFrame(0, index=rows, columns=cols)\n",
    "\n",
    "print(df)"
   ]
  },
  {
   "cell_type": "code",
   "execution_count": 593,
   "metadata": {},
   "outputs": [],
   "source": [
    "while input_maze[-1]==-1:   \n",
    "    # 获取当前状态\n",
    "    input_maze_tensor = torch.Tensor(input_maze).cuda()\n",
    "    \n",
    "    # 计算当前状态的Q值\n",
    "    Q_value = policy_net(input_maze_tensor).cpu().detach().numpy()\n",
    "    index = int(np.where(input_maze==0.5)[0])\n",
    "    \n",
    "    # 将array中的值填入(0, 0)行\n",
    "    df.iloc[index, :] = Q_value\n",
    "    \n",
    "    # 移动到下一个状态\n",
    "    input_maze = move_p5(input_maze)"
   ]
  },
  {
   "cell_type": "code",
   "execution_count": 597,
   "metadata": {},
   "outputs": [],
   "source": [
    "pd.set_option('display.max_rows', None)"
   ]
  },
  {
   "cell_type": "code",
   "execution_count": 598,
   "metadata": {
    "scrolled": true
   },
   "outputs": [
    {
     "data": {
      "text/html": [
       "<div>\n",
       "<style scoped>\n",
       "    .dataframe tbody tr th:only-of-type {\n",
       "        vertical-align: middle;\n",
       "    }\n",
       "\n",
       "    .dataframe tbody tr th {\n",
       "        vertical-align: top;\n",
       "    }\n",
       "\n",
       "    .dataframe thead th {\n",
       "        text-align: right;\n",
       "    }\n",
       "</style>\n",
       "<table border=\"1\" class=\"dataframe\">\n",
       "  <thead>\n",
       "    <tr style=\"text-align: right;\">\n",
       "      <th></th>\n",
       "      <th>←</th>\n",
       "      <th>↑</th>\n",
       "      <th>→</th>\n",
       "      <th>↓</th>\n",
       "    </tr>\n",
       "  </thead>\n",
       "  <tbody>\n",
       "    <tr>\n",
       "      <th>(0, 0)</th>\n",
       "      <td>39.887558</td>\n",
       "      <td>40.414181</td>\n",
       "      <td>41.609596</td>\n",
       "      <td>40.861477</td>\n",
       "    </tr>\n",
       "    <tr>\n",
       "      <th>(0, 1)</th>\n",
       "      <td>40.753212</td>\n",
       "      <td>41.114449</td>\n",
       "      <td>41.272713</td>\n",
       "      <td>41.732605</td>\n",
       "    </tr>\n",
       "    <tr>\n",
       "      <th>(0, 2)</th>\n",
       "      <td>0.000000</td>\n",
       "      <td>0.000000</td>\n",
       "      <td>0.000000</td>\n",
       "      <td>0.000000</td>\n",
       "    </tr>\n",
       "    <tr>\n",
       "      <th>(0, 3)</th>\n",
       "      <td>39.751942</td>\n",
       "      <td>40.215618</td>\n",
       "      <td>40.695454</td>\n",
       "      <td>40.785007</td>\n",
       "    </tr>\n",
       "    <tr>\n",
       "      <th>(0, 4)</th>\n",
       "      <td>0.000000</td>\n",
       "      <td>0.000000</td>\n",
       "      <td>0.000000</td>\n",
       "      <td>0.000000</td>\n",
       "    </tr>\n",
       "    <tr>\n",
       "      <th>(0, 5)</th>\n",
       "      <td>40.950951</td>\n",
       "      <td>41.523399</td>\n",
       "      <td>41.991951</td>\n",
       "      <td>41.913960</td>\n",
       "    </tr>\n",
       "    <tr>\n",
       "      <th>(0, 6)</th>\n",
       "      <td>41.933956</td>\n",
       "      <td>42.465855</td>\n",
       "      <td>42.960537</td>\n",
       "      <td>42.680939</td>\n",
       "    </tr>\n",
       "    <tr>\n",
       "      <th>(0, 7)</th>\n",
       "      <td>41.102913</td>\n",
       "      <td>41.710564</td>\n",
       "      <td>41.999268</td>\n",
       "      <td>42.045547</td>\n",
       "    </tr>\n",
       "    <tr>\n",
       "      <th>(1, 0)</th>\n",
       "      <td>39.433727</td>\n",
       "      <td>39.868710</td>\n",
       "      <td>41.348690</td>\n",
       "      <td>40.177315</td>\n",
       "    </tr>\n",
       "    <tr>\n",
       "      <th>(1, 1)</th>\n",
       "      <td>40.910725</td>\n",
       "      <td>41.271641</td>\n",
       "      <td>41.800476</td>\n",
       "      <td>41.668674</td>\n",
       "    </tr>\n",
       "    <tr>\n",
       "      <th>(1, 2)</th>\n",
       "      <td>40.828979</td>\n",
       "      <td>41.254585</td>\n",
       "      <td>41.376694</td>\n",
       "      <td>42.031353</td>\n",
       "    </tr>\n",
       "    <tr>\n",
       "      <th>(1, 3)</th>\n",
       "      <td>41.187698</td>\n",
       "      <td>41.645996</td>\n",
       "      <td>41.749809</td>\n",
       "      <td>42.302166</td>\n",
       "    </tr>\n",
       "    <tr>\n",
       "      <th>(1, 4)</th>\n",
       "      <td>41.579697</td>\n",
       "      <td>41.961021</td>\n",
       "      <td>41.990227</td>\n",
       "      <td>42.552155</td>\n",
       "    </tr>\n",
       "    <tr>\n",
       "      <th>(1, 5)</th>\n",
       "      <td>0.000000</td>\n",
       "      <td>0.000000</td>\n",
       "      <td>0.000000</td>\n",
       "      <td>0.000000</td>\n",
       "    </tr>\n",
       "    <tr>\n",
       "      <th>(1, 6)</th>\n",
       "      <td>0.000000</td>\n",
       "      <td>0.000000</td>\n",
       "      <td>0.000000</td>\n",
       "      <td>0.000000</td>\n",
       "    </tr>\n",
       "    <tr>\n",
       "      <th>(1, 7)</th>\n",
       "      <td>41.109253</td>\n",
       "      <td>41.764580</td>\n",
       "      <td>42.100212</td>\n",
       "      <td>42.241222</td>\n",
       "    </tr>\n",
       "    <tr>\n",
       "      <th>(2, 0)</th>\n",
       "      <td>38.264816</td>\n",
       "      <td>38.708225</td>\n",
       "      <td>39.144875</td>\n",
       "      <td>39.272968</td>\n",
       "    </tr>\n",
       "    <tr>\n",
       "      <th>(2, 1)</th>\n",
       "      <td>0.000000</td>\n",
       "      <td>0.000000</td>\n",
       "      <td>0.000000</td>\n",
       "      <td>0.000000</td>\n",
       "    </tr>\n",
       "    <tr>\n",
       "      <th>(2, 2)</th>\n",
       "      <td>41.066639</td>\n",
       "      <td>41.470196</td>\n",
       "      <td>41.978760</td>\n",
       "      <td>41.849056</td>\n",
       "    </tr>\n",
       "    <tr>\n",
       "      <th>(2, 3)</th>\n",
       "      <td>41.371117</td>\n",
       "      <td>41.752949</td>\n",
       "      <td>42.173477</td>\n",
       "      <td>42.128330</td>\n",
       "    </tr>\n",
       "    <tr>\n",
       "      <th>(2, 4)</th>\n",
       "      <td>41.863419</td>\n",
       "      <td>42.313805</td>\n",
       "      <td>42.897778</td>\n",
       "      <td>42.615192</td>\n",
       "    </tr>\n",
       "    <tr>\n",
       "      <th>(2, 5)</th>\n",
       "      <td>41.884628</td>\n",
       "      <td>42.619755</td>\n",
       "      <td>41.862831</td>\n",
       "      <td>43.621597</td>\n",
       "    </tr>\n",
       "    <tr>\n",
       "      <th>(2, 6)</th>\n",
       "      <td>0.000000</td>\n",
       "      <td>0.000000</td>\n",
       "      <td>0.000000</td>\n",
       "      <td>0.000000</td>\n",
       "    </tr>\n",
       "    <tr>\n",
       "      <th>(2, 7)</th>\n",
       "      <td>0.000000</td>\n",
       "      <td>0.000000</td>\n",
       "      <td>0.000000</td>\n",
       "      <td>0.000000</td>\n",
       "    </tr>\n",
       "    <tr>\n",
       "      <th>(3, 0)</th>\n",
       "      <td>0.000000</td>\n",
       "      <td>0.000000</td>\n",
       "      <td>0.000000</td>\n",
       "      <td>0.000000</td>\n",
       "    </tr>\n",
       "    <tr>\n",
       "      <th>(3, 1)</th>\n",
       "      <td>40.589493</td>\n",
       "      <td>40.983055</td>\n",
       "      <td>41.515099</td>\n",
       "      <td>41.290966</td>\n",
       "    </tr>\n",
       "    <tr>\n",
       "      <th>(3, 2)</th>\n",
       "      <td>41.315380</td>\n",
       "      <td>41.663239</td>\n",
       "      <td>42.269272</td>\n",
       "      <td>41.926014</td>\n",
       "    </tr>\n",
       "    <tr>\n",
       "      <th>(3, 3)</th>\n",
       "      <td>41.416328</td>\n",
       "      <td>41.885311</td>\n",
       "      <td>42.443466</td>\n",
       "      <td>42.138905</td>\n",
       "    </tr>\n",
       "    <tr>\n",
       "      <th>(3, 4)</th>\n",
       "      <td>41.678169</td>\n",
       "      <td>42.167210</td>\n",
       "      <td>42.722855</td>\n",
       "      <td>42.320644</td>\n",
       "    </tr>\n",
       "    <tr>\n",
       "      <th>(3, 5)</th>\n",
       "      <td>41.983231</td>\n",
       "      <td>42.618240</td>\n",
       "      <td>43.170921</td>\n",
       "      <td>42.815903</td>\n",
       "    </tr>\n",
       "    <tr>\n",
       "      <th>(3, 6)</th>\n",
       "      <td>42.621147</td>\n",
       "      <td>43.251141</td>\n",
       "      <td>43.652611</td>\n",
       "      <td>43.460682</td>\n",
       "    </tr>\n",
       "    <tr>\n",
       "      <th>(3, 7)</th>\n",
       "      <td>42.897171</td>\n",
       "      <td>43.712662</td>\n",
       "      <td>42.944725</td>\n",
       "      <td>44.565975</td>\n",
       "    </tr>\n",
       "    <tr>\n",
       "      <th>(4, 0)</th>\n",
       "      <td>40.855740</td>\n",
       "      <td>41.372185</td>\n",
       "      <td>41.798687</td>\n",
       "      <td>41.816536</td>\n",
       "    </tr>\n",
       "    <tr>\n",
       "      <th>(4, 1)</th>\n",
       "      <td>41.449974</td>\n",
       "      <td>42.093472</td>\n",
       "      <td>42.108078</td>\n",
       "      <td>42.674011</td>\n",
       "    </tr>\n",
       "    <tr>\n",
       "      <th>(4, 2)</th>\n",
       "      <td>0.000000</td>\n",
       "      <td>0.000000</td>\n",
       "      <td>0.000000</td>\n",
       "      <td>0.000000</td>\n",
       "    </tr>\n",
       "    <tr>\n",
       "      <th>(4, 3)</th>\n",
       "      <td>41.745926</td>\n",
       "      <td>42.116455</td>\n",
       "      <td>42.662125</td>\n",
       "      <td>42.343277</td>\n",
       "    </tr>\n",
       "    <tr>\n",
       "      <th>(4, 4)</th>\n",
       "      <td>41.889977</td>\n",
       "      <td>42.362854</td>\n",
       "      <td>42.900822</td>\n",
       "      <td>42.590351</td>\n",
       "    </tr>\n",
       "    <tr>\n",
       "      <th>(4, 5)</th>\n",
       "      <td>42.204071</td>\n",
       "      <td>42.902008</td>\n",
       "      <td>43.492802</td>\n",
       "      <td>42.919434</td>\n",
       "    </tr>\n",
       "    <tr>\n",
       "      <th>(4, 6)</th>\n",
       "      <td>42.907478</td>\n",
       "      <td>43.612762</td>\n",
       "      <td>44.201859</td>\n",
       "      <td>43.677731</td>\n",
       "    </tr>\n",
       "    <tr>\n",
       "      <th>(4, 7)</th>\n",
       "      <td>42.916367</td>\n",
       "      <td>43.937943</td>\n",
       "      <td>42.858387</td>\n",
       "      <td>45.239849</td>\n",
       "    </tr>\n",
       "    <tr>\n",
       "      <th>(5, 0)</th>\n",
       "      <td>0.000000</td>\n",
       "      <td>0.000000</td>\n",
       "      <td>0.000000</td>\n",
       "      <td>0.000000</td>\n",
       "    </tr>\n",
       "    <tr>\n",
       "      <th>(5, 1)</th>\n",
       "      <td>40.868969</td>\n",
       "      <td>41.489182</td>\n",
       "      <td>41.687805</td>\n",
       "      <td>42.093903</td>\n",
       "    </tr>\n",
       "    <tr>\n",
       "      <th>(5, 2)</th>\n",
       "      <td>40.363106</td>\n",
       "      <td>40.866417</td>\n",
       "      <td>40.992123</td>\n",
       "      <td>41.356541</td>\n",
       "    </tr>\n",
       "    <tr>\n",
       "      <th>(5, 3)</th>\n",
       "      <td>0.000000</td>\n",
       "      <td>0.000000</td>\n",
       "      <td>0.000000</td>\n",
       "      <td>0.000000</td>\n",
       "    </tr>\n",
       "    <tr>\n",
       "      <th>(5, 4)</th>\n",
       "      <td>41.962837</td>\n",
       "      <td>42.568630</td>\n",
       "      <td>42.664810</td>\n",
       "      <td>43.135738</td>\n",
       "    </tr>\n",
       "    <tr>\n",
       "      <th>(5, 5)</th>\n",
       "      <td>0.000000</td>\n",
       "      <td>0.000000</td>\n",
       "      <td>0.000000</td>\n",
       "      <td>0.000000</td>\n",
       "    </tr>\n",
       "    <tr>\n",
       "      <th>(5, 6)</th>\n",
       "      <td>42.196320</td>\n",
       "      <td>43.103233</td>\n",
       "      <td>44.061626</td>\n",
       "      <td>43.124439</td>\n",
       "    </tr>\n",
       "    <tr>\n",
       "      <th>(5, 7)</th>\n",
       "      <td>43.972107</td>\n",
       "      <td>44.885483</td>\n",
       "      <td>43.982140</td>\n",
       "      <td>45.986210</td>\n",
       "    </tr>\n",
       "    <tr>\n",
       "      <th>(6, 0)</th>\n",
       "      <td>40.407944</td>\n",
       "      <td>40.895626</td>\n",
       "      <td>41.423271</td>\n",
       "      <td>41.326229</td>\n",
       "    </tr>\n",
       "    <tr>\n",
       "      <th>(6, 1)</th>\n",
       "      <td>40.520164</td>\n",
       "      <td>41.020096</td>\n",
       "      <td>41.055298</td>\n",
       "      <td>41.625690</td>\n",
       "    </tr>\n",
       "    <tr>\n",
       "      <th>(6, 2)</th>\n",
       "      <td>0.000000</td>\n",
       "      <td>0.000000</td>\n",
       "      <td>0.000000</td>\n",
       "      <td>0.000000</td>\n",
       "    </tr>\n",
       "    <tr>\n",
       "      <th>(6, 3)</th>\n",
       "      <td>41.809864</td>\n",
       "      <td>42.417152</td>\n",
       "      <td>43.165909</td>\n",
       "      <td>42.539257</td>\n",
       "    </tr>\n",
       "    <tr>\n",
       "      <th>(6, 4)</th>\n",
       "      <td>41.462482</td>\n",
       "      <td>41.969738</td>\n",
       "      <td>42.834869</td>\n",
       "      <td>41.857006</td>\n",
       "    </tr>\n",
       "    <tr>\n",
       "      <th>(6, 5)</th>\n",
       "      <td>42.112404</td>\n",
       "      <td>42.632767</td>\n",
       "      <td>43.232792</td>\n",
       "      <td>42.693962</td>\n",
       "    </tr>\n",
       "    <tr>\n",
       "      <th>(6, 6)</th>\n",
       "      <td>42.715820</td>\n",
       "      <td>43.271175</td>\n",
       "      <td>44.120094</td>\n",
       "      <td>42.979061</td>\n",
       "    </tr>\n",
       "    <tr>\n",
       "      <th>(6, 7)</th>\n",
       "      <td>44.952141</td>\n",
       "      <td>46.064285</td>\n",
       "      <td>44.974552</td>\n",
       "      <td>47.387074</td>\n",
       "    </tr>\n",
       "    <tr>\n",
       "      <th>(7, 0)</th>\n",
       "      <td>40.006607</td>\n",
       "      <td>40.606842</td>\n",
       "      <td>41.140015</td>\n",
       "      <td>41.077976</td>\n",
       "    </tr>\n",
       "    <tr>\n",
       "      <th>(7, 1)</th>\n",
       "      <td>40.535755</td>\n",
       "      <td>41.075195</td>\n",
       "      <td>41.424004</td>\n",
       "      <td>41.522694</td>\n",
       "    </tr>\n",
       "    <tr>\n",
       "      <th>(7, 2)</th>\n",
       "      <td>0.000000</td>\n",
       "      <td>0.000000</td>\n",
       "      <td>0.000000</td>\n",
       "      <td>0.000000</td>\n",
       "    </tr>\n",
       "    <tr>\n",
       "      <th>(7, 3)</th>\n",
       "      <td>40.269001</td>\n",
       "      <td>40.817635</td>\n",
       "      <td>41.023262</td>\n",
       "      <td>41.286205</td>\n",
       "    </tr>\n",
       "    <tr>\n",
       "      <th>(7, 4)</th>\n",
       "      <td>39.775337</td>\n",
       "      <td>40.263504</td>\n",
       "      <td>40.500233</td>\n",
       "      <td>40.720474</td>\n",
       "    </tr>\n",
       "    <tr>\n",
       "      <th>(7, 5)</th>\n",
       "      <td>0.000000</td>\n",
       "      <td>0.000000</td>\n",
       "      <td>0.000000</td>\n",
       "      <td>0.000000</td>\n",
       "    </tr>\n",
       "    <tr>\n",
       "      <th>(7, 6)</th>\n",
       "      <td>41.044556</td>\n",
       "      <td>41.624611</td>\n",
       "      <td>42.008781</td>\n",
       "      <td>41.852318</td>\n",
       "    </tr>\n",
       "    <tr>\n",
       "      <th>(7, 7)</th>\n",
       "      <td>0.000000</td>\n",
       "      <td>0.000000</td>\n",
       "      <td>0.000000</td>\n",
       "      <td>0.000000</td>\n",
       "    </tr>\n",
       "  </tbody>\n",
       "</table>\n",
       "</div>"
      ],
      "text/plain": [
       "                ←          ↑          →          ↓\n",
       "(0, 0)  39.887558  40.414181  41.609596  40.861477\n",
       "(0, 1)  40.753212  41.114449  41.272713  41.732605\n",
       "(0, 2)   0.000000   0.000000   0.000000   0.000000\n",
       "(0, 3)  39.751942  40.215618  40.695454  40.785007\n",
       "(0, 4)   0.000000   0.000000   0.000000   0.000000\n",
       "(0, 5)  40.950951  41.523399  41.991951  41.913960\n",
       "(0, 6)  41.933956  42.465855  42.960537  42.680939\n",
       "(0, 7)  41.102913  41.710564  41.999268  42.045547\n",
       "(1, 0)  39.433727  39.868710  41.348690  40.177315\n",
       "(1, 1)  40.910725  41.271641  41.800476  41.668674\n",
       "(1, 2)  40.828979  41.254585  41.376694  42.031353\n",
       "(1, 3)  41.187698  41.645996  41.749809  42.302166\n",
       "(1, 4)  41.579697  41.961021  41.990227  42.552155\n",
       "(1, 5)   0.000000   0.000000   0.000000   0.000000\n",
       "(1, 6)   0.000000   0.000000   0.000000   0.000000\n",
       "(1, 7)  41.109253  41.764580  42.100212  42.241222\n",
       "(2, 0)  38.264816  38.708225  39.144875  39.272968\n",
       "(2, 1)   0.000000   0.000000   0.000000   0.000000\n",
       "(2, 2)  41.066639  41.470196  41.978760  41.849056\n",
       "(2, 3)  41.371117  41.752949  42.173477  42.128330\n",
       "(2, 4)  41.863419  42.313805  42.897778  42.615192\n",
       "(2, 5)  41.884628  42.619755  41.862831  43.621597\n",
       "(2, 6)   0.000000   0.000000   0.000000   0.000000\n",
       "(2, 7)   0.000000   0.000000   0.000000   0.000000\n",
       "(3, 0)   0.000000   0.000000   0.000000   0.000000\n",
       "(3, 1)  40.589493  40.983055  41.515099  41.290966\n",
       "(3, 2)  41.315380  41.663239  42.269272  41.926014\n",
       "(3, 3)  41.416328  41.885311  42.443466  42.138905\n",
       "(3, 4)  41.678169  42.167210  42.722855  42.320644\n",
       "(3, 5)  41.983231  42.618240  43.170921  42.815903\n",
       "(3, 6)  42.621147  43.251141  43.652611  43.460682\n",
       "(3, 7)  42.897171  43.712662  42.944725  44.565975\n",
       "(4, 0)  40.855740  41.372185  41.798687  41.816536\n",
       "(4, 1)  41.449974  42.093472  42.108078  42.674011\n",
       "(4, 2)   0.000000   0.000000   0.000000   0.000000\n",
       "(4, 3)  41.745926  42.116455  42.662125  42.343277\n",
       "(4, 4)  41.889977  42.362854  42.900822  42.590351\n",
       "(4, 5)  42.204071  42.902008  43.492802  42.919434\n",
       "(4, 6)  42.907478  43.612762  44.201859  43.677731\n",
       "(4, 7)  42.916367  43.937943  42.858387  45.239849\n",
       "(5, 0)   0.000000   0.000000   0.000000   0.000000\n",
       "(5, 1)  40.868969  41.489182  41.687805  42.093903\n",
       "(5, 2)  40.363106  40.866417  40.992123  41.356541\n",
       "(5, 3)   0.000000   0.000000   0.000000   0.000000\n",
       "(5, 4)  41.962837  42.568630  42.664810  43.135738\n",
       "(5, 5)   0.000000   0.000000   0.000000   0.000000\n",
       "(5, 6)  42.196320  43.103233  44.061626  43.124439\n",
       "(5, 7)  43.972107  44.885483  43.982140  45.986210\n",
       "(6, 0)  40.407944  40.895626  41.423271  41.326229\n",
       "(6, 1)  40.520164  41.020096  41.055298  41.625690\n",
       "(6, 2)   0.000000   0.000000   0.000000   0.000000\n",
       "(6, 3)  41.809864  42.417152  43.165909  42.539257\n",
       "(6, 4)  41.462482  41.969738  42.834869  41.857006\n",
       "(6, 5)  42.112404  42.632767  43.232792  42.693962\n",
       "(6, 6)  42.715820  43.271175  44.120094  42.979061\n",
       "(6, 7)  44.952141  46.064285  44.974552  47.387074\n",
       "(7, 0)  40.006607  40.606842  41.140015  41.077976\n",
       "(7, 1)  40.535755  41.075195  41.424004  41.522694\n",
       "(7, 2)   0.000000   0.000000   0.000000   0.000000\n",
       "(7, 3)  40.269001  40.817635  41.023262  41.286205\n",
       "(7, 4)  39.775337  40.263504  40.500233  40.720474\n",
       "(7, 5)   0.000000   0.000000   0.000000   0.000000\n",
       "(7, 6)  41.044556  41.624611  42.008781  41.852318\n",
       "(7, 7)   0.000000   0.000000   0.000000   0.000000"
      ]
     },
     "execution_count": 598,
     "metadata": {},
     "output_type": "execute_result"
    }
   ],
   "source": [
    "df"
   ]
  },
  {
   "cell_type": "code",
   "execution_count": 602,
   "metadata": {},
   "outputs": [
    {
     "data": {
      "text/plain": [
       "array([['→', '↓', '←', '↓', '←', '→', '→', '↓'],\n",
       "       ['→', '→', '↓', '↓', '↓', '←', '←', '↓'],\n",
       "       ['↓', '←', '→', '→', '→', '↓', '←', '←'],\n",
       "       ['←', '→', '→', '→', '→', '→', '→', '↓'],\n",
       "       ['↓', '↓', '←', '→', '→', '→', '→', '↓'],\n",
       "       ['←', '↓', '↓', '←', '↓', '←', '→', '↓'],\n",
       "       ['→', '↓', '←', '→', '→', '→', '→', '↓'],\n",
       "       ['→', '↓', '←', '↓', '↓', '←', '→', '←']], dtype='<U1')"
      ]
     },
     "execution_count": 602,
     "metadata": {},
     "output_type": "execute_result"
    }
   ],
   "source": [
    "max_idx = df.idxmax(axis=1)\n",
    "\n",
    "np.array(max_idx.to_list()).reshape(8, 8)"
   ]
  },
  {
   "cell_type": "markdown",
   "metadata": {},
   "source": [
    "## 保存训练结果"
   ]
  },
  {
   "cell_type": "code",
   "execution_count": 822,
   "metadata": {},
   "outputs": [],
   "source": [
    "# EPS_DECAY"
   ]
  },
  {
   "cell_type": "code",
   "execution_count": 823,
   "metadata": {},
   "outputs": [],
   "source": [
    "# ss = []\n",
    "# es = []\n",
    "# # EPS_DECAY = 50000\n",
    "# for i in range(len(loss_train)):\n",
    "#     sample = random.random()\n",
    "#     eps_threshold = EPS_END + (EPS_START - EPS_END) * \\\n",
    "#             math.exp(-1. * i / EPS_DECAY)\n",
    "#     # eps_threshold = 1.0 / (i + 1)\n",
    "#     ss.append(sample)\n",
    "#     es.append(eps_threshold)\n",
    "\n",
    "# exploit = 0\n",
    "# for i in range(1000):\n",
    "#     if ss[i] > es[i]:\n",
    "#         exploit += 1\n",
    "        \n",
    "# plt.scatter(list(range(len(ss))), ss, s=0.1)\n",
    "# plt.plot(es, c='r',linewidth=2)\n",
    "\n",
    "# print(exploit, exploit/1000)"
   ]
  },
  {
   "cell_type": "code",
   "execution_count": 192,
   "metadata": {},
   "outputs": [],
   "source": [
    "now = time.strftime(\"%m-%d_%H-%M-%S\", time.localtime())\n",
    "save_path = f\"runs/grid_8_5/{ENV_NAME}_LR1e_5/\" + now"
   ]
  },
  {
   "cell_type": "code",
   "execution_count": 193,
   "metadata": {},
   "outputs": [],
   "source": [
    "os.makedirs(save_path, exist_ok=True)"
   ]
  },
  {
   "cell_type": "code",
   "execution_count": 194,
   "metadata": {},
   "outputs": [],
   "source": [
    "cfg = {\n",
    "    'visited_mark': visited_mark,\n",
    "    'end_mark': end_mark,\n",
    "    'rat_mark': rat_mark,\n",
    "    'LEFT': LEFT,\n",
    "    'UP': UP,\n",
    "    'RIGHT': RIGHT,\n",
    "    'DOWN': DOWN,\n",
    "    'actions_dict': actions_dict,\n",
    "    'num_actions': num_actions,\n",
    "    'maze_path': maze_path,\n",
    "    'ob_size': ob_size,\n",
    "    'ENV_NAME': ENV_NAME,\n",
    "    'BATCH_SIZE': BATCH_SIZE,\n",
    "    'GAMMA': GAMMA,\n",
    "    'EPS_START': EPS_START,\n",
    "    'EPS_END': EPS_END,\n",
    "    'EPS_DECAY': EPS_DECAY,\n",
    "    'TAU': TAU,\n",
    "    'LR': LR,\n",
    "    'num_episodes': num_episodes,\n",
    "    'max_Tstep': max_Tstep,\n",
    "    'sync_target_net_freq': sync_target_net_freq,\n",
    "    'R_GOAL': R_GOAL,\n",
    "    'R_WALL': R_WALL,\n",
    "    'R_MOVE': R_MOVE,\n",
    "    'R_Heuristic': R_Heuristic,\n",
    "}"
   ]
  },
  {
   "cell_type": "code",
   "execution_count": 195,
   "metadata": {},
   "outputs": [],
   "source": [
    "# 将字典保存成 txt 文件\n",
    "with open(save_path+'/config.txt', 'w') as f:\n",
    "    for key, value in cfg.items():\n",
    "        f.write(f'{key}: {value}\\n')"
   ]
  },
  {
   "cell_type": "code",
   "execution_count": 196,
   "metadata": {},
   "outputs": [],
   "source": [
    "# 将字典保存成 txt 文件\n",
    "for i in range(len(history_list)):\n",
    "    with open(save_path+'/history'+ str(i) +'.txt', 'w') as f:\n",
    "        for key, value in history_list[i].items():\n",
    "            f.write(f'{key}: {value}\\n')"
   ]
  },
  {
   "cell_type": "code",
   "execution_count": 197,
   "metadata": {},
   "outputs": [
    {
     "name": "stdout",
     "output_type": "stream",
     "text": [
      "{'visited_mark': 0.8, 'end_mark': -1, 'rat_mark': 0.5, 'LEFT': 0, 'UP': 1, 'RIGHT': 2, 'DOWN': 3, 'actions_dict': {0: 'left', 1: 'up', 2: 'right', 3: 'down'}, 'num_actions': 4, 'maze_path': 'maze8n_4.txt', 'ob_size': -1, 'ENV_NAME': 'grid_maze8n_4', 'BATCH_SIZE': 128, 'GAMMA': 0.99, 'EPS_START': 0.95, 'EPS_END': 0.05, 'EPS_DECAY': 20000, 'TAU': 0.005, 'LR': 1e-05, 'num_episodes': 300, 'max_Tstep': 128, 'sync_target_net_freq': 200, 'R_GOAL': 50, 'R_WALL': -10, 'R_MOVE': 0, 'R_Heuristic': False}\n"
     ]
    }
   ],
   "source": [
    "print(cfg)"
   ]
  },
  {
   "cell_type": "code",
   "execution_count": null,
   "metadata": {},
   "outputs": [],
   "source": []
  },
  {
   "cell_type": "markdown",
   "metadata": {},
   "source": [
    "## 可视化路径"
   ]
  },
  {
   "cell_type": "code",
   "execution_count": 2503,
   "metadata": {},
   "outputs": [],
   "source": [
    "def visualize_path(maze, path):\n",
    "    maze_size = len(maze)\n",
    "    plt.figure(figsize=(maze_size/2, maze_size/2))\n",
    "\n",
    "    # Draw obstacles\n",
    "    for i in range(maze_size):\n",
    "        for j in range(maze_size):\n",
    "            if maze[i][j] == 0:\n",
    "                plt.fill_between([j-.5, j+1-.5], i-.5, i+1-.5, color='black')\n",
    "\n",
    "    # Draw the path\n",
    "    for index, position in enumerate(path[:-1]):\n",
    "        plt.plot([position[1], path[index + 1][1]], [position[0], path[index + 1][0]], color='blue', linewidth=2)\n",
    "\n",
    "    plt.plot(0, 0, 'go', markersize=10, label='Start')  # start point\n",
    "    plt.plot(maze_size - 1, maze_size - 1, 'ro', markersize=10, label='Goal')  # goal point\n",
    "#     plt.legend()\n",
    "    plt.xticks(range(maze_size))\n",
    "    plt.yticks(range(maze_size))\n",
    "    plt.grid(True)\n",
    "    plt.gca().invert_yaxis()\n",
    "    plt.show()\n"
   ]
  },
  {
   "cell_type": "code",
   "execution_count": 2504,
   "metadata": {},
   "outputs": [],
   "source": [
    "win_eval = history_list[0]['win_eval']"
   ]
  },
  {
   "cell_type": "code",
   "execution_count": 2505,
   "metadata": {},
   "outputs": [
    {
     "name": "stdout",
     "output_type": "stream",
     "text": [
      "[170]\n"
     ]
    }
   ],
   "source": [
    "# Find the indices of all 1's in the data_list\n",
    "indices_of_ones = [i for i, value in enumerate(win_eval) if value == 1]\n",
    "\n",
    "print(indices_of_ones)"
   ]
  },
  {
   "cell_type": "code",
   "execution_count": 2506,
   "metadata": {},
   "outputs": [
    {
     "name": "stdout",
     "output_type": "stream",
     "text": [
      "[71, 157, 194, 199, 212, 214, 282]\n"
     ]
    }
   ],
   "source": [
    "# Find the indices of all 1's in the data_list\n",
    "indices_of_ones = [i for i, value in enumerate(win_eval) if value > 0 and value < 1]\n",
    "\n",
    "print(indices_of_ones)"
   ]
  },
  {
   "cell_type": "code",
   "execution_count": 2507,
   "metadata": {},
   "outputs": [
    {
     "name": "stdout",
     "output_type": "stream",
     "text": [
      "[0, 1, 2, 3, 4, 5, 6, 7, 8, 9, 10, 11, 12, 13, 14, 15, 16, 17, 18, 19, 20, 21, 22, 23, 24, 25, 26, 27, 28, 29, 30, 31, 32, 33, 34, 35, 36, 37, 38, 39, 40, 41, 42, 43, 44, 45, 46, 47, 48, 49, 50, 51, 52, 53, 54, 55, 56, 57, 58, 59, 60, 61, 62, 63, 64, 65, 66, 67, 68, 69, 70, 72, 73, 74, 75, 76, 77, 78, 79, 80, 81, 82, 83, 84, 85, 86, 87, 88, 89, 90, 91, 92, 93, 94, 95, 96, 97, 98, 99, 100, 101, 102, 103, 104, 105, 106, 107, 108, 109, 110, 111, 112, 113, 114, 115, 116, 117, 118, 119, 120, 121, 122, 123, 124, 125, 126, 127, 128, 129, 130, 131, 132, 133, 134, 135, 136, 137, 138, 139, 140, 141, 142, 143, 144, 145, 146, 147, 148, 149, 150, 151, 152, 153, 154, 155, 156, 158, 159, 160, 161, 162, 163, 164, 165, 166, 167, 168, 169, 171, 172, 173, 174, 175, 176, 177, 178, 179, 180, 181, 182, 183, 184, 185, 186, 187, 188, 189, 190, 191, 192, 193, 195, 196, 197, 198, 200, 201, 202, 203, 204, 205, 206, 207, 208, 209, 210, 211, 213, 215, 216, 217, 218, 219, 220, 221, 222, 223, 224, 225, 226, 227, 228, 229, 230, 231, 232, 233, 234, 235, 236, 237, 238, 239, 240, 241, 242, 243, 244, 245, 246, 247, 248, 249, 250, 251, 252, 253, 254, 255, 256, 257, 258, 259, 260, 261, 262, 263, 264, 265, 266, 267, 268, 269, 270, 271, 272, 273, 274, 275, 276, 277, 278, 279, 280, 281, 283, 284, 285, 286, 287, 288, 289, 290, 291, 292, 293, 294, 295, 296, 297, 298, 299]\n",
      "292\n"
     ]
    }
   ],
   "source": [
    "# Find the indices of all 1's in the data_list\n",
    "indices_of_ones = [i for i, value in enumerate(win_eval) if value == 0]\n",
    "\n",
    "print(indices_of_ones)\n",
    "print(len(indices_of_ones))"
   ]
  },
  {
   "cell_type": "code",
   "execution_count": 2514,
   "metadata": {},
   "outputs": [],
   "source": [
    "index = 298"
   ]
  },
  {
   "cell_type": "code",
   "execution_count": 2515,
   "metadata": {},
   "outputs": [
    {
     "ename": "KeyError",
     "evalue": "'val_visited_list_F'",
     "output_type": "error",
     "traceback": [
      "\u001b[0;31m---------------------------------------------------------------------------\u001b[0m",
      "\u001b[0;31mKeyError\u001b[0m                                  Traceback (most recent call last)",
      "\u001b[0;32m<ipython-input-2515-f6b50ab6f905>\u001b[0m in \u001b[0;36m<module>\u001b[0;34m\u001b[0m\n\u001b[0;32m----> 1\u001b[0;31m \u001b[0mpath\u001b[0m \u001b[0;34m=\u001b[0m \u001b[0mhistory_list\u001b[0m\u001b[0;34m[\u001b[0m\u001b[0;36m0\u001b[0m\u001b[0;34m]\u001b[0m\u001b[0;34m[\u001b[0m\u001b[0;34m'val_visited_list_F'\u001b[0m\u001b[0;34m]\u001b[0m\u001b[0;34m[\u001b[0m\u001b[0mindex\u001b[0m\u001b[0;34m]\u001b[0m\u001b[0;34m\u001b[0m\u001b[0;34m\u001b[0m\u001b[0m\n\u001b[0m\u001b[1;32m      2\u001b[0m \u001b[0mprint\u001b[0m\u001b[0;34m(\u001b[0m\u001b[0mpath\u001b[0m\u001b[0;34m)\u001b[0m\u001b[0;34m\u001b[0m\u001b[0;34m\u001b[0m\u001b[0m\n\u001b[1;32m      3\u001b[0m \u001b[0;34m\u001b[0m\u001b[0m\n\u001b[1;32m      4\u001b[0m \u001b[0;31m# maze_size = 8\u001b[0m\u001b[0;34m\u001b[0m\u001b[0;34m\u001b[0m\u001b[0;34m\u001b[0m\u001b[0m\n\u001b[1;32m      5\u001b[0m \u001b[0mprint\u001b[0m\u001b[0;34m(\u001b[0m\u001b[0;34m\"Steps:\"\u001b[0m\u001b[0;34m,\u001b[0m \u001b[0mlen\u001b[0m\u001b[0;34m(\u001b[0m\u001b[0mpath\u001b[0m\u001b[0;34m)\u001b[0m\u001b[0;34m)\u001b[0m\u001b[0;34m\u001b[0m\u001b[0;34m\u001b[0m\u001b[0m\n",
      "\u001b[0;31mKeyError\u001b[0m: 'val_visited_list_F'"
     ]
    }
   ],
   "source": [
    "path = history_list[0]['val_visited_list_F'][index]\n",
    "print(path)\n",
    "\n",
    "# maze_size = 8\n",
    "print(\"Steps:\", len(path))\n",
    "visualize_path(maze, path)\n",
    "path_F = path"
   ]
  },
  {
   "cell_type": "code",
   "execution_count": 2516,
   "metadata": {},
   "outputs": [
    {
     "name": "stdout",
     "output_type": "stream",
     "text": [
      "[(0, 0), (1, 0), (2, 0), (3, 0), (4, 0), (5, 0), (6, 0), (7, 0), (7, 0), (6, 0), (7, 0), (7, 0), (6, 0), (7, 0), (7, 0), (7, 0), (7, 0), (6, 0), (7, 0), (7, 0), (6, 0), (7, 0), (7, 0), (7, 0), (7, 0), (7, 1), (8, 1), (9, 1), (10, 1), (11, 1), (12, 1), (13, 1), (14, 1), (15, 1), (15, 1), (14, 1), (15, 1), (15, 1), (15, 2), (15, 2), (15, 3), (15, 3), (15, 2), (15, 2), (14, 2), (15, 2), (15, 2), (15, 3), (15, 3), (15, 4), (15, 4), (15, 3), (15, 3), (15, 4), (15, 4), (14, 4), (15, 4), (15, 4), (15, 3), (15, 3), (14, 3), (15, 3), (15, 3), (14, 3), (15, 3), (15, 3), (15, 2), (15, 2), (15, 1), (15, 1), (15, 0), (15, 0), (15, 1), (15, 1), (15, 0), (15, 0), (15, 0), (15, 0), (15, 0), (15, 0), (15, 1), (15, 1), (14, 1), (15, 1), (15, 1), (15, 2), (15, 2)]\n",
      "Steps: 87\n"
     ]
    },
    {
     "data": {
      "image/png": "[encoded data removed]",
      "text/plain": [
       "<Figure size 576x576 with 1 Axes>"
      ]
     },
     "metadata": {
      "needs_background": "light"
     },
     "output_type": "display_data"
    }
   ],
   "source": [
    "path = history_list[0]['val_visited_list'][index]\n",
    "print(path)\n",
    "\n",
    "# maze_size = 8\n",
    "print(\"Steps:\", len(path))\n",
    "visualize_path(maze, path)"
   ]
  },
  {
   "cell_type": "code",
   "execution_count": 2517,
   "metadata": {},
   "outputs": [
    {
     "name": "stdout",
     "output_type": "stream",
     "text": [
      "path: (0, 0)\tstatus_memory_list: ['None', 2, 2]\n",
      "path: (1, 0)\tstatus_memory_list: ['None', 2, 2]\n",
      "path: (2, 0)\tstatus_memory_list: ['None', 2, 2]\n",
      "path: (3, 0)\tstatus_memory_list: ['None', 2, 2]\n",
      "path: (4, 0)\tstatus_memory_list: ['None', 2, 2]\n",
      "path: (5, 0)\tstatus_memory_list: ['None', 2, 2]\n",
      "path: (6, 0)\tstatus_memory_list: ['None', 2, 2]\n",
      "path: (7, 0)\tstatus_memory_list: ['None', 2, 2]\n",
      "path: (7, 0)\tstatus_memory_list: ['None', 2, 2]\n",
      "path: (6, 0)\tstatus_memory_list: ['None', 2, 2]\n",
      "path: (7, 0)\tstatus_memory_list: ['None', 2, 2]\n",
      "path: (7, 0)\tstatus_memory_list: ['None', 2, 2]\n",
      "path: (6, 0)\tstatus_memory_list: ['None', 2, 2]\n",
      "path: (7, 0)\tstatus_memory_list: ['None', 2, 2]\n",
      "path: (7, 0)\tstatus_memory_list: ['None', 2, 2]\n",
      "path: (7, 0)\tstatus_memory_list: ['None', 2, 2]\n",
      "path: (7, 0)\tstatus_memory_list: ['aviod_wall', 2, 0]\n",
      "path: (6, 0)\tstatus_memory_list: ['None', 2, 2]\n",
      "path: (7, 0)\tstatus_memory_list: ['None', 2, 2]\n",
      "path: (7, 0)\tstatus_memory_list: ['aviod_wall', 2, 1]\n",
      "path: (6, 0)\tstatus_memory_list: ['None', 2, 2]\n",
      "path: (7, 0)\tstatus_memory_list: ['aviod_wall', 2, 1]\n",
      "path: (7, 0)\tstatus_memory_list: ['None', 2, 2]\n",
      "path: (7, 0)\tstatus_memory_list: ['aviod_wall', 2, 3]\n",
      "path: (7, 0)\tstatus_memory_list: ['None', 2, 2]\n",
      "path: (7, 1)\tstatus_memory_list: ['aviod_wall', 2, 1]\n",
      "path: (8, 1)\tstatus_memory_list: ['None', 2, 2]\n",
      "path: (9, 1)\tstatus_memory_list: ['aviod_wall', 2, 1]\n",
      "path: (10, 1)\tstatus_memory_list: ['None', 2, 2]\n",
      "path: (11, 1)\tstatus_memory_list: ['aviod_wall', 2, 1]\n",
      "path: (12, 1)\tstatus_memory_list: ['None', 2, 2]\n",
      "path: (13, 1)\tstatus_memory_list: ['aviod_wall', 2, 1]\n",
      "path: (14, 1)\tstatus_memory_list: ['None', 2, 2]\n",
      "path: (15, 1)\tstatus_memory_list: ['aviod_wall', 2, 1]\n",
      "path: (15, 1)\tstatus_memory_list: ['None', 2, 2]\n",
      "path: (14, 1)\tstatus_memory_list: ['aviod_wall', 2, 0]\n",
      "path: (15, 1)\tstatus_memory_list: ['None', 2, 2]\n",
      "path: (15, 1)\tstatus_memory_list: ['None', 2, 2]\n",
      "path: (15, 2)\tstatus_memory_list: ['aviod_wall', 2, 1]\n",
      "path: (15, 2)\tstatus_memory_list: ['None', 2, 2]\n",
      "path: (15, 3)\tstatus_memory_list: ['aviod_wall', 2, 3]\n",
      "path: (15, 3)\tstatus_memory_list: ['None', 2, 2]\n",
      "path: (15, 2)\tstatus_memory_list: ['aviod_wall', 2, 1]\n",
      "path: (15, 2)\tstatus_memory_list: ['None', 2, 2]\n",
      "path: (14, 2)\tstatus_memory_list: ['aviod_wall', 2, 3]\n",
      "path: (15, 2)\tstatus_memory_list: ['None', 2, 2]\n",
      "path: (15, 2)\tstatus_memory_list: ['aviod_wall', 2, 3]\n",
      "path: (15, 3)\tstatus_memory_list: ['None', 2, 2]\n",
      "path: (15, 3)\tstatus_memory_list: ['aviod_wall', 2, 1]\n",
      "path: (15, 4)\tstatus_memory_list: ['None', 2, 2]\n",
      "path: (15, 4)\tstatus_memory_list: ['aviod_wall', 2, 3]\n",
      "path: (15, 3)\tstatus_memory_list: ['None', 2, 2]\n",
      "path: (15, 3)\tstatus_memory_list: ['aviod_wall', 2, 1]\n",
      "path: (15, 4)\tstatus_memory_list: ['None', 2, 2]\n",
      "path: (15, 4)\tstatus_memory_list: ['aviod_wall', 2, 0]\n",
      "path: (14, 4)\tstatus_memory_list: ['None', 2, 2]\n",
      "path: (15, 4)\tstatus_memory_list: ['None', 2, 2]\n",
      "path: (15, 4)\tstatus_memory_list: ['aviod_wall', 2, 1]\n",
      "path: (15, 3)\tstatus_memory_list: ['None', 2, 2]\n",
      "path: (15, 3)\tstatus_memory_list: ['aviod_wall', 2, 0]\n",
      "path: (14, 3)\tstatus_memory_list: ['None', 2, 2]\n",
      "path: (15, 3)\tstatus_memory_list: ['None', 2, 2]\n",
      "path: (15, 3)\tstatus_memory_list: ['aviod_wall', 2, 3]\n",
      "path: (14, 3)\tstatus_memory_list: ['None', 2, 2]\n",
      "path: (15, 3)\tstatus_memory_list: ['aviod_wall', 2, 0]\n",
      "path: (15, 3)\tstatus_memory_list: ['None', 2, 2]\n",
      "path: (15, 2)\tstatus_memory_list: ['None', 2, 2]\n",
      "path: (15, 2)\tstatus_memory_list: ['aviod_wall', 2, 0]\n",
      "path: (15, 1)\tstatus_memory_list: ['None', 2, 2]\n",
      "path: (15, 1)\tstatus_memory_list: ['None', 2, 2]\n",
      "path: (15, 0)\tstatus_memory_list: ['aviod_wall', 2, 0]\n",
      "path: (15, 0)\tstatus_memory_list: ['None', 2, 2]\n",
      "path: (15, 1)\tstatus_memory_list: ['None', 2, 2]\n",
      "path: (15, 1)\tstatus_memory_list: ['aviod_wall', 2, 0]\n",
      "path: (15, 0)\tstatus_memory_list: ['None', 2, 2]\n",
      "path: (15, 0)\tstatus_memory_list: ['None', 2, 2]\n",
      "path: (15, 0)\tstatus_memory_list: ['aviod_wall', 2, 0]\n",
      "path: (15, 0)\tstatus_memory_list: ['None', 2, 2]\n",
      "path: (15, 0)\tstatus_memory_list: ['None', 2, 2]\n",
      "path: (15, 0)\tstatus_memory_list: ['aviod_wall', 2, 1]\n",
      "path: (15, 1)\tstatus_memory_list: ['None', 2, 2]\n",
      "path: (15, 1)\tstatus_memory_list: ['aviod_wall', 2, 3]\n",
      "path: (14, 1)\tstatus_memory_list: ['None', 2, 2]\n",
      "path: (15, 1)\tstatus_memory_list: ['aviod_wall', 2, 1]\n",
      "path: (15, 1)\tstatus_memory_list: ['None', 2, 2]\n"
     ]
    }
   ],
   "source": [
    "for i in range(len(path)-2):\n",
    "    print(f\"path: {path[i]}\\tstatus_memory_list: {status_memory_list[index][i][1:]}\")"
   ]
  },
  {
   "cell_type": "code",
   "execution_count": 2295,
   "metadata": {},
   "outputs": [
    {
     "ename": "IndexError",
     "evalue": "list index out of range",
     "output_type": "error",
     "traceback": [
      "\u001b[0;31m---------------------------------------------------------------------------\u001b[0m",
      "\u001b[0;31mIndexError\u001b[0m                                Traceback (most recent call last)",
      "\u001b[0;32m<ipython-input-2295-d2fae6b61faf>\u001b[0m in \u001b[0;36m<module>\u001b[0;34m\u001b[0m\n\u001b[1;32m      1\u001b[0m \u001b[0;32mfor\u001b[0m \u001b[0mi\u001b[0m \u001b[0;32min\u001b[0m \u001b[0mrange\u001b[0m\u001b[0;34m(\u001b[0m\u001b[0mlen\u001b[0m\u001b[0;34m(\u001b[0m\u001b[0mpath\u001b[0m\u001b[0;34m)\u001b[0m\u001b[0;34m-\u001b[0m\u001b[0;36m1\u001b[0m\u001b[0;34m)\u001b[0m\u001b[0;34m:\u001b[0m\u001b[0;34m\u001b[0m\u001b[0;34m\u001b[0m\u001b[0m\n\u001b[0;32m----> 2\u001b[0;31m     \u001b[0mprint\u001b[0m\u001b[0;34m(\u001b[0m\u001b[0;34mf\"path_F: {path_F[i]}\\tpath: {path[i]}\\tstatus_memory_list: {status_memory_list[index*2][i][1:]}\"\u001b[0m\u001b[0;34m)\u001b[0m\u001b[0;34m\u001b[0m\u001b[0;34m\u001b[0m\u001b[0m\n\u001b[0m",
      "\u001b[0;31mIndexError\u001b[0m: list index out of range"
     ]
    }
   ],
   "source": [
    "for i in range(len(path)-1):\n",
    "    print(f\"path_F: {path_F[i]}\\tpath: {path[i]}\\tstatus_memory_list: {status_memory_list[index*2][i][1:]}\")"
   ]
  },
  {
   "cell_type": "code",
   "execution_count": 2296,
   "metadata": {},
   "outputs": [
    {
     "data": {
      "text/plain": [
       "300"
      ]
     },
     "execution_count": 2296,
     "metadata": {},
     "output_type": "execute_result"
    }
   ],
   "source": [
    "len(status_memory_list)"
   ]
  },
  {
   "cell_type": "code",
   "execution_count": 1062,
   "metadata": {},
   "outputs": [
    {
     "data": {
      "text/plain": [
       "[deque([[array([[ 1. ,  1. ,  0. ,  1. ,  0. ,  1. ,  1. ,  1. ,  1. ,  1. ,  1. ,\n",
       "                  1. ,  1. ,  0. ,  0. ,  1. ,  0.5,  0. ,  1. ,  1. ,  1. ,  1. ,\n",
       "                  0. ,  0. ,  0. ,  1. ,  1. ,  1. ,  1. ,  1. ,  1. ,  1. ,  1. ,\n",
       "                  1. ,  0. ,  1. ,  1. ,  1. ,  1. ,  1. ,  0. ,  1. ,  1. ,  0. ,\n",
       "                  1. ,  0. ,  1. ,  1. ,  1. ,  1. ,  0. ,  1. ,  1. ,  1. ,  1. ,\n",
       "                  1. ,  1. ,  1. ,  0. ,  1. ,  1. ,  0. ,  1. , -1. ]],\n",
       "               dtype=float32),\n",
       "         array([[1]]),\n",
       "         False],\n",
       "        [array([[ 1. ,  1. ,  0. ,  1. ,  0. ,  1. ,  1. ,  1. ,  0.5,  1. ,  1. ,\n",
       "                  1. ,  1. ,  0. ,  0. ,  1. ,  1. ,  0. ,  1. ,  1. ,  1. ,  1. ,\n",
       "                  0. ,  0. ,  0. ,  1. ,  1. ,  1. ,  1. ,  1. ,  1. ,  1. ,  1. ,\n",
       "                  1. ,  0. ,  1. ,  1. ,  1. ,  1. ,  1. ,  0. ,  1. ,  1. ,  0. ,\n",
       "                  1. ,  0. ,  1. ,  1. ,  1. ,  1. ,  0. ,  1. ,  1. ,  1. ,  1. ,\n",
       "                  1. ,  1. ,  1. ,  0. ,  1. ,  1. ,  0. ,  1. , -1. ]],\n",
       "               dtype=float32),\n",
       "         array([[3]]),\n",
       "         True]]),\n",
       " 'aviod_looping',\n",
       " 1,\n",
       " 2]"
      ]
     },
     "execution_count": 1062,
     "metadata": {},
     "output_type": "execute_result"
    }
   ],
   "source": [
    "status_memory_list[index][7]"
   ]
  },
  {
   "cell_type": "code",
   "execution_count": 1032,
   "metadata": {},
   "outputs": [
    {
     "name": "stdout",
     "output_type": "stream",
     "text": [
      "[(0, 0), (0, 1), (1, 1), (1, 2), (2, 2), (3, 2), (3, 3), (3, 4), (3, 5), (4, 5), (4, 5), (4, 5), (4, 5), (4, 5), (4, 5), (4, 5), (4, 5), (4, 5), (4, 5), (4, 5), (4, 5)] [(0, 0), (0, 1), (1, 1), (1, 2), (2, 2), (3, 2), (3, 3), (3, 4), (3, 5), (4, 5), (4, 5), (4, 6), (4, 7), (5, 7), (5, 7), (6, 7), (7, 7), (7, 7)] [[deque([[array([[ 0.5,  1. ,  0. ,  1. ,  0. ,  1. ,  1. ,  1. ,  1. ,  1. ,  1. ,\n",
      "         1. ,  1. ,  0. ,  0. ,  1. ,  1. ,  0. ,  1. ,  1. ,  1. ,  1. ,\n",
      "         0. ,  0. ,  0. ,  1. ,  1. ,  1. ,  1. ,  1. ,  1. ,  1. ,  1. ,\n",
      "         1. ,  0. ,  1. ,  1. ,  1. ,  1. ,  1. ,  0. ,  1. ,  1. ,  0. ,\n",
      "         1. ,  0. ,  1. ,  1. ,  1. ,  1. ,  0. ,  1. ,  1. ,  1. ,  1. ,\n",
      "         1. ,  1. ,  1. ,  0. ,  1. ,  1. ,  0. ,  1. , -1. ]],\n",
      "      dtype=float32), array([[3]]), False]], maxlen=2), 'None', 3, 3], [deque([[array([[ 0.5,  1. ,  0. ,  1. ,  0. ,  1. ,  1. ,  1. ,  1. ,  1. ,  1. ,\n",
      "         1. ,  1. ,  0. ,  0. ,  1. ,  1. ,  0. ,  1. ,  1. ,  1. ,  1. ,\n",
      "         0. ,  0. ,  0. ,  1. ,  1. ,  1. ,  1. ,  1. ,  1. ,  1. ,  1. ,\n",
      "         1. ,  0. ,  1. ,  1. ,  1. ,  1. ,  1. ,  0. ,  1. ,  1. ,  0. ,\n",
      "         1. ,  0. ,  1. ,  1. ,  1. ,  1. ,  0. ,  1. ,  1. ,  1. ,  1. ,\n",
      "         1. ,  1. ,  1. ,  0. ,  1. ,  1. ,  0. ,  1. , -1. ]],\n",
      "      dtype=float32), array([[3]]), False], [array([[ 1. ,  1. ,  0. ,  1. ,  0. ,  1. ,  1. ,  1. ,  0.5,  1. ,  1. ,\n",
      "         1. ,  1. ,  0. ,  0. ,  1. ,  1. ,  0. ,  1. ,  1. ,  1. ,  1. ,\n",
      "         0. ,  0. ,  0. ,  1. ,  1. ,  1. ,  1. ,  1. ,  1. ,  1. ,  1. ,\n",
      "         1. ,  0. ,  1. ,  1. ,  1. ,  1. ,  1. ,  0. ,  1. ,  1. ,  0. ,\n",
      "         1. ,  0. ,  1. ,  1. ,  1. ,  1. ,  0. ,  1. ,  1. ,  1. ,  1. ,\n",
      "         1. ,  1. ,  1. ,  0. ,  1. ,  1. ,  0. ,  1. , -1. ]],\n",
      "      dtype=float32), array([[3]]), True]], maxlen=2), 'None', 3, 3], [deque([[array([[ 1. ,  1. ,  0. ,  1. ,  0. ,  1. ,  1. ,  1. ,  0.5,  1. ,  1. ,\n",
      "         1. ,  1. ,  0. ,  0. ,  1. ,  1. ,  0. ,  1. ,  1. ,  1. ,  1. ,\n",
      "         0. ,  0. ,  0. ,  1. ,  1. ,  1. ,  1. ,  1. ,  1. ,  1. ,  1. ,\n",
      "         1. ,  0. ,  1. ,  1. ,  1. ,  1. ,  1. ,  0. ,  1. ,  1. ,  0. ,\n",
      "         1. ,  0. ,  1. ,  1. ,  1. ,  1. ,  0. ,  1. ,  1. ,  1. ,  1. ,\n",
      "         1. ,  1. ,  1. ,  0. ,  1. ,  1. ,  0. ,  1. , -1. ]],\n",
      "      dtype=float32), array([[3]]), True], [array([[ 1. ,  1. ,  0. ,  1. ,  0. ,  1. ,  1. ,  1. ,  1. ,  1. ,  1. ,\n",
      "         1. ,  1. ,  0. ,  0. ,  1. ,  0.5,  0. ,  1. ,  1. ,  1. ,  1. ,\n",
      "         0. ,  0. ,  0. ,  1. ,  1. ,  1. ,  1. ,  1. ,  1. ,  1. ,  1. ,\n",
      "         1. ,  0. ,  1. ,  1. ,  1. ,  1. ,  1. ,  0. ,  1. ,  1. ,  0. ,\n",
      "         1. ,  0. ,  1. ,  1. ,  1. ,  1. ,  0. ,  1. ,  1. ,  1. ,  1. ,\n",
      "         1. ,  1. ,  1. ,  0. ,  1. ,  1. ,  0. ,  1. , -1. ]],\n",
      "      dtype=float32), array([[2]]), True]], maxlen=2), 'None', 3, 3], [deque([[array([[ 1. ,  1. ,  0. ,  1. ,  0. ,  1. ,  1. ,  1. ,  1. ,  1. ,  1. ,\n",
      "         1. ,  1. ,  0. ,  0. ,  1. ,  0.5,  0. ,  1. ,  1. ,  1. ,  1. ,\n",
      "         0. ,  0. ,  0. ,  1. ,  1. ,  1. ,  1. ,  1. ,  1. ,  1. ,  1. ,\n",
      "         1. ,  0. ,  1. ,  1. ,  1. ,  1. ,  1. ,  0. ,  1. ,  1. ,  0. ,\n",
      "         1. ,  0. ,  1. ,  1. ,  1. ,  1. ,  0. ,  1. ,  1. ,  1. ,  1. ,\n",
      "         1. ,  1. ,  1. ,  0. ,  1. ,  1. ,  0. ,  1. , -1. ]],\n",
      "      dtype=float32), array([[2]]), True], [array([[ 1. ,  1. ,  0. ,  1. ,  0. ,  1. ,  1. ,  1. ,  1. ,  1. ,  1. ,\n",
      "         1. ,  1. ,  0. ,  0. ,  1. ,  0.5,  0. ,  1. ,  1. ,  1. ,  1. ,\n",
      "         0. ,  0. ,  0. ,  1. ,  1. ,  1. ,  1. ,  1. ,  1. ,  1. ,  1. ,\n",
      "         1. ,  0. ,  1. ,  1. ,  1. ,  1. ,  1. ,  0. ,  1. ,  1. ,  0. ,\n",
      "         1. ,  0. ,  1. ,  1. ,  1. ,  1. ,  0. ,  1. ,  1. ,  1. ,  1. ,\n",
      "         1. ,  1. ,  1. ,  0. ,  1. ,  1. ,  0. ,  1. , -1. ]],\n",
      "      dtype=float32), array([[2]]), True]], maxlen=2), 'None', 3, 3], [deque([[array([[ 1. ,  1. ,  0. ,  1. ,  0. ,  1. ,  1. ,  1. ,  1. ,  1. ,  1. ,\n",
      "         1. ,  1. ,  0. ,  0. ,  1. ,  0.5,  0. ,  1. ,  1. ,  1. ,  1. ,\n",
      "         0. ,  0. ,  0. ,  1. ,  1. ,  1. ,  1. ,  1. ,  1. ,  1. ,  1. ,\n",
      "         1. ,  0. ,  1. ,  1. ,  1. ,  1. ,  1. ,  0. ,  1. ,  1. ,  0. ,\n",
      "         1. ,  0. ,  1. ,  1. ,  1. ,  1. ,  0. ,  1. ,  1. ,  1. ,  1. ,\n",
      "         1. ,  1. ,  1. ,  0. ,  1. ,  1. ,  0. ,  1. , -1. ]],\n",
      "      dtype=float32), array([[2]]), True], [array([[ 1. ,  1. ,  0. ,  1. ,  0. ,  1. ,  1. ,  1. ,  1. ,  1. ,  1. ,\n",
      "         1. ,  1. ,  0. ,  0. ,  1. ,  0.5,  0. ,  1. ,  1. ,  1. ,  1. ,\n",
      "         0. ,  0. ,  0. ,  1. ,  1. ,  1. ,  1. ,  1. ,  1. ,  1. ,  1. ,\n",
      "         1. ,  0. ,  1. ,  1. ,  1. ,  1. ,  1. ,  0. ,  1. ,  1. ,  0. ,\n",
      "         1. ,  0. ,  1. ,  1. ,  1. ,  1. ,  0. ,  1. ,  1. ,  1. ,  1. ,\n",
      "         1. ,  1. ,  1. ,  0. ,  1. ,  1. ,  0. ,  1. , -1. ]],\n",
      "      dtype=float32), array([[2]]), True]], maxlen=2), 'None', 3, 3], [deque([[array([[ 1. ,  1. ,  0. ,  1. ,  0. ,  1. ,  1. ,  1. ,  1. ,  1. ,  1. ,\n",
      "         1. ,  1. ,  0. ,  0. ,  1. ,  0.5,  0. ,  1. ,  1. ,  1. ,  1. ,\n",
      "         0. ,  0. ,  0. ,  1. ,  1. ,  1. ,  1. ,  1. ,  1. ,  1. ,  1. ,\n",
      "         1. ,  0. ,  1. ,  1. ,  1. ,  1. ,  1. ,  0. ,  1. ,  1. ,  0. ,\n",
      "         1. ,  0. ,  1. ,  1. ,  1. ,  1. ,  0. ,  1. ,  1. ,  1. ,  1. ,\n",
      "         1. ,  1. ,  1. ,  0. ,  1. ,  1. ,  0. ,  1. , -1. ]],\n",
      "      dtype=float32), array([[2]]), True], [array([[ 1. ,  1. ,  0. ,  1. ,  0. ,  1. ,  1. ,  1. ,  1. ,  1. ,  1. ,\n",
      "         1. ,  1. ,  0. ,  0. ,  1. ,  0.5,  0. ,  1. ,  1. ,  1. ,  1. ,\n",
      "         0. ,  0. ,  0. ,  1. ,  1. ,  1. ,  1. ,  1. ,  1. ,  1. ,  1. ,\n",
      "         1. ,  0. ,  1. ,  1. ,  1. ,  1. ,  1. ,  0. ,  1. ,  1. ,  0. ,\n",
      "         1. ,  0. ,  1. ,  1. ,  1. ,  1. ,  0. ,  1. ,  1. ,  1. ,  1. ,\n",
      "         1. ,  1. ,  1. ,  0. ,  1. ,  1. ,  0. ,  1. , -1. ]],\n",
      "      dtype=float32), array([[2]]), True]], maxlen=2), 'None', 3, 3], [deque([[array([[ 1. ,  1. ,  0. ,  1. ,  0. ,  1. ,  1. ,  1. ,  1. ,  1. ,  1. ,\n",
      "         1. ,  1. ,  0. ,  0. ,  1. ,  0.5,  0. ,  1. ,  1. ,  1. ,  1. ,\n",
      "         0. ,  0. ,  0. ,  1. ,  1. ,  1. ,  1. ,  1. ,  1. ,  1. ,  1. ,\n",
      "         1. ,  0. ,  1. ,  1. ,  1. ,  1. ,  1. ,  0. ,  1. ,  1. ,  0. ,\n",
      "         1. ,  0. ,  1. ,  1. ,  1. ,  1. ,  0. ,  1. ,  1. ,  1. ,  1. ,\n",
      "         1. ,  1. ,  1. ,  0. ,  1. ,  1. ,  0. ,  1. , -1. ]],\n",
      "      dtype=float32), array([[2]]), True], [array([[ 1. ,  1. ,  0. ,  1. ,  0. ,  1. ,  1. ,  1. ,  1. ,  1. ,  1. ,\n",
      "         1. ,  1. ,  0. ,  0. ,  1. ,  0.5,  0. ,  1. ,  1. ,  1. ,  1. ,\n",
      "         0. ,  0. ,  0. ,  1. ,  1. ,  1. ,  1. ,  1. ,  1. ,  1. ,  1. ,\n",
      "         1. ,  0. ,  1. ,  1. ,  1. ,  1. ,  1. ,  0. ,  1. ,  1. ,  0. ,\n",
      "         1. ,  0. ,  1. ,  1. ,  1. ,  1. ,  0. ,  1. ,  1. ,  1. ,  1. ,\n",
      "         1. ,  1. ,  1. ,  0. ,  1. ,  1. ,  0. ,  1. , -1. ]],\n",
      "      dtype=float32), array([[2]]), True]], maxlen=2), 'None', 3, 3], [deque([[array([[ 1. ,  1. ,  0. ,  1. ,  0. ,  1. ,  1. ,  1. ,  1. ,  1. ,  1. ,\n",
      "         1. ,  1. ,  0. ,  0. ,  1. ,  0.5,  0. ,  1. ,  1. ,  1. ,  1. ,\n",
      "         0. ,  0. ,  0. ,  1. ,  1. ,  1. ,  1. ,  1. ,  1. ,  1. ,  1. ,\n",
      "         1. ,  0. ,  1. ,  1. ,  1. ,  1. ,  1. ,  0. ,  1. ,  1. ,  0. ,\n",
      "         1. ,  0. ,  1. ,  1. ,  1. ,  1. ,  0. ,  1. ,  1. ,  1. ,  1. ,\n",
      "         1. ,  1. ,  1. ,  0. ,  1. ,  1. ,  0. ,  1. , -1. ]],\n",
      "      dtype=float32), array([[2]]), True], [array([[ 1. ,  1. ,  0. ,  1. ,  0. ,  1. ,  1. ,  1. ,  1. ,  1. ,  1. ,\n",
      "         1. ,  1. ,  0. ,  0. ,  1. ,  0.5,  0. ,  1. ,  1. ,  1. ,  1. ,\n",
      "         0. ,  0. ,  0. ,  1. ,  1. ,  1. ,  1. ,  1. ,  1. ,  1. ,  1. ,\n",
      "         1. ,  0. ,  1. ,  1. ,  1. ,  1. ,  1. ,  0. ,  1. ,  1. ,  0. ,\n",
      "         1. ,  0. ,  1. ,  1. ,  1. ,  1. ,  0. ,  1. ,  1. ,  1. ,  1. ,\n",
      "         1. ,  1. ,  1. ,  0. ,  1. ,  1. ,  0. ,  1. , -1. ]],\n",
      "      dtype=float32), array([[2]]), True]], maxlen=2), 'None', 3, 3], [deque([[array([[ 1. ,  1. ,  0. ,  1. ,  0. ,  1. ,  1. ,  1. ,  1. ,  1. ,  1. ,\n",
      "         1. ,  1. ,  0. ,  0. ,  1. ,  0.5,  0. ,  1. ,  1. ,  1. ,  1. ,\n",
      "         0. ,  0. ,  0. ,  1. ,  1. ,  1. ,  1. ,  1. ,  1. ,  1. ,  1. ,\n",
      "         1. ,  0. ,  1. ,  1. ,  1. ,  1. ,  1. ,  0. ,  1. ,  1. ,  0. ,\n",
      "         1. ,  0. ,  1. ,  1. ,  1. ,  1. ,  0. ,  1. ,  1. ,  1. ,  1. ,\n",
      "         1. ,  1. ,  1. ,  0. ,  1. ,  1. ,  0. ,  1. , -1. ]],\n",
      "      dtype=float32), array([[2]]), True], [array([[ 1. ,  1. ,  0. ,  1. ,  0. ,  1. ,  1. ,  1. ,  1. ,  1. ,  1. ,\n",
      "         1. ,  1. ,  0. ,  0. ,  1. ,  0.5,  0. ,  1. ,  1. ,  1. ,  1. ,\n",
      "         0. ,  0. ,  0. ,  1. ,  1. ,  1. ,  1. ,  1. ,  1. ,  1. ,  1. ,\n",
      "         1. ,  0. ,  1. ,  1. ,  1. ,  1. ,  1. ,  0. ,  1. ,  1. ,  0. ,\n",
      "         1. ,  0. ,  1. ,  1. ,  1. ,  1. ,  0. ,  1. ,  1. ,  1. ,  1. ,\n",
      "         1. ,  1. ,  1. ,  0. ,  1. ,  1. ,  0. ,  1. , -1. ]],\n",
      "      dtype=float32), array([[2]]), True]], maxlen=2), 'None', 3, 3], [deque([[array([[ 1. ,  1. ,  0. ,  1. ,  0. ,  1. ,  1. ,  1. ,  1. ,  1. ,  1. ,\n",
      "         1. ,  1. ,  0. ,  0. ,  1. ,  0.5,  0. ,  1. ,  1. ,  1. ,  1. ,\n",
      "         0. ,  0. ,  0. ,  1. ,  1. ,  1. ,  1. ,  1. ,  1. ,  1. ,  1. ,\n",
      "         1. ,  0. ,  1. ,  1. ,  1. ,  1. ,  1. ,  0. ,  1. ,  1. ,  0. ,\n",
      "         1. ,  0. ,  1. ,  1. ,  1. ,  1. ,  0. ,  1. ,  1. ,  1. ,  1. ,\n",
      "         1. ,  1. ,  1. ,  0. ,  1. ,  1. ,  0. ,  1. , -1. ]],\n",
      "      dtype=float32), array([[2]]), True], [array([[ 1. ,  1. ,  0. ,  1. ,  0. ,  1. ,  1. ,  1. ,  1. ,  1. ,  1. ,\n",
      "         1. ,  1. ,  0. ,  0. ,  1. ,  0.5,  0. ,  1. ,  1. ,  1. ,  1. ,\n",
      "         0. ,  0. ,  0. ,  1. ,  1. ,  1. ,  1. ,  1. ,  1. ,  1. ,  1. ,\n",
      "         1. ,  0. ,  1. ,  1. ,  1. ,  1. ,  1. ,  0. ,  1. ,  1. ,  0. ,\n",
      "         1. ,  0. ,  1. ,  1. ,  1. ,  1. ,  0. ,  1. ,  1. ,  1. ,  1. ,\n",
      "         1. ,  1. ,  1. ,  0. ,  1. ,  1. ,  0. ,  1. , -1. ]],\n",
      "      dtype=float32), array([[2]]), True]], maxlen=2), 'None', 3, 3], [deque([[array([[ 1. ,  1. ,  0. ,  1. ,  0. ,  1. ,  1. ,  1. ,  1. ,  1. ,  1. ,\n",
      "         1. ,  1. ,  0. ,  0. ,  1. ,  0.5,  0. ,  1. ,  1. ,  1. ,  1. ,\n",
      "         0. ,  0. ,  0. ,  1. ,  1. ,  1. ,  1. ,  1. ,  1. ,  1. ,  1. ,\n",
      "         1. ,  0. ,  1. ,  1. ,  1. ,  1. ,  1. ,  0. ,  1. ,  1. ,  0. ,\n",
      "         1. ,  0. ,  1. ,  1. ,  1. ,  1. ,  0. ,  1. ,  1. ,  1. ,  1. ,\n",
      "         1. ,  1. ,  1. ,  0. ,  1. ,  1. ,  0. ,  1. , -1. ]],\n",
      "      dtype=float32), array([[2]]), True], [array([[ 1. ,  1. ,  0. ,  1. ,  0. ,  1. ,  1. ,  1. ,  1. ,  1. ,  1. ,\n",
      "         1. ,  1. ,  0. ,  0. ,  1. ,  0.5,  0. ,  1. ,  1. ,  1. ,  1. ,\n",
      "         0. ,  0. ,  0. ,  1. ,  1. ,  1. ,  1. ,  1. ,  1. ,  1. ,  1. ,\n",
      "         1. ,  0. ,  1. ,  1. ,  1. ,  1. ,  1. ,  0. ,  1. ,  1. ,  0. ,\n",
      "         1. ,  0. ,  1. ,  1. ,  1. ,  1. ,  0. ,  1. ,  1. ,  1. ,  1. ,\n",
      "         1. ,  1. ,  1. ,  0. ,  1. ,  1. ,  0. ,  1. , -1. ]],\n",
      "      dtype=float32), array([[2]]), True]], maxlen=2), 'None', 3, 3], [deque([[array([[ 1. ,  1. ,  0. ,  1. ,  0. ,  1. ,  1. ,  1. ,  1. ,  1. ,  1. ,\n",
      "         1. ,  1. ,  0. ,  0. ,  1. ,  0.5,  0. ,  1. ,  1. ,  1. ,  1. ,\n",
      "         0. ,  0. ,  0. ,  1. ,  1. ,  1. ,  1. ,  1. ,  1. ,  1. ,  1. ,\n",
      "         1. ,  0. ,  1. ,  1. ,  1. ,  1. ,  1. ,  0. ,  1. ,  1. ,  0. ,\n",
      "         1. ,  0. ,  1. ,  1. ,  1. ,  1. ,  0. ,  1. ,  1. ,  1. ,  1. ,\n",
      "         1. ,  1. ,  1. ,  0. ,  1. ,  1. ,  0. ,  1. , -1. ]],\n",
      "      dtype=float32), array([[2]]), True], [array([[ 1. ,  1. ,  0. ,  1. ,  0. ,  1. ,  1. ,  1. ,  1. ,  1. ,  1. ,\n",
      "         1. ,  1. ,  0. ,  0. ,  1. ,  0.5,  0. ,  1. ,  1. ,  1. ,  1. ,\n",
      "         0. ,  0. ,  0. ,  1. ,  1. ,  1. ,  1. ,  1. ,  1. ,  1. ,  1. ,\n",
      "         1. ,  0. ,  1. ,  1. ,  1. ,  1. ,  1. ,  0. ,  1. ,  1. ,  0. ,\n",
      "         1. ,  0. ,  1. ,  1. ,  1. ,  1. ,  0. ,  1. ,  1. ,  1. ,  1. ,\n",
      "         1. ,  1. ,  1. ,  0. ,  1. ,  1. ,  0. ,  1. , -1. ]],\n",
      "      dtype=float32), array([[2]]), True]], maxlen=2), 'None', 3, 3], [deque([[array([[ 1. ,  1. ,  0. ,  1. ,  0. ,  1. ,  1. ,  1. ,  1. ,  1. ,  1. ,\n",
      "         1. ,  1. ,  0. ,  0. ,  1. ,  0.5,  0. ,  1. ,  1. ,  1. ,  1. ,\n",
      "         0. ,  0. ,  0. ,  1. ,  1. ,  1. ,  1. ,  1. ,  1. ,  1. ,  1. ,\n",
      "         1. ,  0. ,  1. ,  1. ,  1. ,  1. ,  1. ,  0. ,  1. ,  1. ,  0. ,\n",
      "         1. ,  0. ,  1. ,  1. ,  1. ,  1. ,  0. ,  1. ,  1. ,  1. ,  1. ,\n",
      "         1. ,  1. ,  1. ,  0. ,  1. ,  1. ,  0. ,  1. , -1. ]],\n",
      "      dtype=float32), array([[2]]), True], [array([[ 1. ,  1. ,  0. ,  1. ,  0. ,  1. ,  1. ,  1. ,  1. ,  1. ,  1. ,\n",
      "         1. ,  1. ,  0. ,  0. ,  1. ,  0.5,  0. ,  1. ,  1. ,  1. ,  1. ,\n",
      "         0. ,  0. ,  0. ,  1. ,  1. ,  1. ,  1. ,  1. ,  1. ,  1. ,  1. ,\n",
      "         1. ,  0. ,  1. ,  1. ,  1. ,  1. ,  1. ,  0. ,  1. ,  1. ,  0. ,\n",
      "         1. ,  0. ,  1. ,  1. ,  1. ,  1. ,  0. ,  1. ,  1. ,  1. ,  1. ,\n",
      "         1. ,  1. ,  1. ,  0. ,  1. ,  1. ,  0. ,  1. , -1. ]],\n",
      "      dtype=float32), array([[2]]), True]], maxlen=2), 'None', 3, 3], [deque([[array([[ 1. ,  1. ,  0. ,  1. ,  0. ,  1. ,  1. ,  1. ,  1. ,  1. ,  1. ,\n",
      "         1. ,  1. ,  0. ,  0. ,  1. ,  0.5,  0. ,  1. ,  1. ,  1. ,  1. ,\n",
      "         0. ,  0. ,  0. ,  1. ,  1. ,  1. ,  1. ,  1. ,  1. ,  1. ,  1. ,\n",
      "         1. ,  0. ,  1. ,  1. ,  1. ,  1. ,  1. ,  0. ,  1. ,  1. ,  0. ,\n",
      "         1. ,  0. ,  1. ,  1. ,  1. ,  1. ,  0. ,  1. ,  1. ,  1. ,  1. ,\n",
      "         1. ,  1. ,  1. ,  0. ,  1. ,  1. ,  0. ,  1. , -1. ]],\n",
      "      dtype=float32), array([[2]]), True], [array([[ 1. ,  1. ,  0. ,  1. ,  0. ,  1. ,  1. ,  1. ,  1. ,  1. ,  1. ,\n",
      "         1. ,  1. ,  0. ,  0. ,  1. ,  0.5,  0. ,  1. ,  1. ,  1. ,  1. ,\n",
      "         0. ,  0. ,  0. ,  1. ,  1. ,  1. ,  1. ,  1. ,  1. ,  1. ,  1. ,\n",
      "         1. ,  0. ,  1. ,  1. ,  1. ,  1. ,  1. ,  0. ,  1. ,  1. ,  0. ,\n",
      "         1. ,  0. ,  1. ,  1. ,  1. ,  1. ,  0. ,  1. ,  1. ,  1. ,  1. ,\n",
      "         1. ,  1. ,  1. ,  0. ,  1. ,  1. ,  0. ,  1. , -1. ]],\n",
      "      dtype=float32), array([[2]]), True]], maxlen=2), 'None', 3, 3], [deque([[array([[ 1. ,  1. ,  0. ,  1. ,  0. ,  1. ,  1. ,  1. ,  1. ,  1. ,  1. ,\n",
      "         1. ,  1. ,  0. ,  0. ,  1. ,  0.5,  0. ,  1. ,  1. ,  1. ,  1. ,\n",
      "         0. ,  0. ,  0. ,  1. ,  1. ,  1. ,  1. ,  1. ,  1. ,  1. ,  1. ,\n",
      "         1. ,  0. ,  1. ,  1. ,  1. ,  1. ,  1. ,  0. ,  1. ,  1. ,  0. ,\n",
      "         1. ,  0. ,  1. ,  1. ,  1. ,  1. ,  0. ,  1. ,  1. ,  1. ,  1. ,\n",
      "         1. ,  1. ,  1. ,  0. ,  1. ,  1. ,  0. ,  1. , -1. ]],\n",
      "      dtype=float32), array([[2]]), True], [array([[ 1. ,  1. ,  0. ,  1. ,  0. ,  1. ,  1. ,  1. ,  1. ,  1. ,  1. ,\n",
      "         1. ,  1. ,  0. ,  0. ,  1. ,  0.5,  0. ,  1. ,  1. ,  1. ,  1. ,\n",
      "         0. ,  0. ,  0. ,  1. ,  1. ,  1. ,  1. ,  1. ,  1. ,  1. ,  1. ,\n",
      "         1. ,  0. ,  1. ,  1. ,  1. ,  1. ,  1. ,  0. ,  1. ,  1. ,  0. ,\n",
      "         1. ,  0. ,  1. ,  1. ,  1. ,  1. ,  0. ,  1. ,  1. ,  1. ,  1. ,\n",
      "         1. ,  1. ,  1. ,  0. ,  1. ,  1. ,  0. ,  1. , -1. ]],\n",
      "      dtype=float32), array([[2]]), True]], maxlen=2), 'None', 3, 3], [deque([[array([[ 1. ,  1. ,  0. ,  1. ,  0. ,  1. ,  1. ,  1. ,  1. ,  1. ,  1. ,\n",
      "         1. ,  1. ,  0. ,  0. ,  1. ,  0.5,  0. ,  1. ,  1. ,  1. ,  1. ,\n",
      "         0. ,  0. ,  0. ,  1. ,  1. ,  1. ,  1. ,  1. ,  1. ,  1. ,  1. ,\n",
      "         1. ,  0. ,  1. ,  1. ,  1. ,  1. ,  1. ,  0. ,  1. ,  1. ,  0. ,\n",
      "         1. ,  0. ,  1. ,  1. ,  1. ,  1. ,  0. ,  1. ,  1. ,  1. ,  1. ,\n",
      "         1. ,  1. ,  1. ,  0. ,  1. ,  1. ,  0. ,  1. , -1. ]],\n",
      "      dtype=float32), array([[2]]), True], [array([[ 1. ,  1. ,  0. ,  1. ,  0. ,  1. ,  1. ,  1. ,  1. ,  1. ,  1. ,\n",
      "         1. ,  1. ,  0. ,  0. ,  1. ,  0.5,  0. ,  1. ,  1. ,  1. ,  1. ,\n",
      "         0. ,  0. ,  0. ,  1. ,  1. ,  1. ,  1. ,  1. ,  1. ,  1. ,  1. ,\n",
      "         1. ,  0. ,  1. ,  1. ,  1. ,  1. ,  1. ,  0. ,  1. ,  1. ,  0. ,\n",
      "         1. ,  0. ,  1. ,  1. ,  1. ,  1. ,  0. ,  1. ,  1. ,  1. ,  1. ,\n",
      "         1. ,  1. ,  1. ,  0. ,  1. ,  1. ,  0. ,  1. , -1. ]],\n",
      "      dtype=float32), array([[2]]), True]], maxlen=2), 'None', 3, 3], [deque([[array([[ 1. ,  1. ,  0. ,  1. ,  0. ,  1. ,  1. ,  1. ,  1. ,  1. ,  1. ,\n",
      "         1. ,  1. ,  0. ,  0. ,  1. ,  0.5,  0. ,  1. ,  1. ,  1. ,  1. ,\n",
      "         0. ,  0. ,  0. ,  1. ,  1. ,  1. ,  1. ,  1. ,  1. ,  1. ,  1. ,\n",
      "         1. ,  0. ,  1. ,  1. ,  1. ,  1. ,  1. ,  0. ,  1. ,  1. ,  0. ,\n",
      "         1. ,  0. ,  1. ,  1. ,  1. ,  1. ,  0. ,  1. ,  1. ,  1. ,  1. ,\n",
      "         1. ,  1. ,  1. ,  0. ,  1. ,  1. ,  0. ,  1. , -1. ]],\n",
      "      dtype=float32), array([[2]]), True], [array([[ 1. ,  1. ,  0. ,  1. ,  0. ,  1. ,  1. ,  1. ,  1. ,  1. ,  1. ,\n",
      "         1. ,  1. ,  0. ,  0. ,  1. ,  0.5,  0. ,  1. ,  1. ,  1. ,  1. ,\n",
      "         0. ,  0. ,  0. ,  1. ,  1. ,  1. ,  1. ,  1. ,  1. ,  1. ,  1. ,\n",
      "         1. ,  0. ,  1. ,  1. ,  1. ,  1. ,  1. ,  0. ,  1. ,  1. ,  0. ,\n",
      "         1. ,  0. ,  1. ,  1. ,  1. ,  1. ,  0. ,  1. ,  1. ,  1. ,  1. ,\n",
      "         1. ,  1. ,  1. ,  0. ,  1. ,  1. ,  0. ,  1. , -1. ]],\n",
      "      dtype=float32), array([[2]]), True]], maxlen=2), 'None', 3, 3], [deque([[array([[ 1. ,  1. ,  0. ,  1. ,  0. ,  1. ,  1. ,  1. ,  1. ,  1. ,  1. ,\n",
      "         1. ,  1. ,  0. ,  0. ,  1. ,  0.5,  0. ,  1. ,  1. ,  1. ,  1. ,\n",
      "         0. ,  0. ,  0. ,  1. ,  1. ,  1. ,  1. ,  1. ,  1. ,  1. ,  1. ,\n",
      "         1. ,  0. ,  1. ,  1. ,  1. ,  1. ,  1. ,  0. ,  1. ,  1. ,  0. ,\n",
      "         1. ,  0. ,  1. ,  1. ,  1. ,  1. ,  0. ,  1. ,  1. ,  1. ,  1. ,\n",
      "         1. ,  1. ,  1. ,  0. ,  1. ,  1. ,  0. ,  1. , -1. ]],\n",
      "      dtype=float32), array([[2]]), True], [array([[ 1. ,  1. ,  0. ,  1. ,  0. ,  1. ,  1. ,  1. ,  1. ,  1. ,  1. ,\n",
      "         1. ,  1. ,  0. ,  0. ,  1. ,  0.5,  0. ,  1. ,  1. ,  1. ,  1. ,\n",
      "         0. ,  0. ,  0. ,  1. ,  1. ,  1. ,  1. ,  1. ,  1. ,  1. ,  1. ,\n",
      "         1. ,  0. ,  1. ,  1. ,  1. ,  1. ,  1. ,  0. ,  1. ,  1. ,  0. ,\n",
      "         1. ,  0. ,  1. ,  1. ,  1. ,  1. ,  0. ,  1. ,  1. ,  1. ,  1. ,\n",
      "         1. ,  1. ,  1. ,  0. ,  1. ,  1. ,  0. ,  1. , -1. ]],\n",
      "      dtype=float32), array([[2]]), True]], maxlen=2), 'None', 3, 3], [deque([[array([[ 1. ,  1. ,  0. ,  1. ,  0. ,  1. ,  1. ,  1. ,  1. ,  1. ,  1. ,\n",
      "         1. ,  1. ,  0. ,  0. ,  1. ,  0.5,  0. ,  1. ,  1. ,  1. ,  1. ,\n",
      "         0. ,  0. ,  0. ,  1. ,  1. ,  1. ,  1. ,  1. ,  1. ,  1. ,  1. ,\n",
      "         1. ,  0. ,  1. ,  1. ,  1. ,  1. ,  1. ,  0. ,  1. ,  1. ,  0. ,\n",
      "         1. ,  0. ,  1. ,  1. ,  1. ,  1. ,  0. ,  1. ,  1. ,  1. ,  1. ,\n",
      "         1. ,  1. ,  1. ,  0. ,  1. ,  1. ,  0. ,  1. , -1. ]],\n",
      "      dtype=float32), array([[2]]), True], [array([[ 1. ,  1. ,  0. ,  1. ,  0. ,  1. ,  1. ,  1. ,  1. ,  1. ,  1. ,\n",
      "         1. ,  1. ,  0. ,  0. ,  1. ,  0.5,  0. ,  1. ,  1. ,  1. ,  1. ,\n",
      "         0. ,  0. ,  0. ,  1. ,  1. ,  1. ,  1. ,  1. ,  1. ,  1. ,  1. ,\n",
      "         1. ,  0. ,  1. ,  1. ,  1. ,  1. ,  1. ,  0. ,  1. ,  1. ,  0. ,\n",
      "         1. ,  0. ,  1. ,  1. ,  1. ,  1. ,  0. ,  1. ,  1. ,  1. ,  1. ,\n",
      "         1. ,  1. ,  1. ,  0. ,  1. ,  1. ,  0. ,  1. , -1. ]],\n",
      "      dtype=float32), array([[2]]), True]], maxlen=2), 'None', 3, 3], [deque([[array([[ 1. ,  1. ,  0. ,  1. ,  0. ,  1. ,  1. ,  1. ,  1. ,  1. ,  1. ,\n",
      "         1. ,  1. ,  0. ,  0. ,  1. ,  0.5,  0. ,  1. ,  1. ,  1. ,  1. ,\n",
      "         0. ,  0. ,  0. ,  1. ,  1. ,  1. ,  1. ,  1. ,  1. ,  1. ,  1. ,\n",
      "         1. ,  0. ,  1. ,  1. ,  1. ,  1. ,  1. ,  0. ,  1. ,  1. ,  0. ,\n",
      "         1. ,  0. ,  1. ,  1. ,  1. ,  1. ,  0. ,  1. ,  1. ,  1. ,  1. ,\n",
      "         1. ,  1. ,  1. ,  0. ,  1. ,  1. ,  0. ,  1. , -1. ]],\n",
      "      dtype=float32), array([[2]]), True], [array([[ 1. ,  1. ,  0. ,  1. ,  0. ,  1. ,  1. ,  1. ,  1. ,  1. ,  1. ,\n",
      "         1. ,  1. ,  0. ,  0. ,  1. ,  0.5,  0. ,  1. ,  1. ,  1. ,  1. ,\n",
      "         0. ,  0. ,  0. ,  1. ,  1. ,  1. ,  1. ,  1. ,  1. ,  1. ,  1. ,\n",
      "         1. ,  0. ,  1. ,  1. ,  1. ,  1. ,  1. ,  0. ,  1. ,  1. ,  0. ,\n",
      "         1. ,  0. ,  1. ,  1. ,  1. ,  1. ,  0. ,  1. ,  1. ,  1. ,  1. ,\n",
      "         1. ,  1. ,  1. ,  0. ,  1. ,  1. ,  0. ,  1. , -1. ]],\n",
      "      dtype=float32), array([[2]]), True]], maxlen=2), 'None', 3, 3], [deque([[array([[ 1. ,  1. ,  0. ,  1. ,  0. ,  1. ,  1. ,  1. ,  1. ,  1. ,  1. ,\n",
      "         1. ,  1. ,  0. ,  0. ,  1. ,  0.5,  0. ,  1. ,  1. ,  1. ,  1. ,\n",
      "         0. ,  0. ,  0. ,  1. ,  1. ,  1. ,  1. ,  1. ,  1. ,  1. ,  1. ,\n",
      "         1. ,  0. ,  1. ,  1. ,  1. ,  1. ,  1. ,  0. ,  1. ,  1. ,  0. ,\n",
      "         1. ,  0. ,  1. ,  1. ,  1. ,  1. ,  0. ,  1. ,  1. ,  1. ,  1. ,\n",
      "         1. ,  1. ,  1. ,  0. ,  1. ,  1. ,  0. ,  1. , -1. ]],\n",
      "      dtype=float32), array([[2]]), True], [array([[ 1. ,  1. ,  0. ,  1. ,  0. ,  1. ,  1. ,  1. ,  1. ,  1. ,  1. ,\n",
      "         1. ,  1. ,  0. ,  0. ,  1. ,  0.5,  0. ,  1. ,  1. ,  1. ,  1. ,\n",
      "         0. ,  0. ,  0. ,  1. ,  1. ,  1. ,  1. ,  1. ,  1. ,  1. ,  1. ,\n",
      "         1. ,  0. ,  1. ,  1. ,  1. ,  1. ,  1. ,  0. ,  1. ,  1. ,  0. ,\n",
      "         1. ,  0. ,  1. ,  1. ,  1. ,  1. ,  0. ,  1. ,  1. ,  1. ,  1. ,\n",
      "         1. ,  1. ,  1. ,  0. ,  1. ,  1. ,  0. ,  1. , -1. ]],\n",
      "      dtype=float32), array([[2]]), True]], maxlen=2), 'None', 3, 3]]\n"
     ]
    }
   ],
   "source": [
    "print(path_F, path, status_memory_list[index])"
   ]
  },
  {
   "cell_type": "markdown",
   "metadata": {},
   "source": [
    "## 手动测试"
   ]
  },
  {
   "cell_type": "code",
   "execution_count": 2398,
   "metadata": {},
   "outputs": [],
   "source": [
    "def test_():\n",
    "\n",
    "    # Initialize the environment and get it's state\n",
    "    state, info = env.reset()\n",
    "    # Cart Position, Cart Velocity, Pole Angle, Pole Angular Velocity\n",
    "    state = torch.tensor(state, dtype=torch.float32, device=device)\n",
    "\n",
    "    env.max_Tstep = 86\n",
    "\n",
    "    done = False\n",
    "    while not done:\n",
    "    #     print(state)\n",
    "#         action = policy_net(state).max(1)[1].view(1, 1).item()  # 选择一个动作\n",
    "#         action = random.choice(env.valid_actions())\n",
    "#         action = random.choice(env.action_space)\n",
    "        action = random.choice([0, 1, 2, 3])\n",
    "        observation, reward, done, info = env.step(action)  # 执行动作，返回{下一个观察值、奖励、是否结束、是否提前终止}\n",
    "        # reward = torch.tensor([reward], device=device)\n",
    "\n",
    "        if done:\n",
    "            next_state = None\n",
    "        else:\n",
    "            next_state = torch.tensor(observation, dtype=torch.float32, device=device)  # 如果没有终止则继续记录下一个状态\n",
    "\n",
    "        # Store the transition in memory\n",
    "        # memory.push(state, action, next_state, reward)\n",
    "\n",
    "        # Move to the next state\n",
    "        state = next_state\n",
    "\n",
    "    return info\n",
    "    "
   ]
  },
  {
   "cell_type": "code",
   "execution_count": 2400,
   "metadata": {},
   "outputs": [
    {
     "name": "stderr",
     "output_type": "stream",
     "text": [
      "100%|██████████| 1000/1000 [00:06<00:00, 161.83it/s]"
     ]
    },
    {
     "name": "stdout",
     "output_type": "stream",
     "text": [
      "0.097\n"
     ]
    },
    {
     "name": "stderr",
     "output_type": "stream",
     "text": [
      "\n"
     ]
    }
   ],
   "source": [
    "win_rate = 0\n",
    "for i in trange(1000):\n",
    "    info = test_()\n",
    "    if info == 'win':\n",
    "        win_rate += 1\n",
    "\n",
    "print(win_rate/1000)"
   ]
  },
  {
   "cell_type": "code",
   "execution_count": 954,
   "metadata": {},
   "outputs": [],
   "source": [
    "# 智能随机\n",
    "# 256 0.591\n",
    "# 128 0.323\n",
    "\n",
    "# 完全随机\n",
    "# 256 0.433\n",
    "# 128 0.194\n"
   ]
  },
  {
   "cell_type": "code",
   "execution_count": 955,
   "metadata": {},
   "outputs": [
    {
     "data": {
      "text/plain": [
       "[0, 1, 3]"
      ]
     },
     "execution_count": 955,
     "metadata": {},
     "output_type": "execute_result"
    }
   ],
   "source": [
    "env.valid_actions()"
   ]
  },
  {
   "cell_type": "code",
   "execution_count": 956,
   "metadata": {},
   "outputs": [
    {
     "data": {
      "text/plain": [
       "<matplotlib.image.AxesImage at 0x7fe054f39ad0>"
      ]
     },
     "execution_count": 956,
     "metadata": {},
     "output_type": "execute_result"
    },
    {
     "data": {
      "image/png": "[encoded data removed]",
      "text/plain": [
       "<Figure size 432x288 with 1 Axes>"
      ]
     },
     "metadata": {
      "needs_background": "light"
     },
     "output_type": "display_data"
    }
   ],
   "source": [
    "show(env)"
   ]
  },
  {
   "cell_type": "code",
   "execution_count": 857,
   "metadata": {},
   "outputs": [
    {
     "data": {
      "text/plain": [
       "128"
      ]
     },
     "execution_count": 857,
     "metadata": {},
     "output_type": "execute_result"
    }
   ],
   "source": [
    "env.max_Tstep"
   ]
  },
  {
   "cell_type": "code",
   "execution_count": 610,
   "metadata": {},
   "outputs": [],
   "source": [
    "# show(env)\n",
    "# print(env.visited)\n",
    "# print(env.total_reward)"
   ]
  }
 ],
 "metadata": {
  "kernelspec": {
   "display_name": "Python 3",
   "language": "python",
   "name": "python3"
  },
  "language_info": {
   "codemirror_mode": {
    "name": "ipython",
    "version": 3
   },
   "file_extension": ".py",
   "mimetype": "text/x-python",
   "name": "python",
   "nbconvert_exporter": "python",
   "pygments_lexer": "ipython3",
   "version": "3.7.7"
  }
 },
 "nbformat": 4,
 "nbformat_minor": 5
}
