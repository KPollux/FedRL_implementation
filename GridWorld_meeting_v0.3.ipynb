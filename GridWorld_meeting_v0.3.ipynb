{
 "cells": [
  {
   "cell_type": "code",
   "execution_count": 1,
   "metadata": {},
   "outputs": [
    {
     "name": "stderr",
     "output_type": "stream",
     "text": [
      "/mnt/beegfs/home/ypang2022/.local/lib/python3.7/site-packages/tqdm/auto.py:22: TqdmWarning: IProgress not found. Please update jupyter and ipywidgets. See https://ipywidgets.readthedocs.io/en/stable/user_install.html\n",
      "  from .autonotebook import tqdm as notebook_tqdm\n"
     ]
    }
   ],
   "source": [
    "import os, sys, time, datetime, json, random\n",
    "import numpy as np\n",
    "import copy\n",
    "import matplotlib.pyplot as plt\n",
    "\n",
    "import copy\n",
    "import math\n",
    "import random\n",
    "\n",
    "import cv2\n",
    "import matplotlib\n",
    "\n",
    "# from alg_GLOBALS import *\n",
    "import numpy as np\n",
    "import torch\n",
    "from matplotlib import pyplot as plt\n",
    "from scipy.spatial.distance import cdist\n",
    "from easydict import EasyDict as edict\n",
    "\n",
    "%matplotlib inline"
   ]
  },
  {
   "cell_type": "code",
   "execution_count": 2,
   "metadata": {},
   "outputs": [],
   "source": [
    "from easydict import EasyDict as edict\n",
    "\n",
    "# init\n",
    "__C_GridWorld = edict()\n",
    "\n",
    "cfg_data = __C_GridWorld\n",
    "\n",
    "__C_GridWorld.rat = (0, 0)\n",
    "__C_GridWorld.target = (15, 15)\n",
    "__C_GridWorld.max_Tstep = 3200  # 实际最大步数考察(MAX_TSTEP, reward<10*__C_GridWorld.REWARD.WALL)\n",
    "\n",
    "__C_GridWorld.REWARD = edict()\n",
    "\n",
    "__C_GridWorld.REWARD.WIN = 50\n",
    "__C_GridWorld.REWARD.WALL = -10\n",
    "__C_GridWorld.REWARD.MOVE = 0\n",
    "__C_GridWorld.REWARD.VISITED = __C_GridWorld.REWARD.MOVE\n",
    "\n",
    "__C_GridWorld.REWARD.HEURISTIC = True\n",
    "__C_GridWorld.REWARD.HEURISTIC_FACTOR = None"
   ]
  },
  {
   "cell_type": "code",
   "execution_count": 3,
   "metadata": {},
   "outputs": [],
   "source": [
    "cfg = edict()\n",
    "cfg.num_actions = 4\n",
    "cfg.maze_size = 8\n",
    "cfg.BATCH_SIZE = 64\n",
    "cfg.GAMMA = 0.99\n",
    "cfg.EPS_START = 0.95\n",
    "cfg.EPS_END = 0.05\n",
    "cfg.EPS_DECAY = 20000\n",
    "# cfg.eps_threshold = 0.1\n",
    "cfg.TAU = 0.005\n",
    "cfg.LR = 0.001\n",
    "cfg.num_episodes = 500"
   ]
  },
  {
   "cell_type": "code",
   "execution_count": 4,
   "metadata": {},
   "outputs": [],
   "source": [
    "ENV_NAME = 'grid-double-agent'\n",
    "# now = time.strftime(\"%m-%d_%H-%M-%S\", time.localtime())\n",
    "# folder_name = f\"runs/{ENV_NAME}/\" + now\n",
    "# os.makedirs('runs/', exist_ok=True)\n",
    "# os.makedirs(f'runs/{ENV_NAME}/', exist_ok=True)\n",
    "# os.makedirs(folder_name, exist_ok=True)\n",
    "\n",
    "device = \"cuda:0\""
   ]
  },
  {
   "cell_type": "markdown",
   "metadata": {},
   "source": [
    "## Q-maze"
   ]
  },
  {
   "cell_type": "code",
   "execution_count": 5,
   "metadata": {},
   "outputs": [],
   "source": [
    "class Env_Agent:\n",
    "    def __init__(self, x, y, ob_size=3):  # , agent_id, agent_type, metric_radius=1):\n",
    "        self.init_x = x\n",
    "        self.init_y = y\n",
    "        self.x = x\n",
    "        self.y = y\n",
    "        self.path = []\n",
    "        self.observe_size = ob_size\n",
    "        self.mark = 0.5\n",
    "        self.path_mark = 0.6\n",
    "        self.status = 'Start'\n",
    "        self.total_reward = 0\n",
    "\n",
    "    def reset(self):\n",
    "        self.x = self.init_x\n",
    "        self.y = self.init_y\n",
    "        self.path = []\n",
    "        self.status = 'Start'\n",
    "        self.total_reward = 0"
   ]
  },
  {
   "cell_type": "code",
   "execution_count": 6,
   "metadata": {},
   "outputs": [],
   "source": [
    "class FedRLEnv:\n",
    "    \"\"\"\n",
    "    The main duties of this wrapper:\n",
    "\n",
    "    1. Receive inputs and transform outputs as tensors\n",
    "    2. Normalize states of observations\n",
    "\n",
    "    \"\"\"\n",
    "\n",
    "    def __init__(self, maze, cfg_data):\n",
    "        self.visited_mark = 0.5  # Cells visited by the rat will be painted by gray 0.8\n",
    "        self.end_mark = 0.7\n",
    "        self.rat_mark = 0.3  # The current rat cell will be painteg by gray 0.5\n",
    "        self.LEFT = 0\n",
    "        self.UP = 1\n",
    "        self.RIGHT = 2\n",
    "        self.DOWN = 3\n",
    "        self.cfg_data = cfg_data\n",
    "\n",
    "        # 允许的最大步数\n",
    "        self.max_Tstep = cfg_data.max_Tstep\n",
    "        self.action_space = [0, 1, 2, 3]\n",
    "        # 初始化迷宫，老鼠可以从任意位置开始，默认为左上角\n",
    "        self._maze = np.array(maze)\n",
    "        nrows, ncols = self._maze.shape\n",
    "\n",
    "        self.name = 'FedRL_env'\n",
    "        # self.agents = []\n",
    "        self.agent_dict = edict()\n",
    "        self.agent_dict.alpha = Env_Agent(cfg_data.rat[0], cfg_data.rat[1], 3)  # rat\n",
    "        if cfg_data.target is None:\n",
    "            self.agent_dict.beta = Env_Agent(nrows - 1, ncols - 1, 3)  # target\n",
    "        else:\n",
    "            self.agent_dict.beta = Env_Agent(cfg_data.target[0], cfg_data.target[1], 3)\n",
    "\n",
    "        self.agent_dict.alpha.mark = self.rat_mark\n",
    "        self.agent_dict.beta.mark = self.end_mark\n",
    "        self.agent_dict.alpha.path_mark = 0.4\n",
    "        self.agent_dict.beta.path_mark = 0.6\n",
    "\n",
    "        # 终点可以是任意位置\n",
    "        # if cfg_data.target is None:\n",
    "        #     self.target = (nrows - 1, ncols - 1)  # target cell where the \"cheese\" is\n",
    "        # else:\n",
    "        #     self.target = cfg_data.target\n",
    "        # # 初始化空格list，maze为1表示空格，为0表示墙体\n",
    "        # self.free_cells = [(r, c) for r in range(nrows) for c in range(ncols) if self._maze[r, c] == 1.0]\n",
    "        # # 将目标格移出空格list\n",
    "        # self.free_cells.remove(self.target)\n",
    "        # 检查左上和右下是否为空\n",
    "        if self._maze[self.agent_dict.beta.x, self.agent_dict.beta.y] == 0.0:\n",
    "            raise Exception(\"Invalid maze: target cell cannot be blocked!\")\n",
    "        if self._maze[self.agent_dict.alpha.x, self.agent_dict.alpha.y] == 0.0:\n",
    "            raise Exception(\"Invalid Rat Location: must sit on a free cell\")\n",
    "        # 放置两个agent并初始化参数\n",
    "        self.reset()\n",
    "\n",
    "    def reset(self):\n",
    "        self.maze = np.copy(self._maze)  # self.maze is the maze that will be modified during the simulation\n",
    "        for _, agent in self.agent_dict.items():\n",
    "            agent.reset()\n",
    "\n",
    "        nrows, ncols = self.maze.shape\n",
    "        alpha_x = self.agent_dict.alpha.x\n",
    "        alpha_y = self.agent_dict.alpha.y\n",
    "        beta_x = self.agent_dict.beta.x\n",
    "        beta_y = self.agent_dict.beta.y\n",
    "        self.maze[alpha_x, alpha_y] = self.rat_mark\n",
    "        self.maze[beta_x, beta_y] = self.end_mark\n",
    "\n",
    "        # 初始状态\n",
    "        # self.state = (row, col, 'start')\n",
    "        # 设置最低奖励阈值\n",
    "        self.min_reward = 38 * self.cfg_data.REWARD.WALL  # -0.5 * self.maze.size\n",
    "        # 初始化总奖励\n",
    "        # self.total_reward = 0\n",
    "        self.total_Tstep = 0\n",
    "\n",
    "        t_observations = {name: self.get_observation(agent) for name, agent in self.agent_dict.items()}\n",
    "\n",
    "        # self.visited = list()\n",
    "        # for _, agent in self.agent_dict.items():\n",
    "        #     agent.path = []\n",
    "        #     agent.status = 'Start'\n",
    "        #     agent.total_reward = 0\n",
    "\n",
    "        return t_observations, self.game_status()\n",
    "\n",
    "    def get_observation(self, agent):\n",
    "        maze = np.copy(self._maze)\n",
    "\n",
    "        # draw the rat\n",
    "        for name, _agent in self.agent_dict.items():\n",
    "            maze[_agent.x, _agent.y] = _agent.mark\n",
    "\n",
    "        size = agent.observe_size\n",
    "\n",
    "        row, col = agent.x, agent.y\n",
    "        # 获取maze的行列数\n",
    "        ROWS = len(maze)\n",
    "        COLS = len(maze[0])\n",
    "\n",
    "        # 初始化结果二维数组\n",
    "        result = [[0 for _ in range(size)] for _ in range(size)]\n",
    "\n",
    "        # 将以指定点为中心指定尺寸范围的观测值存入结果二维数组\n",
    "        for i in range(row - size // 2, row + size // 2 + 1):\n",
    "            for j in range(col - size // 2, col + size // 2 + 1):\n",
    "                if i < 0 or i >= ROWS or j < 0 or j >= COLS:\n",
    "                    # 如果超出边界，则填充为1\n",
    "                    result[i - row + size // 2][j - col + size // 2] = 0.0\n",
    "                else:\n",
    "                    result[i - row + size // 2][j - col + size // 2] = maze[i][j]\n",
    "\n",
    "        # 返回结果二维数组\n",
    "        result = np.array(result)\n",
    "        result[size // 2][size // 2] = agent.mark\n",
    "        return result\n",
    "\n",
    "    def render(self):\n",
    "        plt.grid('on')\n",
    "        ax = plt.gca()\n",
    "        nrows, ncols = self.maze.shape\n",
    "        ax.set_xticks(np.arange(0.5, nrows, 1))\n",
    "        ax.set_yticks(np.arange(0.5, ncols, 1))\n",
    "        ax.set_xticklabels([])\n",
    "        ax.set_yticklabels([])\n",
    "\n",
    "        canvas = np.copy(self.maze)\n",
    "\n",
    "        for k, agent in self.agent_dict.items():\n",
    "\n",
    "            for row, col in agent.path:\n",
    "                # if canvas[row, col] == 1.0:\n",
    "                canvas[row, col] = agent.path_mark\n",
    "                # else:\n",
    "                #     canvas[row, col] = self.visited_mark\n",
    "\n",
    "        alpha_x = self.agent_dict.alpha.x\n",
    "        alpha_y = self.agent_dict.alpha.y\n",
    "        beta_x = self.agent_dict.beta.x\n",
    "        beta_y = self.agent_dict.beta.y\n",
    "        canvas[alpha_x, alpha_y] = self.rat_mark\n",
    "        canvas[beta_x, beta_y] = self.end_mark\n",
    "        plt.imshow(canvas, interpolation='none', cmap='gray')\n",
    "        plt.show()\n",
    "        # return img\n",
    "\n",
    "    def step(self, action_dict):\n",
    "        self.update_state(action_dict)\n",
    "\n",
    "        t_observations = {name: self.get_observation(agent) for name, agent in self.agent_dict.items()}\n",
    "        t_rewards = self.get_reward()\n",
    "        info = self.game_status()\n",
    "        done = (info != 'not_over')\n",
    "#         print('info', info)\n",
    "#         print('done', done)\n",
    "\n",
    "        return t_observations, t_rewards, done, info\n",
    "\n",
    "    def game_status(self):\n",
    "        flag = 1\n",
    "\n",
    "        # 如果所有老鼠的奖励都小于最低奖励阈值，则游戏结束\n",
    "#         for name, agent in self.agent_dict.items():\n",
    "#             if agent.total_reward > self.min_reward:\n",
    "#                 flag = 1\n",
    "\n",
    "        if self.total_Tstep > self.max_Tstep or flag == 0:\n",
    "            # if self.total_reward < self.min_reward:\n",
    "            # if self.total_Tstep > self.max_Tstep:\n",
    "            return 'lose'\n",
    "\n",
    "        if self.get_distance() <= 1:\n",
    "            return 'win'\n",
    "\n",
    "        return 'not_over'\n",
    "\n",
    "    def update_state(self, action_dict):\n",
    "        '''\n",
    "            input: {'alpha': t_alpha_action, 'beta': t_beta_action} [0, 1, 2, 3] [L, U, R, D]\n",
    "        '''\n",
    "        for name, agent in self.agent_dict.items():\n",
    "            action = action_dict[name]\n",
    "\n",
    "            # 如果老鼠访问的是空格，则记录\n",
    "            if self.maze[agent.x, agent.y] > 0.0:\n",
    "                agent.path.append((agent.x, agent.y))  # mark visited cell\n",
    "\n",
    "            # 获取所有可能执行的动作\n",
    "            valid_actions = self.valid_actions(name)\n",
    "            # print('valid_actions', valid_actions)\n",
    "\n",
    "            # 如果没有可以执行的动作（被围住了），则状态为 blocked，位置不变\n",
    "            if not valid_actions:\n",
    "                agent.status = 'blocked'\n",
    "                print('blocked')\n",
    "            # 如果需要执行的动作在可执行动作列表中，那么状态为有效，并相应执行动作\n",
    "            elif action in valid_actions:\n",
    "                agent.status = 'valid'\n",
    "                if action == self.LEFT:\n",
    "                    agent.y -= 1\n",
    "                elif action == self.UP:\n",
    "                    agent.x -= 1\n",
    "                if action == self.RIGHT:\n",
    "                    agent.y += 1\n",
    "                elif action == self.DOWN:\n",
    "                    agent.x += 1\n",
    "            # 如果需要执行的动作不在可执行动作列表中（撞墙），位置不变\n",
    "            else:  # invalid action, no change in rat position\n",
    "                agent.status = 'invalid'\n",
    "\n",
    "        # 两次动作都执行完毕后，更新步数\n",
    "        self.total_Tstep += 1  # 每次执行动作+1\n",
    "\n",
    "    def valid_actions(self, agent_name):\n",
    "        # print('agent_name', agent_name)\n",
    "        # print(self.agent_dict)\n",
    "        agent = self.agent_dict[agent_name]\n",
    "        # 默认验证当前位置\n",
    "        row, col = agent.x, agent.y\n",
    "        actions = copy.deepcopy(self.action_space)\n",
    "        nrows, ncols = self.maze.shape\n",
    "        # 如果在第0行，则不能向上走；如果在最后一行，则不能向下走\n",
    "        if row == 0:\n",
    "            actions.remove(1)\n",
    "        elif row == nrows - 1:\n",
    "            actions.remove(3)\n",
    "        # 列-左右\n",
    "        if col == 0:\n",
    "            actions.remove(0)\n",
    "        elif col == ncols - 1:\n",
    "            actions.remove(2)\n",
    "\n",
    "        # 如果不在最左列，而左边是墙，则不能向左；右边同理\n",
    "        if row > 0 and self.maze[row - 1, col] == 0.0:\n",
    "            actions.remove(1)\n",
    "        if row < nrows - 1 and self.maze[row + 1, col] == 0.0:\n",
    "            actions.remove(3)\n",
    "\n",
    "        # 上下同理\n",
    "        if col > 0 and self.maze[row, col - 1] == 0.0:\n",
    "            actions.remove(0)\n",
    "        if col < ncols - 1 and self.maze[row, col + 1] == 0.0:\n",
    "            actions.remove(2)\n",
    "\n",
    "        # 返回所有可能执行的动作\n",
    "        return actions\n",
    "\n",
    "    def get_reward(self):\n",
    "\n",
    "        # nrows, ncols = self.maze.shape\n",
    "        # reward = 0\n",
    "        L1_distance = self.get_distance()\n",
    "        if L1_distance <= 1:\n",
    "            t_rewards = dict()\n",
    "            for name, agent in self.agent_dict.items():\n",
    "                t_rewards[name] = self.cfg_data.REWARD.WIN\n",
    "                agent.total_reward += self.cfg_data.REWARD.WIN\n",
    "                agent.path.append((agent.x, agent.y))  # mark visited cell\n",
    "            return t_rewards\n",
    "\n",
    "        if self.cfg_data.REWARD.HEURISTIC:\n",
    "            # 估计距离\n",
    "            rg = -L1_distance\n",
    "#             rg = self._maze.shape[0] / L1_distance\n",
    "            # rg = 1 / L1_distance\n",
    "        else:\n",
    "            rg = 0\n",
    "\n",
    "        t_rewards = dict()\n",
    "        for name, agent in self.agent_dict.items():\n",
    "            rl = 0\n",
    "            if L1_distance <= 1:\n",
    "                rl = self.cfg_data.REWARD.WIN  # 奶酪，给予 1.0 分\n",
    "            # elif mode == 'blocked':\n",
    "            #     rl = self.min_reward - 1\n",
    "            elif agent.status == 'invalid':\n",
    "                rl = self.cfg_data.REWARD.WALL  # 撞墙-0.75 分，动作不会被执行\n",
    "            # elif (rat_row, rat_col) in self.visited:\n",
    "            #     rl = self.cfg_data.REWARD.VISITED  # 访问已经访问过的单元格，-0.25 分\n",
    "            elif agent.status == 'valid':\n",
    "                rl = self.cfg_data.REWARD.MOVE  # 每次移动都会花费老鼠 -0.04 分\n",
    "\n",
    "            reward = rl + rg\n",
    "\n",
    "            t_rewards[name] = reward\n",
    "            agent.total_reward += reward\n",
    "\n",
    "        return t_rewards\n",
    "\n",
    "    def get_distance(self):\n",
    "        rat_row, rat_col = self.agent_dict.alpha.x, self.agent_dict.alpha.y\n",
    "        target_row, target_col = self.agent_dict.beta.x, self.agent_dict.beta.y\n",
    "        L1_distance = abs(rat_row - target_row) + abs(rat_col - target_col)\n",
    "\n",
    "        return L1_distance"
   ]
  },
  {
   "cell_type": "markdown",
   "metadata": {},
   "source": [
    "## DQN - Agent"
   ]
  },
  {
   "cell_type": "code",
   "execution_count": 7,
   "metadata": {},
   "outputs": [],
   "source": [
    "import math\n",
    "import torch\n",
    "import torch.nn as nn\n",
    "import torch.optim as optim\n",
    "\n",
    "class DQN(nn.Module):\n",
    "    def __init__(self, observation_size, maze_size, num_actions):\n",
    "        super(DQN, self).__init__()\n",
    "        self.layer1 = nn.Linear(observation_size, 64)\n",
    "        self.relu1 = nn.ReLU()\n",
    "        self.layer2 = nn.Linear(64, 64)\n",
    "        self.relu2 = nn.ReLU()\n",
    "        self.output_layer = nn.Linear(64, num_actions)\n",
    "        \n",
    "    def forward(self, x):\n",
    "        x = self.layer1(x)\n",
    "        x = self.relu1(x)\n",
    "        x = self.layer2(x)\n",
    "        x = self.relu2(x)\n",
    "        x = self.output_layer(x)\n",
    "        return x\n"
   ]
  },
  {
   "cell_type": "markdown",
   "metadata": {},
   "source": [
    "## utils"
   ]
  },
  {
   "cell_type": "code",
   "execution_count": 8,
   "metadata": {},
   "outputs": [],
   "source": [
    "from collections import namedtuple, deque\n",
    "import matplotlib\n",
    "import matplotlib.pyplot as plt\n",
    "# set up matplotliba\n",
    "is_ipython = 'inline' in matplotlib.get_backend()\n",
    "if is_ipython:\n",
    "    from IPython import display\n",
    "    \n",
    "Transition = namedtuple('Transition',\n",
    "                        ('state', 'action', 'next_state', 'reward'))\n",
    "\n",
    "\n",
    "class ReplayMemory(object):\n",
    "\n",
    "    def __init__(self, capacity):\n",
    "        self.memory = deque([], maxlen=capacity)\n",
    "\n",
    "    def push(self, *args):\n",
    "        \"\"\"Save a transition\"\"\"\n",
    "        self.memory.append(Transition(*args))\n",
    "\n",
    "    def sample(self, batch_size):\n",
    "        return random.sample(self.memory, batch_size)\n",
    "\n",
    "    def __len__(self):\n",
    "        return len(self.memory)\n",
    "\n",
    "def moving_average(data_list, window_size=100):\n",
    "    moving_averages = []\n",
    "    for i in range(len(data_list)):\n",
    "        if i < window_size:\n",
    "            window_data = data_list[:i + 1]\n",
    "        else:\n",
    "            window_data = data_list[i - window_size + 1:i + 1]\n",
    "        average = sum(window_data) / len(window_data)\n",
    "        moving_averages.append(average)\n",
    "    \n",
    "    return moving_averages"
   ]
  },
  {
   "cell_type": "code",
   "execution_count": 9,
   "metadata": {},
   "outputs": [],
   "source": [
    "class Agent:\n",
    "    def __init__(self, agent_id, observation_size, cfg_):\n",
    "        observation_size = observation_size ** 2\n",
    "        self.observation_size = observation_size\n",
    "        self.cfg = cfg_\n",
    "\n",
    "        self.policy_net = DQN(observation_size, self.cfg.maze_size, self.cfg.num_actions).to(device)\n",
    "        self.target_net = DQN(observation_size, self.cfg.maze_size, self.cfg.num_actions).to(device)\n",
    "        self.target_net.load_state_dict(self.policy_net.state_dict())\n",
    "\n",
    "        self.optimizer = optim.AdamW(self.policy_net.parameters(), lr=self.cfg.LR)\n",
    "        self.agent_id = agent_id\n",
    "\n",
    "        self.memory = ReplayMemory(2000)\n",
    "\n",
    "        self.episode_rewards = []\n",
    "        self.episode_step = []\n",
    "\n",
    "        self.steps_done = 0\n",
    "\n",
    "    # 动作选取\n",
    "    def select_action(self, state):\n",
    "        sample = random.random()\n",
    "\n",
    "        # 随着进行，eps_threshold逐渐降低\n",
    "        eps_threshold = self.cfg.EPS_END + (self.cfg.EPS_START - self.cfg.EPS_END) * \\\n",
    "            math.exp(-1. * self.steps_done / self.cfg.EPS_DECAY)\n",
    "\n",
    "        # eps_threshold = self.cfg.eps_threshold\n",
    "\n",
    "        self.steps_done += 1\n",
    "\n",
    "        # 常规情况选择价值最高的动作\n",
    "        if sample > eps_threshold:\n",
    "#             print('利用')\n",
    "            with torch.no_grad():\n",
    "                # t.max(1) will return the largest column value of each row.\n",
    "                # second column on max result is index of where max element was\n",
    "                # found, so we pick action with the larger expected reward.\n",
    "                # print(state)\n",
    "                # state = torch.tensor(state, dtype=torch.float32, device=device).reshape((1, -1))\n",
    "                # print(state)\n",
    "                return self.policy_net(state).max(1)[1].view(1, 1)\n",
    "\n",
    "        # 当随机值超过阈值时，随机选取 - exploration\n",
    "        else:\n",
    "#             print('随机')\n",
    "            # 探索时只探索可能的动作，增加探索效率？\n",
    "            return torch.tensor([[random.choice(env.valid_actions(self.agent_id))]], device=device,\n",
    "                                dtype=torch.long)\n",
    "\n",
    "    def train(self):\n",
    "#         print(len(self.memory), self.cfg.BATCH_SIZE)\n",
    "        if len(self.memory) < self.cfg.BATCH_SIZE:\n",
    "            return\n",
    "\n",
    "        # 离线学习，从记忆池中抽取回忆\n",
    "        transitions = self.memory.sample(self.cfg.BATCH_SIZE)\n",
    "        # print(transitions)\n",
    "\n",
    "        # Transpose the batch (see https://stackoverflow.com/a/19343/3343043 for\n",
    "        # detailed explanation). This converts batch-array of Transitions\n",
    "        # to Transition of batch-arrays.\n",
    "\n",
    "        # 将([a, 1], [b, 2], [c, 3])转化为([a, b, c], [1, 2, 3])，一个zip的trick\n",
    "        # 然后将他们分别放到tuples with names里（'state', 'action', 'next_state', and 'reward'）\n",
    "        batch = Transition(*zip(*transitions))\n",
    "\n",
    "        # Compute a mask of non-final states and concatenate the batch elements\n",
    "        # (a final state would've been the one after which simulation ended)\n",
    "        # 计算非最终状态的掩码，并将批处理元素连接起来\n",
    "        # (最终状态是指模拟结束后的状态)\n",
    "        non_final_mask = torch.tensor(tuple(map(lambda s: s is not None,\n",
    "                                                batch.next_state)), device=device, dtype=torch.bool)\n",
    "        non_final_next_states = torch.cat([s for s in batch.next_state\n",
    "                                           if s is not None])\n",
    "\n",
    "        state_batch = torch.cat(batch.state)\n",
    "        action_batch = torch.cat(batch.action)\n",
    "        reward_batch = torch.cat(batch.reward)\n",
    "\n",
    "        # Compute Q(s_t, a) - the model computes Q(s_t), then we select the\n",
    "        # columns of actions taken. These are the actions which would've been taken\n",
    "        # for each batch state according to policy_net\n",
    "        # 模型计算Q价值，我们根据价值选择动作\n",
    "        state_action_values = self.policy_net(state_batch).gather(1, action_batch)\n",
    "\n",
    "        # Compute V(s_{t+1}) for all next states.\n",
    "        # Expected values of actions for non_final_next_states are computed based\n",
    "        # on the \"older\" target_net; selecting their best reward with max(1)[0].\n",
    "        # This is merged based on the mask, such that we'll have either the expected\n",
    "        # state value or 0 in case the state was final.\n",
    "        next_state_values = torch.zeros(self.cfg.BATCH_SIZE, device=device)\n",
    "        with torch.no_grad():\n",
    "            next_state_values[non_final_mask] = self.target_net(non_final_next_states).max(1)[0]\n",
    "        # Compute the expected Q values\n",
    "        # 当前奖励+下一个状态的奖励，更新Q. 如果下一个状态为最终状态，则仅有当前奖励\n",
    "        expected_state_action_values = (next_state_values * self.cfg.GAMMA) + reward_batch\n",
    "        # print(expected_state_action_values)\n",
    "\n",
    "        # Compute Huber loss\n",
    "#         criterion = nn.SmoothL1Loss()\n",
    "        criterion = nn.MSELoss()\n",
    "        loss = criterion(state_action_values, expected_state_action_values.unsqueeze(1))\n",
    "\n",
    "        # Optimize the model\n",
    "        self.optimizer.zero_grad()\n",
    "        loss.backward()\n",
    "        # In-place gradient clipping\n",
    "#         torch.nn.utils.clip_grad_value_(self.policy_net.parameters(), 100)\n",
    "        self.optimizer.step()\n",
    "\n",
    "    # soft_sync_target_net\n",
    "    def soft_sync_target_net(self):\n",
    "        # self.target_net.load_state_dict(self.policy_net.state_dict())\n",
    "        # Soft update of the target network's weights\n",
    "        # θ′ ← τ θ + (1 −τ )θ′\n",
    "        target_net_state_dict = self.target_net.state_dict()\n",
    "        policy_net_state_dict = self.policy_net.state_dict()\n",
    "\n",
    "        # if (steps_done % sync_target_net_freq) == 0:\n",
    "        for key in policy_net_state_dict:\n",
    "            target_net_state_dict[key] = policy_net_state_dict[key] * self.cfg.TAU \\\n",
    "                                         + target_net_state_dict[key] * (1 - self.cfg.TAU)\n",
    "\n",
    "        self.target_net.load_state_dict(target_net_state_dict)"
   ]
  },
  {
   "cell_type": "code",
   "execution_count": 10,
   "metadata": {},
   "outputs": [],
   "source": [
    "def evaluation():\n",
    "    win = 0\n",
    "    # episode_rewards_eval = []\n",
    "    episode_rewards_alpha_eval = []\n",
    "    episode_rewards_beta_eval = []\n",
    "    episode_step_eval = []\n",
    "\n",
    "    for j in range(1):\n",
    "        # Initialize the environment and get it's state\n",
    "        state, info = env_eval.reset()\n",
    "\n",
    "        done = False\n",
    "        while not done:\n",
    "            # 环境观察到的两个状态分别分配给两个agent\n",
    "            state_alpha = torch.tensor(state['alpha'], dtype=torch.float32, device=device).reshape((1, -1))\n",
    "            state_beta = torch.tensor(state['beta'], dtype=torch.float32, device=device).reshape((1, -1))\n",
    "\n",
    "            with torch.no_grad():\n",
    "                action_alpha = Agent_alpha.policy_net(state_alpha).max(1)[1].view(1, 1)  # 选择一个动作\n",
    "                action_beta = Agent_beta.policy_net(state_beta).max(1)[1].view(1, 1)  # 选择一个动作\n",
    "\n",
    "            t_actions = {'alpha': action_alpha.item(), 'beta': action_beta.item()}\n",
    "\n",
    "            # random.choice(env.valid_actions())\n",
    "            t_observations, t_rewards, done, info = env_eval.step(t_actions)  # 执行动作，返回{下一个观察值、奖励、是否结束、是否提前终止}\n",
    "            # observation_alpha = torch.tensor(t_observations['alpha'], dtype=torch.float32, device=device).reshape((1, -1))\n",
    "            # observation_beta = torch.tensor(t_observations['beta'], dtype=torch.float32, device=device).reshape((1, -1))\n",
    "            #\n",
    "            # if done:\n",
    "            #     next_state_alpha = next_state_beta = None\n",
    "            # else:  # 如果没有终止则继续记录下一个状态\n",
    "            #     next_state_alpha = observation_alpha\n",
    "            #     next_state_beta = observation_beta\n",
    "\n",
    "            state = t_observations\n",
    "            # # Store the transition in memory\n",
    "            # # memory.push(state, action, next_state, reward)\n",
    "            #\n",
    "            # # Move to the next state\n",
    "            # state = t_observations\n",
    "\n",
    "        episode_rewards_alpha_eval.append(env_eval.agent_dict.alpha.total_reward)\n",
    "        episode_rewards_beta_eval.append(env_eval.agent_dict.beta.total_reward)\n",
    "        episode_step_eval.append(env_eval.total_Tstep)\n",
    "        \n",
    "    if info == 'win' and env.total_Tstep<=optimal_length:\n",
    "        win = 1\n",
    "    elif info == 'win':\n",
    "        win = 0.5\n",
    "    else:\n",
    "        win = 0\n",
    "\n",
    "    win_rate = win / 1\n",
    "\n",
    "    # env.render()\n",
    "    # print(env.visited)\n",
    "    # print(env.state)\n",
    "    # print(env.total_reward)\n",
    "\n",
    "    return [episode_rewards_alpha_eval, episode_rewards_beta_eval, episode_step_eval], win_rate"
   ]
  },
  {
   "cell_type": "markdown",
   "metadata": {},
   "source": [
    "## train"
   ]
  },
  {
   "cell_type": "code",
   "execution_count": 11,
   "metadata": {},
   "outputs": [],
   "source": [
    "maze = np.loadtxt('games/GridWorld/maze16_0.05_1.txt')\n",
    "#\n",
    "env = FedRLEnv(maze, cfg_data)\n",
    "\n",
    "optimal_length = 78\n",
    "env_eval = FedRLEnv(maze, cfg_data)\n",
    "env_eval.max_Tstep = optimal_length*2"
   ]
  },
  {
   "cell_type": "code",
   "execution_count": 12,
   "metadata": {},
   "outputs": [],
   "source": [
    "Agent_alpha = Agent('alpha', 3, cfg)\n",
    "Agent_beta = Agent('beta', 3, cfg)"
   ]
  },
  {
   "cell_type": "code",
   "execution_count": 13,
   "metadata": {},
   "outputs": [],
   "source": [
    "history = edict()\n",
    "\n",
    "history.episode_rewards_alpha = []\n",
    "history.episode_rewards_beta = []\n",
    "history.episode_step = []\n",
    "history.win_eval = []\n",
    "history.loss_train = []\n",
    "history.val_visited_list = []\n",
    "history.episode_rewards_eval_list = []\n",
    "\n",
    "history.alpha_eval_path = []\n",
    "history.beta_eval_path = []\n",
    "\n",
    "# episode_rewards.append(env.total_reward)\n",
    "# episode_step.append(t)\n",
    "# win_eval.append(win_rate)\n",
    "# episode_rewards_eval_list.append(episode_rewards_eval)\n",
    "# #     loss_train.append(acc_loss)\n",
    "# val_visited_list.append(val_visited)\n",
    "# history['episode_rewards'] = episode_rewards\n",
    "# history['episode_step'] = episode_step\n",
    "# history['win_eval'] = win_eval\n",
    "# history['loss_train'] = loss_train\n",
    "# history['val_visited_list'] = val_visited_list\n",
    "# history['episode_rewards_eval_list'] = val_visited_list"
   ]
  },
  {
   "cell_type": "code",
   "execution_count": 14,
   "metadata": {},
   "outputs": [],
   "source": [
    "# self.LEFT = 0\n",
    "# self.UP = 1\n",
    "# self.RIGHT = 2\n",
    "# self.DOWN = 3"
   ]
  },
  {
   "cell_type": "code",
   "execution_count": 15,
   "metadata": {
    "scrolled": false
   },
   "outputs": [
    {
     "name": "stderr",
     "output_type": "stream",
     "text": [
      "100%|██████████| 500/500 [04:40<00:00,  1.78it/s]\n"
     ]
    }
   ],
   "source": [
    "from itertools import count\n",
    "from tqdm import trange\n",
    "\n",
    "for i_episode in trange(cfg.num_episodes):\n",
    "# for i_episode in trange(1):\n",
    "    # Initialize the environment and get it's state\n",
    "    state, info = env.reset()\n",
    "\n",
    "    # 环境观察到的两个状态分别分配给两个agent\n",
    "    # state = torch.tensor(state, dtype=torch.float32, device=device).reshape((1, -1))\n",
    "    state_alpha = torch.tensor(state['alpha'], dtype=torch.float32, device=device).reshape((1, -1))\n",
    "    state_beta = torch.tensor(state['beta'], dtype=torch.float32, device=device).reshape((1, -1))\n",
    "\n",
    "    done = False\n",
    "    for t in count():\n",
    "#         env.render()\n",
    "        \n",
    "        action_alpha = Agent_alpha.select_action(state_alpha)  # 选择一个动作\n",
    "        action_beta = Agent_beta.select_action(state_beta)  # 选择一个动作\n",
    "\n",
    "#         print(action_alpha, action_beta)\n",
    "        t_actions = {'alpha': action_alpha.item(), 'beta': action_beta.item()}\n",
    "#         print(t_actions)\n",
    "        t_observations, t_rewards, done, info = env.step(t_actions)  # 执行动作，返回{下一个观察值、奖励、是否结束、是否提前终止}\n",
    "#         print(f't_observations {t_observations}, t_rewards {t_rewards}, done {done}, info {info}')\n",
    "#         env.render()\n",
    "        \n",
    "        reward_alpha = torch.tensor([t_rewards['alpha']], device=device)\n",
    "        reward_beta = torch.tensor([t_rewards['beta']], device=device)\n",
    "\n",
    "        observation_alpha = torch.tensor(t_observations['alpha'], dtype=torch.float32, device=device).reshape((1, -1))\n",
    "        observation_beta = torch.tensor(t_observations['beta'], dtype=torch.float32, device=device).reshape((1, -1))\n",
    "        \n",
    "        if done:\n",
    "            next_state_alpha = next_state_beta = None\n",
    "        else:  # 如果没有终止则继续记录下一个状态\n",
    "            next_state_alpha = observation_alpha\n",
    "            next_state_beta = observation_beta\n",
    "        \n",
    "        # print(reward_alpha, reward_beta)\n",
    "        # print(observation_alpha, observation_beta)\n",
    "        # print(next_state_alpha, next_state_beta)\n",
    "\n",
    "        # break\n",
    "        # Store the transition in memory\n",
    "        Agent_alpha.memory.push(state_alpha, action_alpha, next_state_alpha, reward_alpha)\n",
    "        Agent_beta.memory.push(state_beta, action_beta, next_state_beta, reward_beta)\n",
    "#         print( f'State: {state_alpha}, Action: {action_alpha}, Next state: {next_state_alpha}, Reward: {reward_alpha}')\n",
    "\n",
    "        # Move to the next state\n",
    "        # state = next_state\n",
    "        state_alpha = next_state_alpha\n",
    "        state_beta = next_state_beta\n",
    "\n",
    "        # Perform one step of the optimization (on the policy network)\n",
    "        Agent_alpha.train()\n",
    "        Agent_beta.train()\n",
    "\n",
    "        # Soft update of the target network's weights\n",
    "        Agent_alpha.soft_sync_target_net()\n",
    "        Agent_beta.soft_sync_target_net()\n",
    "\n",
    "        if done:\n",
    "            break\n",
    "\n",
    "    Agent_alpha.episode_rewards.append(env.agent_dict.alpha.total_reward)\n",
    "    Agent_beta.episode_rewards.append(env.agent_dict.beta.total_reward)\n",
    "\n",
    "    Agent_alpha.episode_step.append(env.total_Tstep)\n",
    "    Agent_beta.episode_step.append(env.total_Tstep)\n",
    "\n",
    "    [episode_rewards_alpha_eval, episode_rewards_beta_eval, episode_step_eval], win_eval = evaluation()\n",
    "    \n",
    "    history.alpha_eval_path.append(env_eval.agent_dict['alpha'].path)\n",
    "    history.beta_eval_path.append(env_eval.agent_dict['beta'].path)\n",
    "    history.win_eval.append(win_eval)\n",
    "\n",
    "#     print('Episode {}\\tLast num step: {:.2f}\\tLast reward Alpha: {:.2f}\\t'\n",
    "#           'Last reward Beta: {:.2f}\\tInfo: {}\\tEval: {}'\n",
    "#           .format(i_episode, env.total_Tstep, env.agent_dict.alpha.total_reward,\n",
    "#                   env.agent_dict.beta.total_reward, info, win_eval))\n",
    "\n",
    "\n",
    "\n",
    "\n",
    "\n",
    "history.loss_train = []\n",
    "history.val_visited_list = []\n",
    "history.episode_rewards_eval_list = []\n",
    "\n",
    "history.episode_rewards_alpha = Agent_alpha.episode_rewards\n",
    "history.episode_rewards_beta = Agent_beta.episode_rewards\n",
    "history.episode_step = Agent_alpha.episode_step"
   ]
  },
  {
   "cell_type": "code",
   "execution_count": 437,
   "metadata": {},
   "outputs": [],
   "source": [
    "def plot_history(episode_history, title='Result', ylabel='Rewards', hline=None, y_upper=None, y_lower=None, window_size=100):\n",
    "    plt.figure()\n",
    "    plt.title(title)\n",
    "    plt.xlabel('episode')\n",
    "    plt.ylabel(ylabel)\n",
    "    \n",
    "    if hline is not None:\n",
    "        plt.axhline(y=hline, color='Red', linestyle='--')\n",
    "    if y_upper is not None and y_lower is not None:\n",
    "        plt.ylim([y_lower, y_upper])\n",
    "    \n",
    "    plt.plot(episode_history)\n",
    "    \n",
    "    moving_averages = moving_average(episode_history, window_size)\n",
    "    plt.plot(moving_averages)\n",
    "    \n",
    "    plt.show()"
   ]
  },
  {
   "cell_type": "code",
   "execution_count": 438,
   "metadata": {},
   "outputs": [
    {
     "data": {
      "image/png": "[encoded data removed]",
      "text/plain": [
       "<Figure size 432x288 with 1 Axes>"
      ]
     },
     "metadata": {
      "needs_background": "light"
     },
     "output_type": "display_data"
    },
    {
     "data": {
      "image/png": "[encoded data removed]",
      "text/plain": [
       "<Figure size 432x288 with 1 Axes>"
      ]
     },
     "metadata": {
      "needs_background": "light"
     },
     "output_type": "display_data"
    },
    {
     "data": {
      "image/png": "[encoded data removed]",
      "text/plain": [
       "<Figure size 432x288 with 1 Axes>"
      ]
     },
     "metadata": {
      "needs_background": "light"
     },
     "output_type": "display_data"
    },
    {
     "data": {
      "image/png": "[encoded data removed]",
      "text/plain": [
       "<Figure size 432x288 with 1 Axes>"
      ]
     },
     "metadata": {
      "needs_background": "light"
     },
     "output_type": "display_data"
    },
    {
     "data": {
      "image/png": "[encoded data removed]",
      "text/plain": [
       "<Figure size 432x288 with 1 Axes>"
      ]
     },
     "metadata": {
      "needs_background": "light"
     },
     "output_type": "display_data"
    },
    {
     "data": {
      "image/png": "[encoded data removed]",
      "text/plain": [
       "<Figure size 432x288 with 1 Axes>"
      ]
     },
     "metadata": {
      "needs_background": "light"
     },
     "output_type": "display_data"
    }
   ],
   "source": [
    "plot_history(Agent_alpha.episode_rewards, 'alpha episode_rewards', 'episode_rewards')\n",
    "plot_history(Agent_beta.episode_rewards, 'beta episode_rewards', 'episode_rewards')\n",
    "plot_history(Agent_alpha.episode_step, 'alpha episode_step', 'episode_step')\n",
    "plot_history(history.win_eval, 'eval_win_rate', 'eval_win_rate')\n",
    "\n",
    "env.render()\n",
    "env_eval.render()"
   ]
  },
  {
   "cell_type": "code",
   "execution_count": 446,
   "metadata": {},
   "outputs": [],
   "source": [
    "# history.alpha_eval_path\n",
    "# history.beta_eval_path"
   ]
  },
  {
   "cell_type": "code",
   "execution_count": 442,
   "metadata": {},
   "outputs": [
    {
     "name": "stdout",
     "output_type": "stream",
     "text": [
      "123\n",
      "10\n",
      "367\n"
     ]
    }
   ],
   "source": [
    "my_list = history.win_eval\n",
    "indices_0 = [i for i, x in enumerate(my_list) if x == 0]\n",
    "indices_05 = [i for i, x in enumerate(my_list) if x == 0.5]\n",
    "indices_1 = [i for i, x in enumerate(my_list) if x == 1]\n",
    "\n",
    "print(len(indices_0))   # 输出 [0]\n",
    "print(len(indices_05))  # 输出 [1]\n",
    "print(len(indices_1))   # 输出 [2]\n"
   ]
  },
  {
   "cell_type": "code",
   "execution_count": 462,
   "metadata": {},
   "outputs": [
    {
     "name": "stdout",
     "output_type": "stream",
     "text": [
      "105\n"
     ]
    }
   ],
   "source": [
    "index = indices_05[2]\n",
    "print(index)\n",
    "\n",
    "path1 = history.alpha_eval_path[index]\n",
    "path2 = history.beta_eval_path[index]"
   ]
  },
  {
   "cell_type": "code",
   "execution_count": 463,
   "metadata": {},
   "outputs": [
    {
     "data": {
      "image/png": "[encoded data removed]",
      "text/plain": [
       "<Figure size 288x288 with 1 Axes>"
      ]
     },
     "metadata": {
      "needs_background": "light"
     },
     "output_type": "display_data"
    },
    {
     "name": "stdout",
     "output_type": "stream",
     "text": [
      "path1 [(0, 0), (0, 1), (1, 1), (2, 1), (2, 2), (2, 3), (3, 3), (4, 3), (4, 4), (5, 4), (5, 5), (5, 6), (5, 7), (4, 7)]\n",
      "path2 [(7, 7), (6, 7), (5, 7), (4, 7), (4, 6), (4, 7), (4, 6), (4, 7), (4, 6), (4, 7), (4, 6), (4, 7), (4, 6), (4, 7)]\n"
     ]
    }
   ],
   "source": [
    "def visualize_path(maze, paths, colors):\n",
    "    maze_size = len(maze)\n",
    "    plt.figure(figsize=(maze_size/2, maze_size/2))\n",
    "\n",
    "    # Draw obstacles\n",
    "    for i in range(maze_size):\n",
    "        for j in range(maze_size):\n",
    "            if maze[i][j] == 0:\n",
    "                plt.fill_between([j-.5, j+1-.5], i-.5, i+1-.5, color='black')\n",
    "\n",
    "    # Draw the paths\n",
    "    for path_idx, path in enumerate(paths):\n",
    "        for index, position in enumerate(path[:-1]):\n",
    "            plt.plot([position[1], path[index + 1][1]], [position[0], path[index + 1][0]], color=colors[path_idx], linewidth=2)\n",
    "\n",
    "    plt.plot(0, 0, 'go', markersize=10, label='Alpha')  # start point\n",
    "    plt.plot(maze_size - 1, maze_size - 1, 'ro', markersize=10, label='Beta')  # goal point\n",
    "    plt.legend()\n",
    "    plt.xticks(range(maze_size))\n",
    "    plt.yticks(range(maze_size))\n",
    "    plt.grid(True)\n",
    "    plt.gca().invert_yaxis()\n",
    "    plt.show()\n",
    "\n",
    "visualize_path(maze, [path1, path2], ['blue', 'red'])\n",
    "print('path1', path1)\n",
    "print('path2', path2)"
   ]
  },
  {
   "cell_type": "code",
   "execution_count": 395,
   "metadata": {},
   "outputs": [
    {
     "data": {
      "image/png": "[encoded data removed]",
      "text/plain": [
       "<Figure size 288x288 with 1 Axes>"
      ]
     },
     "metadata": {
      "needs_background": "light"
     },
     "output_type": "display_data"
    }
   ],
   "source": [
    "def visualize_path(maze, paths, colors):\n",
    "    maze_size = len(maze)\n",
    "    plt.figure(figsize=(maze_size/2, maze_size/2))\n",
    "\n",
    "    # Draw obstacles\n",
    "    for i in range(maze_size):\n",
    "        for j in range(maze_size):\n",
    "            if maze[i][j] == 0:\n",
    "                plt.fill_between([j-.5, j+1-.5], i-.5, i+1-.5, color='black')\n",
    "\n",
    "    # Draw the paths\n",
    "    for path_idx, path in enumerate(paths):\n",
    "        for index, position in enumerate(path[:-1]):\n",
    "            next_position = path[index + 1]\n",
    "            if position == next_position:  # Check if the agent stays in place\n",
    "                plt.plot(position[1], position[0], 'o', color=colors[path_idx], markersize=4)\n",
    "            else:\n",
    "                plt.plot([position[1], next_position[1]], [position[0], next_position[0]], color=colors[path_idx], linewidth=2)\n",
    "\n",
    "    plt.plot(0, 0, 'go', markersize=10, label='Start')  # start point\n",
    "    plt.plot(maze_size - 1, maze_size - 1, 'ro', markersize=10, label='Goal')  # goal point\n",
    "    plt.legend()\n",
    "    plt.xticks(range(maze_size))\n",
    "    plt.yticks(range(maze_size))\n",
    "    plt.grid(True)\n",
    "    plt.gca().invert_yaxis()\n",
    "    plt.show()\n",
    "\n",
    "visualize_path(maze, [path1, path2], ['blue', 'red'])\n"
   ]
  },
  {
   "cell_type": "code",
   "execution_count": null,
   "metadata": {},
   "outputs": [],
   "source": []
  },
  {
   "cell_type": "code",
   "execution_count": null,
   "metadata": {},
   "outputs": [],
   "source": []
  },
  {
   "cell_type": "code",
   "execution_count": null,
   "metadata": {},
   "outputs": [],
   "source": [
    "from itertools import count\n",
    "\n",
    "steps_done = 0\n",
    "\n",
    "# 初始化环境\n",
    "env = Qmaze(maze, ob_size, max_Tstep=int(maze.size*0.5/0.04))\n",
    "# 重置环境获取信息\n",
    "state, info = env.reset()\n",
    "\n",
    "n_observations = state.size\n",
    "state = torch.Tensor(state).to(device)\n",
    "\n",
    "policy_net = DQN(n_observations, num_actions).to(device)\n",
    "target_net = DQN(n_observations, num_actions).to(device)\n",
    "target_net.load_state_dict(policy_net.state_dict())\n",
    "\n",
    "optimizer = optim.AdamW(policy_net.parameters(), lr=LR, amsgrad=True)\n",
    "memory = ReplayMemory(int(maze.size*0.5/0.04)*2)\n",
    "\n",
    "episode_rewards = []\n",
    "episode_step = []\n",
    "win_eval = []\n",
    "loss_train = []\n",
    "val_visited_list = []\n",
    "episode_rewards_eval_list = []\n",
    "\n",
    "for i_episode in trange(num_episodes):\n",
    "    # Initialize the environment and get it's state\n",
    "    state, info = env.reset()\n",
    "    # Cart Position, Cart Velocity, Pole Angle, Pole Angular Velocity\n",
    "    state = torch.tensor(state, dtype=torch.float32, device=device)\n",
    "\n",
    "    done = False\n",
    "    for t in count():\n",
    "        action = select_action(state)  # 选择一个动作\n",
    "        # random.choice(env.valid_actions())\n",
    "        observation, reward, done, _ = env.step(action.item())  # 执行动作，返回{下一个观察值、奖励、是否结束、是否提前终止}\n",
    "        reward = torch.tensor([reward], device=device)\n",
    "\n",
    "        if done:\n",
    "            next_state = None\n",
    "        else:\n",
    "            next_state = torch.tensor(observation, dtype=torch.float32, device=device)  # 如果没有终止则继续记录下一个状态\n",
    "\n",
    "        # Store the transition in memory\n",
    "        memory.push(state, action, next_state, reward)\n",
    "\n",
    "        # Move to the next state\n",
    "        state = next_state\n",
    "\n",
    "        # Perform one step of the optimization (on the policy network)\n",
    "        loss = optimize_model()\n",
    "        if loss is not None:\n",
    "            loss_train.append(loss)\n",
    "\n",
    "        # Soft update of the target network's weights\n",
    "        # θ′ ← τ θ + (1 −τ )θ′\n",
    "        target_net_state_dict = target_net.state_dict()\n",
    "        policy_net_state_dict = policy_net.state_dict()\n",
    "        \n",
    "        if sync_target_net_freq > 0:\n",
    "            if (steps_done % sync_target_net_freq) == 0:\n",
    "                target_net.load_state_dict(policy_net_state_dict)\n",
    "        else:\n",
    "            for key in policy_net_state_dict:\n",
    "                target_net_state_dict[key] = policy_net_state_dict[key]*TAU + target_net_state_dict[key]*(1-TAU)\n",
    "            target_net.load_state_dict(target_net_state_dict)\n",
    "        \n",
    "        if done:\n",
    "            break\n",
    "        \n",
    "#     plot_rewards(episode_rewards, False)\n",
    "    \n",
    "    episode_rewards_eval, win_rate, val_visited = evaluation()\n",
    "#     if win_rate == 1:\n",
    "#         break\n",
    "    \n",
    "    episode_rewards.append(env.total_reward)\n",
    "    episode_step.append(t)\n",
    "    win_eval.append(win_rate)\n",
    "    episode_rewards_eval_list.append(episode_rewards_eval)\n",
    "#     loss_train.append(acc_loss)\n",
    "    val_visited_list.append(val_visited)\n",
    "    history['episode_rewards'] = episode_rewards\n",
    "    history['episode_step'] = episode_step\n",
    "    history['win_eval'] = win_eval\n",
    "    history['loss_train'] = loss_train\n",
    "    history['val_visited_list'] = val_visited_list\n",
    "    history['episode_rewards_eval_list'] = val_visited_list\n",
    "    # 将字典保存成 txt 文件\n",
    "#     with open(folder_name+'/history.txt', 'w') as f:\n",
    "#         for key, value in history.items():\n",
    "#             f.write(f'{key}: {value}\\n')"
   ]
  },
  {
   "cell_type": "code",
   "execution_count": null,
   "metadata": {},
   "outputs": [],
   "source": [
    "np.max(episode_rewards)"
   ]
  },
  {
   "cell_type": "code",
   "execution_count": 25,
   "metadata": {
    "scrolled": true
   },
   "outputs": [
    {
     "data": {
      "image/png": "[encoded data removed]",
      "text/plain": [
       "<Figure size 432x288 with 1 Axes>"
      ]
     },
     "metadata": {
      "needs_background": "light"
     },
     "output_type": "display_data"
    },
    {
     "data": {
      "text/plain": [
       "<Figure size 432x288 with 0 Axes>"
      ]
     },
     "metadata": {},
     "output_type": "display_data"
    },
    {
     "data": {
      "text/plain": [
       "<Figure size 432x288 with 0 Axes>"
      ]
     },
     "metadata": {},
     "output_type": "display_data"
    }
   ],
   "source": [
    "plot_rewards(episode_rewards, True, 'Rewards', maze_size=16)"
   ]
  },
  {
   "cell_type": "code",
   "execution_count": 26,
   "metadata": {},
   "outputs": [
    {
     "data": {
      "image/png": "[encoded data removed]",
      "text/plain": [
       "<Figure size 432x288 with 1 Axes>"
      ]
     },
     "metadata": {
      "needs_background": "light"
     },
     "output_type": "display_data"
    },
    {
     "data": {
      "text/plain": [
       "<Figure size 432x288 with 0 Axes>"
      ]
     },
     "metadata": {},
     "output_type": "display_data"
    },
    {
     "data": {
      "text/plain": [
       "<Figure size 432x288 with 0 Axes>"
      ]
     },
     "metadata": {},
     "output_type": "display_data"
    }
   ],
   "source": [
    "plot_rewards(episode_step, True, 'Steps')"
   ]
  },
  {
   "cell_type": "code",
   "execution_count": 27,
   "metadata": {
    "scrolled": true
   },
   "outputs": [
    {
     "data": {
      "image/png": "[encoded data removed]",
      "text/plain": [
       "<Figure size 432x288 with 1 Axes>"
      ]
     },
     "metadata": {
      "needs_background": "light"
     },
     "output_type": "display_data"
    },
    {
     "data": {
      "text/plain": [
       "<Figure size 432x288 with 0 Axes>"
      ]
     },
     "metadata": {},
     "output_type": "display_data"
    },
    {
     "data": {
      "text/plain": [
       "<Figure size 432x288 with 0 Axes>"
      ]
     },
     "metadata": {},
     "output_type": "display_data"
    }
   ],
   "source": [
    "plot_rewards(win_eval, True, 'win_eval')"
   ]
  },
  {
   "cell_type": "code",
   "execution_count": 28,
   "metadata": {
    "scrolled": true
   },
   "outputs": [
    {
     "data": {
      "image/png": "[encoded data removed]",
      "text/plain": [
       "<Figure size 432x288 with 1 Axes>"
      ]
     },
     "metadata": {
      "needs_background": "light"
     },
     "output_type": "display_data"
    },
    {
     "data": {
      "text/plain": [
       "<Figure size 432x288 with 0 Axes>"
      ]
     },
     "metadata": {},
     "output_type": "display_data"
    },
    {
     "data": {
      "text/plain": [
       "<Figure size 432x288 with 0 Axes>"
      ]
     },
     "metadata": {},
     "output_type": "display_data"
    }
   ],
   "source": [
    "plot_rewards(loss_train, True, 'loss_train')"
   ]
  },
  {
   "cell_type": "code",
   "execution_count": 822,
   "metadata": {},
   "outputs": [],
   "source": [
    "# EPS_DECAY"
   ]
  },
  {
   "cell_type": "code",
   "execution_count": 823,
   "metadata": {},
   "outputs": [],
   "source": [
    "# ss = []\n",
    "# es = []\n",
    "# # EPS_DECAY = 50000\n",
    "# for i in range(len(loss_train)):\n",
    "#     sample = random.random()\n",
    "#     eps_threshold = EPS_END + (EPS_START - EPS_END) * \\\n",
    "#             math.exp(-1. * i / EPS_DECAY)\n",
    "#     # eps_threshold = 1.0 / (i + 1)\n",
    "#     ss.append(sample)\n",
    "#     es.append(eps_threshold)\n",
    "\n",
    "# exploit = 0\n",
    "# for i in range(1000):\n",
    "#     if ss[i] > es[i]:\n",
    "#         exploit += 1\n",
    "        \n",
    "# plt.scatter(list(range(len(ss))), ss, s=0.1)\n",
    "# plt.plot(es, c='r',linewidth=2)\n",
    "\n",
    "# print(exploit, exploit/1000)"
   ]
  },
  {
   "cell_type": "code",
   "execution_count": 824,
   "metadata": {},
   "outputs": [],
   "source": [
    "now = time.strftime(\"%m-%d_%H-%M-%S\", time.localtime())\n",
    "save_path = f\"runs/grid_16/{ENV_NAME}/\" + now"
   ]
  },
  {
   "cell_type": "code",
   "execution_count": 825,
   "metadata": {},
   "outputs": [],
   "source": [
    "os.makedirs(save_path, exist_ok=True)"
   ]
  },
  {
   "cell_type": "code",
   "execution_count": 826,
   "metadata": {},
   "outputs": [],
   "source": [
    "cfg = {\n",
    "    'visited_mark': visited_mark,\n",
    "    'end_mark': end_mark,\n",
    "    'rat_mark': rat_mark,\n",
    "    'LEFT': LEFT,\n",
    "    'UP': UP,\n",
    "    'RIGHT': RIGHT,\n",
    "    'DOWN': DOWN,\n",
    "    'actions_dict': actions_dict,\n",
    "    'num_actions': num_actions,\n",
    "    'maze_path': maze_path,\n",
    "    'ob_size': ob_size,\n",
    "    'ENV_NAME': ENV_NAME,\n",
    "    'BATCH_SIZE': BATCH_SIZE,\n",
    "    'GAMMA': GAMMA,\n",
    "    'EPS_START': EPS_START,\n",
    "    'EPS_END': EPS_END,\n",
    "    'EPS_DECAY': EPS_DECAY,\n",
    "    'TAU': TAU,\n",
    "    'LR': LR,\n",
    "    'num_episodes': num_episodes,\n",
    "    'max_Tstep': max_Tstep,\n",
    "    'sync_target_net_freq': sync_target_net_freq,\n",
    "    'R_GOAL': R_GOAL,\n",
    "    'R_WALL': R_WALL,\n",
    "    'R_MOVE': R_MOVE,\n",
    "    'R_Heuristic': R_Heuristic,\n",
    "}"
   ]
  },
  {
   "cell_type": "code",
   "execution_count": 827,
   "metadata": {},
   "outputs": [],
   "source": [
    "# 将字典保存成 txt 文件\n",
    "with open(save_path+'/config.txt', 'w') as f:\n",
    "    for key, value in cfg.items():\n",
    "        f.write(f'{key}: {value}\\n')"
   ]
  },
  {
   "cell_type": "code",
   "execution_count": 828,
   "metadata": {},
   "outputs": [],
   "source": [
    "# 将字典保存成 txt 文件\n",
    "with open(save_path+'/history.txt', 'w') as f:\n",
    "    for key, value in history.items():\n",
    "        f.write(f'{key}: {value}\\n')"
   ]
  },
  {
   "cell_type": "code",
   "execution_count": 829,
   "metadata": {},
   "outputs": [
    {
     "name": "stdout",
     "output_type": "stream",
     "text": [
      "{'visited_mark': 0.8, 'end_mark': 1.5, 'rat_mark': 0.5, 'LEFT': 0, 'UP': 1, 'RIGHT': 2, 'DOWN': 3, 'actions_dict': {0: 'left', 1: 'up', 2: 'right', 3: 'down'}, 'num_actions': 4, 'maze_path': 'games/GridWorld/maze16_0.05_1.txt', 'ob_size': 3, 'ENV_NAME': 'grid_games/GridWorld/maze16_0.05_1', 'BATCH_SIZE': 128, 'GAMMA': 0.99, 'EPS_START': 0.95, 'EPS_END': 0.05, 'EPS_DECAY': 20000, 'TAU': 0.005, 'LR': 0.001, 'num_episodes': 500, 'max_Tstep': 320000, 'sync_target_net_freq': 10000.0, 'R_GOAL': 50, 'R_WALL': -10, 'R_MOVE': 0, 'R_Heuristic': True}\n"
     ]
    }
   ],
   "source": [
    "print(cfg)"
   ]
  },
  {
   "cell_type": "code",
   "execution_count": null,
   "metadata": {},
   "outputs": [],
   "source": []
  },
  {
   "cell_type": "code",
   "execution_count": 830,
   "metadata": {},
   "outputs": [],
   "source": [
    "# def display_maze_and_path(maze, path):\n",
    "#     # Create a grid with obstacles, visited cells, rat and end positions\n",
    "#     grid_with_path = maze.copy()\n",
    "\n",
    "#     # Mark the visited cells and path positions\n",
    "#     for position in path:\n",
    "#         if grid_with_path[position] == 1:  # Check if it's a free cell\n",
    "#             grid_with_path[position] = visited_mark-0.3\n",
    "\n",
    "#     # Mark the start (rat) and end positions\n",
    "#     start, end = path[0], (7, 7)\n",
    "#     grid_with_path[start] = rat_mark\n",
    "#     grid_with_path[end] = end_mark\n",
    "#     print(grid_with_path)\n",
    "\n",
    "#     # Display the grid\n",
    "#     plt.imshow(grid_with_path, cmap=\"coolwarm\")\n",
    "#     plt.colorbar()\n",
    "#     plt.show()"
   ]
  },
  {
   "cell_type": "code",
   "execution_count": 831,
   "metadata": {},
   "outputs": [],
   "source": [
    "# def display_maze_and_path(maze, path):\n",
    "#     # Switch 0 and 1 in the maze\n",
    "# #     maze = 1 - maze\n",
    "    \n",
    "#     visited_mark = 0.6  # Cells visited by the rat will be painted by gray 0.6\n",
    "#     end_mark = 0.8\n",
    "#     rat_mark = 0.4      # The current rat cell will be painted by gray 0.4\n",
    "\n",
    "#     # Create a grid with obstacles, visited cells, rat and end positions\n",
    "#     grid_with_path = maze.copy()\n",
    "\n",
    "#     # Initialize a visits grid\n",
    "#     visits_grid = np.zeros(maze.shape, dtype=int)\n",
    "\n",
    "#     # Mark the visited cells and path positions\n",
    "#     for position in path:\n",
    "#         if grid_with_path[position] == 1:  # Check if it's a free cell\n",
    "#             visits_grid[position] += 1\n",
    "\n",
    "#     # Normalize the visits grid to a range between visited_mark and rat_mark\n",
    "#     print(visits_grid)\n",
    "#     visits_grid = (visits_grid / (visits_grid.max()/0.9))\n",
    "# #     print(visits_grid)\n",
    "\n",
    "#     # Overlay the visits grid on the maze\n",
    "# #     grid_with_path[np.where(visits_grid > visited_mark)] = visits_grid[np.where(visits_grid > visited_mark)]\n",
    "#     grid_with_path += visits_grid\n",
    "# #     print(grid_with_path)\n",
    "\n",
    "#     # Mark the start (rat) and end positions\n",
    "#     start, end = path[0], (15, 15)\n",
    "# #     grid_with_path[start] = 0.1\n",
    "#     grid_with_path[end] = 0.9\n",
    "# #     print(grid_with_path)\n",
    "\n",
    "#     # Display the grid\n",
    "#     plt.imshow(grid_with_path, cmap=\"gray\")  # coolwarm\n",
    "#     plt.colorbar()\n",
    "#     plt.show()"
   ]
  },
  {
   "cell_type": "code",
   "execution_count": 832,
   "metadata": {},
   "outputs": [],
   "source": [
    "def visualize_path(maze_size, path):\n",
    "    grid = np.zeros((maze_size, maze_size))\n",
    "    plt.figure(figsize=(maze_size/2, maze_size/2))\n",
    "\n",
    "    for index, position in enumerate(path[:-1]):\n",
    "        plt.plot([position[1], path[index + 1][1]], [position[0], path[index + 1][0]], color='blue', linewidth=2)\n",
    "\n",
    "    plt.plot(0, 0, 'go', markersize=10, label='Start')  # start point\n",
    "    plt.plot(maze_size - 1, maze_size - 1, 'ro', markersize=10, label='Goal')  # goal point\n",
    "    plt.legend()\n",
    "    plt.xticks(range(maze_size))\n",
    "    plt.yticks(range(maze_size))\n",
    "    plt.grid(True)\n",
    "    plt.gca().invert_yaxis()\n",
    "    plt.show()"
   ]
  },
  {
   "cell_type": "code",
   "execution_count": 833,
   "metadata": {},
   "outputs": [
    {
     "name": "stdout",
     "output_type": "stream",
     "text": [
      "[2, 4, 5, 6, 7, 8, 9, 10, 11, 12, 13, 14, 15, 16, 17, 18, 19, 20, 21, 22, 23, 24, 25, 26, 27, 28, 29, 30, 31, 32, 33, 34, 35, 36, 37, 38, 39, 40, 41, 42, 43, 44, 45, 46, 47, 48, 49, 50, 51, 52, 53, 54, 55, 56, 57, 58, 59, 60, 61, 62, 63, 64, 65, 66, 67, 68, 69, 71, 72, 73, 74, 75, 76, 77, 78, 79, 80, 81, 82, 83, 84, 85, 86, 87, 88, 89, 90, 91, 92, 93, 94, 95, 96, 97, 98, 99, 100, 101, 102, 103, 104, 105, 106, 107, 108, 109, 110, 111, 112, 113, 114, 115, 116, 117, 118, 119, 120, 121, 122, 123, 124, 125, 126, 127, 128, 129, 130, 131, 132, 133, 134, 135, 136, 137, 138, 139, 140, 141, 142, 143, 144, 145, 146, 147, 148, 149, 150, 151, 152, 153, 154, 155, 156, 157, 158, 159, 160, 161, 162, 163, 164, 165, 166, 167, 168, 169, 170, 171, 172, 173, 174, 175, 176, 177, 178, 179, 180, 181, 182, 183, 184, 185, 186, 187, 188, 189, 190, 191, 192, 193, 194, 195, 196, 197, 198, 199, 200, 201, 202, 203, 204, 205, 206, 207, 208, 209, 210, 211, 212, 213, 214, 215, 216, 217, 218, 219, 220, 221, 222, 223, 224, 225, 226, 227, 228, 229, 230, 231, 232, 233, 234, 235, 236, 237, 238, 239, 240, 241, 242, 243, 244, 245, 246, 247, 248, 249, 250, 251, 252, 253, 254, 255, 256, 257, 258, 259, 260, 261, 262, 263, 264, 265, 266, 267, 268, 269, 270, 271, 272, 273, 274, 275, 276, 277, 278, 279, 280, 281, 282, 283, 284, 285, 286, 287, 288, 289, 290, 291, 292, 293, 294, 295, 296, 297, 298, 299, 300, 301, 302, 303, 304, 305, 306, 307, 308, 309, 310, 311, 312, 313, 314, 315, 316, 317, 318, 319, 320, 321, 322, 323, 324, 325, 326, 327, 328, 329, 330, 331, 332, 333, 334, 335, 336, 337, 338, 339, 340, 341, 342, 343, 344, 345, 346, 347, 348, 349, 350, 351, 352, 353, 354, 355, 356, 357, 358, 359, 360, 361, 362, 363, 364, 365, 366, 367, 368, 369, 370, 371, 372, 373, 374, 375, 376, 377, 378, 379, 380, 381, 382, 383, 384, 385, 386, 387, 388, 389, 390, 391, 392, 393, 394, 395, 396, 397, 398, 399, 400, 401, 402, 403, 404, 405, 406, 407, 408, 409, 410, 411, 412, 413, 414, 415, 416, 417, 418, 419, 420, 421, 422, 423, 424, 425, 426, 427, 428, 429, 430, 431, 432, 433, 434, 435, 436, 437, 438, 439, 440, 441, 442, 443, 444, 445, 446, 447, 448, 449, 450, 451, 452, 453, 454, 455, 456, 457, 458, 459, 460, 461, 462, 463, 464, 465, 466, 467, 468, 469, 470, 471, 472, 473, 474, 475, 476, 477, 478, 479, 480, 481, 482, 483, 484, 485, 486, 487, 488, 489, 490, 491, 492, 493, 494, 495, 496, 497, 498, 499]\n"
     ]
    }
   ],
   "source": [
    "# Find the indices of all 1's in the data_list\n",
    "indices_of_ones = [i for i, value in enumerate(win_eval) if value == 1]\n",
    "\n",
    "print(indices_of_ones)"
   ]
  },
  {
   "cell_type": "code",
   "execution_count": 834,
   "metadata": {},
   "outputs": [
    {
     "name": "stdout",
     "output_type": "stream",
     "text": [
      "[]\n"
     ]
    }
   ],
   "source": [
    "# Find the indices of all 1's in the data_list\n",
    "indices_of_ones = [i for i, value in enumerate(win_eval) if value > 0 and value < 1]\n",
    "\n",
    "print(indices_of_ones)"
   ]
  },
  {
   "cell_type": "code",
   "execution_count": 848,
   "metadata": {},
   "outputs": [
    {
     "name": "stdout",
     "output_type": "stream",
     "text": [
      "[0, 1, 3, 70]\n"
     ]
    }
   ],
   "source": [
    "# Find the indices of all 1's in the data_list\n",
    "indices_of_ones = [i for i, value in enumerate(win_eval) if value == 0]\n",
    "\n",
    "print(indices_of_ones)"
   ]
  },
  {
   "cell_type": "code",
   "execution_count": 856,
   "metadata": {},
   "outputs": [
    {
     "name": "stdout",
     "output_type": "stream",
     "text": [
      "[(0, 0), (1, 0), (2, 0), (3, 0), (4, 0), (5, 0), (6, 0), (7, 0), (8, 0), (9, 0), (10, 0), (11, 0), (12, 0), (13, 0), (14, 0), (15, 0), (15, 1), (14, 1), (15, 1), (14, 1), (15, 1), (14, 1), (15, 1), (14, 1), (15, 1), (14, 1), (15, 1), (14, 1), (15, 1), (14, 1), (15, 1), (14, 1), (15, 1), (14, 1), (15, 1), (14, 1), (15, 1), (14, 1), (15, 1), (14, 1), (15, 1), (14, 1), (15, 1), (14, 1), (15, 1), (14, 1), (15, 1), (14, 1), (15, 1), (14, 1), (15, 1), (14, 1), (15, 1), (14, 1), (15, 1), (14, 1), (15, 1), (14, 1), (15, 1), (14, 1), (15, 1), (14, 1), (15, 1)]\n"
     ]
    }
   ],
   "source": [
    "path = history['val_visited_list'][70]\n",
    "print(path)"
   ]
  },
  {
   "cell_type": "code",
   "execution_count": 857,
   "metadata": {},
   "outputs": [],
   "source": [
    "def visualize_path(maze, path):\n",
    "    maze_size = len(maze)\n",
    "    plt.figure(figsize=(maze_size/2, maze_size/2))\n",
    "\n",
    "    # Draw obstacles\n",
    "    for i in range(maze_size):\n",
    "        for j in range(maze_size):\n",
    "            if maze[i][j] == 0:\n",
    "                plt.fill_between([j-.5, j+1-.5], i-.5, i+1-.5, color='black')\n",
    "\n",
    "    # Draw the path\n",
    "    for index, position in enumerate(path[:-1]):\n",
    "        plt.plot([position[1], path[index + 1][1]], [position[0], path[index + 1][0]], color='blue', linewidth=2)\n",
    "\n",
    "    plt.plot(0, 0, 'go', markersize=10, label='Start')  # start point\n",
    "    plt.plot(maze_size - 1, maze_size - 1, 'ro', markersize=10, label='Goal')  # goal point\n",
    "    plt.legend()\n",
    "    plt.xticks(range(maze_size))\n",
    "    plt.yticks(range(maze_size))\n",
    "    plt.grid(True)\n",
    "    plt.gca().invert_yaxis()\n",
    "    plt.show()\n"
   ]
  },
  {
   "cell_type": "code",
   "execution_count": 858,
   "metadata": {},
   "outputs": [
    {
     "name": "stdout",
     "output_type": "stream",
     "text": [
      "Steps: 63\n"
     ]
    },
    {
     "data": {
      "image/png": "[encoded data removed]",
      "text/plain": [
       "<Figure size 576x576 with 1 Axes>"
      ]
     },
     "metadata": {
      "needs_background": "light"
     },
     "output_type": "display_data"
    }
   ],
   "source": [
    "# maze_size = 8\n",
    "print(\"Steps:\", len(path))\n",
    "visualize_path(maze, path)"
   ]
  },
  {
   "cell_type": "code",
   "execution_count": 855,
   "metadata": {},
   "outputs": [
    {
     "data": {
      "text/plain": [
       "500"
      ]
     },
     "execution_count": 855,
     "metadata": {},
     "output_type": "execute_result"
    }
   ],
   "source": [
    "len(episode_rewards)"
   ]
  },
  {
   "cell_type": "code",
   "execution_count": 754,
   "metadata": {},
   "outputs": [
    {
     "name": "stdout",
     "output_type": "stream",
     "text": [
      "tensor([[0.0000, 0.0000, 0.0000, 0.0000, 0.5000, 1.0000, 0.0000, 1.0000, 1.0000]],\n",
      "       device='cuda:0')\n",
      "tensor([[0.0000, 1.0000, 1.0000, 0.0000, 0.5000, 1.0000, 0.0000, 1.0000, 1.0000]],\n",
      "       device='cuda:0')\n",
      "tensor([[1.0000, 1.0000, 1.0000, 1.0000, 0.5000, 1.0000, 1.0000, 1.0000, 1.0000]],\n",
      "       device='cuda:0')\n",
      "tensor([[1.0000, 1.0000, 1.0000, 1.0000, 0.5000, 1.0000, 1.0000, 1.0000, 1.0000]],\n",
      "       device='cuda:0')\n",
      "tensor([[1.0000, 1.0000, 1.0000, 1.0000, 0.5000, 1.0000, 1.0000, 1.0000, 1.0000]],\n",
      "       device='cuda:0')\n",
      "tensor([[1.0000, 1.0000, 1.0000, 1.0000, 0.5000, 1.0000, 1.0000, 1.0000, 1.0000]],\n",
      "       device='cuda:0')\n",
      "tensor([[1.0000, 1.0000, 1.0000, 1.0000, 0.5000, 1.0000, 1.0000, 1.0000, 1.0000]],\n",
      "       device='cuda:0')\n",
      "tensor([[1.0000, 1.0000, 1.0000, 1.0000, 0.5000, 1.0000, 1.0000, 1.0000, 1.0000]],\n",
      "       device='cuda:0')\n",
      "tensor([[1.0000, 1.0000, 1.0000, 1.0000, 0.5000, 1.0000, 1.0000, 1.0000, 1.0000]],\n",
      "       device='cuda:0')\n",
      "tensor([[1.0000, 1.0000, 1.0000, 1.0000, 0.5000, 1.0000, 1.0000, 1.0000, 1.0000]],\n",
      "       device='cuda:0')\n",
      "tensor([[1.0000, 1.0000, 1.0000, 1.0000, 0.5000, 1.0000, 1.0000, 1.0000, 1.0000]],\n",
      "       device='cuda:0')\n",
      "tensor([[1.0000, 1.0000, 1.0000, 1.0000, 0.5000, 1.0000, 1.0000, 1.0000, 1.0000]],\n",
      "       device='cuda:0')\n",
      "tensor([[1.0000, 1.0000, 1.0000, 1.0000, 0.5000, 1.0000, 1.0000, 1.0000, 1.0000]],\n",
      "       device='cuda:0')\n",
      "tensor([[1.0000, 1.0000, 1.0000, 1.0000, 0.5000, 1.0000, 1.0000, 1.0000, 1.0000]],\n",
      "       device='cuda:0')\n",
      "tensor([[1.0000, 1.0000, 1.0000, 1.0000, 0.5000, 1.0000, 1.0000, 1.0000, 1.0000]],\n",
      "       device='cuda:0')\n",
      "tensor([[1.0000, 1.0000, 1.0000, 1.0000, 0.5000, 1.0000, 1.0000, 1.0000, 1.0000]],\n",
      "       device='cuda:0')\n",
      "tensor([[1.0000, 1.0000, 0.0000, 1.0000, 0.5000, 0.0000, 1.0000, 1.0000, 0.0000]],\n",
      "       device='cuda:0')\n",
      "tensor([[1.0000, 1.0000, 0.0000, 1.0000, 0.5000, 0.0000, 1.0000, 1.0000, 0.0000]],\n",
      "       device='cuda:0')\n",
      "tensor([[1.0000, 1.0000, 0.0000, 1.0000, 0.5000, 0.0000, 1.0000, 1.0000, 0.0000]],\n",
      "       device='cuda:0')\n",
      "tensor([[1.0000, 1.0000, 0.0000, 1.0000, 0.5000, 0.0000, 1.0000, 1.0000, 0.0000]],\n",
      "       device='cuda:0')\n",
      "tensor([[1.0000, 1.0000, 0.0000, 1.0000, 0.5000, 0.0000, 1.0000, 1.0000, 0.0000]],\n",
      "       device='cuda:0')\n",
      "tensor([[1.0000, 1.0000, 0.0000, 1.0000, 0.5000, 0.0000, 1.0000, 1.0000, 0.0000]],\n",
      "       device='cuda:0')\n",
      "tensor([[1.0000, 1.0000, 0.0000, 1.0000, 0.5000, 0.0000, 1.0000, 1.0000, 0.0000]],\n",
      "       device='cuda:0')\n",
      "tensor([[1.0000, 1.0000, 0.0000, 1.0000, 0.5000, 0.0000, 1.0000, 1.0000, 0.0000]],\n",
      "       device='cuda:0')\n",
      "tensor([[1.0000, 1.0000, 0.0000, 1.0000, 0.5000, 0.0000, 1.0000, 1.0000, 0.0000]],\n",
      "       device='cuda:0')\n",
      "tensor([[1.0000, 1.0000, 0.0000, 1.0000, 0.5000, 0.0000, 1.0000, 1.0000, 0.0000]],\n",
      "       device='cuda:0')\n",
      "tensor([[1.0000, 1.0000, 0.0000, 1.0000, 0.5000, 0.0000, 1.0000, 1.0000, 0.0000]],\n",
      "       device='cuda:0')\n",
      "tensor([[1.0000, 1.0000, 0.0000, 1.0000, 0.5000, 0.0000, 1.0000, 1.0000, 0.0000]],\n",
      "       device='cuda:0')\n",
      "tensor([[1.0000, 1.0000, 0.0000, 1.0000, 0.5000, 0.0000, 1.0000, 1.0000, 0.0000]],\n",
      "       device='cuda:0')\n",
      "tensor([[1.0000, 1.0000, 0.0000, 1.0000, 0.5000, 0.0000, 1.0000, 1.5000, 0.0000]],\n",
      "       device='cuda:0')\n"
     ]
    }
   ],
   "source": [
    "# Initialize the environment and get it's state\n",
    "state, info = env.reset()\n",
    "# Cart Position, Cart Velocity, Pole Angle, Pole Angular Velocity\n",
    "state = torch.tensor(state, dtype=torch.float32, device=device)\n",
    "\n",
    "done = False\n",
    "while not done:\n",
    "    print(state)\n",
    "    action = policy_net(state).max(1)[1].view(1, 1)  # 选择一个动作\n",
    "    # random.choice(env.valid_actions())\n",
    "    observation, reward, done, _ = env.step(action.item())  # 执行动作，返回{下一个观察值、奖励、是否结束、是否提前终止}\n",
    "    # reward = torch.tensor([reward], device=device)\n",
    "\n",
    "    if done:\n",
    "        next_state = None\n",
    "    else:\n",
    "        next_state = torch.tensor(observation, dtype=torch.float32, device=device)  # 如果没有终止则继续记录下一个状态\n",
    "\n",
    "    # Store the transition in memory\n",
    "    # memory.push(state, action, next_state, reward)\n",
    "\n",
    "    # Move to the next state\n",
    "    state = next_state\n",
    "    "
   ]
  },
  {
   "cell_type": "code",
   "execution_count": 753,
   "metadata": {},
   "outputs": [
    {
     "name": "stdout",
     "output_type": "stream",
     "text": [
      "[(0, 0), (1, 0), (1, 1), (1, 2), (1, 3), (1, 4), (1, 5), (1, 6), (1, 7), (1, 8), (1, 9), (1, 10), (1, 11), (1, 12), (1, 13), (1, 14), (1, 15), (2, 15), (3, 15), (4, 15), (5, 15), (6, 15), (7, 15), (8, 15), (9, 15), (10, 15), (11, 15), (12, 15), (13, 15), (14, 15), (15, 15), (15, 15)]\n",
      "50\n"
     ]
    },
    {
     "data": {
      "image/png": "[encoded data removed]",
      "text/plain": [
       "<Figure size 432x288 with 1 Axes>"
      ]
     },
     "metadata": {
      "needs_background": "light"
     },
     "output_type": "display_data"
    }
   ],
   "source": [
    "show(env)\n",
    "print(env.visited)\n",
    "print(env.total_reward)"
   ]
  },
  {
   "cell_type": "code",
   "execution_count": 757,
   "metadata": {},
   "outputs": [
    {
     "data": {
      "text/plain": [
       "DQN(\n",
       "  (layer1): Linear(in_features=9, out_features=128, bias=True)\n",
       "  (relu1): ReLU()\n",
       "  (layer2): Linear(in_features=128, out_features=128, bias=True)\n",
       "  (relu2): ReLU()\n",
       "  (output_layer): Linear(in_features=128, out_features=4, bias=True)\n",
       ")"
      ]
     },
     "execution_count": 757,
     "metadata": {},
     "output_type": "execute_result"
    }
   ],
   "source": [
    "policy_net.cpu()"
   ]
  },
  {
   "cell_type": "code",
   "execution_count": null,
   "metadata": {},
   "outputs": [],
   "source": [
    "# Actions dictionary\n",
    "actions_dict = {\n",
    "    LEFT: 'left',  # 0\n",
    "    UP: 'up',      # 1\n",
    "    RIGHT: 'right',# 2\n",
    "    DOWN: 'down',  # 3\n",
    "}"
   ]
  },
  {
   "cell_type": "code",
   "execution_count": 778,
   "metadata": {},
   "outputs": [
    {
     "data": {
      "text/plain": [
       "tensor([[3]])"
      ]
     },
     "execution_count": 778,
     "metadata": {},
     "output_type": "execute_result"
    }
   ],
   "source": [
    "# step 0\n",
    "step_0_state = torch.Tensor([[0, 0, 0, 0, 0.5, 1, 0, 1, 1]])\n",
    "policy_net(step_0_state).max(1)[1].view(1, 1)"
   ]
  },
  {
   "cell_type": "code",
   "execution_count": 779,
   "metadata": {},
   "outputs": [
    {
     "data": {
      "text/plain": [
       "tensor([[2]])"
      ]
     },
     "execution_count": 779,
     "metadata": {},
     "output_type": "execute_result"
    }
   ],
   "source": [
    "# step 1\n",
    "step_1_state = torch.Tensor([[0, 1, 1, 0, 0.5, 1, 0, 1, 1]])\n",
    "policy_net(step_1_state).max(1)[1].view(1, 1)"
   ]
  },
  {
   "cell_type": "code",
   "execution_count": 788,
   "metadata": {},
   "outputs": [
    {
     "data": {
      "text/plain": [
       "tensor([[3]])"
      ]
     },
     "execution_count": 788,
     "metadata": {},
     "output_type": "execute_result"
    }
   ],
   "source": [
    "# step 2\n",
    "step_2_state = torch.Tensor([[1, 1, 1, 1, 0.5, 1, 1, 1, 1]])\n",
    "policy_net(step_1_state).max(1)[1].view(1, 1)"
   ]
  },
  {
   "cell_type": "code",
   "execution_count": 780,
   "metadata": {},
   "outputs": [
    {
     "data": {
      "text/plain": [
       "tensor([[3]])"
      ]
     },
     "execution_count": 780,
     "metadata": {},
     "output_type": "execute_result"
    }
   ],
   "source": [
    "# step 16\n",
    "step_16_state = torch.Tensor([[1, 1, 0, 1, 0.5, 0, 1, 1, 0]])\n",
    "policy_net(step_16_state).max(1)[1].view(1, 1)"
   ]
  },
  {
   "cell_type": "code",
   "execution_count": 781,
   "metadata": {},
   "outputs": [
    {
     "data": {
      "text/plain": [
       "tensor([[3]])"
      ]
     },
     "execution_count": 781,
     "metadata": {},
     "output_type": "execute_result"
    }
   ],
   "source": [
    "# step 29\n",
    "step_29_state = torch.Tensor([[1, 1, 0, 1, 0.5, 0, 1, 1.5, 0]])\n",
    "policy_net(step_29_state).max(1)[1].view(1, 1)"
   ]
  },
  {
   "cell_type": "code",
   "execution_count": 797,
   "metadata": {},
   "outputs": [
    {
     "data": {
      "text/plain": [
       "<matplotlib.image.AxesImage at 0x7f092b8f6590>"
      ]
     },
     "execution_count": 797,
     "metadata": {},
     "output_type": "execute_result"
    },
    {
     "data": {
      "image/png": "[encoded data removed]",
      "text/plain": [
       "<Figure size 432x288 with 1 Axes>"
      ]
     },
     "metadata": {
      "needs_background": "light"
     },
     "output_type": "display_data"
    }
   ],
   "source": [
    "step_29_state = torch.Tensor([[1, 1, 0, 1, 0.5, 0, 1, 0.8, 0]])\n",
    "state = step_29_state.reshape((3, 3))\n",
    "plt.imshow(state, cmap='gray')"
   ]
  },
  {
   "cell_type": "code",
   "execution_count": null,
   "metadata": {},
   "outputs": [],
   "source": [
    "# history['test_route'] = env.visited\n",
    "# history['test_total_reward'] = env.total_reward\n",
    "\n",
    "# # 将字典保存成 txt 文件\n",
    "# with open(folder_name+'/history.txt', 'w') as f:\n",
    "#     for key, value in history.items():\n",
    "#         f.write(f'{key}: {value}\\n')\n",
    "\n",
    "# torch.save(policy_net.state_dict(), folder_name+'/my_model_weights.pth')"
   ]
  },
  {
   "cell_type": "code",
   "execution_count": null,
   "metadata": {},
   "outputs": [],
   "source": [
    "# env.total_Tstep"
   ]
  },
  {
   "cell_type": "code",
   "execution_count": null,
   "metadata": {},
   "outputs": [],
   "source": [
    "# ! jupyter nbconvert --to python GridWorld_report.ipynb"
   ]
  },
  {
   "cell_type": "code",
   "execution_count": 37,
   "metadata": {},
   "outputs": [
    {
     "name": "stdout",
     "output_type": "stream",
     "text": [
      "Path: [(0, 0), (0, 0), (0, 1), (0, 1), (0, 0), (0, 0), (0, 1), (0, 0), (0, 1), (1, 1), (1, 2), (1, 1), (1, 2), (1, 1), (1, 2), (2, 2), (1, 2), (2, 2), (3, 2), (3, 3), (2, 3), (3, 3), (4, 3), (5, 3), (5, 2), (5, 1), (5, 2), (6, 2), (6, 1), (7, 1), (7, 0), (7, 0), (7, 1), (6, 1), (6, 0), (6, 0), (5, 0), (5, 0), (5, 0), (4, 0), (4, 1), (5, 1), (4, 1), (4, 0), (3, 0), (4, 0), (4, 1), (4, 0), (3, 0), (3, 1), (3, 2), (2, 2), (3, 2), (3, 3), (3, 4), (3, 3), (4, 3), (5, 3), (5, 2), (6, 2), (5, 2), (4, 2), (5, 2), (5, 1), (4, 1), (3, 1), (4, 1), (4, 0), (4, 1), (3, 1), (3, 2), (4, 2), (5, 2), (5, 3), (5, 4), (5, 3), (6, 3), (6, 2), (6, 1), (7, 1), (7, 0), (6, 0), (5, 0), (6, 0), (5, 0), (4, 0), (5, 0), (6, 0), (7, 0), (7, 0), (8, 0), (9, 0), (9, 1), (9, 2), (9, 1), (9, 0), (10, 0), (10, 1), (10, 2), (9, 2), (9, 3), (9, 4), (9, 3), (8, 3), (8, 4), (9, 4), (10, 4), (10, 3), (10, 4), (11, 4), (12, 4), (11, 4), (11, 3), (11, 4), (12, 4), (12, 3), (13, 3), (14, 3), (14, 4), (15, 4), (14, 4), (14, 3), (14, 2), (14, 1), (14, 2), (13, 2), (13, 1), (14, 1), (14, 2), (14, 1), (13, 1), (13, 2), (14, 2), (14, 3), (15, 3), (14, 3), (13, 3), (13, 2), (12, 2), (12, 1), (13, 1), (14, 1), (14, 0), (14, 1), (14, 2), (13, 2), (13, 3), (13, 2), (12, 2), (12, 3), (11, 3), (12, 3), (13, 3), (14, 3), (13, 3), (12, 3), (11, 3), (10, 3), (10, 4), (10, 3), (9, 3), (8, 3), (8, 4), (8, 5), (8, 4), (8, 5), (9, 5), (9, 4), (10, 4), (10, 3), (10, 2), (10, 3), (10, 2), (10, 1), (10, 0), (10, 0), (11, 0), (11, 1), (10, 1), (10, 0), (10, 1), (10, 0), (10, 0), (10, 0), (11, 0), (11, 0), (12, 0), (13, 0), (14, 0), (15, 0), (15, 0), (15, 1), (14, 1), (14, 2), (15, 2), (15, 2), (15, 3), (15, 3), (14, 3), (13, 3), (12, 3), (13, 3), (14, 3), (15, 3), (15, 4), (14, 4), (14, 3), (14, 4), (14, 5), (14, 6), (14, 7), (14, 8), (14, 7), (13, 7), (13, 8), (12, 8), (12, 9), (12, 10), (11, 10), (10, 10), (9, 10), (9, 9), (9, 8), (10, 8), (10, 7), (11, 7), (12, 7), (13, 7), (13, 6), (13, 7), (12, 7), (13, 7), (12, 7), (13, 7), (13, 8), (13, 7), (12, 7), (11, 7), (11, 6), (11, 5), (11, 4), (12, 4), (11, 4), (11, 5), (10, 5), (10, 6), (11, 6), (11, 5), (11, 4), (11, 3), (12, 3), (12, 4), (11, 4), (11, 5), (11, 4), (12, 4), (13, 4), (13, 5), (13, 4), (13, 3), (13, 4), (12, 4), (11, 4), (10, 4), (10, 3), (10, 2), (9, 2), (8, 2), (9, 2), (9, 1), (10, 1), (10, 0), (10, 0), (10, 1), (10, 2), (10, 1), (10, 2), (11, 2), (12, 2), (12, 1), (12, 0), (12, 1), (13, 1), (12, 1), (11, 1), (10, 1), (9, 1), (9, 0), (9, 1), (8, 1), (8, 0), (8, 0), (9, 0), (9, 1), (10, 1), (10, 0), (11, 0), (12, 0), (12, 1), (11, 1), (12, 1), (13, 1), (13, 2), (14, 2), (15, 2), (14, 2), (13, 2), (13, 1), (13, 0), (13, 0), (12, 0), (12, 1), (11, 1), (10, 1), (10, 0), (10, 0), (10, 1), (10, 2), (11, 2), (12, 2), (11, 2), (11, 3), (11, 4), (10, 4), (10, 5), (9, 5), (9, 6), (9, 7), (9, 8), (9, 7), (9, 6), (9, 7), (8, 7), (7, 7), (7, 6), (8, 6), (9, 6), (10, 6), (10, 5), (10, 4), (10, 3), (9, 3), (9, 2), (8, 2), (8, 1), (8, 0), (9, 0), (9, 1), (9, 2), (8, 2), (8, 1), (7, 1), (8, 1), (8, 2), (9, 2), (9, 1), (9, 2), (9, 1), (8, 1), (9, 1), (10, 1), (10, 0), (10, 0), (10, 1), (11, 1), (11, 0), (12, 0), (12, 1), (13, 1), (13, 2), (12, 2), (12, 3), (11, 3), (11, 4), (12, 4), (12, 5), (12, 4), (11, 4), (10, 4), (11, 4), (11, 3), (11, 4), (11, 3), (11, 4), (12, 4), (13, 4), (12, 4), (12, 3), (13, 3), (14, 3), (13, 3), (13, 4), (13, 3), (13, 2), (12, 2), (11, 2), (10, 2), (9, 2), (8, 2), (7, 2), (8, 2), (8, 3), (7, 3), (7, 2), (7, 3), (6, 3), (6, 2), (5, 2), (4, 2), (4, 1), (3, 1), (4, 1), (4, 2), (4, 3), (4, 2), (4, 1), (4, 0), (5, 0), (5, 1), (5, 0), (5, 0), (5, 1), (6, 1), (6, 0), (5, 0), (6, 0), (7, 0), (8, 0), (8, 0), (8, 0), (7, 0), (8, 0), (8, 0), (8, 0), (7, 0), (6, 0), (6, 0), (5, 0), (5, 1), (5, 2), (5, 1), (4, 1), (4, 2), (5, 2), (6, 2), (7, 2), (7, 3), (6, 3), (6, 4), (6, 3), (5, 3), (5, 4), (4, 4), (3, 4), (3, 3), (4, 3), (4, 2), (4, 1), (5, 1), (5, 0), (4, 0), (4, 1), (3, 1), (3, 2), (4, 2), (4, 3), (4, 2), (3, 2), (2, 2), (3, 2), (2, 2), (2, 1), (2, 2), (1, 2), (1, 3), (1, 4), (1, 3), (1, 2), (2, 2), (2, 3), (2, 2), (2, 3), (2, 4), (1, 4), (0, 4), (0, 4), (1, 4), (2, 4), (3, 4), (2, 4), (1, 4), (2, 4), (2, 5), (3, 5), (3, 4), (3, 3), (3, 4), (3, 3), (3, 4), (2, 4), (3, 4), (3, 3), (3, 4), (3, 5), (3, 4), (2, 4), (2, 3), (1, 3), (2, 3), (1, 3), (0, 3), (0, 3), (0, 4), (0, 4), (0, 3), (1, 3), (1, 2), (1, 3), (1, 4), (1, 3), (1, 2), (1, 1), (1, 0), (0, 0), (0, 1), (0, 2), (0, 2), (0, 3), (1, 3), (2, 3), (1, 3), (1, 4), (1, 5), (2, 5), (1, 5), (2, 5), (2, 6), (3, 6), (2, 6), (1, 6), (1, 5), (2, 5), (2, 6), (1, 6), (0, 6), (1, 6), (1, 7), (0, 7), (0, 7), (0, 7), (0, 7), (1, 7), (2, 7), (3, 7), (2, 7), (2, 6), (3, 6), (3, 5), (3, 4), (3, 3), (3, 2), (2, 2), (3, 2), (3, 3), (4, 3), (4, 2), (5, 2), (5, 3), (6, 3), (6, 2), (6, 3), (5, 3), (6, 3), (6, 4), (7, 4), (7, 5), (7, 6), (7, 5), (7, 6), (8, 6), (8, 7), (8, 8), (9, 8), (9, 7), (9, 6), (10, 6), (10, 7), (11, 7), (12, 7), (11, 7), (11, 6), (12, 6), (11, 6), (11, 5), (11, 4), (10, 4), (10, 3), (10, 2), (10, 3), (11, 3), (10, 3), (11, 3), (11, 2), (10, 2), (10, 1), (9, 1), (9, 2), (9, 1), (9, 2), (10, 2), (10, 3), (10, 2), (11, 2), (11, 1), (10, 1), (10, 2), (9, 2), (10, 2), (10, 3), (9, 3), (8, 3), (7, 3), (6, 3), (7, 3), (7, 4), (6, 4), (6, 3), (6, 4), (5, 4), (5, 5), (5, 6), (4, 6), (4, 5), (4, 6), (4, 5), (3, 5), (3, 4), (3, 3), (3, 4), (4, 4), (4, 5), (4, 4), (5, 4), (4, 4), (3, 4), (3, 3), (3, 4), (2, 4), (2, 5), (2, 6), (2, 7), (2, 6), (1, 6), (1, 5), (1, 4), (0, 4), (0, 3), (0, 2), (0, 2), (1, 2), (1, 3), (2, 3), (2, 2), (2, 1), (3, 1), (4, 1), (4, 2), (4, 1), (4, 2), (4, 1), (4, 0), (4, 1), (4, 0), (5, 0), (4, 0), (4, 0), (4, 1), (4, 0), (4, 0), (4, 0), (4, 1), (5, 1), (5, 2), (5, 1), (6, 1), (7, 1), (7, 0), (7, 1), (7, 0), (6, 0), (7, 0), (7, 0), (7, 0), (8, 0), (8, 0), (8, 0), (8, 0), (9, 0), (9, 1), (10, 1), (11, 1), (11, 0), (12, 0), (12, 1), (12, 0), (12, 0), (12, 0), (12, 1), (12, 2), (13, 2), (12, 2), (12, 1), (12, 0), (13, 0), (13, 0), (13, 0), (14, 0), (13, 0), (13, 0), (14, 0), (15, 0), (15, 0), (15, 0), (15, 0), (15, 0), (15, 0), (14, 0), (14, 0), (14, 1), (14, 0), (14, 0), (13, 0), (13, 1), (12, 1), (13, 1), (12, 1), (12, 0), (12, 0), (13, 0), (13, 1), (13, 0), (13, 0), (13, 1), (14, 1), (15, 1), (15, 2), (15, 3), (15, 4), (15, 5), (15, 5), (15, 4), (15, 5), (15, 5), (15, 4), (15, 5), (15, 4), (14, 4), (14, 3), (14, 4), (15, 4), (15, 5), (15, 5), (15, 6), (15, 6), (15, 7), (15, 7), (14, 7), (14, 6), (14, 7), (13, 7), (13, 8), (13, 9), (14, 9), (14, 10), (14, 9), (14, 10), (13, 10), (13, 11), (12, 11), (12, 10), (11, 10), (11, 9), (11, 10), (10, 10), (10, 11), (11, 11), (10, 11), (9, 11), (9, 10), (10, 10), (9, 10), (9, 9), (9, 10), (9, 11), (8, 11), (7, 11), (6, 11), (6, 12), (7, 12), (6, 12), (7, 12), (7, 13), (6, 13), (7, 13), (7, 14), (7, 13), (8, 13), (7, 13), (6, 13), (5, 13), (6, 13), (7, 13), (7, 12), (7, 13), (7, 14), (7, 13), (8, 13), (8, 12), (8, 13), (7, 13), (8, 13), (7, 13), (7, 12), (8, 12), (7, 12), (8, 12), (9, 12), (10, 12), (9, 12), (9, 13), (9, 14), (9, 13), (10, 13), (9, 13), (10, 13), (10, 14), (10, 15), (10, 14), (9, 14), (8, 14), (8, 15), (7, 15), (7, 15), (8, 15), (9, 15), (8, 15), (8, 15), (9, 15), (8, 15), (7, 15), (6, 15), (5, 15), (5, 14), (5, 15), (6, 15), (5, 15), (6, 15), (6, 14), (7, 14), (6, 14), (5, 14), (5, 15), (5, 15), (4, 15), (4, 15), (4, 14), (4, 15), (4, 15), (5, 15), (4, 15), (4, 15), (5, 15), (5, 15), (6, 15), (5, 15), (6, 15), (5, 15), (6, 15), (6, 14), (6, 13), (5, 13), (6, 13), (6, 12), (5, 12), (5, 13), (6, 13), (6, 14), (6, 15), (7, 15), (8, 15), (8, 14), (8, 13), (8, 14), (8, 15), (7, 15), (6, 15), (7, 15), (7, 14), (7, 13), (7, 14), (7, 13), (7, 12), (6, 12), (5, 12), (5, 11), (5, 10), (4, 10), (4, 11), (3, 11), (3, 10), (3, 9), (2, 9), (2, 10), (1, 10), (0, 10), (0, 9), (1, 9), (0, 9), (0, 8), (0, 7), (0, 6), (0, 5), (0, 4), (0, 3), (0, 4), (0, 3), (0, 3), (0, 2), (0, 1), (1, 1), (1, 0), (1, 0), (1, 1), (1, 2), (0, 2), (0, 1), (0, 0), (0, 0), (0, 1), (0, 0), (0, 0), (0, 1), (0, 2), (0, 1), (1, 1), (1, 0), (1, 0), (0, 0), (0, 0), (1, 0), (1, 1), (1, 0), (1, 1), (0, 1), (0, 1), (1, 1), (0, 1), (1, 1), (1, 0), (0, 0), (0, 1), (1, 1), (2, 1), (3, 1), (4, 1), (4, 0), (4, 0), (4, 1), (3, 1), (4, 1), (4, 2), (4, 3), (5, 3), (5, 2), (5, 1), (6, 1), (7, 1), (7, 0), (6, 0), (5, 0), (4, 0), (4, 0), (5, 0), (5, 1), (4, 1), (4, 2), (4, 3), (4, 2), (4, 1), (4, 2), (4, 1), (4, 0), (5, 0), (6, 0), (5, 0), (5, 0), (4, 0), (3, 0), (4, 0), (5, 0), (5, 1), (5, 2), (4, 2), (5, 2), (4, 2), (5, 2), (4, 2), (4, 3), (5, 3), (6, 3), (7, 3), (7, 2), (7, 1), (8, 1), (7, 1), (8, 1), (8, 2), (8, 1), (8, 0), (9, 0), (9, 0), (9, 1), (10, 1), (11, 1), (10, 1), (11, 1), (11, 2), (11, 1), (10, 1), (11, 1), (11, 0), (11, 0), (11, 0), (11, 0), (10, 0), (10, 1), (10, 2), (10, 1), (10, 2), (9, 2), (8, 2), (8, 1), (9, 1), (8, 1), (9, 1), (10, 1), (10, 2), (9, 2), (8, 2), (7, 2), (7, 1), (6, 1), (7, 1), (8, 1), (7, 1), (7, 0), (7, 1), (7, 0), (7, 0), (7, 1), (7, 2), (7, 1), (6, 1), (6, 2), (7, 2), (7, 1), (7, 2), (7, 1), (7, 2), (6, 2), (7, 2), (7, 3), (6, 3), (6, 2), (6, 3), (6, 4), (6, 5), (7, 5), (7, 4), (8, 4), (9, 4), (9, 5), (10, 5), (9, 5), (10, 5), (10, 6), (11, 6), (12, 6), (13, 6), (14, 6), (15, 6), (15, 6), (15, 6), (15, 5), (15, 6), (15, 6), (15, 6), (15, 6), (15, 5), (14, 5), (13, 5), (13, 6), (13, 5), (12, 5), (11, 5), (11, 6), (10, 6), (10, 7), (10, 8), (11, 8), (10, 8), (9, 8), (9, 7), (9, 6), (10, 6), (10, 7), (9, 7), (8, 7), (9, 7), (9, 6), (10, 6), (10, 7), (10, 6), (11, 6), (11, 7), (12, 7), (12, 6), (11, 6), (12, 6), (12, 7), (13, 7), (14, 7), (13, 7), (13, 6), (14, 6), (13, 6), (13, 7), (14, 7), (14, 6), (13, 6), (13, 5), (13, 4), (13, 5), (13, 6), (13, 7), (13, 8), (13, 7), (13, 8), (12, 8), (12, 7), (11, 7), (11, 6), (10, 6), (10, 7), (10, 6), (10, 5), (10, 4), (10, 3), (10, 4), (10, 5), (10, 4), (9, 4), (10, 4), (10, 3), (11, 3), (10, 3), (9, 3), (9, 4), (10, 4), (10, 3), (11, 3), (12, 3), (13, 3), (12, 3), (12, 2), (11, 2), (10, 2), (10, 3), (9, 3), (9, 4), (10, 4), (10, 5), (10, 6), (11, 6), (11, 7), (11, 8), (11, 9), (12, 9), (12, 10), (11, 10), (11, 9), (12, 9), (12, 10), (11, 10), (12, 10), (13, 10), (14, 10), (14, 9), (15, 9), (15, 9), (14, 9), (14, 8), (13, 8), (13, 9), (14, 9), (13, 9), (12, 9), (12, 10), (12, 11), (13, 11), (13, 10), (13, 9), (13, 8), (13, 9), (13, 10), (12, 10), (12, 9), (12, 10), (13, 10), (13, 11), (13, 10), (13, 11), (13, 12), (14, 12), (14, 13), (15, 13), (15, 13), (15, 12), (14, 12), (15, 12), (15, 12), (15, 13), (15, 14), (15, 15)]\n",
      "Steps: 1233\n"
     ]
    }
   ],
   "source": [
    "import numpy as np\n",
    "import random\n",
    "\n",
    "def random_move(position, maze_size):\n",
    "    move = random.choice(['up', 'down', 'left', 'right'])\n",
    "    new_position = position\n",
    "\n",
    "    if move == 'up' and position[0] > 0:\n",
    "        new_position = (position[0] - 1, position[1])\n",
    "    elif move == 'down' and position[0] < maze_size - 1:\n",
    "        new_position = (position[0] + 1, position[1])\n",
    "    elif move == 'left' and position[1] > 0:\n",
    "        new_position = (position[0], position[1] - 1)\n",
    "    elif move == 'right' and position[1] < maze_size - 1:\n",
    "        new_position = (position[0], position[1] + 1)\n",
    "\n",
    "    return new_position\n",
    "\n",
    "def random_explore(maze_size):\n",
    "    start = (0, 0)\n",
    "    goal = (maze_size - 1, maze_size - 1)\n",
    "    position = start\n",
    "    path = [start]\n",
    "    steps = 0\n",
    "\n",
    "    while position != goal:\n",
    "        position = random_move(position, maze_size)\n",
    "        path.append(position)\n",
    "        steps += 1\n",
    "\n",
    "    return path, steps\n",
    "\n",
    "maze_size = 16\n",
    "path, steps = random_explore(maze_size)\n",
    "print(\"Path:\", path)\n",
    "print(\"Steps:\", steps)\n"
   ]
  },
  {
   "cell_type": "code",
   "execution_count": 664,
   "metadata": {
    "scrolled": true
   },
   "outputs": [
    {
     "name": "stdout",
     "output_type": "stream",
     "text": [
      "Steps: 546\n"
     ]
    },
    {
     "data": {
      "image/png": "[encoded data removed]",
      "text/plain": [
       "<Figure size 576x576 with 1 Axes>"
      ]
     },
     "metadata": {
      "needs_background": "light"
     },
     "output_type": "display_data"
    }
   ],
   "source": [
    "import numpy as np\n",
    "import random\n",
    "import matplotlib.pyplot as plt\n",
    "\n",
    "def random_move(position, maze_size):\n",
    "    move = random.choice(['up', 'down', 'left', 'right'])\n",
    "    new_position = position\n",
    "\n",
    "    if move == 'up' and position[0] > 0:\n",
    "        new_position = (position[0] - 1, position[1])\n",
    "    elif move == 'down' and position[0] < maze_size - 1:\n",
    "        new_position = (position[0] + 1, position[1])\n",
    "    elif move == 'left' and position[1] > 0:\n",
    "        new_position = (position[0], position[1] - 1)\n",
    "    elif move == 'right' and position[1] < maze_size - 1:\n",
    "        new_position = (position[0], position[1] + 1)\n",
    "\n",
    "    return new_position\n",
    "\n",
    "def random_explore(maze_size):\n",
    "    start = (0, 0)\n",
    "    goal = (maze_size - 1, maze_size - 1)\n",
    "    position = start\n",
    "    path = [start]\n",
    "    steps = 0\n",
    "\n",
    "    while position != goal:\n",
    "        position = random_move(position, maze_size)\n",
    "        path.append(position)\n",
    "        steps += 1\n",
    "\n",
    "    return path, steps\n",
    "\n",
    "def visualize_path(maze_size, path):\n",
    "    grid = np.zeros((maze_size, maze_size))\n",
    "    plt.figure(figsize=(maze_size/2, maze_size/2))\n",
    "\n",
    "    for index, position in enumerate(path[:-1]):\n",
    "        plt.plot([position[1], path[index + 1][1]], [position[0], path[index + 1][0]], color='blue', linewidth=2)\n",
    "\n",
    "    plt.plot(0, 0, 'go', markersize=10, label='Start')  # start point\n",
    "    plt.plot(maze_size - 1, maze_size - 1, 'ro', markersize=10, label='Goal')  # goal point\n",
    "    plt.legend()\n",
    "    plt.xticks(range(maze_size))\n",
    "    plt.yticks(range(maze_size))\n",
    "    plt.grid(True)\n",
    "    plt.gca().invert_yaxis()\n",
    "    plt.show()\n",
    "\n",
    "maze_size = 16\n",
    "path, steps = random_explore(maze_size)\n",
    "print(\"Steps:\", steps)\n",
    "visualize_path(maze_size, path)\n"
   ]
  },
  {
   "cell_type": "code",
   "execution_count": 77,
   "metadata": {},
   "outputs": [
    {
     "data": {
      "image/png": "[encoded data removed]",
      "text/plain": [
       "<Figure size 576x576 with 1 Axes>"
      ]
     },
     "metadata": {
      "needs_background": "light"
     },
     "output_type": "display_data"
    }
   ],
   "source": [
    "visualize_path(maze_size, path)"
   ]
  },
  {
   "cell_type": "code",
   "execution_count": 96,
   "metadata": {},
   "outputs": [
    {
     "data": {
      "text/plain": [
       "array([15, 15])"
      ]
     },
     "execution_count": 96,
     "metadata": {},
     "output_type": "execute_result"
    }
   ],
   "source": [
    "np.array([15, 15])-np.array([0, 0])"
   ]
  },
  {
   "cell_type": "code",
   "execution_count": 104,
   "metadata": {},
   "outputs": [
    {
     "data": {
      "text/plain": [
       "-385.0"
      ]
     },
     "execution_count": 104,
     "metadata": {},
     "output_type": "execute_result"
    }
   ],
   "source": [
    "50-29*30/2"
   ]
  },
  {
   "cell_type": "code",
   "execution_count": 143,
   "metadata": {},
   "outputs": [],
   "source": [
    "win = 0\n",
    "episode_rewards_eval = []\n",
    "\n",
    "env = Qmaze(maze, ob_size, max_Tstep=optimal_length)\n",
    "\n",
    "# for j in range(1):\n",
    "\n",
    "# Initialize the environment and get it's state\n",
    "state, info = env.reset()\n",
    "#     # Cart Position, Cart Velocity, Pole Angle, Pole Angular Velocity\n",
    "#     state = torch.tensor(state, dtype=torch.float32, device=device)\n",
    "\n",
    "#     done = False\n",
    "#     while not done:\n",
    "        action = policy_net(state).max(1)[1].view(1, 1)  # 选择一个动作\n",
    "#         # random.choice(env.valid_actions())\n",
    "#         observation, reward, done, info = env.step(action.item())  # 执行动作，返回{下一个观察值、奖励、是否结束、是否提前终止}\n",
    "#         # reward = torch.tensor([reward], device=device)\n",
    "#         # print(int(action[0][0]))\n",
    "#         # print(observation, reward, done, info)\n",
    "#         # print()\n",
    "#         if done:\n",
    "#             next_state = None\n",
    "#         else:\n",
    "#             next_state = torch.tensor(observation, dtype=torch.float32, device=device)  # 如果没有终止则继续记录下一个状态\n",
    "\n",
    "#         # Store the transition in memory\n",
    "#         # memory.push(state, action, next_state, reward)\n",
    "\n",
    "#         # Move to the next state\n",
    "#         state = next_state\n",
    "\n",
    "#     episode_rewards_eval.append(env.total_reward)\n",
    "#     if info == 'win':\n",
    "#         win += 1\n",
    "\n",
    "\n",
    "# win_rate = win / 1\n",
    "\n",
    "# if show_maze:\n",
    "#     show(env)\n",
    "\n",
    "# # print(env.visited)\n",
    "# # print(env.state)\n",
    "# # print(env.total_reward)\n",
    "\n",
    "# return episode_rewards_eval, win_rate, env.visited"
   ]
  }
 ],
 "metadata": {
  "kernelspec": {
   "display_name": "Python 3",
   "language": "python",
   "name": "python3"
  },
  "language_info": {
   "codemirror_mode": {
    "name": "ipython",
    "version": 3
   },
   "file_extension": ".py",
   "mimetype": "text/x-python",
   "name": "python",
   "nbconvert_exporter": "python",
   "pygments_lexer": "ipython3",
   "version": "3.7.7"
  }
 },
 "nbformat": 4,
 "nbformat_minor": 5
}
