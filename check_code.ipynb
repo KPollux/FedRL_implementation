{
 "cells": [
  {
   "cell_type": "code",
   "execution_count": 1,
   "id": "73918ed3-bb17-41ed-a997-9b78c72d4e90",
   "metadata": {},
   "outputs": [],
   "source": [
    "import json\n",
    "\n",
    "# import gymnasium as gym\n",
    "import math\n",
    "import os\n",
    "import random\n",
    "import time\n",
    "\n",
    "import matplotlib as mpl\n",
    "import numpy as np\n",
    "from tqdm import trange\n",
    "\n",
    "# mpl.use('TkAgg')\n",
    "import matplotlib\n",
    "import matplotlib.pyplot as plt\n",
    "from collections import namedtuple, deque\n",
    "from itertools import count\n",
    "\n",
    "import torch\n",
    "import torch.nn as nn\n",
    "import torch.optim as optim\n",
    "import torch.nn.functional as F\n",
    "\n",
    "# from alg_GLOBALS import *\n",
    "from alg_plotter import ALGPlotter\n",
    "from alg_env import FedRLEnv\n",
    "from alg_nets import CriticNet, ActorNet"
   ]
  },
  {
   "cell_type": "code",
   "execution_count": 2,
   "id": "66f72cb0-fe03-423a-b692-3aa45811fd2e",
   "metadata": {},
   "outputs": [],
   "source": [
    "os.environ['CUDA_VISIBLE_DEVICES'] = \"0\"\n",
    "\n",
    "# set up matplotlib\n",
    "is_ipython = 'inline' in matplotlib.get_backend()\n",
    "if is_ipython:\n",
    "    from IPython import display\n",
    "\n",
    "plt.ion()\n",
    "\n",
    "# if gpu is to be used\n",
    "device = torch.device(\"cuda\" if torch.cuda.is_available() else \"cpu\")\n",
    "\n",
    "# --------------------------- # PARAMETERS # -------------------------- #\n",
    "# M_EPISODE = 10\n",
    "M_EPISODE = 6400\n",
    "BATCH_SIZE = 128  # size of the batches\n",
    "BUFFER_SIZE = 10000\n",
    "LR = 1e-4  # learning rate\n",
    "# LR_ACTOR = 1e-3  # learning rate\n",
    "GAMMA = 0.99  # discount factor\n",
    "EPSILON_MAX = 0.9\n",
    "EPS_START = 0.9\n",
    "EPS_END = 0.05\n",
    "EPS_DECAY = 1000\n",
    "TAU = 0.005  # for soft update of target parameters\n",
    "\n",
    "# --------------------------- # ENVIRONMENT # -------------------------- #\n",
    "MAX_STEPS = 38  # 38, 86, 178\n",
    "SIDE_SIZE = 8  # 8, 16, 32\n",
    "\n",
    "steps_done = 0\n",
    "Transition = namedtuple('Transition',\n",
    "                        ('state', 'action', 'next_state', 'reward'))\n",
    "episode_durations = []\n",
    "\n",
    "\n",
    "class ReplayMemory(object):\n",
    "\n",
    "    def __init__(self, capacity):\n",
    "        self.memory = deque([], maxlen=capacity)\n",
    "\n",
    "    def push(self, *args):\n",
    "        \"\"\"Save a transition\"\"\"\n",
    "        self.memory.append(Transition(*args))\n",
    "\n",
    "    def sample(self, batch_size):\n",
    "        return random.sample(self.memory, batch_size)\n",
    "\n",
    "    def __len__(self):\n",
    "        return len(self.memory)\n",
    "\n",
    "\n",
    "# 动作选取\n",
    "def select_action(state):\n",
    "    global steps_done, EPS_START, EPS_END, EPS_DECAY\n",
    "    sample = random.random()\n",
    "\n",
    "    # 随着进行，eps_threshold逐渐降低\n",
    "    eps_threshold = EPS_END + (EPS_START - EPS_END) * math.exp(-1. * steps_done / EPS_DECAY)\n",
    "    steps_done += 1\n",
    "\n",
    "    # t_alpha_action = torch.tensor(random.choice(env.action_spaces()['alpha'])).cuda()\n",
    "    # print(t_alpha_action)\n",
    "    # exit()\n",
    "    # 常规情况选择价值最高的动作\n",
    "    if sample > eps_threshold or 1:\n",
    "        with torch.no_grad():\n",
    "            # t.max(1) will return the largest column value of each row.\n",
    "            # second column on max result is index of where max element was\n",
    "            # found, so we pick action with the larger expected reward.\n",
    "\n",
    "            t_alpha_action = policy_net(state).max(1)[1]\n",
    "            # print(policy_net(state))\n",
    "            # print(t_alpha_action)\n",
    "            # print(policy_net(state).max(1))\n",
    "            # print(policy_net(state).max(1)[0])\n",
    "            # exit()\n",
    "\n",
    "\n",
    "    # 当随机值超过阈值时，随机选取 - exploration\n",
    "    else:\n",
    "        # return torch.tensor([[env.action_space.sample()]], device=device, dtype=torch.long)\n",
    "        t_alpha_action = torch.tensor(random.choice(env.action_spaces()['alpha'])).cuda()\n",
    "\n",
    "    # print(t_alpha_action.shape)\n",
    "\n",
    "    t_beta_action = torch.tensor(random.choices(env.action_spaces()['beta'], k=len(t_alpha_action))).cuda()\n",
    "\n",
    "    # t_actions = torch.stack((t_alpha_action, t_beta_action))\n",
    "    # t_actions = zip(*t_actions)\n",
    "\n",
    "    return t_alpha_action, t_beta_action\n",
    "\n",
    "\n",
    "def plot_durations(show_result=False):\n",
    "    plt.figure(1)\n",
    "    durations_t = torch.tensor(episode_durations, dtype=torch.float)\n",
    "    if show_result:\n",
    "        plt.title('Result')\n",
    "    else:\n",
    "        plt.clf()\n",
    "        plt.title('Training...')\n",
    "    plt.xlabel('Episode')\n",
    "    plt.ylabel('Reward')\n",
    "    plt.plot(durations_t.numpy())\n",
    "    # Take 100 episode averages and plot them too\n",
    "    if len(durations_t) >= 100:\n",
    "        means = durations_t.unfold(0, 100, 1).mean(1).view(-1)\n",
    "        means = torch.cat((torch.zeros(99), means))\n",
    "        plt.plot(means.numpy())\n",
    "\n",
    "    plt.pause(0.001)  # pause a bit so that plots are updated\n",
    "    if is_ipython:\n",
    "        if not show_result:\n",
    "            display.display(plt.gcf())\n",
    "            display.clear_output(wait=True)\n",
    "        else:\n",
    "            display.display(plt.gcf())\n",
    "    # plt.close()\n",
    "\n",
    "\n",
    "def optimize_model():\n",
    "    if len(memory) < BATCH_SIZE:\n",
    "        return\n",
    "\n",
    "    # 离线学习，从记忆池中抽取回忆\n",
    "    transitions = memory.sample(BATCH_SIZE)\n",
    "    # print(transitions)\n",
    "    # exit()\n",
    "\n",
    "    # Transpose the batch (see https://stackoverflow.com/a/19343/3343043 for\n",
    "    # detailed explanation). This converts batch-array of Transitions\n",
    "    # to Transition of batch-arrays.\n",
    "\n",
    "    # 将([a, 1], [b, 2], [c, 3])转化为([a, b, c], [1, 2, 3])，一个zip的trick\n",
    "    # 然后将他们分别放到tuples with names里（'state', 'action', 'next_state', and 'reward'）\n",
    "    batch = Transition(*zip(*transitions))\n",
    "\n",
    "    # Compute a mask of non-final states and concatenate the batch elements\n",
    "    # (a final state would've been the one after which simulation ended)\n",
    "    # 计算非最终状态的掩码，并将批处理元素连接起来\n",
    "    # (最终状态是指模拟结束后的状态)\n",
    "    non_final_mask = torch.tensor(tuple(map(lambda s: s is not None,\n",
    "                                            batch.next_state)), device=device, dtype=torch.bool)\n",
    "    non_final_next_states = torch.cat([s for s in batch.next_state\n",
    "                                       if s is not None])\n",
    "\n",
    "    state_batch = torch.cat(batch.state)\n",
    "    action_batch = torch.cat(batch.action)\n",
    "    reward_batch = torch.cat(batch.reward)\n",
    "\n",
    "    # print(state_batch.shape)\n",
    "    # print(action_batch.shape)\n",
    "    # print(reward_batch.shape)\n",
    "    # exit()\n",
    "\n",
    "    # print(action_batch)\n",
    "    # print(action_batch.shape)\n",
    "    # 只保留alpha的动作\n",
    "    # 只根据alpha的动作来计算价值，因为观测不到beta的动作\n",
    "    action_batch = action_batch[..., 0]\n",
    "    action_batch = action_batch.unsqueeze(1)\n",
    "    # print(action_batch)\n",
    "    # print(action_batch.shape)\n",
    "    # exit()\n",
    "\n",
    "    # Compute Q(s_t, a) - the model computes Q(s_t), then we select the\n",
    "    # columns of actions taken. These are the actions which would've been taken\n",
    "    # for each batch state according to policy_net\n",
    "    # 模型计算Q价值，我们根据价值选择动作\n",
    "    state_action_values = policy_net(state_batch).gather(1, action_batch)\n",
    "\n",
    "    # print(policy_net(state_batch))\n",
    "    # print(state_action_values)\n",
    "\n",
    "    # Compute V(s_{t+1}) for all next states.\n",
    "    # Expected values of actions for non_final_next_states are computed based\n",
    "    # on the \"older\" target_net; selecting their best reward with max(1)[0].\n",
    "    # This is merged based on the mask, such that we'll have either the expected\n",
    "    # state value or 0 in case the state was final.\n",
    "    next_state_values = torch.zeros(BATCH_SIZE, device=device)\n",
    "    with torch.no_grad():\n",
    "        next_state_values[non_final_mask] = target_net(non_final_next_states).max(1)[0]\n",
    "    # Compute the expected Q values\n",
    "    expected_state_action_values = (next_state_values * GAMMA) + reward_batch  # 当前奖励+下一个状态的奖励，更新Q\n",
    "\n",
    "    # Compute Huber loss\n",
    "    criterion = nn.SmoothL1Loss()\n",
    "    loss = criterion(state_action_values, expected_state_action_values.unsqueeze(1))\n",
    "\n",
    "    # Optimize the model\n",
    "    optimizer.zero_grad()\n",
    "    loss.backward()\n",
    "    # In-place gradient clipping\n",
    "    torch.nn.utils.clip_grad_value_(policy_net.parameters(), 100)\n",
    "    optimizer.step()"
   ]
  },
  {
   "cell_type": "code",
   "execution_count": 3,
   "id": "816650f9-c316-483b-a1ff-342306145e19",
   "metadata": {},
   "outputs": [],
   "source": [
    "ENV_NAME = 'grid'\n",
    "env = FedRLEnv(max_steps=MAX_STEPS, side_size=SIDE_SIZE)"
   ]
  },
  {
   "cell_type": "code",
   "execution_count": null,
   "id": "65fe0506-3033-4375-ae7d-c9398c8a1f83",
   "metadata": {},
   "outputs": [],
   "source": []
  },
  {
   "cell_type": "code",
   "execution_count": 27,
   "id": "969cde73-2fb2-4c8c-a11d-36375dd2e6d5",
   "metadata": {},
   "outputs": [],
   "source": [
    "state = env.reset()\n",
    "state = state['alpha'].reshape((1, -1))\n",
    "state = state.cuda()"
   ]
  },
  {
   "cell_type": "code",
   "execution_count": 28,
   "id": "42e96b12-bdce-4b8b-ab26-61572258613c",
   "metadata": {},
   "outputs": [],
   "source": [
    "# 初始化policy_net、target_net\n",
    "for i_agent in env.agents:\n",
    "    if i_agent.type == 'alpha':\n",
    "        policy_net = ActorNet(i_agent.state_size, 4).cuda()\n",
    "        target_net = ActorNet(i_agent.state_size, 4).cuda()\n",
    "        target_net.load_state_dict(policy_net.state_dict())"
   ]
  },
  {
   "cell_type": "code",
   "execution_count": 29,
   "id": "f7f25ec6-3583-46c3-9be4-86a2d547f604",
   "metadata": {},
   "outputs": [],
   "source": [
    "t_alpha_action, t_beta_action = select_action(state)"
   ]
  },
  {
   "cell_type": "code",
   "execution_count": 30,
   "id": "f788b5a3-032d-41dd-8ef9-ed08ca64e658",
   "metadata": {},
   "outputs": [
    {
     "data": {
      "text/plain": [
       "tensor([3], device='cuda:0')"
      ]
     },
     "execution_count": 30,
     "metadata": {},
     "output_type": "execute_result"
    }
   ],
   "source": [
    "t_alpha_action"
   ]
  },
  {
   "cell_type": "code",
   "execution_count": 31,
   "id": "78661a53-20f0-4bff-9d22-80f531aa8217",
   "metadata": {},
   "outputs": [
    {
     "data": {
      "text/plain": [
       "tensor([0], device='cuda:0')"
      ]
     },
     "execution_count": 31,
     "metadata": {},
     "output_type": "execute_result"
    }
   ],
   "source": [
    "t_beta_action"
   ]
  },
  {
   "cell_type": "code",
   "execution_count": 32,
   "id": "06461198-25df-417d-80ca-5a6608d26f4b",
   "metadata": {},
   "outputs": [],
   "source": [
    "t_actions = torch.stack((t_alpha_action, t_beta_action)).view(1, -1)"
   ]
  },
  {
   "cell_type": "code",
   "execution_count": 55,
   "id": "d302dc83-a3e6-4cf3-a53a-9f8c8a451e5c",
   "metadata": {},
   "outputs": [],
   "source": [
    "# ACTION: 0,1,2,3 = east > , south v , west < , north ^"
   ]
  },
  {
   "cell_type": "code",
   "execution_count": 86,
   "id": "0f70f3bf-f8a3-494a-8551-327fc7a99ea0",
   "metadata": {},
   "outputs": [],
   "source": [
    "t_actions[0][0] = 1\n",
    "t_actions[0][1] = 2"
   ]
  },
  {
   "cell_type": "code",
   "execution_count": 87,
   "id": "b2904b64-b32d-4c5c-ae15-51b143be84a4",
   "metadata": {},
   "outputs": [
    {
     "data": {
      "text/plain": [
       "tensor([[1, 2]], device='cuda:0')"
      ]
     },
     "execution_count": 87,
     "metadata": {},
     "output_type": "execute_result"
    }
   ],
   "source": [
    "t_actions"
   ]
  },
  {
   "cell_type": "code",
   "execution_count": 88,
   "id": "73f585e3-3cfd-49f1-bcea-fe99690ef10a",
   "metadata": {},
   "outputs": [
    {
     "data": {
      "text/plain": [
       "<matplotlib.image.AxesImage at 0x20cbc73d880>"
      ]
     },
     "execution_count": 88,
     "metadata": {},
     "output_type": "execute_result"
    },
    {
     "data": {
      "image/png": "[encoded data removed]",
      "text/plain": [
       "<Figure size 432x288 with 1 Axes>"
      ]
     },
     "metadata": {
      "needs_background": "light"
     },
     "output_type": "display_data"
    }
   ],
   "source": [
    "plt.imshow(env.render())"
   ]
  },
  {
   "cell_type": "code",
   "execution_count": 89,
   "id": "94f6b6d1-a48e-45d9-96ce-1ff53748ee92",
   "metadata": {},
   "outputs": [],
   "source": [
    "observation, reward, done, _ = env.step(t_actions)"
   ]
  },
  {
   "cell_type": "code",
   "execution_count": 90,
   "id": "6f33cda5-2deb-4038-8638-102ebc7ed4c7",
   "metadata": {},
   "outputs": [
    {
     "data": {
      "text/plain": [
       "{'alpha': tensor(1.6667, dtype=torch.float64),\n",
       " 'beta': tensor(1.6667, dtype=torch.float64)}"
      ]
     },
     "execution_count": 90,
     "metadata": {},
     "output_type": "execute_result"
    }
   ],
   "source": [
    "reward"
   ]
  },
  {
   "cell_type": "code",
   "execution_count": 91,
   "id": "3628495e-b56b-4398-8b05-89676d6c74ec",
   "metadata": {},
   "outputs": [
    {
     "data": {
      "text/plain": [
       "<matplotlib.image.AxesImage at 0x20cc5419070>"
      ]
     },
     "execution_count": 91,
     "metadata": {},
     "output_type": "execute_result"
    },
    {
     "data": {
      "image/png": "[encoded data removed]",
      "text/plain": [
       "<Figure size 432x288 with 1 Axes>"
      ]
     },
     "metadata": {
      "needs_background": "light"
     },
     "output_type": "display_data"
    }
   ],
   "source": [
    "plt.imshow(env.render())"
   ]
  },
  {
   "cell_type": "code",
   "execution_count": 92,
   "id": "adfdec80-fbf0-489a-9103-026d2151bafc",
   "metadata": {},
   "outputs": [
    {
     "data": {
      "text/plain": [
       "tensor([[0., 0., 0., 1., 0., 0., 0., 0., 0.]], device='cuda:0',\n",
       "       dtype=torch.float64)"
      ]
     },
     "execution_count": 92,
     "metadata": {},
     "output_type": "execute_result"
    }
   ],
   "source": [
    "state"
   ]
  },
  {
   "cell_type": "code",
   "execution_count": 93,
   "id": "38d96baa-694b-4ec2-ba34-13915e5bf7d7",
   "metadata": {},
   "outputs": [
    {
     "data": {
      "text/plain": [
       "False"
      ]
     },
     "execution_count": 93,
     "metadata": {},
     "output_type": "execute_result"
    }
   ],
   "source": [
    "done"
   ]
  },
  {
   "cell_type": "code",
   "execution_count": 159,
   "id": "43694f1d-e086-44be-a1fd-68eb37830ea4",
   "metadata": {},
   "outputs": [],
   "source": [
    "logs = {\n",
    "        \"train\": {\n",
    "            \"rewards\": None,\n",
    "        },\n",
    "        \"eval\": {\n",
    "            \"rewards\": [],\n",
    "            \"successful\": [],\n",
    "        }\n",
    "    }"
   ]
  },
  {
   "cell_type": "code",
   "execution_count": 167,
   "id": "12442f06-6004-4fa8-af45-f0021fd84185",
   "metadata": {},
   "outputs": [
    {
     "name": "stdout",
     "output_type": "stream",
     "text": [
      "\u001b[32m~[INFO]: \"ALGPlotter instance created.\"\u001b[0m\n"
     ]
    },
    {
     "name": "stderr",
     "output_type": "stream",
     "text": [
      "100%|████████████████████████████████████████████████████████████████████████████████| 800/800 [00:22<00:00, 35.25it/s]\n"
     ]
    },
    {
     "data": {
      "image/png": "[encoded data removed]",
      "text/plain": [
       "<Figure size 576x288 with 2 Axes>"
      ]
     },
     "metadata": {
      "needs_background": "light"
     },
     "output_type": "display_data"
    },
    {
     "name": "stdout",
     "output_type": "stream",
     "text": [
      "AvgCumulativeReward -0.43377106227106466\n",
      "SuccessfulRate 0.4375\n",
      "\n"
     ]
    }
   ],
   "source": [
    "NEPTUNE = False\n",
    "PLOT_LIVE = True\n",
    "plotter = ALGPlotter(plot_life=PLOT_LIVE, plot_neptune=NEPTUNE, name='my_run_FedRL', tags=[ENV_NAME], plot_per=1)\n",
    "# plotter.neptune_init()\n",
    "\n",
    "TotalCumulativeReward = []\n",
    "SuccessfulEpisode = 0\n",
    "eval_round = 800\n",
    "\n",
    "for i_eval in trange(eval_round):\n",
    "    state = env.reset()\n",
    "    state = state['alpha'].reshape((1, -1))\n",
    "    # state = state.cuda()\n",
    "    CumulativeReward = 0\n",
    "    \n",
    "    for t in count():\n",
    "        # t_alpha_action, t_beta_action = select_action(state)\n",
    "        # t_actions = torch.stack((t_alpha_action, t_beta_action)).view(1, -1)\n",
    "        # print(t_actions)\n",
    "        t_actions = torch.rand(2)*4\n",
    "        t_actions = torch.floor(t_actions.unsqueeze(0))\n",
    "        # print(t_actions)\n",
    "        # t_actions.cuda()\n",
    "        # print(t_actions)\n",
    "        observation, reward, done, info = env.step(t_actions)\n",
    "        # observation = observation['alpha'].reshape((1, -1))\n",
    "        reward = float(reward['alpha'])\n",
    "        \n",
    "        CumulativeReward += reward\n",
    "        if done:\n",
    "            reward = CumulativeReward\n",
    "            TotalCumulativeReward.append(reward)\n",
    "            logs['eval']['rewards'].append(reward)\n",
    "            if info['success']:\n",
    "                SuccessfulEpisode += 1\n",
    "            logs['eval']['successful'].append(info['success'])\n",
    "            # plotter.plot(i_eval, env, TotalCumulativeReward)\n",
    "            break\n",
    "\n",
    "plotter.plot(i_eval, env, TotalCumulativeReward)\n",
    "# logs['eval']['rewards'] = TotalCumulativeReward\n",
    "\n",
    "    # with open(folder_name + \"/train.txt\", 'w') as convert_file:\n",
    "        # convert_file.write(json.dumps(logs))\n",
    "\n",
    "print('AvgCumulativeReward', np.sum(TotalCumulativeReward)/eval_round)\n",
    "print('SuccessfulRate', SuccessfulEpisode / eval_round)\n",
    "print()"
   ]
  },
  {
   "cell_type": "code",
   "execution_count": 164,
   "id": "cd25b48f-eac9-4ba0-a68b-1c7e53140c86",
   "metadata": {},
   "outputs": [
    {
     "data": {
      "text/plain": [
       "2.090281524031523"
      ]
     },
     "execution_count": 164,
     "metadata": {},
     "output_type": "execute_result"
    }
   ],
   "source": [
    "np.sum(TotalCumulativeReward)/800"
   ]
  },
  {
   "cell_type": "code",
   "execution_count": 152,
   "id": "f2b72644-6de3-4bac-8691-f83517ad544c",
   "metadata": {},
   "outputs": [],
   "source": [
    "t = 0\n",
    "for s in logs['eval']['successful']:\n",
    "    if s == True:\n",
    "        t+=1\n",
    "        "
   ]
  },
  {
   "cell_type": "code",
   "execution_count": 154,
   "id": "d1a275b1-c769-4907-9ef4-6d539ab42ad6",
   "metadata": {},
   "outputs": [
    {
     "data": {
      "text/plain": [
       "0.43625"
      ]
     },
     "execution_count": 154,
     "metadata": {},
     "output_type": "execute_result"
    }
   ],
   "source": [
    "t/800"
   ]
  },
  {
   "cell_type": "code",
   "execution_count": 158,
   "id": "1d73e3f5-37da-4b9c-8a47-47ff7eb45722",
   "metadata": {},
   "outputs": [
    {
     "data": {
      "text/plain": [
       "[<matplotlib.lines.Line2D at 0x20d0af02310>]"
      ]
     },
     "execution_count": 158,
     "metadata": {},
     "output_type": "execute_result"
    },
    {
     "data": {
      "image/png": "[encoded data removed]",
      "text/plain": [
       "<Figure size 432x288 with 1 Axes>"
      ]
     },
     "metadata": {
      "needs_background": "light"
     },
     "output_type": "display_data"
    }
   ],
   "source": [
    "plt.plot(logs['eval']['rewards'])"
   ]
  },
  {
   "cell_type": "code",
   "execution_count": null,
   "id": "1c24f62f-d7fe-4029-9a66-b481a00e700d",
   "metadata": {},
   "outputs": [],
   "source": []
  }
 ],
 "metadata": {
  "kernelspec": {
   "display_name": "Python 3 (ipykernel)",
   "language": "python",
   "name": "python3"
  },
  "language_info": {
   "codemirror_mode": {
    "name": "ipython",
    "version": 3
   },
   "file_extension": ".py",
   "mimetype": "text/x-python",
   "name": "python",
   "nbconvert_exporter": "python",
   "pygments_lexer": "ipython3",
   "version": "3.9.12"
  }
 },
 "nbformat": 4,
 "nbformat_minor": 5
}
