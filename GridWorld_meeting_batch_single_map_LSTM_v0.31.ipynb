{
 "cells": [
  {
   "cell_type": "code",
   "execution_count": 1,
   "metadata": {},
   "outputs": [
    {
     "name": "stderr",
     "output_type": "stream",
     "text": [
      "/mnt/beegfs/home/ypang2022/.local/lib/python3.7/site-packages/tqdm/auto.py:22: TqdmWarning: IProgress not found. Please update jupyter and ipywidgets. See https://ipywidgets.readthedocs.io/en/stable/user_install.html\n",
      "  from .autonotebook import tqdm as notebook_tqdm\n"
     ]
    }
   ],
   "source": [
    "import os, sys, time, datetime, json, random\n",
    "import numpy as np\n",
    "import copy\n",
    "import matplotlib.pyplot as plt\n",
    "\n",
    "import copy\n",
    "import math\n",
    "import random\n",
    "\n",
    "import cv2\n",
    "import matplotlib\n",
    "\n",
    "# from alg_GLOBALS import *\n",
    "import numpy as np\n",
    "import torch\n",
    "from matplotlib import pyplot as plt\n",
    "from scipy.spatial.distance import cdist\n",
    "from easydict import EasyDict as edict\n",
    "\n",
    "%matplotlib inline"
   ]
  },
  {
   "cell_type": "code",
   "execution_count": 2,
   "metadata": {},
   "outputs": [],
   "source": [
    "from easydict import EasyDict as edict\n",
    "\n",
    "# init\n",
    "__C_GridWorld = edict()\n",
    "\n",
    "cfg_data = __C_GridWorld\n",
    "\n",
    "__C_GridWorld.rat = None\n",
    "__C_GridWorld.target = None\n",
    "__C_GridWorld.max_Tstep = 256  # 实际最大步数考察(MAX_TSTEP, reward<10*__C_GridWorld.REWARD.WALL)\n",
    "\n",
    "__C_GridWorld.REWARD = edict()\n",
    "\n",
    "__C_GridWorld.REWARD.WIN = 1\n",
    "__C_GridWorld.REWARD.WALL = -0.1\n",
    "__C_GridWorld.REWARD.MOVE = -0.04\n",
    "__C_GridWorld.REWARD.VISITED = __C_GridWorld.REWARD.MOVE\n",
    "\n",
    "__C_GridWorld.REWARD.HEURISTIC = False\n",
    "__C_GridWorld.REWARD.HEURISTIC_FACTOR = None"
   ]
  },
  {
   "cell_type": "code",
   "execution_count": 3,
   "metadata": {},
   "outputs": [],
   "source": [
    "cfg = edict()\n",
    "cfg.num_actions = 4\n",
    "cfg.maze_size = 16\n",
    "cfg.BATCH_SIZE = 128\n",
    "cfg.history_length = 16\n",
    "cfg.memory_size = 2000\n",
    "cfg.GAMMA = 0.99\n",
    "cfg.EPS_START = 0.95\n",
    "cfg.EPS_END = 0.05\n",
    "cfg.EPS_DECAY = 20000\n",
    "# cfg.eps_threshold = 0.1\n",
    "cfg.TAU = 0.005\n",
    "cfg.LR = 1e-5\n",
    "cfg.num_episodes = 1"
   ]
  },
  {
   "cell_type": "code",
   "execution_count": 4,
   "metadata": {},
   "outputs": [],
   "source": [
    "ENV_NAME = 'grid-double-agent-single-map'\n",
    "# now = time.strftime(\"%m-%d_%H-%M-%S\", time.localtime())\n",
    "# folder_name = f\"runs/{ENV_NAME}/\" + now\n",
    "# os.makedirs('runs/', exist_ok=True)\n",
    "# os.makedirs(f'runs/{ENV_NAME}/', exist_ok=True)\n",
    "# os.makedirs(folder_name, exist_ok=True)\n",
    "\n",
    "device = \"cuda:0\""
   ]
  },
  {
   "cell_type": "markdown",
   "metadata": {},
   "source": [
    "## Load datasets"
   ]
  },
  {
   "cell_type": "code",
   "execution_count": 5,
   "metadata": {},
   "outputs": [],
   "source": [
    "# import pickle\n",
    "\n",
    "# # 打开pickle文件\n",
    "# with open('gridworld3x3_train_dict.pickle', 'rb') as f:\n",
    "#     # 从文件中读取对象\n",
    "#     train_dict = pickle.load(f)\n",
    "\n",
    "# with open('gridworld3x3_test_dict.pickle', 'rb') as f:\n",
    "#     # 从文件中读取对象\n",
    "#     test_dict = pickle.load(f)\n",
    "    \n",
    "# # 对象已经被成功加载\n",
    "# # print(obj)\n"
   ]
  },
  {
   "cell_type": "code",
   "execution_count": 6,
   "metadata": {},
   "outputs": [
    {
     "data": {
      "text/plain": [
       "<matplotlib.image.AxesImage at 0x7f1169610890>"
      ]
     },
     "execution_count": 6,
     "metadata": {},
     "output_type": "execute_result"
    },
    {
     "data": {
      "image/png": "[encoded data removed]",
      "text/plain": [
       "<Figure size 432x288 with 1 Axes>"
      ]
     },
     "metadata": {
      "needs_background": "light"
     },
     "output_type": "display_data"
    }
   ],
   "source": [
    "maze = np.array(\n",
    "[\n",
    "[0, 0, 0, 0, 0, 0, 0, 1, 1, 1, 0, 0, 0, 0, 0, 0],\n",
    "[0, 0, 0, 0, 0, 0, 0, 0, 1, 0, 0, 0, 0, 0, 0, 0],\n",
    "[0, 0, 0, 0, 1, 0, 0, 0, 1, 0, 0, 0, 0, 0, 0, 0],\n",
    "[0, 0, 0, 1, 1, 1, 0, 0, 0, 0, 0, 0, 0, 0, 0, 0],\n",
    "[0, 0, 0, 0, 1, 0, 0, 0, 0, 0, 0, 0, 0, 0, 0, 0],\n",
    "[0, 0, 0, 0, 0, 0, 0, 0, 0, 0, 0, 0, 0, 0, 0, 0],\n",
    "[0, 0, 0, 0, 0, 0, 0, 0, 0, 0, 0, 0, 1, 0, 0, 0],\n",
    "[0, 0, 0, 0, 0, 0, 0, 0, 0, 0, 1, 1, 1, 1, 1, 0],\n",
    "[0, 0, 0, 0, 0, 0, 0, 0, 0, 0, 1, 1, 1, 1, 1, 0],\n",
    "[0, 0, 0, 0, 0, 0, 0, 0, 0, 0, 1, 1, 1, 1, 1, 0],\n",
    "[0, 0, 0, 0, 0, 0, 0, 0, 0, 0, 0, 0, 0, 0, 0, 0],\n",
    "[0, 0, 0, 0, 0, 0, 0, 0, 0, 0, 0, 0, 0, 0, 0, 0],\n",
    "[0, 0, 0, 1, 1, 1, 0, 0, 0, 1, 1, 1, 0, 0, 0, 0],\n",
    "[0, 0, 1, 1, 1, 1, 1, 0, 0, 1, 1, 1, 0, 0, 0, 0],\n",
    "[0, 0, 1, 1, 1, 1, 1, 0, 0, 0, 0, 0, 0, 0, 0, 0],\n",
    "[0, 0, 0, 1, 1, 1, 0, 0, 0, 0, 0, 0, 0, 0, 0, 0]\n",
    "])\n",
    "maze = ~maze+2.0\n",
    "\n",
    "maze = maze * 0.0 + 1.0\n",
    "\n",
    "plt.imshow(maze)"
   ]
  },
  {
   "cell_type": "code",
   "execution_count": 7,
   "metadata": {},
   "outputs": [],
   "source": [
    "import numpy as np\n",
    "from itertools import product\n",
    "from random import shuffle, seed\n",
    "\n",
    "def manhattan_distance(p1, p2):\n",
    "    return abs(p1[0] - p2[0]) + abs(p1[1] - p2[1])\n",
    "\n",
    "def create_distance_buckets(env_size, num_buckets):\n",
    "    free_positions = [(x, y) for x in range(env_size) for y in range(env_size) if env[x][y] != 0]\n",
    "    all_combinations = list(product(free_positions, repeat=2))\n",
    "    all_combinations = [(a1, a2) for a1, a2 in all_combinations if a1 != a2]\n",
    "    \n",
    "    distances = [(p, manhattan_distance(p[0], p[1])) for p in all_combinations]\n",
    "    max_distance = max(distances, key=lambda x: x[1])[1]\n",
    "    bucket_size = max_distance // num_buckets\n",
    "\n",
    "    buckets = [[] for _ in range(num_buckets)]\n",
    "    for p, d in distances:\n",
    "        index = min(d // bucket_size, num_buckets - 1)\n",
    "        buckets[index].append(p)\n",
    "\n",
    "    return buckets\n",
    "\n",
    "def sample_positions(buckets, num_samples):\n",
    "    samples = []\n",
    "    samples_per_bucket = num_samples // len(buckets)\n",
    "\n",
    "    for bucket in buckets:\n",
    "        shuffle(bucket)\n",
    "        samples.extend(bucket[:samples_per_bucket])\n",
    "\n",
    "    return samples\n",
    "\n",
    "# 设置随机种子\n",
    "random_seed = 42\n",
    "seed(random_seed)\n",
    "np.random.seed(random_seed)\n",
    "\n",
    "# 创建环境\n",
    "env_size = 16\n",
    "env = maze\n",
    "# env = np.ones((env_size, env_size))\n",
    "# 假设墙壁位于环境的第一行和最后一行，您可以根据您的实际环境进行修改。\n",
    "# env[0, :] = 0\n",
    "# env[-1, :] = 0\n",
    "\n",
    "num_buckets = 5\n",
    "train_samples = 1000\n",
    "test_samples = 1000\n",
    "\n",
    "buckets = create_distance_buckets(env_size, num_buckets)\n",
    "\n",
    "train_set = sample_positions(buckets, train_samples)\n",
    "test_set = sample_positions(buckets, test_samples)\n",
    "\n",
    "# print(\"Training Set:\", train_set)\n",
    "# print(\"Test Set:\", test_set)\n"
   ]
  },
  {
   "cell_type": "markdown",
   "metadata": {},
   "source": [
    "## Q-maze"
   ]
  },
  {
   "cell_type": "code",
   "execution_count": 8,
   "metadata": {},
   "outputs": [],
   "source": [
    "# def select_random_points(matrix, n):\n",
    "#     rows, cols = np.where(matrix == 1)\n",
    "#     points = list(zip(rows, cols))\n",
    "#     selected_points = random.sample(points, n)\n",
    "#     while len(set(selected_points)) < n:\n",
    "#         selected_points = random.sample(points, n)\n",
    "#     return selected_points\n",
    "\n",
    "# a, b = select_random_points(maze, 2)"
   ]
  },
  {
   "cell_type": "code",
   "execution_count": 9,
   "metadata": {},
   "outputs": [],
   "source": [
    "class Env_Agent:\n",
    "    def __init__(self, x, y, ob_size=5):  # , agent_id, agent_type, metric_radius=1):\n",
    "        self.init_x = x\n",
    "        self.init_y = y\n",
    "        self.x = x\n",
    "        self.y = y\n",
    "        self.path = []\n",
    "        self.observe_size = ob_size\n",
    "        self.mark = 2\n",
    "        self.path_mark = 0.6\n",
    "        self.status = 'Start'\n",
    "        self.total_reward = 0\n",
    "\n",
    "    def reset(self):\n",
    "        self.x = self.init_x\n",
    "        self.y = self.init_y\n",
    "        self.path = []\n",
    "        self.status = 'Start'\n",
    "        self.total_reward = 0"
   ]
  },
  {
   "cell_type": "code",
   "execution_count": 10,
   "metadata": {},
   "outputs": [],
   "source": [
    "class FedRLEnv:\n",
    "    \"\"\"\n",
    "    The main duties of this wrapper:\n",
    "\n",
    "    1. Receive inputs and transform outputs as tensors\n",
    "    2. Normalize states of observations\n",
    "\n",
    "    \"\"\"\n",
    "\n",
    "    def __init__(self, maze, cfg_data, start, end):\n",
    "        self.visited_mark = 0.5  # Cells visited by the rat will be painted by gray 0.8\n",
    "        self.end_mark = 3\n",
    "        self.rat_mark = 2  # The current rat cell will be painteg by gray 0.5\n",
    "        self.LEFT = 0\n",
    "        self.UP = 1\n",
    "        self.RIGHT = 2\n",
    "        self.DOWN = 3\n",
    "        self.cfg_data = cfg_data\n",
    "\n",
    "        # 允许的最大步数\n",
    "        self.max_Tstep = cfg_data.max_Tstep\n",
    "        self.action_space = [0, 1, 2, 3]\n",
    "        # 初始化迷宫，老鼠可以从任意位置开始，默认为左上角\n",
    "        self._maze = np.array(maze)\n",
    "        nrows, ncols = self._maze.shape\n",
    "\n",
    "        self.name = 'FedRL_env'\n",
    "        # self.agents = []\n",
    "        self.agent_dict = edict()\n",
    "#         self.agent_dict.alpha = Env_Agent(cfg_data.rat[0], cfg_data.rat[1], 3)  # rat\n",
    "#         if cfg_data.target is None:\n",
    "#             self.agent_dict.beta = Env_Agent(nrows - 1, ncols - 1, 3)  # target\n",
    "#         else:\n",
    "#             self.agent_dict.beta = Env_Agent(cfg_data.target[0], cfg_data.target[1], 3)\n",
    "\n",
    "#         position_alpha, position_beta = select_random_points(self._maze, 2)\n",
    "        self.agent_dict.alpha = Env_Agent(start[0], start[1], 5)\n",
    "        self.agent_dict.beta = Env_Agent(end[0], end[1], 5)\n",
    "\n",
    "        self.agent_dict.alpha.mark = self.rat_mark\n",
    "        self.agent_dict.beta.mark = self.end_mark\n",
    "        self.agent_dict.alpha.path_mark = 0.4\n",
    "        self.agent_dict.beta.path_mark = 0.6\n",
    "\n",
    "        # 终点可以是任意位置\n",
    "        # if cfg_data.target is None:\n",
    "        #     self.target = (nrows - 1, ncols - 1)  # target cell where the \"cheese\" is\n",
    "        # else:\n",
    "        #     self.target = cfg_data.target\n",
    "        # # 初始化空格list，maze为1表示空格，为0表示墙体\n",
    "        # self.free_cells = [(r, c) for r in range(nrows) for c in range(ncols) if self._maze[r, c] == 1.0]\n",
    "        # # 将目标格移出空格list\n",
    "        # self.free_cells.remove(self.target)\n",
    "        # 检查左上和右下是否为空\n",
    "#         if self._maze[self.agent_dict.beta.x, self.agent_dict.beta.y] == 0.0:\n",
    "#             raise Exception(\"Invalid maze: target cell cannot be blocked!\")\n",
    "#         if self._maze[self.agent_dict.alpha.x, self.agent_dict.alpha.y] == 0.0:\n",
    "#             raise Exception(\"Invalid Rat Location: must sit on a free cell\")\n",
    "        # 放置两个agent并初始化参数\n",
    "        self.reset()\n",
    "\n",
    "    def reset(self):\n",
    "        \n",
    "        \n",
    "        \n",
    "        self.maze = np.copy(self._maze)  # self.maze is the maze that will be modified during the simulation\n",
    "        for _, agent in self.agent_dict.items():\n",
    "            agent.reset()\n",
    "\n",
    "        nrows, ncols = self.maze.shape\n",
    "        alpha_x = self.agent_dict.alpha.x\n",
    "        alpha_y = self.agent_dict.alpha.y\n",
    "        beta_x = self.agent_dict.beta.x\n",
    "        beta_y = self.agent_dict.beta.y\n",
    "        self.maze[alpha_x, alpha_y] = self.rat_mark\n",
    "        self.maze[beta_x, beta_y] = self.end_mark\n",
    "\n",
    "        # 初始状态\n",
    "        # self.state = (row, col, 'start')\n",
    "        # 设置最低奖励阈值\n",
    "#         self.min_reward = 38 * self.cfg_data.REWARD.WALL  # -0.5 * self.maze.size\n",
    "        # 初始化总奖励\n",
    "        # self.total_reward = 0\n",
    "        self.total_Tstep = 0\n",
    "\n",
    "        t_observations = {name: self.get_observation(agent) for name, agent in self.agent_dict.items()}\n",
    "\n",
    "        # self.visited = list()\n",
    "        # for _, agent in self.agent_dict.items():\n",
    "        #     agent.path = []\n",
    "        #     agent.status = 'Start'\n",
    "        #     agent.total_reward = 0\n",
    "\n",
    "        return t_observations, self.game_status()\n",
    "\n",
    "    def get_observation(self, agent):\n",
    "        maze = np.copy(self._maze)\n",
    "\n",
    "        # draw the rat\n",
    "        for name, _agent in self.agent_dict.items():\n",
    "            maze[_agent.x, _agent.y] = _agent.mark\n",
    "\n",
    "        size = agent.observe_size\n",
    "\n",
    "        row, col = agent.x, agent.y\n",
    "        # 获取maze的行列数\n",
    "        ROWS = len(maze)\n",
    "        COLS = len(maze[0])\n",
    "\n",
    "        # 初始化结果二维数组\n",
    "        result = [[0 for _ in range(size)] for _ in range(size)]\n",
    "\n",
    "        # 将以指定点为中心指定尺寸范围的观测值存入结果二维数组\n",
    "#         print(row - size // 2, row + size // 2 + 1)\n",
    "#         print(col, row, size)\n",
    "        for i in range(row - size // 2, row + size // 2 + 1):\n",
    "            for j in range(col - size // 2, col + size // 2 + 1):\n",
    "                if i < 0 or i >= ROWS or j < 0 or j >= COLS:\n",
    "                    # 如果超出边界，则填充为0\n",
    "                    result[i - row + size // 2][j - col + size // 2] = 0.0\n",
    "                else:\n",
    "                    result[i - row + size // 2][j - col + size // 2] = maze[i][j]\n",
    "\n",
    "        # 返回结果二维数组\n",
    "        result = np.array(result)\n",
    "        result[size // 2][size // 2] = agent.mark\n",
    "        return result\n",
    "\n",
    "    def render(self):\n",
    "        plt.grid('on')\n",
    "        ax = plt.gca()\n",
    "        nrows, ncols = self.maze.shape\n",
    "        ax.set_xticks(np.arange(0.5, nrows, 1))\n",
    "        ax.set_yticks(np.arange(0.5, ncols, 1))\n",
    "        ax.set_xticklabels([])\n",
    "        ax.set_yticklabels([])\n",
    "\n",
    "        canvas = np.copy(self.maze)\n",
    "\n",
    "        for k, agent in self.agent_dict.items():\n",
    "\n",
    "            for row, col in agent.path:\n",
    "                # if canvas[row, col] == 1.0:\n",
    "                canvas[row, col] = agent.path_mark\n",
    "                # else:\n",
    "                #     canvas[row, col] = self.visited_mark\n",
    "\n",
    "        alpha_x = self.agent_dict.alpha.x\n",
    "        alpha_y = self.agent_dict.alpha.y\n",
    "        beta_x = self.agent_dict.beta.x\n",
    "        beta_y = self.agent_dict.beta.y\n",
    "        canvas[alpha_x, alpha_y] = 0.5\n",
    "        canvas[beta_x, beta_y] = 0.6\n",
    "        plt.imshow(canvas, interpolation='none', cmap='gray')\n",
    "        plt.show()\n",
    "        # return img\n",
    "\n",
    "    def step(self, action_dict):\n",
    "        self.update_state(action_dict)\n",
    "\n",
    "        t_observations = {name: self.get_observation(agent) for name, agent in self.agent_dict.items()}\n",
    "        t_rewards = self.get_reward()\n",
    "        info = self.game_status()\n",
    "        done = (info != 'not_over')\n",
    "#         print('info', info)\n",
    "#         print('done', done)\n",
    "\n",
    "        return t_observations, t_rewards, done, info\n",
    "\n",
    "    def game_status(self):\n",
    "        flag = 1\n",
    "\n",
    "        # 如果所有老鼠的奖励都小于最低奖励阈值，则游戏结束\n",
    "#         for name, agent in self.agent_dict.items():\n",
    "#             if agent.total_reward > self.min_reward:\n",
    "#                 flag = 1\n",
    "\n",
    "        if self.total_Tstep > self.max_Tstep or flag == 0:\n",
    "            # if self.total_reward < self.min_reward:\n",
    "            # if self.total_Tstep > self.max_Tstep:\n",
    "            return 'lose'\n",
    "\n",
    "        if self.get_distance() <= 1:\n",
    "            return 'win'\n",
    "\n",
    "        return 'not_over'\n",
    "\n",
    "    def update_state(self, action_dict):\n",
    "        '''\n",
    "            input: {'alpha': t_alpha_action, 'beta': t_beta_action} [0, 1, 2, 3] [L, U, R, D]\n",
    "        '''\n",
    "        for name, agent in self.agent_dict.items():\n",
    "            action = action_dict[name]\n",
    "\n",
    "            # 如果老鼠访问的是空格，则记录\n",
    "            if self.maze[agent.x, agent.y] > 0.0:\n",
    "                agent.path.append((agent.x, agent.y))  # mark visited cell\n",
    "\n",
    "            # 获取所有可能执行的动作\n",
    "            valid_actions = self.valid_actions(name)\n",
    "            # print('valid_actions', valid_actions)\n",
    "\n",
    "            # 如果没有可以执行的动作（被围住了），则状态为 blocked，位置不变\n",
    "            if not valid_actions:\n",
    "                agent.status = 'blocked'\n",
    "                print('blocked')\n",
    "            # 如果需要执行的动作在可执行动作列表中，那么状态为有效，并相应执行动作\n",
    "            elif action in valid_actions:\n",
    "                agent.status = 'valid'\n",
    "                if action == self.LEFT:\n",
    "                    agent.y -= 1\n",
    "                elif action == self.UP:\n",
    "                    agent.x -= 1\n",
    "                if action == self.RIGHT:\n",
    "                    agent.y += 1\n",
    "                elif action == self.DOWN:\n",
    "                    agent.x += 1\n",
    "            # 如果需要执行的动作不在可执行动作列表中（撞墙），位置不变\n",
    "            else:  # invalid action, no change in rat position\n",
    "                agent.status = 'invalid'\n",
    "\n",
    "        # 两次动作都执行完毕后，更新步数\n",
    "        self.total_Tstep += 1  # 每次执行动作+1\n",
    "\n",
    "    def valid_actions(self, agent_name):\n",
    "        # print('agent_name', agent_name)\n",
    "        # print(self.agent_dict)\n",
    "        agent = self.agent_dict[agent_name]\n",
    "        # 默认验证当前位置\n",
    "        row, col = agent.x, agent.y\n",
    "        actions = copy.deepcopy(self.action_space)\n",
    "        nrows, ncols = self.maze.shape\n",
    "        # 如果在第0行，则不能向上走；如果在最后一行，则不能向下走\n",
    "        if row == 0:\n",
    "            actions.remove(1)\n",
    "        elif row == nrows - 1:\n",
    "            actions.remove(3)\n",
    "        # 列-左右\n",
    "        if col == 0:\n",
    "            actions.remove(0)\n",
    "        elif col == ncols - 1:\n",
    "            actions.remove(2)\n",
    "\n",
    "        # 如果不在最左列，而左边是墙，则不能向左；右边同理\n",
    "        if row > 0 and self.maze[row - 1, col] == 0.0:\n",
    "            actions.remove(1)\n",
    "        if row < nrows - 1 and self.maze[row + 1, col] == 0.0:\n",
    "            actions.remove(3)\n",
    "\n",
    "        # 上下同理\n",
    "        if col > 0 and self.maze[row, col - 1] == 0.0:\n",
    "            actions.remove(0)\n",
    "        if col < ncols - 1 and self.maze[row, col + 1] == 0.0:\n",
    "            actions.remove(2)\n",
    "\n",
    "        # 返回所有可能执行的动作\n",
    "        return actions\n",
    "\n",
    "    def get_reward(self):\n",
    "\n",
    "        # nrows, ncols = self.maze.shape\n",
    "        # reward = 0\n",
    "        L1_distance = self.get_distance()\n",
    "        if L1_distance <= 1:\n",
    "            t_rewards = dict()\n",
    "            for name, agent in self.agent_dict.items():\n",
    "                t_rewards[name] = self.cfg_data.REWARD.WIN\n",
    "                agent.total_reward += self.cfg_data.REWARD.WIN\n",
    "                agent.path.append((agent.x, agent.y))  # mark visited cell\n",
    "            return t_rewards\n",
    "\n",
    "        if self.cfg_data.REWARD.HEURISTIC:\n",
    "            # 估计距离\n",
    "            rg = -L1_distance\n",
    "#             rg = self._maze.shape[0] / L1_distance\n",
    "            # rg = 1 / L1_distance\n",
    "        else:\n",
    "            rg = 0\n",
    "\n",
    "        t_rewards = dict()\n",
    "        for name, agent in self.agent_dict.items():\n",
    "            rl = 0\n",
    "            if L1_distance <= 1:\n",
    "                rl = self.cfg_data.REWARD.WIN  # 奶酪，给予 1.0 分\n",
    "            # elif mode == 'blocked':\n",
    "            #     rl = self.min_reward - 1\n",
    "            elif agent.status == 'invalid':\n",
    "                rl = self.cfg_data.REWARD.WALL  # 撞墙-0.75 分，动作不会被执行\n",
    "            # elif (rat_row, rat_col) in self.visited:\n",
    "            #     rl = self.cfg_data.REWARD.VISITED  # 访问已经访问过的单元格，-0.25 分\n",
    "            elif agent.status == 'valid':\n",
    "                rl = self.cfg_data.REWARD.MOVE  # 每次移动都会花费老鼠 -0.04 分\n",
    "\n",
    "            reward = rl + rg\n",
    "\n",
    "            t_rewards[name] = reward\n",
    "            agent.total_reward += reward\n",
    "\n",
    "        return t_rewards\n",
    "\n",
    "    def get_distance(self):\n",
    "        rat_row, rat_col = self.agent_dict.alpha.x, self.agent_dict.alpha.y\n",
    "        target_row, target_col = self.agent_dict.beta.x, self.agent_dict.beta.y\n",
    "        L1_distance = abs(rat_row - target_row) + abs(rat_col - target_col)\n",
    "\n",
    "        return L1_distance"
   ]
  },
  {
   "cell_type": "markdown",
   "metadata": {},
   "source": [
    "## DQN - Agent"
   ]
  },
  {
   "cell_type": "code",
   "execution_count": 11,
   "metadata": {},
   "outputs": [],
   "source": [
    "import math\n",
    "import torch\n",
    "import torch.nn as nn\n",
    "import torch.optim as optim\n",
    "\n",
    "class DQN(nn.Module):\n",
    "    def __init__(self, input_dim, hidden_dim, output_dim):\n",
    "        super(DQN, self).__init__()\n",
    "\n",
    "        self.input_dim = input_dim\n",
    "        self.hidden_dim = hidden_dim\n",
    "        self.output_dim = output_dim\n",
    "\n",
    "        self.fc1 = nn.Linear(input_dim, hidden_dim)\n",
    "        self.lstm = nn.LSTM(hidden_dim, hidden_dim, batch_first=True)\n",
    "        self.fc2 = nn.Linear(hidden_dim, output_dim)\n",
    "\n",
    "    def forward(self, x):\n",
    "        batch_size, seq_len = x.size(0), x.size(1)\n",
    "\n",
    "        # 先将输入铺平\n",
    "        x = x.view(batch_size * seq_len, self.input_dim)\n",
    "\n",
    "        # 通过第一个全连接层\n",
    "        x = torch.relu(self.fc1(x))\n",
    "\n",
    "        # 重塑x以供LSTM使用\n",
    "        x = x.view(batch_size, seq_len, self.hidden_dim)\n",
    "        \n",
    "        # 通过LSTM层\n",
    "        x, _ = self.lstm(x)\n",
    "\n",
    "        # 只保留最后一个时间步的输出\n",
    "        x = x[:, -1, :]\n",
    "\n",
    "        # 通过最后一个全连接层\n",
    "        x = self.fc2(x)\n",
    "\n",
    "        return x\n",
    "\n",
    "\n"
   ]
  },
  {
   "cell_type": "code",
   "execution_count": 12,
   "metadata": {},
   "outputs": [],
   "source": [
    "# import torch\n",
    "# import torch.nn as nn\n",
    "\n",
    "# class DQN(nn.Module):\n",
    "#     def __init__(self):\n",
    "#         super(DQN, self).__init__()\n",
    "\n",
    "#         # 定义卷积层\n",
    "#         self.conv1 = nn.Conv2d(in_channels=1, out_channels=16, kernel_size=3, padding=1)\n",
    "#         self.relu1 = nn.ReLU()\n",
    "\n",
    "#         # 定义全连接层\n",
    "#         self.fc2 = nn.Linear(in_features=16*3*3, out_features=32)\n",
    "#         self.relu2 = nn.ReLU()\n",
    "\n",
    "#         # 定义输出层\n",
    "#         self.fc3 = nn.Linear(in_features=32, out_features=4)\n",
    "# #         self.relu3 = nn.ReLU()\n",
    "\n",
    "#     def forward(self, x):\n",
    "#         # 前向传播过程\n",
    "#         x = x.unsqueeze(0).unsqueeze(0) # 将输入变为 1x1x3x3\n",
    "#         x = self.relu1(self.conv1(x))\n",
    "#         x = x.view(-1, 16*3*3)\n",
    "#         x = self.relu2(self.fc2(x))\n",
    "#         x = self.fc3(x)\n",
    "#         return x\n",
    "\n",
    "# # 创建模型实例\n",
    "# net = DQN()\n",
    "\n",
    "# # 测试模型\n",
    "# input = torch.rand(3,3)\n",
    "# output = net(input)\n",
    "# print(output)\n"
   ]
  },
  {
   "cell_type": "markdown",
   "metadata": {},
   "source": [
    "## utils"
   ]
  },
  {
   "cell_type": "code",
   "execution_count": 13,
   "metadata": {},
   "outputs": [],
   "source": [
    "from collections import namedtuple, deque\n",
    "import matplotlib\n",
    "import matplotlib.pyplot as plt\n",
    "# set up matplotliba\n",
    "is_ipython = 'inline' in matplotlib.get_backend()\n",
    "if is_ipython:\n",
    "    from IPython import display\n",
    "    \n",
    "Transition = namedtuple('Transition',\n",
    "                        ('state', 'action', 'next_state', 'reward'))\n",
    "\n",
    "\n",
    "class ReplayMemory(object):\n",
    "\n",
    "    def __init__(self, capacity):\n",
    "        self.memory = deque([], maxlen=capacity)\n",
    "\n",
    "    def push(self, *args):\n",
    "        \"\"\"Save a transition\"\"\"\n",
    "        self.memory.append(Transition(*args))\n",
    "\n",
    "    def sample(self, batch_size):\n",
    "        return random.sample(self.memory, batch_size)\n",
    "\n",
    "    def __len__(self):\n",
    "        return len(self.memory)\n",
    "\n",
    "def moving_average(data_list, window_size=100):\n",
    "    moving_averages = []\n",
    "    for i in range(len(data_list)):\n",
    "        if i < window_size:\n",
    "            window_data = data_list[:i + 1]\n",
    "        else:\n",
    "            window_data = data_list[i - window_size + 1:i + 1]\n",
    "        average = sum(window_data) / len(window_data)\n",
    "        moving_averages.append(average)\n",
    "    \n",
    "    return moving_averages"
   ]
  },
  {
   "cell_type": "code",
   "execution_count": 45,
   "metadata": {},
   "outputs": [],
   "source": [
    "class Agent:\n",
    "    def __init__(self, agent_id, observation_size, cfg_):\n",
    "        observation_size = observation_size ** 2\n",
    "        self.observation_size = observation_size\n",
    "        self.cfg = cfg_\n",
    "\n",
    "        self.policy_net = DQN(observation_size, 32, self.cfg.num_actions).to(device)\n",
    "        self.target_net = DQN(observation_size, 32, self.cfg.num_actions).to(device)\n",
    "        self.target_net.load_state_dict(self.policy_net.state_dict())\n",
    "\n",
    "        self.optimizer = optim.AdamW(self.policy_net.parameters(), lr=self.cfg.LR)\n",
    "        self.agent_id = agent_id\n",
    "\n",
    "        self.memory = ReplayMemory(cfg_.memory_size)\n",
    "\n",
    "        self.episode_rewards = []\n",
    "        self.episode_step = []\n",
    "\n",
    "        self.steps_done = 0\n",
    "\n",
    "    # 动作选取\n",
    "    def select_action(self, state, env=None):\n",
    "        sample = random.random()\n",
    "\n",
    "        # 随着进行，eps_threshold逐渐降低\n",
    "        eps_threshold = self.cfg.EPS_END + (self.cfg.EPS_START - self.cfg.EPS_END) * \\\n",
    "            math.exp(-1. * self.steps_done / self.cfg.EPS_DECAY)\n",
    "\n",
    "        # eps_threshold = self.cfg.eps_threshold\n",
    "\n",
    "        self.steps_done += 1\n",
    "\n",
    "        # 常规情况选择价值最高的动作\n",
    "        if sample > eps_threshold:\n",
    "#             print('利用')\n",
    "            with torch.no_grad():\n",
    "                # t.max(1) will return the largest column value of each row.\n",
    "                # second column on max result is index of where max element was\n",
    "                # found, so we pick action with the larger expected reward.\n",
    "                # print(state)\n",
    "                # state = torch.tensor(state, dtype=torch.float32, device=device).reshape((1, -1))\n",
    "                # print(state)\n",
    "                action = self.policy_net(state).max(1)[1].view(1, 1)\n",
    "#                 print(action)\n",
    "#                 raise\n",
    "                return action\n",
    "\n",
    "        # 当随机值超过阈值时，随机选取 - exploration\n",
    "        else:\n",
    "#             print('随机')\n",
    "            # 探索时只探索可能的动作，增加探索效率？\n",
    "            return torch.tensor([[random.choice(env.valid_actions(self.agent_id))]], device=device,\n",
    "                                dtype=torch.long)\n",
    "\n",
    "    def train(self):\n",
    "#         print(len(self.memory), self.cfg.BATCH_SIZE)\n",
    "        if len(self.memory) < self.cfg.BATCH_SIZE:\n",
    "            return 0\n",
    "\n",
    "        # 离线学习，从记忆池中抽取回忆\n",
    "        transitions = self.memory.sample(self.cfg.BATCH_SIZE)\n",
    "\n",
    "        batch = Transition(*zip(*transitions))\n",
    "\n",
    "        non_final_mask = torch.tensor(tuple(map(lambda s: s is not None, batch.next_state)), device=device, dtype=torch.bool)\n",
    "        non_final_next_states = torch.stack([torch.stack(list(s)).view(cfg.history_length, -1) for s in batch.next_state if s is not None])\n",
    "        state_batch = torch.stack([torch.stack(list(s)).view(cfg.history_length, -1) for s in batch.state]).to(device)\n",
    "        action_batch = torch.cat(batch.action)\n",
    "        reward_batch = torch.stack([s for s in batch.reward]).view(-1, 1)\n",
    "\n",
    "        # 模型计算Q价值，我们根据价值选择动作\n",
    "        state_action_values = self.policy_net(state_batch).gather(1, action_batch)\n",
    "        next_state_values = torch.zeros(self.cfg.BATCH_SIZE, device=device)\n",
    "        \n",
    "        with torch.no_grad():\n",
    "#             next_state_values[non_final_mask] = self.target_net(non_final_next_states).max(1)[0]\n",
    "            next_state_values[non_final_mask] = self.target_net(non_final_next_states).max(1)[0]\n",
    "        next_state_values = next_state_values.view(-1, 1)\n",
    "        # Compute the expected Q values\n",
    "        # 当前奖励+下一个状态的奖励，更新Q. 如果下一个状态为最终状态，则仅有当前奖励\n",
    "        expected_state_action_values = (next_state_values * self.cfg.GAMMA) + reward_batch\n",
    "        # print(expected_state_action_values)\n",
    "\n",
    "        # Compute Huber loss\n",
    "#         criterion = nn.SmoothL1Loss()\n",
    "        criterion = nn.MSELoss()\n",
    "#         print(state_action_values)\n",
    "#         print(expected_state_action_values)\n",
    "        \n",
    "        loss = criterion(state_action_values, expected_state_action_values)\n",
    "\n",
    "        # Optimize the model\n",
    "        self.optimizer.zero_grad()\n",
    "        loss.backward()\n",
    "        # In-place gradient clipping\n",
    "#         torch.nn.utils.clip_grad_value_(self.policy_net.parameters(), 100)\n",
    "        self.optimizer.step()\n",
    "    \n",
    "        return 1\n",
    "\n",
    "    # soft_sync_target_net\n",
    "    def soft_sync_target_net(self):\n",
    "        # self.target_net.load_state_dict(self.policy_net.state_dict())\n",
    "        # Soft update of the target network's weights\n",
    "        # θ′ ← τ θ + (1 −τ )θ′\n",
    "        target_net_state_dict = self.target_net.state_dict()\n",
    "        policy_net_state_dict = self.policy_net.state_dict()\n",
    "\n",
    "        # if (steps_done % sync_target_net_freq) == 0:\n",
    "        for key in policy_net_state_dict:\n",
    "            target_net_state_dict[key] = policy_net_state_dict[key] * self.cfg.TAU \\\n",
    "                                         + target_net_state_dict[key] * (1 - self.cfg.TAU)\n",
    "\n",
    "        self.target_net.load_state_dict(target_net_state_dict)\n",
    "    \n",
    "    def hard_sync_target_net(self):\n",
    "        self.target_net.load_state_dict(self.policy_net.state_dict())"
   ]
  },
  {
   "cell_type": "code",
   "execution_count": 46,
   "metadata": {},
   "outputs": [
    {
     "data": {
      "text/plain": [
       "tensor([[3]], device='cuda:0')"
      ]
     },
     "execution_count": 46,
     "metadata": {},
     "output_type": "execute_result"
    }
   ],
   "source": [
    "torch.tensor([[random.choice([0, 1, 2, 3])]], device=device,\n",
    "                                dtype=torch.long)"
   ]
  },
  {
   "cell_type": "code",
   "execution_count": 47,
   "metadata": {},
   "outputs": [
    {
     "data": {
      "text/plain": [
       "1000"
      ]
     },
     "execution_count": 47,
     "metadata": {},
     "output_type": "execute_result"
    }
   ],
   "source": [
    "len(test_set)"
   ]
  },
  {
   "cell_type": "code",
   "execution_count": 48,
   "metadata": {},
   "outputs": [],
   "source": [
    "def evaluation(pure_random = False):\n",
    "    \n",
    "    win = 0\n",
    "    # episode_rewards_eval = []\n",
    "    episode_rewards_alpha_eval = []\n",
    "    episode_rewards_beta_eval = []\n",
    "    episode_step_eval = []\n",
    "    \n",
    "    for i in trange(len(test_set)):\n",
    "    \n",
    "        # 读取训练集\n",
    "#         maze = np.array(test_dict['gridworld'][i])*1.0\n",
    "        start = test_set[i][0]\n",
    "        end = test_set[i][1]\n",
    "\n",
    "        optimal_length = 86\n",
    "        env_eval = FedRLEnv(maze, cfg_data, start, end)\n",
    "        env_eval.max_Tstep = optimal_length\n",
    "\n",
    "#         for j in range(1):\n",
    "        # Initialize the environment and get it's state\n",
    "        state, info = env_eval.reset()\n",
    "        \n",
    "        # 环境观察到的两个状态分别分配给两个agent\n",
    "        state_alpha = torch.tensor(state['alpha'], dtype=torch.float32, device=device).reshape((1, -1))\n",
    "        state_beta = torch.tensor(state['beta'], dtype=torch.float32, device=device).reshape((1, -1))\n",
    "        \n",
    "        # 每个episode开始时重置队列\n",
    "        state_sequence_alpha = deque([torch.zeros_like(state_alpha) for _ in range(cfg.history_length)], maxlen=cfg.history_length)\n",
    "        state_sequence_alpha.append(state_alpha)\n",
    "\n",
    "        state_sequence_beta = deque([torch.zeros_like(state_beta) for _ in range(cfg.history_length)], maxlen=cfg.history_length)\n",
    "        state_sequence_beta.append(state_beta)\n",
    "\n",
    "        done = False\n",
    "        while not done:\n",
    "        \n",
    "            # 将历史路径变为tensor\n",
    "            state_sequence_tensor_alpha = torch.stack(list(state_sequence_alpha)).squeeze().view(1, cfg.history_length, -1)\n",
    "            state_sequence_tensor_beta = torch.stack(list(state_sequence_beta)).squeeze().view(1, cfg.history_length, -1)\n",
    "       \n",
    "\n",
    "            if not pure_random:\n",
    "                with torch.no_grad():\n",
    "                    action_alpha = Agent_alpha.policy_net(state_sequence_tensor_alpha).max(1)[1].view(1, 1)  # 选择一个动作\n",
    "                    action_beta = Agent_beta.policy_net(state_sequence_tensor_beta).max(1)[1].view(1, 1)  # 选择一个动作\n",
    "            else:\n",
    "                action_alpha = torch.tensor([[random.choice([0, 1, 2, 3])]], device=device,\n",
    "                                dtype=torch.long)\n",
    "                action_beta = torch.tensor([[random.choice([0, 1, 2, 3])]], device=device,\n",
    "                                dtype=torch.long)\n",
    "                \n",
    "\n",
    "            t_actions = {'alpha': action_alpha.item(), 'beta': action_beta.item()}\n",
    "\n",
    "            # random.choice(env.valid_actions())\n",
    "            t_observations, t_rewards, done, info = env_eval.step(t_actions)  # 执行动作，返回{下一个观察值、奖励、是否结束、是否提前终止}\n",
    "            observation_alpha = torch.tensor(t_observations['alpha'], dtype=torch.float32, device=device).reshape((1, -1))\n",
    "            observation_beta = torch.tensor(t_observations['beta'], dtype=torch.float32, device=device).reshape((1, -1))\n",
    "            #\n",
    "            if done:\n",
    "                    next_state_alpha = next_state_beta = None\n",
    "                    next_state_sequence_alpha = next_state_sequence_beta = None\n",
    "            else:  # 如果没有终止则继续记录下一个状态\n",
    "                next_state_alpha = observation_alpha\n",
    "                next_state_beta = observation_beta\n",
    "\n",
    "                # 组织下一个状态（队列）\n",
    "                next_state_sequence_alpha = list(state_sequence_alpha)[1:]  # Copy the state sequence\n",
    "                next_state_sequence_beta = list(state_sequence_beta)[1:]  # Copy the state sequence\n",
    "\n",
    "                next_state_sequence_alpha.append(observation_alpha)\n",
    "                next_state_sequence_beta.append(observation_beta)\n",
    "\n",
    "            # Move to the next state\n",
    "            # state = next_state\n",
    "            state_alpha = next_state_alpha\n",
    "            state_beta = next_state_beta\n",
    "            if not done:  # 如果当前状态是最终状态，就没有下一个状态       \n",
    "                state_sequence_alpha = deque(next_state_sequence_alpha, maxlen=cfg.history_length)\n",
    "                state_sequence_beta = deque(next_state_sequence_beta, maxlen=cfg.history_length)\n",
    "            # # Store the transition in memory\n",
    "            # # memory.push(state, action, next_state, reward)\n",
    "            #\n",
    "            # # Move to the next state\n",
    "            # state = t_observations\n",
    "\n",
    "        episode_rewards_alpha_eval.append(env_eval.agent_dict.alpha.total_reward)\n",
    "        episode_rewards_beta_eval.append(env_eval.agent_dict.beta.total_reward)\n",
    "        episode_step_eval.append(env_eval.total_Tstep)\n",
    "        \n",
    "        history.alpha_eval_path.append(env_eval.agent_dict['alpha'].path)\n",
    "        history.beta_eval_path.append(env_eval.agent_dict['beta'].path)\n",
    "        \n",
    "#         env_eval.render()\n",
    "#         if i >= 10:\n",
    "#             break\n",
    "\n",
    "        if info == 'win':  #  and env.total_Tstep<=optimal_length:\n",
    "            win += 1\n",
    "            history.win_eval.append(1)\n",
    "        else:\n",
    "            history.win_eval.append(0)\n",
    "#         elif info == 'win':\n",
    "#             win = 0.5\n",
    "#         else:\n",
    "#             win = 0\n",
    "\n",
    "    win_rate = win / len(test_set)\n",
    "\n",
    "    # env.render()\n",
    "    # print(env.visited)\n",
    "    # print(env.state)\n",
    "    # print(env.total_reward)\n",
    "\n",
    "    return [episode_rewards_alpha_eval, episode_rewards_beta_eval, episode_step_eval], win_rate"
   ]
  },
  {
   "cell_type": "code",
   "execution_count": 49,
   "metadata": {},
   "outputs": [],
   "source": [
    "# evaluation()"
   ]
  },
  {
   "cell_type": "markdown",
   "metadata": {},
   "source": [
    "## train"
   ]
  },
  {
   "cell_type": "code",
   "execution_count": 50,
   "metadata": {},
   "outputs": [],
   "source": [
    "\n",
    "\n",
    "# episode_rewards.append(env.total_reward)\n",
    "# episode_step.append(t)\n",
    "# win_eval.append(win_rate)\n",
    "# episode_rewards_eval_list.append(episode_rewards_eval)\n",
    "# #     loss_train.append(acc_loss)\n",
    "# val_visited_list.append(val_visited)\n",
    "# history['episode_rewards'] = episode_rewards\n",
    "# history['episode_step'] = episode_step\n",
    "# history['win_eval'] = win_eval\n",
    "# history['loss_train'] = loss_train\n",
    "# history['val_visited_list'] = val_visited_list\n",
    "# history['episode_rewards_eval_list'] = val_visited_list"
   ]
  },
  {
   "cell_type": "code",
   "execution_count": 51,
   "metadata": {},
   "outputs": [],
   "source": [
    "# self.LEFT = 0\n",
    "# self.UP = 1\n",
    "# self.RIGHT = 2\n",
    "# self.DOWN = 3"
   ]
  },
  {
   "cell_type": "code",
   "execution_count": 52,
   "metadata": {},
   "outputs": [
    {
     "data": {
      "text/plain": [
       "1000"
      ]
     },
     "execution_count": 52,
     "metadata": {},
     "output_type": "execute_result"
    }
   ],
   "source": [
    "len(train_set)"
   ]
  },
  {
   "cell_type": "code",
   "execution_count": 53,
   "metadata": {},
   "outputs": [],
   "source": [
    "def plot_rewards(episode_rewards, show_result=False, zero_point=None, ylabel='Rewards'):\n",
    "    plt.figure(1)\n",
    "    rewards_t = torch.tensor(episode_rewards, dtype=torch.float)\n",
    "    if show_result:\n",
    "        plt.title('Result')\n",
    "    else:\n",
    "        plt.clf()\n",
    "        plt.title('Training...')\n",
    "    plt.xlabel('Episode')\n",
    "    plt.ylabel(ylabel)\n",
    "    plt.plot(rewards_t.cpu().numpy())\n",
    "    \n",
    "    if zero_point is None:\n",
    "        zero_point = (8*8*0.5)\n",
    "    \n",
    "    # Take 100 episode averages and plot them too\n",
    "    moving_averages = moving_average(episode_rewards, 100)\n",
    "    plt.plot(moving_averages)\n",
    "\n",
    "    plt.pause(0.001)  # pause a bit so that plots are updated\n",
    "    if is_ipython:\n",
    "        if not show_result:\n",
    "            display.display(plt.gcf())\n",
    "            display.clear_output(wait=True)\n",
    "        else:\n",
    "            display.display(plt.gcf())"
   ]
  },
  {
   "cell_type": "code",
   "execution_count": 54,
   "metadata": {},
   "outputs": [],
   "source": [
    "def sync_Agents_weights(agents_nets):\n",
    "    number_of_agents = len(agents_nets)\n",
    "    \n",
    "    global_dqn_para = agents_nets[0].policy_net.state_dict()\n",
    "    \n",
    "#     with torch.no_grad():\n",
    "               \n",
    "    for idx in range(number_of_agents):\n",
    "        net_dqn_para = agents_nets[idx].policy_net.state_dict()\n",
    "        if idx == 0:\n",
    "            for key in net_dqn_para:\n",
    "                global_dqn_para[key] = net_dqn_para[key] / number_of_agents\n",
    "        else:\n",
    "            for key in net_dqn_para:\n",
    "                global_dqn_para[key] += net_dqn_para[key] / number_of_agents\n",
    "\n",
    "    for idx in range(number_of_agents):\n",
    "        agents_nets[idx].policy_net.load_state_dict(global_dqn_para)"
   ]
  },
  {
   "cell_type": "code",
   "execution_count": 63,
   "metadata": {
    "scrolled": false
   },
   "outputs": [],
   "source": [
    "from itertools import count\n",
    "from tqdm import trange\n",
    "\n",
    "history = edict()\n",
    "\n",
    "def train(FL=False):\n",
    "    \n",
    "    \n",
    "\n",
    "    history.episode_rewards_alpha = []\n",
    "    history.episode_rewards_beta = []\n",
    "    history.episode_step = []\n",
    "    history.win_eval = []\n",
    "    history.loss_train = []\n",
    "    history.val_visited_list = []\n",
    "    history.episode_rewards_eval_list = []\n",
    "\n",
    "    history.alpha_eval_path = []\n",
    "    history.beta_eval_path = []\n",
    "\n",
    "    if FL:\n",
    "        Agent_alpha.policy_net.load_state_dict(Agent_beta.policy_net.state_dict())\n",
    "        Agent_alpha.target_net.load_state_dict(Agent_beta.target_net.state_dict())\n",
    "        FL_sync_count = 0\n",
    "    \n",
    "    for i in range(len(train_set)):\n",
    "\n",
    "        # 读取训练集\n",
    "    #     maze = np.array(train_dict['gridworld'][i])*1.0\n",
    "        start = train_set[i][0]\n",
    "        end = train_set[i][1]\n",
    "\n",
    "    #     maze = np.loadtxt('games/GridWorld/maze8_0.1_5.txt')\n",
    "        #\n",
    "        env = FedRLEnv(maze, cfg_data, start, end)\n",
    "\n",
    "        # 初始化测试环境\n",
    "    #     optimal_length = 38\n",
    "    #     env_eval = FedRLEnv(maze, cfg_data)\n",
    "    #     env_eval.max_Tstep = optimal_length*2\n",
    "\n",
    "\n",
    "        for i_episode in range(cfg.num_episodes):\n",
    "        # for i_episode in trange(1):\n",
    "            # Initialize the environment and get it's state\n",
    "            state, info = env.reset()\n",
    "\n",
    "            # 环境观察到的两个状态分别分配给两个agent\n",
    "            # state = torch.tensor(state, dtype=torch.float32, device=device).reshape((1, -1))\n",
    "#             print(state['alpha'])\n",
    "            state_alpha = torch.tensor(state['alpha'], dtype=torch.float32, device=device).reshape((1, -1))\n",
    "            state_beta = torch.tensor(state['beta'], dtype=torch.float32, device=device).reshape((1, -1))\n",
    "            \n",
    "            # 每个episode开始时重置队列\n",
    "            state_sequence_alpha = deque([torch.zeros_like(state_alpha) for _ in range(cfg.history_length)], maxlen=cfg.history_length)\n",
    "            state_sequence_alpha.append(state_alpha)\n",
    "            \n",
    "            state_sequence_beta = deque([torch.zeros_like(state_beta) for _ in range(cfg.history_length)], maxlen=cfg.history_length)\n",
    "            state_sequence_beta.append(state_beta)\n",
    "            \n",
    "            done = False\n",
    "            for t in count():\n",
    "        #         env.render()\n",
    "#                 print(t)\n",
    "        \n",
    "                # 将历史路径变为tensor\n",
    "                state_sequence_tensor_alpha = torch.stack(list(state_sequence_alpha)).squeeze().view(1, cfg.history_length, -1)\n",
    "                state_sequence_tensor_beta = torch.stack(list(state_sequence_beta)).squeeze().view(1, cfg.history_length, -1)\n",
    "                \n",
    "                action_alpha = Agent_alpha.select_action(state_sequence_tensor_alpha, env)  # 选择一个动作\n",
    "                action_beta = Agent_beta.select_action(state_sequence_tensor_beta, env)  # 选择一个动作\n",
    "                \n",
    "        #         print(action_alpha, action_beta)\n",
    "                t_actions = {'alpha': action_alpha.item(), 'beta': action_beta.item()}\n",
    "        #         print(t_actions)\n",
    "                t_observations, t_rewards, done, info = env.step(t_actions)  # 执行动作，返回{下一个观察值、奖励、是否结束、是否提前终止}\n",
    "        #         print(f't_observations {t_observations}, t_rewards {t_rewards}, done {done}, info {info}')\n",
    "        #         env.render()\n",
    "\n",
    "                reward_alpha = torch.tensor([t_rewards['alpha']], device=device)\n",
    "                reward_beta = torch.tensor([t_rewards['beta']], device=device)\n",
    "\n",
    "                observation_alpha = torch.tensor(t_observations['alpha'], dtype=torch.float32, device=device).reshape((1, -1))\n",
    "                observation_beta = torch.tensor(t_observations['beta'], dtype=torch.float32, device=device).reshape((1, -1))\n",
    "                \n",
    "                \n",
    "                \n",
    "                if done:\n",
    "                    next_state_alpha = next_state_beta = None\n",
    "                    next_state_sequence_alpha = next_state_sequence_beta = None\n",
    "                else:  # 如果没有终止则继续记录下一个状态\n",
    "                    next_state_alpha = observation_alpha\n",
    "                    next_state_beta = observation_beta\n",
    "                    \n",
    "                    # 组织下一个状态（队列）\n",
    "                    next_state_sequence_alpha = list(state_sequence_alpha)[1:]  # Copy the state sequence\n",
    "                    next_state_sequence_beta = list(state_sequence_beta)[1:]  # Copy the state sequence\n",
    "\n",
    "                    next_state_sequence_alpha.append(observation_alpha)\n",
    "                    next_state_sequence_beta.append(observation_beta)\n",
    "\n",
    "                # print(reward_alpha, reward_beta)\n",
    "                # print(observation_alpha, observation_beta)\n",
    "                # print(next_state_alpha, next_state_beta)\n",
    "\n",
    "                # break\n",
    "                # Store the transition in memory\n",
    "                Agent_alpha.memory.push(list(state_sequence_alpha).copy(), action_alpha, copy.deepcopy(next_state_sequence_alpha), reward_alpha)\n",
    "                Agent_beta.memory.push(list(state_sequence_beta).copy(), action_beta, copy.deepcopy(next_state_sequence_beta), reward_beta)\n",
    "        #         print( f'State: {state_alpha}, Action: {action_alpha}, Next state: {next_state_alpha}, Reward: {reward_alpha}')\n",
    "\n",
    "                # Move to the next state\n",
    "                # state = next_state\n",
    "                state_alpha = next_state_alpha\n",
    "                state_beta = next_state_beta\n",
    "                if not done:  # 如果当前状态是最终状态，就没有下一个状态       \n",
    "                    state_sequence_alpha = deque(next_state_sequence_alpha, maxlen=cfg.history_length)\n",
    "                    state_sequence_beta = deque(next_state_sequence_beta, maxlen=cfg.history_length)\n",
    "\n",
    "                # Perform one step of the optimization (on the policy network)\n",
    "                train_flag = Agent_alpha.train()\n",
    "                Agent_beta.train()\n",
    "                \n",
    "                if FL:\n",
    "                    if train_flag:\n",
    "                        FL_sync_count += 1\n",
    "                    \n",
    "                    if FL_sync_count==50:\n",
    "                        sync_Agents_weights([Agent_alpha, Agent_beta])\n",
    "                        Agent_alpha.hard_sync_target_net()\n",
    "                        Agent_beta.hard_sync_target_net()\n",
    "                        FL_sync_count=0\n",
    "                        \n",
    "\n",
    "                else:\n",
    "                    # Soft update of the target network's weights\n",
    "                    Agent_alpha.soft_sync_target_net()\n",
    "                    Agent_beta.soft_sync_target_net()\n",
    "\n",
    "                if done:\n",
    "                    break\n",
    "                \n",
    "\n",
    "            Agent_alpha.episode_rewards.append(env.agent_dict.alpha.total_reward)\n",
    "            Agent_beta.episode_rewards.append(env.agent_dict.beta.total_reward)\n",
    "\n",
    "            plot_rewards(Agent_alpha.episode_rewards)\n",
    "\n",
    "            Agent_alpha.episode_step.append(env.total_Tstep)\n",
    "            Agent_beta.episode_step.append(env.total_Tstep)\n",
    "\n",
    "    #         [episode_rewards_alpha_eval, episode_rewards_beta_eval, episode_step_eval], win_eval = evaluation()\n",
    "    #         history.alpha_eval_path.append(env_eval.agent_dict['alpha'].path)\n",
    "    #         history.beta_eval_path.append(env_eval.agent_dict['beta'].path)\n",
    "    #         history.win_eval.append(win_eval)\n",
    "\n",
    "\n",
    "        #     print('Episode {}\\tLast num step: {:.2f}\\tLast reward Alpha: {:.2f}\\t'\n",
    "        #           'Last reward Beta: {:.2f}\\tInfo: {}\\tEval: {}'\n",
    "        #           .format(i_episode, env.total_Tstep, env.agent_dict.alpha.total_reward,\n",
    "        #                   env.agent_dict.beta.total_reward, info, win_eval))\n",
    "\n",
    "\n",
    "\n",
    "\n",
    "\n",
    "    # history.loss_train = []\n",
    "    # history.val_visited_list = []\n",
    "    # history.episode_rewards_eval_list = []\n",
    "\n",
    "    history.episode_rewards_alpha = Agent_alpha.episode_rewards\n",
    "    history.episode_rewards_beta = Agent_beta.episode_rewards\n",
    "    history.episode_step = Agent_alpha.episode_step"
   ]
  },
  {
   "cell_type": "code",
   "execution_count": 64,
   "metadata": {},
   "outputs": [],
   "source": [
    "all_history_list = []"
   ]
  },
  {
   "cell_type": "code",
   "execution_count": 65,
   "metadata": {},
   "outputs": [],
   "source": [
    "wins = []\n",
    "history_list = []"
   ]
  },
  {
   "cell_type": "code",
   "execution_count": 66,
   "metadata": {},
   "outputs": [
    {
     "name": "stderr",
     "output_type": "stream",
     "text": [
      "100%|██████████| 1000/1000 [00:14<00:00, 67.26it/s]\n"
     ]
    },
    {
     "name": "stdout",
     "output_type": "stream",
     "text": [
      "0.978\n"
     ]
    },
    {
     "data": {
      "text/plain": [
       "<Figure size 432x288 with 0 Axes>"
      ]
     },
     "metadata": {},
     "output_type": "display_data"
    }
   ],
   "source": [
    "from tqdm import trange\n",
    "\n",
    "for i in range(1):\n",
    "    Agent_alpha = Agent('alpha', 5, cfg)\n",
    "    Agent_beta = Agent('beta', 5, cfg)\n",
    "    \n",
    "    # 参数共享\n",
    "#     Agent_beta.policy_net = Agent_alpha.policy_net\n",
    "#     Agent_beta.target_net = Agent_alpha.target_net\n",
    "\n",
    "    train()\n",
    "    [episode_rewards_alpha_eval, episode_rewards_beta_eval, episode_step_eval], win_eval = evaluation(pure_random=False)\n",
    "    print(win_eval)\n",
    "    \n",
    "    wins.append(win_eval)\n",
    "    history_list.append(copy.deepcopy(history))\n",
    "all_history_list.append(copy.deepcopy(history_list))"
   ]
  },
  {
   "cell_type": "code",
   "execution_count": 30,
   "metadata": {},
   "outputs": [
    {
     "name": "stderr",
     "output_type": "stream",
     "text": [
      "100%|██████████| 1000/1000 [00:22<00:00, 45.17it/s]"
     ]
    },
    {
     "name": "stdout",
     "output_type": "stream",
     "text": [
      "0.281\n"
     ]
    },
    {
     "name": "stderr",
     "output_type": "stream",
     "text": [
      "\n"
     ]
    }
   ],
   "source": [
    "[episode_rewards_alpha_eval, episode_rewards_beta_eval, episode_step_eval], win_eval = evaluation(pure_random=False)\n",
    "print(win_eval)"
   ]
  },
  {
   "cell_type": "code",
   "execution_count": 28,
   "metadata": {},
   "outputs": [
    {
     "name": "stdout",
     "output_type": "stream",
     "text": [
      "independent learner\n",
      "Mean: 0.9621999999999999\n",
      "Standard Error: 0.01902997635311194\n",
      "96.2±1.0\n"
     ]
    }
   ],
   "source": [
    "data = wins\n",
    "mean = np.mean(data)\n",
    "std_error = np.std(data, ddof=1) / np.sqrt(len(data))\n",
    "\n",
    "print('independent learner')\n",
    "print(\"Mean:\", mean)\n",
    "print(\"Standard Error:\", std_error)\n",
    "print(f'{mean*100:.1f}±{std_error/2*100:.1f}')"
   ]
  },
  {
   "cell_type": "code",
   "execution_count": 29,
   "metadata": {
    "scrolled": true
   },
   "outputs": [
    {
     "name": "stderr",
     "output_type": "stream",
     "text": [
      "100%|██████████| 1000/1000 [03:47<00:00,  4.40it/s]\n",
      "100%|██████████| 1000/1000 [00:08<00:00, 115.92it/s]\n"
     ]
    },
    {
     "name": "stdout",
     "output_type": "stream",
     "text": [
      "0.996\n"
     ]
    },
    {
     "name": "stderr",
     "output_type": "stream",
     "text": [
      "100%|██████████| 1000/1000 [04:30<00:00,  3.70it/s]\n",
      "100%|██████████| 1000/1000 [00:21<00:00, 47.10it/s]\n"
     ]
    },
    {
     "name": "stdout",
     "output_type": "stream",
     "text": [
      "0.619\n"
     ]
    },
    {
     "name": "stderr",
     "output_type": "stream",
     "text": [
      "100%|██████████| 1000/1000 [04:08<00:00,  4.02it/s]\n",
      "100%|██████████| 1000/1000 [00:08<00:00, 119.31it/s]\n"
     ]
    },
    {
     "name": "stdout",
     "output_type": "stream",
     "text": [
      "1.0\n"
     ]
    },
    {
     "name": "stderr",
     "output_type": "stream",
     "text": [
      "100%|██████████| 1000/1000 [04:03<00:00,  4.11it/s]\n",
      "100%|██████████| 1000/1000 [00:08<00:00, 114.85it/s]\n"
     ]
    },
    {
     "name": "stdout",
     "output_type": "stream",
     "text": [
      "0.982\n"
     ]
    },
    {
     "name": "stderr",
     "output_type": "stream",
     "text": [
      "100%|██████████| 1000/1000 [05:01<00:00,  3.32it/s]\n",
      "100%|██████████| 1000/1000 [00:09<00:00, 109.60it/s]\n"
     ]
    },
    {
     "name": "stdout",
     "output_type": "stream",
     "text": [
      "0.978\n"
     ]
    }
   ],
   "source": [
    "from tqdm import trange\n",
    "\n",
    "for i in range(5):\n",
    "    Agent_alpha = Agent('alpha', 5, cfg)\n",
    "    Agent_beta = Agent('beta', 5, cfg)\n",
    "    \n",
    "    # 参数共享\n",
    "    Agent_beta.policy_net = Agent_alpha.policy_net\n",
    "    Agent_beta.target_net = Agent_alpha.target_net\n",
    "\n",
    "    train()\n",
    "    [episode_rewards_alpha_eval, episode_rewards_beta_eval, episode_step_eval], win_eval = evaluation(pure_random=False)\n",
    "    print(win_eval)\n",
    "    \n",
    "    wins.append(win_eval)\n",
    "    history_list.append(copy.deepcopy(history))\n",
    "all_history_list.append(copy.deepcopy(history_list))"
   ]
  },
  {
   "cell_type": "code",
   "execution_count": 30,
   "metadata": {},
   "outputs": [
    {
     "name": "stdout",
     "output_type": "stream",
     "text": [
      "share weights\n",
      "Mean: 0.9385999999999999\n",
      "Standard Error: 0.03691919103483535\n",
      "93.9±1.8\n"
     ]
    }
   ],
   "source": [
    "import numpy as np\n",
    "\n",
    "data = wins\n",
    "mean = np.mean(data)\n",
    "std_error = np.std(data, ddof=1) / np.sqrt(len(data))\n",
    "\n",
    "print('share weights')\n",
    "print(\"Mean:\", mean)\n",
    "print(\"Standard Error:\", std_error)\n",
    "print(f'{mean*100:.1f}±{std_error/2*100:.1f}')"
   ]
  },
  {
   "cell_type": "code",
   "execution_count": 31,
   "metadata": {},
   "outputs": [
    {
     "name": "stderr",
     "output_type": "stream",
     "text": [
      "100%|██████████| 1000/1000 [05:20<00:00,  3.12it/s]\n",
      "100%|██████████| 1000/1000 [00:11<00:00, 88.51it/s]\n"
     ]
    },
    {
     "name": "stdout",
     "output_type": "stream",
     "text": [
      "0.91\n"
     ]
    },
    {
     "name": "stderr",
     "output_type": "stream",
     "text": [
      "100%|██████████| 1000/1000 [05:52<00:00,  2.84it/s]\n",
      "100%|██████████| 1000/1000 [00:09<00:00, 104.05it/s]\n"
     ]
    },
    {
     "name": "stdout",
     "output_type": "stream",
     "text": [
      "0.97\n"
     ]
    },
    {
     "name": "stderr",
     "output_type": "stream",
     "text": [
      "100%|██████████| 1000/1000 [07:33<00:00,  2.21it/s]\n",
      "100%|██████████| 1000/1000 [00:10<00:00, 94.56it/s]\n"
     ]
    },
    {
     "name": "stdout",
     "output_type": "stream",
     "text": [
      "0.992\n"
     ]
    },
    {
     "name": "stderr",
     "output_type": "stream",
     "text": [
      "100%|██████████| 1000/1000 [04:57<00:00,  3.36it/s]\n",
      "100%|██████████| 1000/1000 [00:16<00:00, 61.74it/s]\n"
     ]
    },
    {
     "name": "stdout",
     "output_type": "stream",
     "text": [
      "0.757\n"
     ]
    },
    {
     "name": "stderr",
     "output_type": "stream",
     "text": [
      "100%|██████████| 1000/1000 [04:46<00:00,  3.49it/s]\n",
      "100%|██████████| 1000/1000 [00:24<00:00, 40.46it/s]\n"
     ]
    },
    {
     "name": "stdout",
     "output_type": "stream",
     "text": [
      "0.492\n"
     ]
    }
   ],
   "source": [
    "for i in range(5):\n",
    "    Agent_alpha = Agent('alpha', 5, cfg)\n",
    "    Agent_beta = Agent('beta', 5, cfg)\n",
    "    \n",
    "    # 参数共享\n",
    "#     Agent_beta.policy_net = Agent_alpha.policy_net\n",
    "#     Agent_beta.target_net = Agent_alpha.target_net\n",
    "\n",
    "    train(FL=True)\n",
    "    [episode_rewards_alpha_eval, episode_rewards_beta_eval, episode_step_eval], win_eval = evaluation(pure_random=False)\n",
    "    print(win_eval)\n",
    "    \n",
    "    wins.append(win_eval)\n",
    "    history_list.append(copy.deepcopy(history))\n",
    "all_history_list.append(copy.deepcopy(history_list))"
   ]
  },
  {
   "cell_type": "code",
   "execution_count": 32,
   "metadata": {},
   "outputs": [
    {
     "name": "stdout",
     "output_type": "stream",
     "text": [
      "FL\n",
      "Mean: 0.9004666666666665\n",
      "Standard Error: 0.040115650272996906\n",
      "90.0±2.0\n"
     ]
    }
   ],
   "source": [
    "import numpy as np\n",
    "\n",
    "data = wins\n",
    "mean = np.mean(data)\n",
    "std_error = np.std(data, ddof=1) / np.sqrt(len(data))\n",
    "\n",
    "print('FL')\n",
    "print(\"Mean:\", mean)\n",
    "print(\"Standard Error:\", std_error)\n",
    "print(f'{mean*100:.1f}±{std_error/2*100:.1f}')"
   ]
  },
  {
   "cell_type": "code",
   "execution_count": null,
   "metadata": {},
   "outputs": [],
   "source": []
  },
  {
   "cell_type": "code",
   "execution_count": 33,
   "metadata": {},
   "outputs": [],
   "source": [
    "# history = history_list[0]"
   ]
  },
  {
   "cell_type": "code",
   "execution_count": 34,
   "metadata": {},
   "outputs": [],
   "source": [
    "# def plot_history(episode_history, title='Result', ylabel='Rewards', hline=None, y_upper=None, y_lower=None, window_size=100):\n",
    "#     plt.figure()\n",
    "#     plt.title(title)\n",
    "#     plt.xlabel('episode')\n",
    "#     plt.ylabel(ylabel)\n",
    "    \n",
    "#     if hline is not None:\n",
    "#         plt.axhline(y=hline, color='Red', linestyle='--')\n",
    "#     if y_upper is not None and y_lower is not None:\n",
    "#         plt.ylim([y_lower, y_upper])\n",
    "    \n",
    "#     plt.plot(episode_history)\n",
    "    \n",
    "#     moving_averages = moving_average(episode_history, window_size)\n",
    "#     plt.plot(moving_averages)\n",
    "    \n",
    "#     plt.show()"
   ]
  },
  {
   "cell_type": "code",
   "execution_count": 35,
   "metadata": {},
   "outputs": [],
   "source": [
    "# plot_history(Agent_alpha.episode_rewards, 'episode_rewards', 'episode_rewards', y_upper=1, y_lower=0)\n",
    "# # plot_history(Agent_beta.episode_rewards, 'beta episode_rewards', 'episode_rewards')\n",
    "# plot_history(Agent_alpha.episode_step, 'episode_step', 'episode_step')\n",
    "# # plot_history(history.win_eval, 'eval_win_rate', 'eval_win_rate')\n",
    "\n",
    "# # env.render()\n",
    "# # env_eval.render()"
   ]
  },
  {
   "cell_type": "code",
   "execution_count": 36,
   "metadata": {},
   "outputs": [],
   "source": [
    "# len(all_history_list)"
   ]
  },
  {
   "cell_type": "code",
   "execution_count": 54,
   "metadata": {},
   "outputs": [],
   "source": [
    "import numpy as np\n",
    "import matplotlib.pyplot as plt\n",
    "\n",
    "# 定义一个函数来计算均值和90%置信区间\n",
    "def mean_and_confidence_interval(rewards_data):\n",
    "    mean_rewards = np.mean(rewards_data, axis=0)\n",
    "    std_rewards = np.std(rewards_data, axis=0)\n",
    "    confidence_interval = 1.645 * std_rewards / np.sqrt(rewards_data.shape[0]) # 1.645 对应于90%置信区间; 1.96 95%\n",
    "    return mean_rewards, confidence_interval\n",
    "\n",
    "def plot_conf_map(labels, key, hline=None, y_lim=None, window_size=5):\n",
    "    # 设置图片大小\n",
    "    plt.figure(figsize=(10, 6))\n",
    "    # 打开网格\n",
    "    plt.grid(True)\n",
    "    \n",
    "    color_maps = ['#6CACE4', '#F79646', '#82B366', '#E46D76', '#F3CC56', '#89C1C8']\n",
    "\n",
    "    for ahl_i in range(len(all_history_list)):\n",
    "        plot_data_list = []\n",
    "        for i in range(num_runs):\n",
    "            plot_data_list.append(all_history_list[ahl_i][i][key])\n",
    "        plot_data_list = np.array(plot_data_list)\n",
    "\n",
    "        # 计算两个算法的均值和置信区间\n",
    "        mean_rewards_algo1, ci_algo1 = mean_and_confidence_interval(plot_data_list)\n",
    "        # mean_rewards_algo2, ci_algo2 = mean_and_confidence_interval(rewards_data_algo2)\n",
    "\n",
    "\n",
    "\n",
    "        # 绘制两个算法的折线图和置信区间\n",
    "        episodes = np.arange(1, 1000 + 1)\n",
    "        \n",
    "#         moving_averages_mean_rewards_algo1 = moving_average(mean_rewards_algo1, window_size=window_size) if window_size>0 else mean_rewards_algo1\n",
    "        plt.plot(episodes, mean_rewards_algo1, label=labels[ahl_i], color=color_maps[ahl_i])\n",
    "        plt.fill_between(episodes, mean_rewards_algo1 - ci_algo1, mean_rewards_algo1 + ci_algo1, alpha=0.3, color=color_maps[ahl_i])\n",
    "\n",
    "    if hline is not None:\n",
    "        plt.axhline(y=hline, color='Red', linestyle='--')\n",
    "    if y_lim is not None:\n",
    "        plt.ylim(y_lim)\n",
    "\n",
    "    # 设置图表标题和坐标轴标签\n",
    "    plt.title(f'Mean {key} with 5 times training', fontsize=16)  #  with 5 times training\n",
    "    plt.xlabel('Episodes', fontsize=14)\n",
    "    plt.ylabel(key, fontsize=14)\n",
    "    plt.legend(fontsize=12)\n",
    "\n",
    "    # 显示图表\n",
    "    plt.show()"
   ]
  },
  {
   "cell_type": "code",
   "execution_count": 55,
   "metadata": {},
   "outputs": [],
   "source": [
    "# all_history_list[0][0].keys()"
   ]
  },
  {
   "cell_type": "code",
   "execution_count": 56,
   "metadata": {},
   "outputs": [
    {
     "data": {
      "image/png": "[encoded data removed]",
      "text/plain": [
       "<Figure size 720x432 with 1 Axes>"
      ]
     },
     "metadata": {
      "needs_background": "light"
     },
     "output_type": "display_data"
    }
   ],
   "source": [
    "num_runs = 5\n",
    "labels = ['Independent Learner', 'Share Weights', 'FL']\n",
    "key = 'episode_step'\n",
    "plot_conf_map(labels, key)"
   ]
  },
  {
   "cell_type": "code",
   "execution_count": 57,
   "metadata": {},
   "outputs": [
    {
     "data": {
      "image/png": "[encoded data removed]",
      "text/plain": [
       "<Figure size 720x432 with 1 Axes>"
      ]
     },
     "metadata": {
      "needs_background": "light"
     },
     "output_type": "display_data"
    }
   ],
   "source": [
    "key = 'episode_rewards_alpha'\n",
    "plot_conf_map(labels, key)"
   ]
  },
  {
   "cell_type": "markdown",
   "metadata": {},
   "source": [
    "##  可视化路径"
   ]
  },
  {
   "cell_type": "code",
   "execution_count": 60,
   "metadata": {},
   "outputs": [
    {
     "name": "stdout",
     "output_type": "stream",
     "text": [
      "Sun Apr 30 22:27:30 2023       \r\n",
      "+-----------------------------------------------------------------------------+\r\n",
      "| NVIDIA-SMI 510.47.03    Driver Version: 510.47.03    CUDA Version: 11.6     |\r\n",
      "|-------------------------------+----------------------+----------------------+\r\n",
      "| GPU  Name        Persistence-M| Bus-Id        Disp.A | Volatile Uncorr. ECC |\r\n",
      "| Fan  Temp  Perf  Pwr:Usage/Cap|         Memory-Usage | GPU-Util  Compute M. |\r\n",
      "|                               |                      |               MIG M. |\r\n",
      "|===============================+======================+======================|\r\n",
      "|   0  Tesla V100-SXM2...  Off  | 00000000:3B:00.0 Off |                    0 |\r\n",
      "| N/A   37C    P0    55W / 300W |   1819MiB / 32768MiB |      0%      Default |\r\n",
      "|                               |                      |                  N/A |\r\n",
      "+-------------------------------+----------------------+----------------------+\r\n",
      "                                                                               \r\n",
      "+-----------------------------------------------------------------------------+\r\n",
      "| Processes:                                                                  |\r\n",
      "|  GPU   GI   CI        PID   Type   Process name                  GPU Memory |\r\n",
      "|        ID   ID                                                   Usage      |\r\n",
      "|=============================================================================|\r\n",
      "|    0   N/A  N/A     63503      C   ...-jupyterhub/bin/python3.7     1005MiB |\r\n",
      "|    0   N/A  N/A     88507      C   ...-jupyterhub/bin/python3.7      811MiB |\r\n",
      "+-----------------------------------------------------------------------------+\r\n"
     ]
    }
   ],
   "source": [
    "! nvidia-smi"
   ]
  },
  {
   "cell_type": "code",
   "execution_count": 59,
   "metadata": {},
   "outputs": [],
   "source": [
    "# history.alpha_eval_path\n",
    "# history.beta_eval_path"
   ]
  },
  {
   "cell_type": "code",
   "execution_count": 60,
   "metadata": {},
   "outputs": [
    {
     "name": "stdout",
     "output_type": "stream",
     "text": [
      "784\n",
      "0\n",
      "216\n"
     ]
    }
   ],
   "source": [
    "my_list = history.win_eval\n",
    "indices_0 = [i for i, x in enumerate(my_list) if x == 0]\n",
    "indices_05 = [i for i, x in enumerate(my_list) if x == 0.5]\n",
    "indices_1 = [i for i, x in enumerate(my_list) if x == 1]\n",
    "\n",
    "print(len(indices_0))   # 输出 [0]\n",
    "print(len(indices_05))  # 输出 [1]\n",
    "print(len(indices_1))   # 输出 [2]\n"
   ]
  },
  {
   "cell_type": "code",
   "execution_count": 61,
   "metadata": {},
   "outputs": [
    {
     "name": "stdout",
     "output_type": "stream",
     "text": [
      "[0, 5, 9, 13, 16, 17, 19, 28, 30, 31, 35, 36, 37, 39, 41, 42, 43, 45, 46, 47, 51, 52, 54, 56, 57, 61, 64, 65, 78, 82, 83, 85, 91, 97, 98, 104, 108, 109, 113, 114, 115, 123, 125, 128, 131, 132, 136, 139, 142, 147, 154, 157, 161, 162, 163, 165, 168, 171, 174, 188, 190, 194, 195, 199, 200, 201, 202, 203, 204, 207, 209, 210, 211, 212, 214, 215, 217, 219, 221, 222, 223, 226, 227, 228, 230, 231, 232, 233, 234, 235, 236, 237, 238, 239, 240, 241, 242, 243, 244, 245, 249, 250, 251, 253, 254, 255, 257, 258, 259, 260, 261, 262, 263, 264, 266, 267, 268, 269, 273, 274, 275, 276, 279, 281, 282, 283, 284, 288, 290, 292, 293, 295, 297, 298, 301, 302, 306, 307, 308, 309, 310, 311, 312, 314, 315, 316, 318, 319, 321, 322, 324, 325, 326, 327, 328, 333, 334, 335, 337, 338, 339, 341, 342, 343, 344, 345, 346, 347, 349, 350, 351, 352, 353, 354, 355, 356, 357, 358, 359, 360, 362, 363, 364, 366, 367, 368, 371, 372, 373, 374, 375, 376, 377, 379, 380, 382, 384, 385, 386, 387, 388, 389, 390, 391, 393, 394, 395, 396, 397, 398, 400, 401, 402, 403, 404, 405, 406, 408, 409, 410, 412, 413, 414, 415, 417, 418, 419, 420, 421, 422, 423, 424, 425, 426, 427, 428, 429, 430, 431, 432, 433, 434, 435, 436, 438, 440, 441, 442, 443, 444, 445, 446, 448, 451, 452, 453, 454, 455, 456, 457, 458, 459, 460, 461, 462, 463, 464, 467, 468, 470, 471, 472, 473, 474, 476, 477, 478, 480, 481, 483, 485, 486, 487, 488, 490, 491, 492, 493, 494, 495, 496, 497, 498, 499, 500, 501, 502, 503, 504, 505, 506, 507, 508, 509, 510, 511, 512, 513, 515, 516, 517, 518, 519, 520, 521, 522, 524, 525, 526, 527, 528, 529, 530, 531, 532, 533, 534, 535, 536, 537, 538, 539, 540, 541, 542, 543, 544, 545, 546, 547, 548, 549, 550, 551, 552, 553, 554, 555, 556, 557, 558, 559, 560, 561, 562, 563, 564, 565, 566, 567, 571, 572, 573, 574, 575, 576, 577, 578, 579, 580, 581, 584, 586, 587, 588, 590, 591, 592, 593, 594, 595, 596, 597, 598, 599, 600, 601, 602, 603, 604, 605, 606, 607, 608, 609, 610, 611, 612, 613, 614, 615, 616, 617, 618, 619, 620, 621, 622, 623, 624, 625, 626, 627, 628, 629, 630, 631, 632, 633, 634, 635, 636, 637, 638, 639, 640, 641, 642, 643, 644, 645, 646, 647, 648, 649, 650, 651, 652, 653, 654, 655, 656, 657, 658, 659, 660, 661, 662, 663, 664, 665, 666, 667, 668, 669, 670, 671, 672, 673, 674, 675, 676, 677, 678, 679, 680, 682, 683, 684, 685, 686, 687, 688, 689, 690, 691, 692, 693, 694, 695, 696, 697, 698, 699, 700, 701, 702, 703, 704, 705, 706, 707, 708, 709, 710, 711, 712, 713, 714, 715, 716, 717, 718, 719, 720, 721, 722, 723, 724, 725, 726, 727, 728, 729, 730, 731, 732, 733, 734, 735, 736, 737, 738, 739, 740, 741, 742, 743, 744, 745, 746, 747, 748, 749, 750, 751, 752, 753, 754, 755, 756, 757, 758, 759, 760, 761, 762, 763, 764, 765, 766, 767, 768, 769, 770, 771, 772, 773, 774, 775, 776, 777, 778, 779, 780, 781, 782, 783, 784, 785, 786, 787, 788, 789, 790, 791, 792, 793, 794, 795, 796, 797, 798, 799, 800, 801, 802, 803, 804, 805, 806, 807, 808, 809, 810, 811, 812, 813, 814, 815, 816, 817, 818, 819, 820, 821, 822, 823, 824, 825, 826, 827, 828, 829, 830, 831, 832, 833, 834, 835, 836, 837, 838, 839, 840, 841, 842, 843, 844, 845, 846, 847, 848, 849, 850, 851, 852, 853, 854, 855, 856, 857, 858, 859, 860, 861, 862, 863, 864, 865, 866, 867, 868, 869, 870, 871, 872, 873, 874, 875, 876, 877, 878, 879, 880, 881, 882, 883, 884, 885, 886, 887, 888, 889, 890, 891, 892, 893, 894, 895, 896, 897, 898, 899, 900, 901, 902, 903, 904, 905, 906, 907, 908, 909, 910, 911, 912, 913, 914, 915, 916, 917, 918, 919, 920, 921, 922, 923, 924, 925, 926, 927, 928, 929, 930, 931, 932, 933, 934, 935, 936, 937, 938, 939, 940, 941, 942, 943, 944, 945, 946, 947, 948, 949, 950, 951, 952, 953, 954, 955, 956, 957, 958, 959, 960, 961, 962, 963, 964, 965, 966, 967, 968, 969, 970, 971, 972, 973, 974, 975, 976, 977, 978, 979, 980, 981, 982, 983, 984, 985, 986, 987, 988, 989, 990, 991, 992, 993, 994, 995, 996, 997, 998, 999]\n"
     ]
    }
   ],
   "source": [
    "print(indices_0)"
   ]
  },
  {
   "cell_type": "code",
   "execution_count": 62,
   "metadata": {},
   "outputs": [
    {
     "name": "stdout",
     "output_type": "stream",
     "text": [
      "[1, 2, 3, 4, 6, 7, 8, 10, 11, 12, 14, 15, 18, 20, 21, 22, 23, 24, 25, 26, 27, 29, 32, 33, 34, 38, 40, 44, 48, 49, 50, 53, 55, 58, 59, 60, 62, 63, 66, 67, 68, 69, 70, 71, 72, 73, 74, 75, 76, 77, 79, 80, 81, 84, 86, 87, 88, 89, 90, 92, 93, 94, 95, 96, 99, 100, 101, 102, 103, 105, 106, 107, 110, 111, 112, 116, 117, 118, 119, 120, 121, 122, 124, 126, 127, 129, 130, 133, 134, 135, 137, 138, 140, 141, 143, 144, 145, 146, 148, 149, 150, 151, 152, 153, 155, 156, 158, 159, 160, 164, 166, 167, 169, 170, 172, 173, 175, 176, 177, 178, 179, 180, 181, 182, 183, 184, 185, 186, 187, 189, 191, 192, 193, 196, 197, 198, 205, 206, 208, 213, 216, 218, 220, 224, 225, 229, 246, 247, 248, 252, 256, 265, 270, 271, 272, 277, 278, 280, 285, 286, 287, 289, 291, 294, 296, 299, 300, 303, 304, 305, 313, 317, 320, 323, 329, 330, 331, 332, 336, 340, 348, 361, 365, 369, 370, 378, 381, 383, 392, 399, 407, 411, 416, 437, 439, 447, 449, 450, 465, 466, 469, 475, 479, 482, 484, 489, 514, 523, 568, 569, 570, 582, 583, 585, 589, 681]\n"
     ]
    }
   ],
   "source": [
    "print((indices_1))"
   ]
  },
  {
   "cell_type": "code",
   "execution_count": 340,
   "metadata": {},
   "outputs": [
    {
     "name": "stdout",
     "output_type": "stream",
     "text": [
      "977\n"
     ]
    }
   ],
   "source": [
    "index = 977\n",
    "print(index)\n",
    "\n",
    "path1 = history.alpha_eval_path[index]\n",
    "path2 = history.beta_eval_path[index]"
   ]
  },
  {
   "cell_type": "code",
   "execution_count": 341,
   "metadata": {},
   "outputs": [],
   "source": [
    "hot_map = np.zeros((16, 16))"
   ]
  },
  {
   "cell_type": "code",
   "execution_count": 342,
   "metadata": {},
   "outputs": [
    {
     "data": {
      "text/plain": [
       "0.0"
      ]
     },
     "execution_count": 342,
     "metadata": {},
     "output_type": "execute_result"
    }
   ],
   "source": [
    "hot_map[path1[-1]]"
   ]
  },
  {
   "cell_type": "code",
   "execution_count": 343,
   "metadata": {},
   "outputs": [
    {
     "data": {
      "image/png": "[encoded data removed]",
      "text/plain": [
       "<Figure size 576x576 with 1 Axes>"
      ]
     },
     "metadata": {
      "needs_background": "light"
     },
     "output_type": "display_data"
    },
    {
     "name": "stdout",
     "output_type": "stream",
     "text": [
      "path1 [(14, 5), (14, 4), (14, 3), (14, 2), (14, 1), (14, 0), (15, 0), (14, 0), (15, 0), (14, 0), (15, 0), (14, 0), (15, 0), (14, 0), (15, 0), (14, 0), (15, 0), (14, 0), (15, 0), (14, 0), (15, 0), (14, 0), (15, 0), (14, 0), (15, 0), (14, 0), (15, 0), (14, 0), (15, 0), (14, 0), (15, 0), (14, 0), (15, 0), (14, 0), (15, 0), (14, 0), (15, 0), (14, 0), (15, 0), (14, 0), (15, 0), (14, 0), (15, 0), (14, 0), (15, 0), (14, 0), (15, 0), (14, 0), (15, 0), (14, 0), (15, 0), (14, 0), (15, 0), (14, 0), (15, 0), (14, 0), (15, 0), (14, 0), (15, 0), (14, 0), (15, 0), (14, 0), (15, 0), (14, 0), (15, 0), (14, 0), (15, 0), (14, 0), (15, 0), (14, 0), (15, 0), (14, 0), (15, 0), (14, 0), (15, 0), (14, 0), (15, 0), (14, 0), (15, 0), (14, 0), (15, 0), (14, 0), (15, 0), (14, 0), (15, 0), (14, 0), (15, 0)]\n",
      "path2 [(0, 15), (1, 15), (0, 15), (1, 15), (0, 15), (1, 15), (0, 15), (1, 15), (0, 15), (1, 15), (0, 15), (1, 15), (0, 15), (1, 15), (0, 15), (1, 15), (0, 15), (1, 15), (0, 15), (1, 15), (0, 15), (1, 15), (0, 15), (1, 15), (0, 15), (1, 15), (0, 15), (1, 15), (0, 15), (1, 15), (0, 15), (1, 15), (0, 15), (1, 15), (0, 15), (1, 15), (0, 15), (1, 15), (0, 15), (1, 15), (0, 15), (1, 15), (0, 15), (1, 15), (0, 15), (1, 15), (0, 15), (1, 15), (0, 15), (1, 15), (0, 15), (1, 15), (0, 15), (1, 15), (0, 15), (1, 15), (0, 15), (1, 15), (0, 15), (1, 15), (0, 15), (1, 15), (0, 15), (1, 15), (0, 15), (1, 15), (0, 15), (1, 15), (0, 15), (1, 15), (0, 15), (1, 15), (0, 15), (1, 15), (0, 15), (1, 15), (0, 15), (1, 15), (0, 15), (1, 15), (0, 15), (1, 15), (0, 15), (1, 15), (0, 15), (1, 15), (0, 15)]\n"
     ]
    }
   ],
   "source": [
    "start, end = test_set[index]\n",
    "def visualize_path(maze, paths, colors):\n",
    "    maze_size = len(maze)\n",
    "    plt.figure(figsize=(maze_size/2, maze_size/2))\n",
    "\n",
    "    # Draw obstacles\n",
    "    for i in range(maze_size):\n",
    "        for j in range(maze_size):\n",
    "            if maze[i][j] == 0:\n",
    "                plt.fill_between([j-.5, j+1-.5], i-.5, i+1-.5, color='black')\n",
    "\n",
    "    # Draw the paths\n",
    "    for path_idx, path in enumerate(paths):\n",
    "        for index, position in enumerate(path[:-1]):\n",
    "            plt.plot([position[1], path[index + 1][1]], [position[0], path[index + 1][0]], color=colors[path_idx], linewidth=2)\n",
    "\n",
    "    plt.plot(start[1], start[0], 'bo', markersize=10, label='Alpha')  # start point\n",
    "    plt.plot(end[1], end[0], 'ro', markersize=10, label='Beta')  # goal point\n",
    "    plt.legend()\n",
    "    plt.xticks(range(maze_size))\n",
    "    plt.yticks(range(maze_size))\n",
    "    plt.grid(True)\n",
    "    plt.gca().invert_yaxis()\n",
    "    plt.show()\n",
    "\n",
    "visualize_path(maze, [path1, path2], ['blue', 'red'])\n",
    "print('path1', path1)\n",
    "print('path2', path2)"
   ]
  },
  {
   "cell_type": "markdown",
   "metadata": {},
   "source": [
    "## 路径热力图"
   ]
  },
  {
   "cell_type": "code",
   "execution_count": 55,
   "metadata": {},
   "outputs": [
    {
     "data": {
      "text/plain": [
       "7"
      ]
     },
     "execution_count": 55,
     "metadata": {},
     "output_type": "execute_result"
    }
   ],
   "source": [
    "len(history_list)"
   ]
  },
  {
   "cell_type": "code",
   "execution_count": 68,
   "metadata": {},
   "outputs": [],
   "source": [
    "history = history_list[0]"
   ]
  },
  {
   "cell_type": "code",
   "execution_count": 69,
   "metadata": {},
   "outputs": [],
   "source": [
    "hot_map_meetingpoint = np.zeros((16, 16))\n",
    "for index in indices_1:\n",
    "    path1 = history.alpha_eval_path[index]\n",
    "    path2 = history.beta_eval_path[index]\n",
    "    \n",
    "    hot_map_meetingpoint[path1[-1]] += 1\n",
    "    hot_map_meetingpoint[path2[-1]] += 1"
   ]
  },
  {
   "cell_type": "code",
   "execution_count": 70,
   "metadata": {},
   "outputs": [],
   "source": [
    "hot_map_path = np.zeros((16, 16))\n",
    "for index in indices_1:\n",
    "    path1 = history.alpha_eval_path[index]\n",
    "    path2 = history.beta_eval_path[index]\n",
    "    \n",
    "    for p in range(len(path1)):\n",
    "        hot_map_path[path1[p]] += 1\n",
    "        hot_map_path[path2[p]] += 1"
   ]
  },
  {
   "cell_type": "code",
   "execution_count": 71,
   "metadata": {},
   "outputs": [],
   "source": [
    "def draw_heat_map(data):\n",
    "    # 绘制热力图\n",
    "    fig, ax = plt.subplots(figsize=(8, 8))\n",
    "    im = ax.imshow(data, cmap='jet')\n",
    "\n",
    "    # 在每个格子中显示数字\n",
    "    for i in range(data.shape[0]):\n",
    "        for j in range(data.shape[1]):\n",
    "            text = ax.text(j, i, f\"{int(data[i, j])}\",\n",
    "                           ha=\"center\", va=\"center\", color=\"w\")\n",
    "\n",
    "    # 添加颜色条\n",
    "    fig.colorbar(im)\n",
    "\n",
    "    # 显示图形\n",
    "    plt.show()\n",
    "\n",
    "# draw_heat_map(hot_map_meetingpoint)"
   ]
  },
  {
   "cell_type": "code",
   "execution_count": 72,
   "metadata": {},
   "outputs": [],
   "source": [
    "# draw_heat_map(hot_map_path)"
   ]
  },
  {
   "cell_type": "code",
   "execution_count": 74,
   "metadata": {},
   "outputs": [
    {
     "data": {
      "text/plain": [
       "20641.0"
      ]
     },
     "execution_count": 74,
     "metadata": {},
     "output_type": "execute_result"
    }
   ],
   "source": [
    "np.sum(hot_map_path_a)"
   ]
  },
  {
   "cell_type": "code",
   "execution_count": 73,
   "metadata": {},
   "outputs": [
    {
     "data": {
      "image/png": "[encoded data removed]",
      "text/plain": [
       "<Figure size 576x576 with 2 Axes>"
      ]
     },
     "metadata": {
      "needs_background": "light"
     },
     "output_type": "display_data"
    },
    {
     "data": {
      "image/png": "[encoded data removed]",
      "text/plain": [
       "<Figure size 576x576 with 2 Axes>"
      ]
     },
     "metadata": {
      "needs_background": "light"
     },
     "output_type": "display_data"
    }
   ],
   "source": [
    "hot_map_path_a = np.zeros((16, 16))\n",
    "hot_map_path_b = np.zeros((16, 16))\n",
    "for index in range(1000):\n",
    "# for index in indices_1:\n",
    "    path1 = history.alpha_eval_path[index]\n",
    "    path2 = history.beta_eval_path[index]\n",
    "    \n",
    "    for p in range(len(path1)):\n",
    "        hot_map_path_a[path1[p]] += 1\n",
    "        hot_map_path_b[path2[p]] += 1\n",
    "        \n",
    "draw_heat_map(hot_map_path_a)\n",
    "draw_heat_map(hot_map_path_b)"
   ]
  },
  {
   "cell_type": "code",
   "execution_count": 51,
   "metadata": {},
   "outputs": [],
   "source": [
    "# maze = np.array(test_dict['gridworld'][index])*1.0\n",
    "# start = test_dict['start'][index]\n",
    "# end = test_dict['end'][index]"
   ]
  },
  {
   "cell_type": "code",
   "execution_count": 146,
   "metadata": {},
   "outputs": [],
   "source": [
    "TASK_NAME = 'openmap-independent'"
   ]
  },
  {
   "cell_type": "code",
   "execution_count": 147,
   "metadata": {},
   "outputs": [],
   "source": [
    "now = time.strftime(\"%m-%d_%H-%M-%S\", time.localtime())\n",
    "save_path = f\"runs/grid_16_meet/{ENV_NAME}/\" + TASK_NAME +'/'+ now"
   ]
  },
  {
   "cell_type": "code",
   "execution_count": 155,
   "metadata": {},
   "outputs": [
    {
     "data": {
      "text/plain": [
       "'runs/grid_16_meet/grid-double-agent-single-map/openmap-independent/04-24_21-15-12'"
      ]
     },
     "execution_count": 155,
     "metadata": {},
     "output_type": "execute_result"
    }
   ],
   "source": [
    "save_path"
   ]
  },
  {
   "cell_type": "code",
   "execution_count": 156,
   "metadata": {},
   "outputs": [],
   "source": [
    "os.makedirs(save_path, exist_ok=True)"
   ]
  },
  {
   "cell_type": "code",
   "execution_count": 157,
   "metadata": {},
   "outputs": [],
   "source": [
    "# 将字典保存成 txt 文件\n",
    "with open(save_path+'/config.txt', 'w') as f:\n",
    "    for key, value in cfg.items():\n",
    "        f.write(f'{key}: {value}\\n')"
   ]
  },
  {
   "cell_type": "code",
   "execution_count": 158,
   "metadata": {},
   "outputs": [],
   "source": [
    "# 将字典保存成 txt 文件\n",
    "with open(save_path+'/config_data.txt', 'w') as f:\n",
    "    for key, value in cfg_data.items():\n",
    "        f.write(f'{key}: {value}\\n')"
   ]
  },
  {
   "cell_type": "code",
   "execution_count": 159,
   "metadata": {},
   "outputs": [
    {
     "data": {
      "text/plain": [
       "1"
      ]
     },
     "execution_count": 159,
     "metadata": {},
     "output_type": "execute_result"
    }
   ],
   "source": [
    "len(all_history_list)"
   ]
  },
  {
   "cell_type": "code",
   "execution_count": 160,
   "metadata": {},
   "outputs": [],
   "source": [
    "for i, history in enumerate(history_list):\n",
    "    # 将字典保存成 txt 文件\n",
    "    with open(save_path+f'/history_{str(i)}.txt', 'w') as f:\n",
    "        for key, value in history.items():\n",
    "            f.write(f'{key}: {value}\\n')"
   ]
  },
  {
   "cell_type": "code",
   "execution_count": 161,
   "metadata": {},
   "outputs": [],
   "source": [
    "torch.save(Agent_alpha.policy_net, save_path + '/agent_policy.pth')"
   ]
  },
  {
   "cell_type": "code",
   "execution_count": 162,
   "metadata": {},
   "outputs": [],
   "source": [
    "torch.save(Agent_beta.policy_net, save_path + '/beta_policy.pth')"
   ]
  },
  {
   "cell_type": "code",
   "execution_count": null,
   "metadata": {},
   "outputs": [],
   "source": [
    "print(cfg)"
   ]
  },
  {
   "cell_type": "code",
   "execution_count": 174,
   "metadata": {},
   "outputs": [
    {
     "data": {
      "text/plain": [
       "'runs/grid_16_meet/grid-double-agent-single-map/openmap-independent/04-24_21-15-12'"
      ]
     },
     "execution_count": 174,
     "metadata": {},
     "output_type": "execute_result"
    }
   ],
   "source": [
    "save_path"
   ]
  },
  {
   "cell_type": "markdown",
   "metadata": {},
   "source": [
    "## 读取"
   ]
  },
  {
   "cell_type": "code",
   "execution_count": null,
   "metadata": {},
   "outputs": [],
   "source": [
    "# 打开包含历史记录的文本文件\n",
    "with open(save_path+'/history.txt', 'r') as f:\n",
    "    # 读取每一行并拆分为键和值\n",
    "    lines = f.readlines()\n",
    "    history = {}\n",
    "    for line in lines:\n",
    "        key, value = line.strip().split(': ')\n",
    "        history[key] = float(value)\n"
   ]
  }
 ],
 "metadata": {
  "kernelspec": {
   "display_name": "Python 3",
   "language": "python",
   "name": "python3"
  },
  "language_info": {
   "codemirror_mode": {
    "name": "ipython",
    "version": 3
   },
   "file_extension": ".py",
   "mimetype": "text/x-python",
   "name": "python",
   "nbconvert_exporter": "python",
   "pygments_lexer": "ipython3",
   "version": "3.7.7"
  }
 },
 "nbformat": 4,
 "nbformat_minor": 5
}
